{
 "cells": [
  {
   "cell_type": "code",
   "execution_count": 1,
   "metadata": {
    "executionInfo": {
     "elapsed": 895,
     "status": "ok",
     "timestamp": 1624022834608,
     "user": {
      "displayName": "Pranav Gouthamm",
      "photoUrl": "https://lh3.googleusercontent.com/a-/AOh14GgTM9a0Bo5w3JrAUEWfKpj-dt1Bw3vI6q-17xEo=s64",
      "userId": "00245361475060007376"
     },
     "user_tz": -120
    },
    "id": "nLnKKgXgKnbk"
   },
   "outputs": [],
   "source": [
    "import os\n",
    "import numpy as np\n",
    "import pandas as pd\n",
    "import seaborn as sns\n",
    "import matplotlib.pyplot as plt\n",
    "from sklearn.preprocessing import MinMaxScaler\n",
    "from sklearn.preprocessing import LabelEncoder\n",
    "from sklearn import preprocessing \n",
    "from sklearn.model_selection import train_test_split\n",
    "from sklearn.ensemble import RandomForestRegressor\n",
    "from sklearn import metrics\n",
    "from sklearn.metrics import mean_squared_error, r2_score\n",
    "from sklearn import neighbors\n",
    "import pickle\n",
    "import json"
   ]
  },
  {
   "cell_type": "code",
   "execution_count": 2,
   "metadata": {
    "executionInfo": {
     "elapsed": 419,
     "status": "ok",
     "timestamp": 1624022835643,
     "user": {
      "displayName": "Pranav Gouthamm",
      "photoUrl": "https://lh3.googleusercontent.com/a-/AOh14GgTM9a0Bo5w3JrAUEWfKpj-dt1Bw3vI6q-17xEo=s64",
      "userId": "00245361475060007376"
     },
     "user_tz": -120
    },
    "id": "AwMyv0_eTmFl"
   },
   "outputs": [],
   "source": [
    "#os.chdir(\"/content/drive/MyDrive/GUCPP\")"
   ]
  },
  {
   "cell_type": "code",
   "execution_count": 3,
   "metadata": {
    "colab": {
     "base_uri": "https://localhost:8080/",
     "height": 35
    },
    "executionInfo": {
     "elapsed": 64,
     "status": "ok",
     "timestamp": 1624022835675,
     "user": {
      "displayName": "Pranav Gouthamm",
      "photoUrl": "https://lh3.googleusercontent.com/a-/AOh14GgTM9a0Bo5w3JrAUEWfKpj-dt1Bw3vI6q-17xEo=s64",
      "userId": "00245361475060007376"
     },
     "user_tz": -120
    },
    "id": "jsld9TVsTyTP",
    "outputId": "553dbc7f-4179-445d-d676-628bcf1bf907"
   },
   "outputs": [],
   "source": [
    "#os.getcwd()"
   ]
  },
  {
   "cell_type": "code",
   "execution_count": 4,
   "metadata": {
    "executionInfo": {
     "elapsed": 2754,
     "status": "ok",
     "timestamp": 1624022838369,
     "user": {
      "displayName": "Pranav Gouthamm",
      "photoUrl": "https://lh3.googleusercontent.com/a-/AOh14GgTM9a0Bo5w3JrAUEWfKpj-dt1Bw3vI6q-17xEo=s64",
      "userId": "00245361475060007376"
     },
     "user_tz": -120
    },
    "id": "hpouZ2AwQvvR"
   },
   "outputs": [],
   "source": [
    "data1 = pd.read_csv('autos 2.csv', header=0, date_parser=True)"
   ]
  },
  {
   "cell_type": "code",
   "execution_count": 5,
   "metadata": {
    "colab": {
     "base_uri": "https://localhost:8080/",
     "height": 307
    },
    "executionInfo": {
     "elapsed": 38,
     "status": "ok",
     "timestamp": 1624022838373,
     "user": {
      "displayName": "Pranav Gouthamm",
      "photoUrl": "https://lh3.googleusercontent.com/a-/AOh14GgTM9a0Bo5w3JrAUEWfKpj-dt1Bw3vI6q-17xEo=s64",
      "userId": "00245361475060007376"
     },
     "user_tz": -120
    },
    "id": "6T6HoKvYRJb8",
    "outputId": "53c6cb34-4916-47cf-f4ad-f242af31549e"
   },
   "outputs": [
    {
     "data": {
      "text/html": [
       "<div>\n",
       "<style scoped>\n",
       "    .dataframe tbody tr th:only-of-type {\n",
       "        vertical-align: middle;\n",
       "    }\n",
       "\n",
       "    .dataframe tbody tr th {\n",
       "        vertical-align: top;\n",
       "    }\n",
       "\n",
       "    .dataframe thead th {\n",
       "        text-align: right;\n",
       "    }\n",
       "</style>\n",
       "<table border=\"1\" class=\"dataframe\">\n",
       "  <thead>\n",
       "    <tr style=\"text-align: right;\">\n",
       "      <th></th>\n",
       "      <th>datecrawled</th>\n",
       "      <th>name</th>\n",
       "      <th>seller</th>\n",
       "      <th>offertype</th>\n",
       "      <th>price</th>\n",
       "      <th>abtest</th>\n",
       "      <th>vehicletype</th>\n",
       "      <th>yearofregistration</th>\n",
       "      <th>gearbox</th>\n",
       "      <th>powerps</th>\n",
       "      <th>model</th>\n",
       "      <th>kilometer</th>\n",
       "      <th>monthofregistration</th>\n",
       "      <th>fueltype</th>\n",
       "      <th>brand</th>\n",
       "      <th>notrepaireddamage</th>\n",
       "      <th>datecreated</th>\n",
       "      <th>nrofpictures</th>\n",
       "      <th>postalcode</th>\n",
       "      <th>lastseen</th>\n",
       "    </tr>\n",
       "  </thead>\n",
       "  <tbody>\n",
       "    <tr>\n",
       "      <th>0</th>\n",
       "      <td>2016-03-24T11:52:17</td>\n",
       "      <td>Golf_3_1.6</td>\n",
       "      <td>privat</td>\n",
       "      <td>Angebot</td>\n",
       "      <td>480</td>\n",
       "      <td>test</td>\n",
       "      <td>NaN</td>\n",
       "      <td>1993</td>\n",
       "      <td>manuell</td>\n",
       "      <td>0</td>\n",
       "      <td>golf</td>\n",
       "      <td>150000</td>\n",
       "      <td>0</td>\n",
       "      <td>benzin</td>\n",
       "      <td>volkswagen</td>\n",
       "      <td>NaN</td>\n",
       "      <td>2016-03-24T00:00:00</td>\n",
       "      <td>False</td>\n",
       "      <td>70435</td>\n",
       "      <td>2016-04-07T03:16:57</td>\n",
       "    </tr>\n",
       "    <tr>\n",
       "      <th>1</th>\n",
       "      <td>2016-03-24T10:58:45</td>\n",
       "      <td>A5_Sportback_2.7_Tdi</td>\n",
       "      <td>privat</td>\n",
       "      <td>Angebot</td>\n",
       "      <td>18300</td>\n",
       "      <td>test</td>\n",
       "      <td>coupe</td>\n",
       "      <td>2011</td>\n",
       "      <td>manuell</td>\n",
       "      <td>190</td>\n",
       "      <td>NaN</td>\n",
       "      <td>125000</td>\n",
       "      <td>5</td>\n",
       "      <td>diesel</td>\n",
       "      <td>audi</td>\n",
       "      <td>ja</td>\n",
       "      <td>2016-03-24T00:00:00</td>\n",
       "      <td>False</td>\n",
       "      <td>66954</td>\n",
       "      <td>2016-04-07T01:46:50</td>\n",
       "    </tr>\n",
       "    <tr>\n",
       "      <th>2</th>\n",
       "      <td>2016-03-14T12:52:21</td>\n",
       "      <td>Jeep_Grand_Cherokee_\"Overland\"</td>\n",
       "      <td>privat</td>\n",
       "      <td>Angebot</td>\n",
       "      <td>9800</td>\n",
       "      <td>test</td>\n",
       "      <td>suv</td>\n",
       "      <td>2004</td>\n",
       "      <td>automatik</td>\n",
       "      <td>163</td>\n",
       "      <td>grand</td>\n",
       "      <td>125000</td>\n",
       "      <td>8</td>\n",
       "      <td>diesel</td>\n",
       "      <td>jeep</td>\n",
       "      <td>NaN</td>\n",
       "      <td>2016-03-14T00:00:00</td>\n",
       "      <td>False</td>\n",
       "      <td>90480</td>\n",
       "      <td>2016-04-05T12:47:46</td>\n",
       "    </tr>\n",
       "    <tr>\n",
       "      <th>3</th>\n",
       "      <td>2016-03-17T16:54:04</td>\n",
       "      <td>GOLF_4_1_4__3TÜRER</td>\n",
       "      <td>privat</td>\n",
       "      <td>Angebot</td>\n",
       "      <td>1500</td>\n",
       "      <td>test</td>\n",
       "      <td>kleinwagen</td>\n",
       "      <td>2001</td>\n",
       "      <td>manuell</td>\n",
       "      <td>75</td>\n",
       "      <td>golf</td>\n",
       "      <td>150000</td>\n",
       "      <td>6</td>\n",
       "      <td>benzin</td>\n",
       "      <td>volkswagen</td>\n",
       "      <td>nein</td>\n",
       "      <td>2016-03-17T00:00:00</td>\n",
       "      <td>False</td>\n",
       "      <td>91074</td>\n",
       "      <td>2016-03-17T17:40:17</td>\n",
       "    </tr>\n",
       "    <tr>\n",
       "      <th>4</th>\n",
       "      <td>2016-03-31T17:25:20</td>\n",
       "      <td>Skoda_Fabia_1.4_TDI_PD_Classic</td>\n",
       "      <td>privat</td>\n",
       "      <td>Angebot</td>\n",
       "      <td>3600</td>\n",
       "      <td>test</td>\n",
       "      <td>kleinwagen</td>\n",
       "      <td>2008</td>\n",
       "      <td>manuell</td>\n",
       "      <td>69</td>\n",
       "      <td>fabia</td>\n",
       "      <td>90000</td>\n",
       "      <td>7</td>\n",
       "      <td>diesel</td>\n",
       "      <td>skoda</td>\n",
       "      <td>nein</td>\n",
       "      <td>2016-03-31T00:00:00</td>\n",
       "      <td>False</td>\n",
       "      <td>60437</td>\n",
       "      <td>2016-04-06T10:17:21</td>\n",
       "    </tr>\n",
       "  </tbody>\n",
       "</table>\n",
       "</div>"
      ],
      "text/plain": [
       "           datecrawled                            name  seller offertype  \\\n",
       "0  2016-03-24T11:52:17                      Golf_3_1.6  privat   Angebot   \n",
       "1  2016-03-24T10:58:45            A5_Sportback_2.7_Tdi  privat   Angebot   \n",
       "2  2016-03-14T12:52:21  Jeep_Grand_Cherokee_\"Overland\"  privat   Angebot   \n",
       "3  2016-03-17T16:54:04              GOLF_4_1_4__3TÜRER  privat   Angebot   \n",
       "4  2016-03-31T17:25:20  Skoda_Fabia_1.4_TDI_PD_Classic  privat   Angebot   \n",
       "\n",
       "   price abtest vehicletype  yearofregistration    gearbox  powerps  model  \\\n",
       "0    480   test         NaN                1993    manuell        0   golf   \n",
       "1  18300   test       coupe                2011    manuell      190    NaN   \n",
       "2   9800   test         suv                2004  automatik      163  grand   \n",
       "3   1500   test  kleinwagen                2001    manuell       75   golf   \n",
       "4   3600   test  kleinwagen                2008    manuell       69  fabia   \n",
       "\n",
       "   kilometer  monthofregistration fueltype       brand notrepaireddamage  \\\n",
       "0     150000                    0   benzin  volkswagen               NaN   \n",
       "1     125000                    5   diesel        audi                ja   \n",
       "2     125000                    8   diesel        jeep               NaN   \n",
       "3     150000                    6   benzin  volkswagen              nein   \n",
       "4      90000                    7   diesel       skoda              nein   \n",
       "\n",
       "           datecreated  nrofpictures  postalcode             lastseen  \n",
       "0  2016-03-24T00:00:00         False       70435  2016-04-07T03:16:57  \n",
       "1  2016-03-24T00:00:00         False       66954  2016-04-07T01:46:50  \n",
       "2  2016-03-14T00:00:00         False       90480  2016-04-05T12:47:46  \n",
       "3  2016-03-17T00:00:00         False       91074  2016-03-17T17:40:17  \n",
       "4  2016-03-31T00:00:00         False       60437  2016-04-06T10:17:21  "
      ]
     },
     "execution_count": 5,
     "metadata": {},
     "output_type": "execute_result"
    }
   ],
   "source": [
    "data1.head()"
   ]
  },
  {
   "cell_type": "code",
   "execution_count": 6,
   "metadata": {
    "colab": {
     "base_uri": "https://localhost:8080/"
    },
    "executionInfo": {
     "elapsed": 442,
     "status": "ok",
     "timestamp": 1624022838784,
     "user": {
      "displayName": "Pranav Gouthamm",
      "photoUrl": "https://lh3.googleusercontent.com/a-/AOh14GgTM9a0Bo5w3JrAUEWfKpj-dt1Bw3vI6q-17xEo=s64",
      "userId": "00245361475060007376"
     },
     "user_tz": -120
    },
    "id": "r6AajKNvT6bh",
    "outputId": "b4042bcf-b701-4d3d-c190-5e4d152327da"
   },
   "outputs": [
    {
     "data": {
      "text/plain": [
       "(371528, 20)"
      ]
     },
     "execution_count": 6,
     "metadata": {},
     "output_type": "execute_result"
    }
   ],
   "source": [
    "data1.shape"
   ]
  },
  {
   "cell_type": "code",
   "execution_count": 7,
   "metadata": {
    "colab": {
     "base_uri": "https://localhost:8080/",
     "height": 425
    },
    "executionInfo": {
     "elapsed": 1461,
     "status": "ok",
     "timestamp": 1624022840240,
     "user": {
      "displayName": "Pranav Gouthamm",
      "photoUrl": "https://lh3.googleusercontent.com/a-/AOh14GgTM9a0Bo5w3JrAUEWfKpj-dt1Bw3vI6q-17xEo=s64",
      "userId": "00245361475060007376"
     },
     "user_tz": -120
    },
    "id": "BWX7OUEbFyya",
    "outputId": "a00b73e5-557c-4216-a7bd-34b2a8a3d348"
   },
   "outputs": [
    {
     "data": {
      "text/html": [
       "<div>\n",
       "<style scoped>\n",
       "    .dataframe tbody tr th:only-of-type {\n",
       "        vertical-align: middle;\n",
       "    }\n",
       "\n",
       "    .dataframe tbody tr th {\n",
       "        vertical-align: top;\n",
       "    }\n",
       "\n",
       "    .dataframe thead th {\n",
       "        text-align: right;\n",
       "    }\n",
       "</style>\n",
       "<table border=\"1\" class=\"dataframe\">\n",
       "  <thead>\n",
       "    <tr style=\"text-align: right;\">\n",
       "      <th></th>\n",
       "      <th>datecrawled</th>\n",
       "      <th>name</th>\n",
       "      <th>seller</th>\n",
       "      <th>offertype</th>\n",
       "      <th>price</th>\n",
       "      <th>abtest</th>\n",
       "      <th>vehicletype</th>\n",
       "      <th>yearofregistration</th>\n",
       "      <th>gearbox</th>\n",
       "      <th>powerps</th>\n",
       "      <th>model</th>\n",
       "      <th>kilometer</th>\n",
       "      <th>monthofregistration</th>\n",
       "      <th>fueltype</th>\n",
       "      <th>brand</th>\n",
       "      <th>notrepaireddamage</th>\n",
       "      <th>datecreated</th>\n",
       "      <th>nrofpictures</th>\n",
       "      <th>postalcode</th>\n",
       "      <th>lastseen</th>\n",
       "    </tr>\n",
       "  </thead>\n",
       "  <tbody>\n",
       "    <tr>\n",
       "      <th>count</th>\n",
       "      <td>371528</td>\n",
       "      <td>371528</td>\n",
       "      <td>371528</td>\n",
       "      <td>371528</td>\n",
       "      <td>3.715280e+05</td>\n",
       "      <td>371528</td>\n",
       "      <td>333659</td>\n",
       "      <td>371528.000000</td>\n",
       "      <td>351319</td>\n",
       "      <td>371528.000000</td>\n",
       "      <td>351044</td>\n",
       "      <td>371528.000000</td>\n",
       "      <td>371528.000000</td>\n",
       "      <td>338142</td>\n",
       "      <td>371528</td>\n",
       "      <td>299468</td>\n",
       "      <td>371528</td>\n",
       "      <td>371528</td>\n",
       "      <td>371528.00000</td>\n",
       "      <td>371528</td>\n",
       "    </tr>\n",
       "    <tr>\n",
       "      <th>unique</th>\n",
       "      <td>280500</td>\n",
       "      <td>233531</td>\n",
       "      <td>2</td>\n",
       "      <td>2</td>\n",
       "      <td>NaN</td>\n",
       "      <td>2</td>\n",
       "      <td>8</td>\n",
       "      <td>NaN</td>\n",
       "      <td>2</td>\n",
       "      <td>NaN</td>\n",
       "      <td>251</td>\n",
       "      <td>NaN</td>\n",
       "      <td>NaN</td>\n",
       "      <td>7</td>\n",
       "      <td>40</td>\n",
       "      <td>2</td>\n",
       "      <td>114</td>\n",
       "      <td>1</td>\n",
       "      <td>NaN</td>\n",
       "      <td>182806</td>\n",
       "    </tr>\n",
       "    <tr>\n",
       "      <th>top</th>\n",
       "      <td>2016-03-24T14:49:47</td>\n",
       "      <td>Ford_Fiesta</td>\n",
       "      <td>privat</td>\n",
       "      <td>Angebot</td>\n",
       "      <td>NaN</td>\n",
       "      <td>test</td>\n",
       "      <td>limousine</td>\n",
       "      <td>NaN</td>\n",
       "      <td>manuell</td>\n",
       "      <td>NaN</td>\n",
       "      <td>golf</td>\n",
       "      <td>NaN</td>\n",
       "      <td>NaN</td>\n",
       "      <td>benzin</td>\n",
       "      <td>volkswagen</td>\n",
       "      <td>nein</td>\n",
       "      <td>2016-04-03T00:00:00</td>\n",
       "      <td>False</td>\n",
       "      <td>NaN</td>\n",
       "      <td>2016-04-06T13:45:54</td>\n",
       "    </tr>\n",
       "    <tr>\n",
       "      <th>freq</th>\n",
       "      <td>7</td>\n",
       "      <td>657</td>\n",
       "      <td>371525</td>\n",
       "      <td>371516</td>\n",
       "      <td>NaN</td>\n",
       "      <td>192585</td>\n",
       "      <td>95894</td>\n",
       "      <td>NaN</td>\n",
       "      <td>274214</td>\n",
       "      <td>NaN</td>\n",
       "      <td>30070</td>\n",
       "      <td>NaN</td>\n",
       "      <td>NaN</td>\n",
       "      <td>223857</td>\n",
       "      <td>79640</td>\n",
       "      <td>263182</td>\n",
       "      <td>14450</td>\n",
       "      <td>371528</td>\n",
       "      <td>NaN</td>\n",
       "      <td>17</td>\n",
       "    </tr>\n",
       "    <tr>\n",
       "      <th>mean</th>\n",
       "      <td>NaN</td>\n",
       "      <td>NaN</td>\n",
       "      <td>NaN</td>\n",
       "      <td>NaN</td>\n",
       "      <td>1.729514e+04</td>\n",
       "      <td>NaN</td>\n",
       "      <td>NaN</td>\n",
       "      <td>2004.577997</td>\n",
       "      <td>NaN</td>\n",
       "      <td>115.549477</td>\n",
       "      <td>NaN</td>\n",
       "      <td>125618.688228</td>\n",
       "      <td>5.734445</td>\n",
       "      <td>NaN</td>\n",
       "      <td>NaN</td>\n",
       "      <td>NaN</td>\n",
       "      <td>NaN</td>\n",
       "      <td>NaN</td>\n",
       "      <td>50820.66764</td>\n",
       "      <td>NaN</td>\n",
       "    </tr>\n",
       "    <tr>\n",
       "      <th>std</th>\n",
       "      <td>NaN</td>\n",
       "      <td>NaN</td>\n",
       "      <td>NaN</td>\n",
       "      <td>NaN</td>\n",
       "      <td>3.587954e+06</td>\n",
       "      <td>NaN</td>\n",
       "      <td>NaN</td>\n",
       "      <td>92.866598</td>\n",
       "      <td>NaN</td>\n",
       "      <td>192.139578</td>\n",
       "      <td>NaN</td>\n",
       "      <td>40112.337051</td>\n",
       "      <td>3.712412</td>\n",
       "      <td>NaN</td>\n",
       "      <td>NaN</td>\n",
       "      <td>NaN</td>\n",
       "      <td>NaN</td>\n",
       "      <td>NaN</td>\n",
       "      <td>25799.08247</td>\n",
       "      <td>NaN</td>\n",
       "    </tr>\n",
       "    <tr>\n",
       "      <th>min</th>\n",
       "      <td>NaN</td>\n",
       "      <td>NaN</td>\n",
       "      <td>NaN</td>\n",
       "      <td>NaN</td>\n",
       "      <td>0.000000e+00</td>\n",
       "      <td>NaN</td>\n",
       "      <td>NaN</td>\n",
       "      <td>1000.000000</td>\n",
       "      <td>NaN</td>\n",
       "      <td>0.000000</td>\n",
       "      <td>NaN</td>\n",
       "      <td>5000.000000</td>\n",
       "      <td>0.000000</td>\n",
       "      <td>NaN</td>\n",
       "      <td>NaN</td>\n",
       "      <td>NaN</td>\n",
       "      <td>NaN</td>\n",
       "      <td>NaN</td>\n",
       "      <td>1067.00000</td>\n",
       "      <td>NaN</td>\n",
       "    </tr>\n",
       "    <tr>\n",
       "      <th>25%</th>\n",
       "      <td>NaN</td>\n",
       "      <td>NaN</td>\n",
       "      <td>NaN</td>\n",
       "      <td>NaN</td>\n",
       "      <td>1.150000e+03</td>\n",
       "      <td>NaN</td>\n",
       "      <td>NaN</td>\n",
       "      <td>1999.000000</td>\n",
       "      <td>NaN</td>\n",
       "      <td>70.000000</td>\n",
       "      <td>NaN</td>\n",
       "      <td>125000.000000</td>\n",
       "      <td>3.000000</td>\n",
       "      <td>NaN</td>\n",
       "      <td>NaN</td>\n",
       "      <td>NaN</td>\n",
       "      <td>NaN</td>\n",
       "      <td>NaN</td>\n",
       "      <td>30459.00000</td>\n",
       "      <td>NaN</td>\n",
       "    </tr>\n",
       "    <tr>\n",
       "      <th>50%</th>\n",
       "      <td>NaN</td>\n",
       "      <td>NaN</td>\n",
       "      <td>NaN</td>\n",
       "      <td>NaN</td>\n",
       "      <td>2.950000e+03</td>\n",
       "      <td>NaN</td>\n",
       "      <td>NaN</td>\n",
       "      <td>2003.000000</td>\n",
       "      <td>NaN</td>\n",
       "      <td>105.000000</td>\n",
       "      <td>NaN</td>\n",
       "      <td>150000.000000</td>\n",
       "      <td>6.000000</td>\n",
       "      <td>NaN</td>\n",
       "      <td>NaN</td>\n",
       "      <td>NaN</td>\n",
       "      <td>NaN</td>\n",
       "      <td>NaN</td>\n",
       "      <td>49610.00000</td>\n",
       "      <td>NaN</td>\n",
       "    </tr>\n",
       "    <tr>\n",
       "      <th>75%</th>\n",
       "      <td>NaN</td>\n",
       "      <td>NaN</td>\n",
       "      <td>NaN</td>\n",
       "      <td>NaN</td>\n",
       "      <td>7.200000e+03</td>\n",
       "      <td>NaN</td>\n",
       "      <td>NaN</td>\n",
       "      <td>2008.000000</td>\n",
       "      <td>NaN</td>\n",
       "      <td>150.000000</td>\n",
       "      <td>NaN</td>\n",
       "      <td>150000.000000</td>\n",
       "      <td>9.000000</td>\n",
       "      <td>NaN</td>\n",
       "      <td>NaN</td>\n",
       "      <td>NaN</td>\n",
       "      <td>NaN</td>\n",
       "      <td>NaN</td>\n",
       "      <td>71546.00000</td>\n",
       "      <td>NaN</td>\n",
       "    </tr>\n",
       "    <tr>\n",
       "      <th>max</th>\n",
       "      <td>NaN</td>\n",
       "      <td>NaN</td>\n",
       "      <td>NaN</td>\n",
       "      <td>NaN</td>\n",
       "      <td>2.147484e+09</td>\n",
       "      <td>NaN</td>\n",
       "      <td>NaN</td>\n",
       "      <td>9999.000000</td>\n",
       "      <td>NaN</td>\n",
       "      <td>20000.000000</td>\n",
       "      <td>NaN</td>\n",
       "      <td>150000.000000</td>\n",
       "      <td>12.000000</td>\n",
       "      <td>NaN</td>\n",
       "      <td>NaN</td>\n",
       "      <td>NaN</td>\n",
       "      <td>NaN</td>\n",
       "      <td>NaN</td>\n",
       "      <td>99998.00000</td>\n",
       "      <td>NaN</td>\n",
       "    </tr>\n",
       "  </tbody>\n",
       "</table>\n",
       "</div>"
      ],
      "text/plain": [
       "                datecrawled         name  seller offertype         price  \\\n",
       "count                371528       371528  371528    371528  3.715280e+05   \n",
       "unique               280500       233531       2         2           NaN   \n",
       "top     2016-03-24T14:49:47  Ford_Fiesta  privat   Angebot           NaN   \n",
       "freq                      7          657  371525    371516           NaN   \n",
       "mean                    NaN          NaN     NaN       NaN  1.729514e+04   \n",
       "std                     NaN          NaN     NaN       NaN  3.587954e+06   \n",
       "min                     NaN          NaN     NaN       NaN  0.000000e+00   \n",
       "25%                     NaN          NaN     NaN       NaN  1.150000e+03   \n",
       "50%                     NaN          NaN     NaN       NaN  2.950000e+03   \n",
       "75%                     NaN          NaN     NaN       NaN  7.200000e+03   \n",
       "max                     NaN          NaN     NaN       NaN  2.147484e+09   \n",
       "\n",
       "        abtest vehicletype  yearofregistration  gearbox        powerps  \\\n",
       "count   371528      333659       371528.000000   351319  371528.000000   \n",
       "unique       2           8                 NaN        2            NaN   \n",
       "top       test   limousine                 NaN  manuell            NaN   \n",
       "freq    192585       95894                 NaN   274214            NaN   \n",
       "mean       NaN         NaN         2004.577997      NaN     115.549477   \n",
       "std        NaN         NaN           92.866598      NaN     192.139578   \n",
       "min        NaN         NaN         1000.000000      NaN       0.000000   \n",
       "25%        NaN         NaN         1999.000000      NaN      70.000000   \n",
       "50%        NaN         NaN         2003.000000      NaN     105.000000   \n",
       "75%        NaN         NaN         2008.000000      NaN     150.000000   \n",
       "max        NaN         NaN         9999.000000      NaN   20000.000000   \n",
       "\n",
       "         model      kilometer  monthofregistration fueltype       brand  \\\n",
       "count   351044  371528.000000        371528.000000   338142      371528   \n",
       "unique     251            NaN                  NaN        7          40   \n",
       "top       golf            NaN                  NaN   benzin  volkswagen   \n",
       "freq     30070            NaN                  NaN   223857       79640   \n",
       "mean       NaN  125618.688228             5.734445      NaN         NaN   \n",
       "std        NaN   40112.337051             3.712412      NaN         NaN   \n",
       "min        NaN    5000.000000             0.000000      NaN         NaN   \n",
       "25%        NaN  125000.000000             3.000000      NaN         NaN   \n",
       "50%        NaN  150000.000000             6.000000      NaN         NaN   \n",
       "75%        NaN  150000.000000             9.000000      NaN         NaN   \n",
       "max        NaN  150000.000000            12.000000      NaN         NaN   \n",
       "\n",
       "       notrepaireddamage          datecreated nrofpictures    postalcode  \\\n",
       "count             299468               371528       371528  371528.00000   \n",
       "unique                 2                  114            1           NaN   \n",
       "top                 nein  2016-04-03T00:00:00        False           NaN   \n",
       "freq              263182                14450       371528           NaN   \n",
       "mean                 NaN                  NaN          NaN   50820.66764   \n",
       "std                  NaN                  NaN          NaN   25799.08247   \n",
       "min                  NaN                  NaN          NaN    1067.00000   \n",
       "25%                  NaN                  NaN          NaN   30459.00000   \n",
       "50%                  NaN                  NaN          NaN   49610.00000   \n",
       "75%                  NaN                  NaN          NaN   71546.00000   \n",
       "max                  NaN                  NaN          NaN   99998.00000   \n",
       "\n",
       "                   lastseen  \n",
       "count                371528  \n",
       "unique               182806  \n",
       "top     2016-04-06T13:45:54  \n",
       "freq                     17  \n",
       "mean                    NaN  \n",
       "std                     NaN  \n",
       "min                     NaN  \n",
       "25%                     NaN  \n",
       "50%                     NaN  \n",
       "75%                     NaN  \n",
       "max                     NaN  "
      ]
     },
     "execution_count": 7,
     "metadata": {},
     "output_type": "execute_result"
    }
   ],
   "source": [
    "data1.describe(include='all')"
   ]
  },
  {
   "cell_type": "code",
   "execution_count": 8,
   "metadata": {
    "colab": {
     "base_uri": "https://localhost:8080/"
    },
    "executionInfo": {
     "elapsed": 17,
     "status": "ok",
     "timestamp": 1624022840242,
     "user": {
      "displayName": "Pranav Gouthamm",
      "photoUrl": "https://lh3.googleusercontent.com/a-/AOh14GgTM9a0Bo5w3JrAUEWfKpj-dt1Bw3vI6q-17xEo=s64",
      "userId": "00245361475060007376"
     },
     "user_tz": -120
    },
    "id": "Da7eodquUEJp",
    "outputId": "c83db0f9-6cf9-4c06-e05d-02e7410c3835"
   },
   "outputs": [
    {
     "data": {
      "text/plain": [
       "datecrawled            object\n",
       "name                   object\n",
       "seller                 object\n",
       "offertype              object\n",
       "price                   int64\n",
       "abtest                 object\n",
       "vehicletype            object\n",
       "yearofregistration      int64\n",
       "gearbox                object\n",
       "powerps                 int64\n",
       "model                  object\n",
       "kilometer               int64\n",
       "monthofregistration     int64\n",
       "fueltype               object\n",
       "brand                  object\n",
       "notrepaireddamage      object\n",
       "datecreated            object\n",
       "nrofpictures             bool\n",
       "postalcode              int64\n",
       "lastseen               object\n",
       "dtype: object"
      ]
     },
     "execution_count": 8,
     "metadata": {},
     "output_type": "execute_result"
    }
   ],
   "source": [
    "data1.dtypes"
   ]
  },
  {
   "cell_type": "code",
   "execution_count": 9,
   "metadata": {
    "colab": {
     "base_uri": "https://localhost:8080/"
    },
    "executionInfo": {
     "elapsed": 443,
     "status": "ok",
     "timestamp": 1624022840676,
     "user": {
      "displayName": "Pranav Gouthamm",
      "photoUrl": "https://lh3.googleusercontent.com/a-/AOh14GgTM9a0Bo5w3JrAUEWfKpj-dt1Bw3vI6q-17xEo=s64",
      "userId": "00245361475060007376"
     },
     "user_tz": -120
    },
    "id": "BB3ekyfjUTvl",
    "outputId": "8d91525a-11ea-4e10-d12b-132e36347aea"
   },
   "outputs": [
    {
     "data": {
      "text/plain": [
       "datecrawled                0\n",
       "name                       0\n",
       "seller                     0\n",
       "offertype                  0\n",
       "price                      0\n",
       "abtest                     0\n",
       "vehicletype            37869\n",
       "yearofregistration         0\n",
       "gearbox                20209\n",
       "powerps                    0\n",
       "model                  20484\n",
       "kilometer                  0\n",
       "monthofregistration        0\n",
       "fueltype               33386\n",
       "brand                      0\n",
       "notrepaireddamage      72060\n",
       "datecreated                0\n",
       "nrofpictures               0\n",
       "postalcode                 0\n",
       "lastseen                   0\n",
       "dtype: int64"
      ]
     },
     "execution_count": 9,
     "metadata": {},
     "output_type": "execute_result"
    }
   ],
   "source": [
    "data1.isnull().sum()"
   ]
  },
  {
   "cell_type": "code",
   "execution_count": 10,
   "metadata": {
    "colab": {
     "base_uri": "https://localhost:8080/"
    },
    "executionInfo": {
     "elapsed": 20,
     "status": "ok",
     "timestamp": 1624022840678,
     "user": {
      "displayName": "Pranav Gouthamm",
      "photoUrl": "https://lh3.googleusercontent.com/a-/AOh14GgTM9a0Bo5w3JrAUEWfKpj-dt1Bw3vI6q-17xEo=s64",
      "userId": "00245361475060007376"
     },
     "user_tz": -120
    },
    "id": "xJejPnX84AYV",
    "outputId": "48b3945c-f842-4a43-ebf8-e6cd8f42374f"
   },
   "outputs": [
    {
     "name": "stdout",
     "output_type": "stream",
     "text": [
      "1150.0 6050.0 7200.0\n"
     ]
    }
   ],
   "source": [
    "Q1 = data1.price.quantile(0.25)\n",
    "Q3 = data1.price.quantile(0.75)\n",
    "IQR = Q3 - Q1\n",
    "print(Q1,IQR,Q3)"
   ]
  },
  {
   "cell_type": "code",
   "execution_count": 11,
   "metadata": {
    "colab": {
     "base_uri": "https://localhost:8080/",
     "height": 324
    },
    "executionInfo": {
     "elapsed": 228,
     "status": "ok",
     "timestamp": 1624022840896,
     "user": {
      "displayName": "Pranav Gouthamm",
      "photoUrl": "https://lh3.googleusercontent.com/a-/AOh14GgTM9a0Bo5w3JrAUEWfKpj-dt1Bw3vI6q-17xEo=s64",
      "userId": "00245361475060007376"
     },
     "user_tz": -120
    },
    "id": "kbhlUDsF7LBk",
    "outputId": "46da154d-a407-465d-e8c4-6abe1e0d7884"
   },
   "outputs": [
    {
     "name": "stdout",
     "output_type": "stream",
     "text": [
      "(371426, 20)\n"
     ]
    },
    {
     "data": {
      "text/html": [
       "<div>\n",
       "<style scoped>\n",
       "    .dataframe tbody tr th:only-of-type {\n",
       "        vertical-align: middle;\n",
       "    }\n",
       "\n",
       "    .dataframe tbody tr th {\n",
       "        vertical-align: top;\n",
       "    }\n",
       "\n",
       "    .dataframe thead th {\n",
       "        text-align: right;\n",
       "    }\n",
       "</style>\n",
       "<table border=\"1\" class=\"dataframe\">\n",
       "  <thead>\n",
       "    <tr style=\"text-align: right;\">\n",
       "      <th></th>\n",
       "      <th>datecrawled</th>\n",
       "      <th>name</th>\n",
       "      <th>seller</th>\n",
       "      <th>offertype</th>\n",
       "      <th>price</th>\n",
       "      <th>abtest</th>\n",
       "      <th>vehicletype</th>\n",
       "      <th>yearofregistration</th>\n",
       "      <th>gearbox</th>\n",
       "      <th>powerps</th>\n",
       "      <th>model</th>\n",
       "      <th>kilometer</th>\n",
       "      <th>monthofregistration</th>\n",
       "      <th>fueltype</th>\n",
       "      <th>brand</th>\n",
       "      <th>notrepaireddamage</th>\n",
       "      <th>datecreated</th>\n",
       "      <th>nrofpictures</th>\n",
       "      <th>postalcode</th>\n",
       "      <th>lastseen</th>\n",
       "    </tr>\n",
       "  </thead>\n",
       "  <tbody>\n",
       "    <tr>\n",
       "      <th>198373</th>\n",
       "      <td>2016-03-07T12:55:52</td>\n",
       "      <td>Mercedes_A140_TÜV__07/2016</td>\n",
       "      <td>privat</td>\n",
       "      <td>Angebot</td>\n",
       "      <td>550</td>\n",
       "      <td>test</td>\n",
       "      <td>NaN</td>\n",
       "      <td>2016</td>\n",
       "      <td>NaN</td>\n",
       "      <td>82</td>\n",
       "      <td>NaN</td>\n",
       "      <td>150000</td>\n",
       "      <td>5</td>\n",
       "      <td>NaN</td>\n",
       "      <td>mercedes_benz</td>\n",
       "      <td>NaN</td>\n",
       "      <td>2016-03-07T00:00:00</td>\n",
       "      <td>False</td>\n",
       "      <td>86899</td>\n",
       "      <td>2016-03-12T02:44:34</td>\n",
       "    </tr>\n",
       "    <tr>\n",
       "      <th>250212</th>\n",
       "      <td>2016-03-30T21:55:29</td>\n",
       "      <td>Mercedes_Benz_GLK_220_CDI_DPF_4Matic_BlueEFFIC...</td>\n",
       "      <td>privat</td>\n",
       "      <td>Angebot</td>\n",
       "      <td>25850</td>\n",
       "      <td>test</td>\n",
       "      <td>suv</td>\n",
       "      <td>2011</td>\n",
       "      <td>automatik</td>\n",
       "      <td>170</td>\n",
       "      <td>glk</td>\n",
       "      <td>50000</td>\n",
       "      <td>1</td>\n",
       "      <td>diesel</td>\n",
       "      <td>mercedes_benz</td>\n",
       "      <td>nein</td>\n",
       "      <td>2016-03-30T00:00:00</td>\n",
       "      <td>False</td>\n",
       "      <td>25462</td>\n",
       "      <td>2016-04-05T13:16:08</td>\n",
       "    </tr>\n",
       "    <tr>\n",
       "      <th>87455</th>\n",
       "      <td>2016-03-16T19:56:58</td>\n",
       "      <td>Mazda_626_TÜV_bis_08.2017</td>\n",
       "      <td>privat</td>\n",
       "      <td>Angebot</td>\n",
       "      <td>900</td>\n",
       "      <td>test</td>\n",
       "      <td>limousine</td>\n",
       "      <td>2001</td>\n",
       "      <td>manuell</td>\n",
       "      <td>101</td>\n",
       "      <td>6_reihe</td>\n",
       "      <td>150000</td>\n",
       "      <td>3</td>\n",
       "      <td>benzin</td>\n",
       "      <td>mazda</td>\n",
       "      <td>ja</td>\n",
       "      <td>2016-03-16T00:00:00</td>\n",
       "      <td>False</td>\n",
       "      <td>26169</td>\n",
       "      <td>2016-03-23T07:48:17</td>\n",
       "    </tr>\n",
       "    <tr>\n",
       "      <th>136335</th>\n",
       "      <td>2016-03-25T21:54:01</td>\n",
       "      <td>SUCHE_AUTO___oder_transporter_DRINGEND</td>\n",
       "      <td>privat</td>\n",
       "      <td>Angebot</td>\n",
       "      <td>1000</td>\n",
       "      <td>test</td>\n",
       "      <td>NaN</td>\n",
       "      <td>1000</td>\n",
       "      <td>NaN</td>\n",
       "      <td>0</td>\n",
       "      <td>NaN</td>\n",
       "      <td>5000</td>\n",
       "      <td>0</td>\n",
       "      <td>NaN</td>\n",
       "      <td>sonstige_autos</td>\n",
       "      <td>NaN</td>\n",
       "      <td>2016-03-25T00:00:00</td>\n",
       "      <td>False</td>\n",
       "      <td>19246</td>\n",
       "      <td>2016-03-30T17:47:53</td>\n",
       "    </tr>\n",
       "    <tr>\n",
       "      <th>119839</th>\n",
       "      <td>2016-03-21T13:52:09</td>\n",
       "      <td>Skoda_Octavia_Combi_2.0_TDI_Green_tec_4x4_DSG_...</td>\n",
       "      <td>privat</td>\n",
       "      <td>Angebot</td>\n",
       "      <td>29999</td>\n",
       "      <td>test</td>\n",
       "      <td>kombi</td>\n",
       "      <td>2015</td>\n",
       "      <td>automatik</td>\n",
       "      <td>184</td>\n",
       "      <td>octavia</td>\n",
       "      <td>40000</td>\n",
       "      <td>1</td>\n",
       "      <td>diesel</td>\n",
       "      <td>skoda</td>\n",
       "      <td>nein</td>\n",
       "      <td>2016-03-21T00:00:00</td>\n",
       "      <td>False</td>\n",
       "      <td>85080</td>\n",
       "      <td>2016-04-06T09:46:34</td>\n",
       "    </tr>\n",
       "  </tbody>\n",
       "</table>\n",
       "</div>"
      ],
      "text/plain": [
       "                datecrawled  \\\n",
       "198373  2016-03-07T12:55:52   \n",
       "250212  2016-03-30T21:55:29   \n",
       "87455   2016-03-16T19:56:58   \n",
       "136335  2016-03-25T21:54:01   \n",
       "119839  2016-03-21T13:52:09   \n",
       "\n",
       "                                                     name  seller offertype  \\\n",
       "198373                         Mercedes_A140_TÜV__07/2016  privat   Angebot   \n",
       "250212  Mercedes_Benz_GLK_220_CDI_DPF_4Matic_BlueEFFIC...  privat   Angebot   \n",
       "87455                           Mazda_626_TÜV_bis_08.2017  privat   Angebot   \n",
       "136335             SUCHE_AUTO___oder_transporter_DRINGEND  privat   Angebot   \n",
       "119839  Skoda_Octavia_Combi_2.0_TDI_Green_tec_4x4_DSG_...  privat   Angebot   \n",
       "\n",
       "        price abtest vehicletype  yearofregistration    gearbox  powerps  \\\n",
       "198373    550   test         NaN                2016        NaN       82   \n",
       "250212  25850   test         suv                2011  automatik      170   \n",
       "87455     900   test   limousine                2001    manuell      101   \n",
       "136335   1000   test         NaN                1000        NaN        0   \n",
       "119839  29999   test       kombi                2015  automatik      184   \n",
       "\n",
       "          model  kilometer  monthofregistration fueltype           brand  \\\n",
       "198373      NaN     150000                    5      NaN   mercedes_benz   \n",
       "250212      glk      50000                    1   diesel   mercedes_benz   \n",
       "87455   6_reihe     150000                    3   benzin           mazda   \n",
       "136335      NaN       5000                    0      NaN  sonstige_autos   \n",
       "119839  octavia      40000                    1   diesel           skoda   \n",
       "\n",
       "       notrepaireddamage          datecreated  nrofpictures  postalcode  \\\n",
       "198373               NaN  2016-03-07T00:00:00         False       86899   \n",
       "250212              nein  2016-03-30T00:00:00         False       25462   \n",
       "87455                 ja  2016-03-16T00:00:00         False       26169   \n",
       "136335               NaN  2016-03-25T00:00:00         False       19246   \n",
       "119839              nein  2016-03-21T00:00:00         False       85080   \n",
       "\n",
       "                   lastseen  \n",
       "198373  2016-03-12T02:44:34  \n",
       "250212  2016-04-05T13:16:08  \n",
       "87455   2016-03-23T07:48:17  \n",
       "136335  2016-03-30T17:47:53  \n",
       "119839  2016-04-06T09:46:34  "
      ]
     },
     "execution_count": 11,
     "metadata": {},
     "output_type": "execute_result"
    }
   ],
   "source": [
    "data_1 = data1[data1['price']<500000]\n",
    "print(data_1.shape)\n",
    "data_1.sample(5)"
   ]
  },
  {
   "cell_type": "code",
   "execution_count": 12,
   "metadata": {
    "executionInfo": {
     "elapsed": 23,
     "status": "ok",
     "timestamp": 1624022840903,
     "user": {
      "displayName": "Pranav Gouthamm",
      "photoUrl": "https://lh3.googleusercontent.com/a-/AOh14GgTM9a0Bo5w3JrAUEWfKpj-dt1Bw3vI6q-17xEo=s64",
      "userId": "00245361475060007376"
     },
     "user_tz": -120
    },
    "id": "KM7v4LXfazmk"
   },
   "outputs": [],
   "source": [
    "data2 = data_1.copy()"
   ]
  },
  {
   "cell_type": "code",
   "execution_count": 13,
   "metadata": {
    "executionInfo": {
     "elapsed": 1877,
     "status": "ok",
     "timestamp": 1624022842759,
     "user": {
      "displayName": "Pranav Gouthamm",
      "photoUrl": "https://lh3.googleusercontent.com/a-/AOh14GgTM9a0Bo5w3JrAUEWfKpj-dt1Bw3vI6q-17xEo=s64",
      "userId": "00245361475060007376"
     },
     "user_tz": -120
    },
    "id": "mgATq69KbDti"
   },
   "outputs": [],
   "source": [
    "data2 = data2.replace({'ja':1,'nein':0})"
   ]
  },
  {
   "cell_type": "code",
   "execution_count": 14,
   "metadata": {
    "colab": {
     "base_uri": "https://localhost:8080/"
    },
    "executionInfo": {
     "elapsed": 23,
     "status": "ok",
     "timestamp": 1624022842767,
     "user": {
      "displayName": "Pranav Gouthamm",
      "photoUrl": "https://lh3.googleusercontent.com/a-/AOh14GgTM9a0Bo5w3JrAUEWfKpj-dt1Bw3vI6q-17xEo=s64",
      "userId": "00245361475060007376"
     },
     "user_tz": -120
    },
    "id": "KLphEJ3LbUyq",
    "outputId": "f43acdc3-2fc2-4831-8da4-a7a309c3e084"
   },
   "outputs": [
    {
     "data": {
      "text/plain": [
       "0         NaN\n",
       "1         1.0\n",
       "2         NaN\n",
       "3         0.0\n",
       "4         0.0\n",
       "         ... \n",
       "371523    NaN\n",
       "371524    0.0\n",
       "371525    0.0\n",
       "371526    NaN\n",
       "371527    0.0\n",
       "Name: notrepaireddamage, Length: 371426, dtype: float64"
      ]
     },
     "execution_count": 14,
     "metadata": {},
     "output_type": "execute_result"
    }
   ],
   "source": [
    "data2['notrepaireddamage']"
   ]
  },
  {
   "cell_type": "code",
   "execution_count": 15,
   "metadata": {
    "executionInfo": {
     "elapsed": 14,
     "status": "ok",
     "timestamp": 1624022842768,
     "user": {
      "displayName": "Pranav Gouthamm",
      "photoUrl": "https://lh3.googleusercontent.com/a-/AOh14GgTM9a0Bo5w3JrAUEWfKpj-dt1Bw3vI6q-17xEo=s64",
      "userId": "00245361475060007376"
     },
     "user_tz": -120
    },
    "id": "faPZYvucnDZW"
   },
   "outputs": [],
   "source": [
    "data2['notrepaireddamage'] = data2['notrepaireddamage'].fillna(data2['notrepaireddamage'].mode()[0])"
   ]
  },
  {
   "cell_type": "code",
   "execution_count": 16,
   "metadata": {
    "colab": {
     "base_uri": "https://localhost:8080/"
    },
    "executionInfo": {
     "elapsed": 811,
     "status": "ok",
     "timestamp": 1624022843567,
     "user": {
      "displayName": "Pranav Gouthamm",
      "photoUrl": "https://lh3.googleusercontent.com/a-/AOh14GgTM9a0Bo5w3JrAUEWfKpj-dt1Bw3vI6q-17xEo=s64",
      "userId": "00245361475060007376"
     },
     "user_tz": -120
    },
    "id": "sANDls2CUvLs",
    "outputId": "f9b54974-4fa3-4157-9b8e-7567fc06fdd1"
   },
   "outputs": [
    {
     "data": {
      "text/plain": [
       "datecrawled            280500\n",
       "name                   233531\n",
       "seller                      2\n",
       "offertype                   2\n",
       "price                    5597\n",
       "abtest                      2\n",
       "vehicletype                 8\n",
       "yearofregistration        155\n",
       "gearbox                     2\n",
       "powerps                   794\n",
       "model                     251\n",
       "kilometer                  13\n",
       "monthofregistration        13\n",
       "fueltype                    7\n",
       "brand                      40\n",
       "notrepaireddamage           2\n",
       "datecreated               114\n",
       "nrofpictures                1\n",
       "postalcode               8150\n",
       "lastseen               182806\n",
       "dtype: int64"
      ]
     },
     "execution_count": 16,
     "metadata": {},
     "output_type": "execute_result"
    }
   ],
   "source": [
    "data1.nunique()"
   ]
  },
  {
   "cell_type": "code",
   "execution_count": 17,
   "metadata": {
    "colab": {
     "base_uri": "https://localhost:8080/"
    },
    "executionInfo": {
     "elapsed": 458,
     "status": "ok",
     "timestamp": 1624022844017,
     "user": {
      "displayName": "Pranav Gouthamm",
      "photoUrl": "https://lh3.googleusercontent.com/a-/AOh14GgTM9a0Bo5w3JrAUEWfKpj-dt1Bw3vI6q-17xEo=s64",
      "userId": "00245361475060007376"
     },
     "user_tz": -120
    },
    "id": "Nmmp0FJ-sv4r",
    "outputId": "84a0709d-4d5d-4950-c5fa-32304efab267"
   },
   "outputs": [
    {
     "name": "stdout",
     "output_type": "stream",
     "text": [
      "No of Unique levels in datecrawled : 75.506830431903\n",
      "No of Unique levels in name : 62.85235820863375\n",
      "No of Unique levels in seller : 0.0005384652662979974\n",
      "No of Unique levels in offertype : 0.0005384652662979974\n",
      "No of Unique levels in price : 1.496125742408986\n",
      "No of Unique levels in abtest : 0.0005384652662979974\n",
      "No of Unique levels in vehicletype : 0.002423093698340988\n",
      "No of Unique levels in yearofregistration : 0.0417310581380948\n",
      "No of Unique levels in gearbox : 0.0008076978994469963\n",
      "No of Unique levels in powerps : 0.212155314921411\n",
      "No of Unique levels in model : 0.06784662355354769\n",
      "No of Unique levels in kilometer : 0.003500024230936983\n",
      "No of Unique levels in monthofregistration : 0.003500024230936983\n",
      "No of Unique levels in fueltype : 0.00215386106519199\n",
      "No of Unique levels in brand : 0.01076930532595995\n",
      "No of Unique levels in notrepaireddamage : 0.0005384652662979974\n",
      "No of Unique levels in datecreated : 0.03069252017898585\n",
      "No of Unique levels in nrofpictures : 0.0002692326331489987\n",
      "No of Unique levels in postalcode : 2.1942459601643396\n",
      "No of Unique levels in lastseen : 49.20468680167786\n"
     ]
    }
   ],
   "source": [
    "for col in data2.columns:\n",
    "    print(\"No of Unique levels in\",col,\":\",((len(data2[col].unique())/len(data2[col]))*100))"
   ]
  },
  {
   "cell_type": "code",
   "execution_count": 18,
   "metadata": {
    "colab": {
     "base_uri": "https://localhost:8080/"
    },
    "executionInfo": {
     "elapsed": 17,
     "status": "ok",
     "timestamp": 1624022844018,
     "user": {
      "displayName": "Pranav Gouthamm",
      "photoUrl": "https://lh3.googleusercontent.com/a-/AOh14GgTM9a0Bo5w3JrAUEWfKpj-dt1Bw3vI6q-17xEo=s64",
      "userId": "00245361475060007376"
     },
     "user_tz": -120
    },
    "id": "qHLKN_OX2VkR",
    "outputId": "074db2a4-502a-4758-aab1-1a6c50763c83"
   },
   "outputs": [
    {
     "data": {
      "text/plain": [
       "Index(['datecrawled', 'name', 'seller', 'offertype', 'price', 'abtest',\n",
       "       'vehicletype', 'yearofregistration', 'gearbox', 'powerps', 'model',\n",
       "       'kilometer', 'monthofregistration', 'fueltype', 'brand',\n",
       "       'notrepaireddamage', 'datecreated', 'nrofpictures', 'postalcode',\n",
       "       'lastseen'],\n",
       "      dtype='object')"
      ]
     },
     "execution_count": 18,
     "metadata": {},
     "output_type": "execute_result"
    }
   ],
   "source": [
    "data2.columns"
   ]
  },
  {
   "cell_type": "code",
   "execution_count": 19,
   "metadata": {
    "colab": {
     "base_uri": "https://localhost:8080/"
    },
    "executionInfo": {
     "elapsed": 197,
     "status": "ok",
     "timestamp": 1624022844208,
     "user": {
      "displayName": "Pranav Gouthamm",
      "photoUrl": "https://lh3.googleusercontent.com/a-/AOh14GgTM9a0Bo5w3JrAUEWfKpj-dt1Bw3vI6q-17xEo=s64",
      "userId": "00245361475060007376"
     },
     "user_tz": -120
    },
    "id": "hZfx2WPorR7z",
    "outputId": "5a9be7d9-1211-46b9-b9e9-5fe4f8bb4daf"
   },
   "outputs": [
    {
     "name": "stdout",
     "output_type": "stream",
     "text": [
      "----For seller----\n",
      "privat        0.999992\n",
      "gewerblich    0.000008\n",
      "Name: seller, dtype: float64\n",
      "----For vehicletype----\n",
      "limousine     0.287426\n",
      "kleinwagen    0.239870\n",
      "kombi         0.202507\n",
      "bus           0.090525\n",
      "cabrio        0.068626\n",
      "coupe         0.056914\n",
      "suv           0.044081\n",
      "andere        0.010051\n",
      "Name: vehicletype, dtype: float64\n",
      "----For yearofregistration----\n",
      "2000    0.066070\n",
      "1999    0.061288\n",
      "2005    0.060071\n",
      "2006    0.054455\n",
      "2001    0.054425\n",
      "          ...   \n",
      "4100    0.000003\n",
      "3500    0.000003\n",
      "1200    0.000003\n",
      "5300    0.000003\n",
      "2290    0.000003\n",
      "Name: yearofregistration, Length: 155, dtype: float64\n",
      "----For powerps----\n",
      "0        0.109823\n",
      "75       0.064699\n",
      "60       0.042821\n",
      "150      0.041575\n",
      "140      0.036575\n",
      "           ...   \n",
      "670      0.000003\n",
      "15001    0.000003\n",
      "9010     0.000003\n",
      "13616    0.000003\n",
      "1910     0.000003\n",
      "Name: powerps, Length: 788, dtype: float64\n",
      "----For model----\n",
      "golf               0.085649\n",
      "andere             0.075193\n",
      "3er                0.058593\n",
      "polo               0.037290\n",
      "corsa              0.035823\n",
      "                     ...   \n",
      "serie_2            0.000023\n",
      "rangerover         0.000017\n",
      "serie_3            0.000011\n",
      "serie_1            0.000006\n",
      "discovery_sport    0.000003\n",
      "Name: model, Length: 251, dtype: float64\n",
      "----For kilometer----\n",
      "150000    0.648172\n",
      "125000    0.102478\n",
      "100000    0.042848\n",
      "90000     0.033713\n",
      "80000     0.029756\n",
      "70000     0.026312\n",
      "60000     0.023337\n",
      "50000     0.020491\n",
      "5000      0.018959\n",
      "40000     0.017161\n",
      "30000     0.016262\n",
      "20000     0.015274\n",
      "10000     0.005237\n",
      "Name: kilometer, dtype: float64\n",
      "----For nrofpictures----\n",
      "False    1.0\n",
      "Name: nrofpictures, dtype: float64\n",
      "----For notrepaireddamage----\n",
      "0.0    0.902333\n",
      "1.0    0.097667\n",
      "Name: notrepaireddamage, dtype: float64\n"
     ]
    }
   ],
   "source": [
    "print(\"----For seller----\")\n",
    "print(data2.seller.value_counts(normalize=True))\n",
    "print(\"----For vehicletype----\")\n",
    "print(data2.vehicletype.value_counts(normalize=True))\n",
    "print(\"----For yearofregistration----\")\n",
    "print(data2.yearofregistration.value_counts(normalize=True))\n",
    "print(\"----For powerps----\")\n",
    "print(data2.powerps.value_counts(normalize=True))\n",
    "print(\"----For model----\")\n",
    "print(data2.model.value_counts(normalize=True))\n",
    "print(\"----For kilometer----\")\n",
    "print(data2.kilometer.value_counts(normalize=True))\n",
    "print(\"----For nrofpictures----\")\n",
    "print(data2.nrofpictures.value_counts(normalize=True))\n",
    "print(\"----For notrepaireddamage----\")\n",
    "print(data2.notrepaireddamage.value_counts(normalize=True))"
   ]
  },
  {
   "cell_type": "code",
   "execution_count": 20,
   "metadata": {
    "colab": {
     "base_uri": "https://localhost:8080/"
    },
    "executionInfo": {
     "elapsed": 305,
     "status": "ok",
     "timestamp": 1624022844495,
     "user": {
      "displayName": "Pranav Gouthamm",
      "photoUrl": "https://lh3.googleusercontent.com/a-/AOh14GgTM9a0Bo5w3JrAUEWfKpj-dt1Bw3vI6q-17xEo=s64",
      "userId": "00245361475060007376"
     },
     "user_tz": -120
    },
    "id": "saPYjvnJ3do3",
    "outputId": "ee8cad7e-ce76-4004-a95a-959d9b9f0987"
   },
   "outputs": [
    {
     "name": "stdout",
     "output_type": "stream",
     "text": [
      "----For yearofregistration----\n",
      "1000\n",
      "9999\n",
      "----For powerps----\n",
      "0\n",
      "20000\n",
      "----For kilometer----\n",
      "5000\n",
      "150000\n"
     ]
    }
   ],
   "source": [
    "print(\"----For yearofregistration----\")\n",
    "print(min(data2.yearofregistration))\n",
    "print(max(data2.yearofregistration))\n",
    "print(\"----For powerps----\")\n",
    "print(min(data2.powerps))\n",
    "print(max(data2.powerps))\n",
    "print(\"----For kilometer----\")\n",
    "print(min(data2.kilometer))\n",
    "print(max(data2.kilometer))"
   ]
  },
  {
   "cell_type": "code",
   "execution_count": 21,
   "metadata": {
    "executionInfo": {
     "elapsed": 19,
     "status": "ok",
     "timestamp": 1624022844503,
     "user": {
      "displayName": "Pranav Gouthamm",
      "photoUrl": "https://lh3.googleusercontent.com/a-/AOh14GgTM9a0Bo5w3JrAUEWfKpj-dt1Bw3vI6q-17xEo=s64",
      "userId": "00245361475060007376"
     },
     "user_tz": -120
    },
    "id": "cewuGUretRB3"
   },
   "outputs": [],
   "source": [
    "data2 = data2.drop(['seller','datecrawled','name','postalcode','abtest','lastseen','datecreated', 'nrofpictures'], axis=1)"
   ]
  },
  {
   "cell_type": "code",
   "execution_count": 22,
   "metadata": {
    "colab": {
     "base_uri": "https://localhost:8080/",
     "height": 203
    },
    "executionInfo": {
     "elapsed": 22,
     "status": "ok",
     "timestamp": 1624022844507,
     "user": {
      "displayName": "Pranav Gouthamm",
      "photoUrl": "https://lh3.googleusercontent.com/a-/AOh14GgTM9a0Bo5w3JrAUEWfKpj-dt1Bw3vI6q-17xEo=s64",
      "userId": "00245361475060007376"
     },
     "user_tz": -120
    },
    "id": "8jbqCvKguTVK",
    "outputId": "aa18a38c-7c13-41eb-8b60-29a251b8baee"
   },
   "outputs": [
    {
     "data": {
      "text/html": [
       "<div>\n",
       "<style scoped>\n",
       "    .dataframe tbody tr th:only-of-type {\n",
       "        vertical-align: middle;\n",
       "    }\n",
       "\n",
       "    .dataframe tbody tr th {\n",
       "        vertical-align: top;\n",
       "    }\n",
       "\n",
       "    .dataframe thead th {\n",
       "        text-align: right;\n",
       "    }\n",
       "</style>\n",
       "<table border=\"1\" class=\"dataframe\">\n",
       "  <thead>\n",
       "    <tr style=\"text-align: right;\">\n",
       "      <th></th>\n",
       "      <th>offertype</th>\n",
       "      <th>price</th>\n",
       "      <th>vehicletype</th>\n",
       "      <th>yearofregistration</th>\n",
       "      <th>gearbox</th>\n",
       "      <th>powerps</th>\n",
       "      <th>model</th>\n",
       "      <th>kilometer</th>\n",
       "      <th>monthofregistration</th>\n",
       "      <th>fueltype</th>\n",
       "      <th>brand</th>\n",
       "      <th>notrepaireddamage</th>\n",
       "    </tr>\n",
       "  </thead>\n",
       "  <tbody>\n",
       "    <tr>\n",
       "      <th>0</th>\n",
       "      <td>Angebot</td>\n",
       "      <td>480</td>\n",
       "      <td>NaN</td>\n",
       "      <td>1993</td>\n",
       "      <td>manuell</td>\n",
       "      <td>0</td>\n",
       "      <td>golf</td>\n",
       "      <td>150000</td>\n",
       "      <td>0</td>\n",
       "      <td>benzin</td>\n",
       "      <td>volkswagen</td>\n",
       "      <td>0.0</td>\n",
       "    </tr>\n",
       "    <tr>\n",
       "      <th>1</th>\n",
       "      <td>Angebot</td>\n",
       "      <td>18300</td>\n",
       "      <td>coupe</td>\n",
       "      <td>2011</td>\n",
       "      <td>manuell</td>\n",
       "      <td>190</td>\n",
       "      <td>NaN</td>\n",
       "      <td>125000</td>\n",
       "      <td>5</td>\n",
       "      <td>diesel</td>\n",
       "      <td>audi</td>\n",
       "      <td>1.0</td>\n",
       "    </tr>\n",
       "    <tr>\n",
       "      <th>2</th>\n",
       "      <td>Angebot</td>\n",
       "      <td>9800</td>\n",
       "      <td>suv</td>\n",
       "      <td>2004</td>\n",
       "      <td>automatik</td>\n",
       "      <td>163</td>\n",
       "      <td>grand</td>\n",
       "      <td>125000</td>\n",
       "      <td>8</td>\n",
       "      <td>diesel</td>\n",
       "      <td>jeep</td>\n",
       "      <td>0.0</td>\n",
       "    </tr>\n",
       "    <tr>\n",
       "      <th>3</th>\n",
       "      <td>Angebot</td>\n",
       "      <td>1500</td>\n",
       "      <td>kleinwagen</td>\n",
       "      <td>2001</td>\n",
       "      <td>manuell</td>\n",
       "      <td>75</td>\n",
       "      <td>golf</td>\n",
       "      <td>150000</td>\n",
       "      <td>6</td>\n",
       "      <td>benzin</td>\n",
       "      <td>volkswagen</td>\n",
       "      <td>0.0</td>\n",
       "    </tr>\n",
       "    <tr>\n",
       "      <th>4</th>\n",
       "      <td>Angebot</td>\n",
       "      <td>3600</td>\n",
       "      <td>kleinwagen</td>\n",
       "      <td>2008</td>\n",
       "      <td>manuell</td>\n",
       "      <td>69</td>\n",
       "      <td>fabia</td>\n",
       "      <td>90000</td>\n",
       "      <td>7</td>\n",
       "      <td>diesel</td>\n",
       "      <td>skoda</td>\n",
       "      <td>0.0</td>\n",
       "    </tr>\n",
       "  </tbody>\n",
       "</table>\n",
       "</div>"
      ],
      "text/plain": [
       "  offertype  price vehicletype  yearofregistration    gearbox  powerps  model  \\\n",
       "0   Angebot    480         NaN                1993    manuell        0   golf   \n",
       "1   Angebot  18300       coupe                2011    manuell      190    NaN   \n",
       "2   Angebot   9800         suv                2004  automatik      163  grand   \n",
       "3   Angebot   1500  kleinwagen                2001    manuell       75   golf   \n",
       "4   Angebot   3600  kleinwagen                2008    manuell       69  fabia   \n",
       "\n",
       "   kilometer  monthofregistration fueltype       brand  notrepaireddamage  \n",
       "0     150000                    0   benzin  volkswagen                0.0  \n",
       "1     125000                    5   diesel        audi                1.0  \n",
       "2     125000                    8   diesel        jeep                0.0  \n",
       "3     150000                    6   benzin  volkswagen                0.0  \n",
       "4      90000                    7   diesel       skoda                0.0  "
      ]
     },
     "execution_count": 22,
     "metadata": {},
     "output_type": "execute_result"
    }
   ],
   "source": [
    "data2.head()"
   ]
  },
  {
   "cell_type": "code",
   "execution_count": 23,
   "metadata": {
    "executionInfo": {
     "elapsed": 580,
     "status": "ok",
     "timestamp": 1624022845067,
     "user": {
      "displayName": "Pranav Gouthamm",
      "photoUrl": "https://lh3.googleusercontent.com/a-/AOh14GgTM9a0Bo5w3JrAUEWfKpj-dt1Bw3vI6q-17xEo=s64",
      "userId": "00245361475060007376"
     },
     "user_tz": -120
    },
    "id": "L_hM480pumLK"
   },
   "outputs": [],
   "source": [
    "data2 = data2.dropna().reset_index()"
   ]
  },
  {
   "cell_type": "code",
   "execution_count": 24,
   "metadata": {
    "colab": {
     "base_uri": "https://localhost:8080/"
    },
    "executionInfo": {
     "elapsed": 50,
     "status": "ok",
     "timestamp": 1624022845068,
     "user": {
      "displayName": "Pranav Gouthamm",
      "photoUrl": "https://lh3.googleusercontent.com/a-/AOh14GgTM9a0Bo5w3JrAUEWfKpj-dt1Bw3vI6q-17xEo=s64",
      "userId": "00245361475060007376"
     },
     "user_tz": -120
    },
    "id": "CpwjXDJ5u8Ym",
    "outputId": "f9b74421-1de3-400b-e5a3-6a86d9ae6bd6"
   },
   "outputs": [
    {
     "data": {
      "text/plain": [
       "(299827, 13)"
      ]
     },
     "execution_count": 24,
     "metadata": {},
     "output_type": "execute_result"
    }
   ],
   "source": [
    "data2.shape"
   ]
  },
  {
   "cell_type": "code",
   "execution_count": 25,
   "metadata": {
    "colab": {
     "base_uri": "https://localhost:8080/",
     "height": 417
    },
    "executionInfo": {
     "elapsed": 39,
     "status": "ok",
     "timestamp": 1624022845071,
     "user": {
      "displayName": "Pranav Gouthamm",
      "photoUrl": "https://lh3.googleusercontent.com/a-/AOh14GgTM9a0Bo5w3JrAUEWfKpj-dt1Bw3vI6q-17xEo=s64",
      "userId": "00245361475060007376"
     },
     "user_tz": -120
    },
    "id": "ye6II1H2UU8Z",
    "outputId": "e240d929-e76a-48e4-8fd8-5a23d198925e"
   },
   "outputs": [
    {
     "data": {
      "text/html": [
       "<div>\n",
       "<style scoped>\n",
       "    .dataframe tbody tr th:only-of-type {\n",
       "        vertical-align: middle;\n",
       "    }\n",
       "\n",
       "    .dataframe tbody tr th {\n",
       "        vertical-align: top;\n",
       "    }\n",
       "\n",
       "    .dataframe thead th {\n",
       "        text-align: right;\n",
       "    }\n",
       "</style>\n",
       "<table border=\"1\" class=\"dataframe\">\n",
       "  <thead>\n",
       "    <tr style=\"text-align: right;\">\n",
       "      <th></th>\n",
       "      <th>index</th>\n",
       "      <th>offertype</th>\n",
       "      <th>price</th>\n",
       "      <th>vehicletype</th>\n",
       "      <th>yearofregistration</th>\n",
       "      <th>gearbox</th>\n",
       "      <th>powerps</th>\n",
       "      <th>model</th>\n",
       "      <th>kilometer</th>\n",
       "      <th>monthofregistration</th>\n",
       "      <th>fueltype</th>\n",
       "      <th>brand</th>\n",
       "      <th>notrepaireddamage</th>\n",
       "    </tr>\n",
       "  </thead>\n",
       "  <tbody>\n",
       "    <tr>\n",
       "      <th>0</th>\n",
       "      <td>2</td>\n",
       "      <td>Angebot</td>\n",
       "      <td>9800</td>\n",
       "      <td>suv</td>\n",
       "      <td>2004</td>\n",
       "      <td>automatik</td>\n",
       "      <td>163</td>\n",
       "      <td>grand</td>\n",
       "      <td>125000</td>\n",
       "      <td>8</td>\n",
       "      <td>diesel</td>\n",
       "      <td>jeep</td>\n",
       "      <td>0.0</td>\n",
       "    </tr>\n",
       "    <tr>\n",
       "      <th>1</th>\n",
       "      <td>3</td>\n",
       "      <td>Angebot</td>\n",
       "      <td>1500</td>\n",
       "      <td>kleinwagen</td>\n",
       "      <td>2001</td>\n",
       "      <td>manuell</td>\n",
       "      <td>75</td>\n",
       "      <td>golf</td>\n",
       "      <td>150000</td>\n",
       "      <td>6</td>\n",
       "      <td>benzin</td>\n",
       "      <td>volkswagen</td>\n",
       "      <td>0.0</td>\n",
       "    </tr>\n",
       "    <tr>\n",
       "      <th>2</th>\n",
       "      <td>4</td>\n",
       "      <td>Angebot</td>\n",
       "      <td>3600</td>\n",
       "      <td>kleinwagen</td>\n",
       "      <td>2008</td>\n",
       "      <td>manuell</td>\n",
       "      <td>69</td>\n",
       "      <td>fabia</td>\n",
       "      <td>90000</td>\n",
       "      <td>7</td>\n",
       "      <td>diesel</td>\n",
       "      <td>skoda</td>\n",
       "      <td>0.0</td>\n",
       "    </tr>\n",
       "    <tr>\n",
       "      <th>3</th>\n",
       "      <td>5</td>\n",
       "      <td>Angebot</td>\n",
       "      <td>650</td>\n",
       "      <td>limousine</td>\n",
       "      <td>1995</td>\n",
       "      <td>manuell</td>\n",
       "      <td>102</td>\n",
       "      <td>3er</td>\n",
       "      <td>150000</td>\n",
       "      <td>10</td>\n",
       "      <td>benzin</td>\n",
       "      <td>bmw</td>\n",
       "      <td>1.0</td>\n",
       "    </tr>\n",
       "    <tr>\n",
       "      <th>4</th>\n",
       "      <td>6</td>\n",
       "      <td>Angebot</td>\n",
       "      <td>2200</td>\n",
       "      <td>cabrio</td>\n",
       "      <td>2004</td>\n",
       "      <td>manuell</td>\n",
       "      <td>109</td>\n",
       "      <td>2_reihe</td>\n",
       "      <td>150000</td>\n",
       "      <td>8</td>\n",
       "      <td>benzin</td>\n",
       "      <td>peugeot</td>\n",
       "      <td>0.0</td>\n",
       "    </tr>\n",
       "    <tr>\n",
       "      <th>...</th>\n",
       "      <td>...</td>\n",
       "      <td>...</td>\n",
       "      <td>...</td>\n",
       "      <td>...</td>\n",
       "      <td>...</td>\n",
       "      <td>...</td>\n",
       "      <td>...</td>\n",
       "      <td>...</td>\n",
       "      <td>...</td>\n",
       "      <td>...</td>\n",
       "      <td>...</td>\n",
       "      <td>...</td>\n",
       "      <td>...</td>\n",
       "    </tr>\n",
       "    <tr>\n",
       "      <th>299822</th>\n",
       "      <td>371521</td>\n",
       "      <td>Angebot</td>\n",
       "      <td>1150</td>\n",
       "      <td>bus</td>\n",
       "      <td>2000</td>\n",
       "      <td>manuell</td>\n",
       "      <td>0</td>\n",
       "      <td>zafira</td>\n",
       "      <td>150000</td>\n",
       "      <td>3</td>\n",
       "      <td>benzin</td>\n",
       "      <td>opel</td>\n",
       "      <td>0.0</td>\n",
       "    </tr>\n",
       "    <tr>\n",
       "      <th>299823</th>\n",
       "      <td>371524</td>\n",
       "      <td>Angebot</td>\n",
       "      <td>1199</td>\n",
       "      <td>cabrio</td>\n",
       "      <td>2000</td>\n",
       "      <td>automatik</td>\n",
       "      <td>101</td>\n",
       "      <td>fortwo</td>\n",
       "      <td>125000</td>\n",
       "      <td>3</td>\n",
       "      <td>benzin</td>\n",
       "      <td>smart</td>\n",
       "      <td>0.0</td>\n",
       "    </tr>\n",
       "    <tr>\n",
       "      <th>299824</th>\n",
       "      <td>371525</td>\n",
       "      <td>Angebot</td>\n",
       "      <td>9200</td>\n",
       "      <td>bus</td>\n",
       "      <td>1996</td>\n",
       "      <td>manuell</td>\n",
       "      <td>102</td>\n",
       "      <td>transporter</td>\n",
       "      <td>150000</td>\n",
       "      <td>3</td>\n",
       "      <td>diesel</td>\n",
       "      <td>volkswagen</td>\n",
       "      <td>0.0</td>\n",
       "    </tr>\n",
       "    <tr>\n",
       "      <th>299825</th>\n",
       "      <td>371526</td>\n",
       "      <td>Angebot</td>\n",
       "      <td>3400</td>\n",
       "      <td>kombi</td>\n",
       "      <td>2002</td>\n",
       "      <td>manuell</td>\n",
       "      <td>100</td>\n",
       "      <td>golf</td>\n",
       "      <td>150000</td>\n",
       "      <td>6</td>\n",
       "      <td>diesel</td>\n",
       "      <td>volkswagen</td>\n",
       "      <td>0.0</td>\n",
       "    </tr>\n",
       "    <tr>\n",
       "      <th>299826</th>\n",
       "      <td>371527</td>\n",
       "      <td>Angebot</td>\n",
       "      <td>28990</td>\n",
       "      <td>limousine</td>\n",
       "      <td>2013</td>\n",
       "      <td>manuell</td>\n",
       "      <td>320</td>\n",
       "      <td>m_reihe</td>\n",
       "      <td>50000</td>\n",
       "      <td>8</td>\n",
       "      <td>benzin</td>\n",
       "      <td>bmw</td>\n",
       "      <td>0.0</td>\n",
       "    </tr>\n",
       "  </tbody>\n",
       "</table>\n",
       "<p>299827 rows × 13 columns</p>\n",
       "</div>"
      ],
      "text/plain": [
       "         index offertype  price vehicletype  yearofregistration    gearbox  \\\n",
       "0            2   Angebot   9800         suv                2004  automatik   \n",
       "1            3   Angebot   1500  kleinwagen                2001    manuell   \n",
       "2            4   Angebot   3600  kleinwagen                2008    manuell   \n",
       "3            5   Angebot    650   limousine                1995    manuell   \n",
       "4            6   Angebot   2200      cabrio                2004    manuell   \n",
       "...        ...       ...    ...         ...                 ...        ...   \n",
       "299822  371521   Angebot   1150         bus                2000    manuell   \n",
       "299823  371524   Angebot   1199      cabrio                2000  automatik   \n",
       "299824  371525   Angebot   9200         bus                1996    manuell   \n",
       "299825  371526   Angebot   3400       kombi                2002    manuell   \n",
       "299826  371527   Angebot  28990   limousine                2013    manuell   \n",
       "\n",
       "        powerps        model  kilometer  monthofregistration fueltype  \\\n",
       "0           163        grand     125000                    8   diesel   \n",
       "1            75         golf     150000                    6   benzin   \n",
       "2            69        fabia      90000                    7   diesel   \n",
       "3           102          3er     150000                   10   benzin   \n",
       "4           109      2_reihe     150000                    8   benzin   \n",
       "...         ...          ...        ...                  ...      ...   \n",
       "299822        0       zafira     150000                    3   benzin   \n",
       "299823      101       fortwo     125000                    3   benzin   \n",
       "299824      102  transporter     150000                    3   diesel   \n",
       "299825      100         golf     150000                    6   diesel   \n",
       "299826      320      m_reihe      50000                    8   benzin   \n",
       "\n",
       "             brand  notrepaireddamage  \n",
       "0             jeep                0.0  \n",
       "1       volkswagen                0.0  \n",
       "2            skoda                0.0  \n",
       "3              bmw                1.0  \n",
       "4          peugeot                0.0  \n",
       "...            ...                ...  \n",
       "299822        opel                0.0  \n",
       "299823       smart                0.0  \n",
       "299824  volkswagen                0.0  \n",
       "299825  volkswagen                0.0  \n",
       "299826         bmw                0.0  \n",
       "\n",
       "[299827 rows x 13 columns]"
      ]
     },
     "execution_count": 25,
     "metadata": {},
     "output_type": "execute_result"
    }
   ],
   "source": [
    "data2"
   ]
  },
  {
   "cell_type": "code",
   "execution_count": 26,
   "metadata": {
    "colab": {
     "base_uri": "https://localhost:8080/"
    },
    "executionInfo": {
     "elapsed": 35,
     "status": "ok",
     "timestamp": 1624022845072,
     "user": {
      "displayName": "Pranav Gouthamm",
      "photoUrl": "https://lh3.googleusercontent.com/a-/AOh14GgTM9a0Bo5w3JrAUEWfKpj-dt1Bw3vI6q-17xEo=s64",
      "userId": "00245361475060007376"
     },
     "user_tz": -120
    },
    "id": "Y2zUZvH_vCRo",
    "outputId": "a608868e-ddb8-4e55-9671-fa172f10ed6e"
   },
   "outputs": [
    {
     "data": {
      "text/plain": [
       "71701"
      ]
     },
     "execution_count": 26,
     "metadata": {},
     "output_type": "execute_result"
    }
   ],
   "source": [
    "data1.shape[0]-data2.shape[0]"
   ]
  },
  {
   "cell_type": "code",
   "execution_count": 27,
   "metadata": {
    "colab": {
     "base_uri": "https://localhost:8080/"
    },
    "executionInfo": {
     "elapsed": 28,
     "status": "ok",
     "timestamp": 1624022845075,
     "user": {
      "displayName": "Pranav Gouthamm",
      "photoUrl": "https://lh3.googleusercontent.com/a-/AOh14GgTM9a0Bo5w3JrAUEWfKpj-dt1Bw3vI6q-17xEo=s64",
      "userId": "00245361475060007376"
     },
     "user_tz": -120
    },
    "id": "dhfXMWZF6e5-",
    "outputId": "17f66baa-3620-4edd-f646-5303f6443807"
   },
   "outputs": [
    {
     "data": {
      "text/plain": [
       "7"
      ]
     },
     "execution_count": 27,
     "metadata": {},
     "output_type": "execute_result"
    }
   ],
   "source": [
    "data1.shape[1]-data2.shape[1]"
   ]
  },
  {
   "cell_type": "code",
   "execution_count": 28,
   "metadata": {
    "colab": {
     "base_uri": "https://localhost:8080/",
     "height": 408
    },
    "executionInfo": {
     "elapsed": 394,
     "status": "ok",
     "timestamp": 1624022845450,
     "user": {
      "displayName": "Pranav Gouthamm",
      "photoUrl": "https://lh3.googleusercontent.com/a-/AOh14GgTM9a0Bo5w3JrAUEWfKpj-dt1Bw3vI6q-17xEo=s64",
      "userId": "00245361475060007376"
     },
     "user_tz": -120
    },
    "id": "ypunnOKgGHLq",
    "outputId": "7b5f062b-3984-4893-d2a8-69ad4a5e9893"
   },
   "outputs": [
    {
     "data": {
      "text/html": [
       "<div>\n",
       "<style scoped>\n",
       "    .dataframe tbody tr th:only-of-type {\n",
       "        vertical-align: middle;\n",
       "    }\n",
       "\n",
       "    .dataframe tbody tr th {\n",
       "        vertical-align: top;\n",
       "    }\n",
       "\n",
       "    .dataframe thead th {\n",
       "        text-align: right;\n",
       "    }\n",
       "</style>\n",
       "<table border=\"1\" class=\"dataframe\">\n",
       "  <thead>\n",
       "    <tr style=\"text-align: right;\">\n",
       "      <th></th>\n",
       "      <th>index</th>\n",
       "      <th>offertype</th>\n",
       "      <th>price</th>\n",
       "      <th>vehicletype</th>\n",
       "      <th>yearofregistration</th>\n",
       "      <th>gearbox</th>\n",
       "      <th>powerps</th>\n",
       "      <th>model</th>\n",
       "      <th>kilometer</th>\n",
       "      <th>monthofregistration</th>\n",
       "      <th>fueltype</th>\n",
       "      <th>brand</th>\n",
       "      <th>notrepaireddamage</th>\n",
       "    </tr>\n",
       "  </thead>\n",
       "  <tbody>\n",
       "    <tr>\n",
       "      <th>count</th>\n",
       "      <td>299827.000000</td>\n",
       "      <td>299827</td>\n",
       "      <td>299827.000000</td>\n",
       "      <td>299827</td>\n",
       "      <td>299827.000000</td>\n",
       "      <td>299827</td>\n",
       "      <td>299827.000000</td>\n",
       "      <td>299827</td>\n",
       "      <td>299827.000000</td>\n",
       "      <td>299827.000000</td>\n",
       "      <td>299827</td>\n",
       "      <td>299827</td>\n",
       "      <td>299827.000000</td>\n",
       "    </tr>\n",
       "    <tr>\n",
       "      <th>unique</th>\n",
       "      <td>NaN</td>\n",
       "      <td>2</td>\n",
       "      <td>NaN</td>\n",
       "      <td>8</td>\n",
       "      <td>NaN</td>\n",
       "      <td>2</td>\n",
       "      <td>NaN</td>\n",
       "      <td>251</td>\n",
       "      <td>NaN</td>\n",
       "      <td>NaN</td>\n",
       "      <td>7</td>\n",
       "      <td>39</td>\n",
       "      <td>NaN</td>\n",
       "    </tr>\n",
       "    <tr>\n",
       "      <th>top</th>\n",
       "      <td>NaN</td>\n",
       "      <td>Angebot</td>\n",
       "      <td>NaN</td>\n",
       "      <td>limousine</td>\n",
       "      <td>NaN</td>\n",
       "      <td>manuell</td>\n",
       "      <td>NaN</td>\n",
       "      <td>golf</td>\n",
       "      <td>NaN</td>\n",
       "      <td>NaN</td>\n",
       "      <td>benzin</td>\n",
       "      <td>volkswagen</td>\n",
       "      <td>NaN</td>\n",
       "    </tr>\n",
       "    <tr>\n",
       "      <th>freq</th>\n",
       "      <td>NaN</td>\n",
       "      <td>299823</td>\n",
       "      <td>NaN</td>\n",
       "      <td>87291</td>\n",
       "      <td>NaN</td>\n",
       "      <td>231683</td>\n",
       "      <td>NaN</td>\n",
       "      <td>24355</td>\n",
       "      <td>NaN</td>\n",
       "      <td>NaN</td>\n",
       "      <td>196683</td>\n",
       "      <td>63067</td>\n",
       "      <td>NaN</td>\n",
       "    </tr>\n",
       "    <tr>\n",
       "      <th>mean</th>\n",
       "      <td>185748.340813</td>\n",
       "      <td>NaN</td>\n",
       "      <td>6275.947553</td>\n",
       "      <td>NaN</td>\n",
       "      <td>2002.935116</td>\n",
       "      <td>NaN</td>\n",
       "      <td>123.522341</td>\n",
       "      <td>NaN</td>\n",
       "      <td>125315.181755</td>\n",
       "      <td>6.079349</td>\n",
       "      <td>NaN</td>\n",
       "      <td>NaN</td>\n",
       "      <td>0.093411</td>\n",
       "    </tr>\n",
       "    <tr>\n",
       "      <th>std</th>\n",
       "      <td>107248.274489</td>\n",
       "      <td>NaN</td>\n",
       "      <td>8950.823880</td>\n",
       "      <td>NaN</td>\n",
       "      <td>6.577648</td>\n",
       "      <td>NaN</td>\n",
       "      <td>172.034165</td>\n",
       "      <td>NaN</td>\n",
       "      <td>39339.320644</td>\n",
       "      <td>3.537881</td>\n",
       "      <td>NaN</td>\n",
       "      <td>NaN</td>\n",
       "      <td>0.291007</td>\n",
       "    </tr>\n",
       "    <tr>\n",
       "      <th>min</th>\n",
       "      <td>2.000000</td>\n",
       "      <td>NaN</td>\n",
       "      <td>0.000000</td>\n",
       "      <td>NaN</td>\n",
       "      <td>1910.000000</td>\n",
       "      <td>NaN</td>\n",
       "      <td>0.000000</td>\n",
       "      <td>NaN</td>\n",
       "      <td>5000.000000</td>\n",
       "      <td>0.000000</td>\n",
       "      <td>NaN</td>\n",
       "      <td>NaN</td>\n",
       "      <td>0.000000</td>\n",
       "    </tr>\n",
       "    <tr>\n",
       "      <th>25%</th>\n",
       "      <td>92870.500000</td>\n",
       "      <td>NaN</td>\n",
       "      <td>1400.000000</td>\n",
       "      <td>NaN</td>\n",
       "      <td>1999.000000</td>\n",
       "      <td>NaN</td>\n",
       "      <td>75.000000</td>\n",
       "      <td>NaN</td>\n",
       "      <td>100000.000000</td>\n",
       "      <td>3.000000</td>\n",
       "      <td>NaN</td>\n",
       "      <td>NaN</td>\n",
       "      <td>0.000000</td>\n",
       "    </tr>\n",
       "    <tr>\n",
       "      <th>50%</th>\n",
       "      <td>185719.000000</td>\n",
       "      <td>NaN</td>\n",
       "      <td>3500.000000</td>\n",
       "      <td>NaN</td>\n",
       "      <td>2003.000000</td>\n",
       "      <td>NaN</td>\n",
       "      <td>114.000000</td>\n",
       "      <td>NaN</td>\n",
       "      <td>150000.000000</td>\n",
       "      <td>6.000000</td>\n",
       "      <td>NaN</td>\n",
       "      <td>NaN</td>\n",
       "      <td>0.000000</td>\n",
       "    </tr>\n",
       "    <tr>\n",
       "      <th>75%</th>\n",
       "      <td>278591.500000</td>\n",
       "      <td>NaN</td>\n",
       "      <td>7999.000000</td>\n",
       "      <td>NaN</td>\n",
       "      <td>2007.000000</td>\n",
       "      <td>NaN</td>\n",
       "      <td>150.000000</td>\n",
       "      <td>NaN</td>\n",
       "      <td>150000.000000</td>\n",
       "      <td>9.000000</td>\n",
       "      <td>NaN</td>\n",
       "      <td>NaN</td>\n",
       "      <td>0.000000</td>\n",
       "    </tr>\n",
       "    <tr>\n",
       "      <th>max</th>\n",
       "      <td>371527.000000</td>\n",
       "      <td>NaN</td>\n",
       "      <td>488997.000000</td>\n",
       "      <td>NaN</td>\n",
       "      <td>2018.000000</td>\n",
       "      <td>NaN</td>\n",
       "      <td>20000.000000</td>\n",
       "      <td>NaN</td>\n",
       "      <td>150000.000000</td>\n",
       "      <td>12.000000</td>\n",
       "      <td>NaN</td>\n",
       "      <td>NaN</td>\n",
       "      <td>1.000000</td>\n",
       "    </tr>\n",
       "  </tbody>\n",
       "</table>\n",
       "</div>"
      ],
      "text/plain": [
       "                index offertype          price vehicletype  \\\n",
       "count   299827.000000    299827  299827.000000      299827   \n",
       "unique            NaN         2            NaN           8   \n",
       "top               NaN   Angebot            NaN   limousine   \n",
       "freq              NaN    299823            NaN       87291   \n",
       "mean    185748.340813       NaN    6275.947553         NaN   \n",
       "std     107248.274489       NaN    8950.823880         NaN   \n",
       "min          2.000000       NaN       0.000000         NaN   \n",
       "25%      92870.500000       NaN    1400.000000         NaN   \n",
       "50%     185719.000000       NaN    3500.000000         NaN   \n",
       "75%     278591.500000       NaN    7999.000000         NaN   \n",
       "max     371527.000000       NaN  488997.000000         NaN   \n",
       "\n",
       "        yearofregistration  gearbox        powerps   model      kilometer  \\\n",
       "count        299827.000000   299827  299827.000000  299827  299827.000000   \n",
       "unique                 NaN        2            NaN     251            NaN   \n",
       "top                    NaN  manuell            NaN    golf            NaN   \n",
       "freq                   NaN   231683            NaN   24355            NaN   \n",
       "mean           2002.935116      NaN     123.522341     NaN  125315.181755   \n",
       "std               6.577648      NaN     172.034165     NaN   39339.320644   \n",
       "min            1910.000000      NaN       0.000000     NaN    5000.000000   \n",
       "25%            1999.000000      NaN      75.000000     NaN  100000.000000   \n",
       "50%            2003.000000      NaN     114.000000     NaN  150000.000000   \n",
       "75%            2007.000000      NaN     150.000000     NaN  150000.000000   \n",
       "max            2018.000000      NaN   20000.000000     NaN  150000.000000   \n",
       "\n",
       "        monthofregistration fueltype       brand  notrepaireddamage  \n",
       "count         299827.000000   299827      299827      299827.000000  \n",
       "unique                  NaN        7          39                NaN  \n",
       "top                     NaN   benzin  volkswagen                NaN  \n",
       "freq                    NaN   196683       63067                NaN  \n",
       "mean               6.079349      NaN         NaN           0.093411  \n",
       "std                3.537881      NaN         NaN           0.291007  \n",
       "min                0.000000      NaN         NaN           0.000000  \n",
       "25%                3.000000      NaN         NaN           0.000000  \n",
       "50%                6.000000      NaN         NaN           0.000000  \n",
       "75%                9.000000      NaN         NaN           0.000000  \n",
       "max               12.000000      NaN         NaN           1.000000  "
      ]
     },
     "execution_count": 28,
     "metadata": {},
     "output_type": "execute_result"
    }
   ],
   "source": [
    "data2.describe(include='all')"
   ]
  },
  {
   "cell_type": "markdown",
   "metadata": {
    "id": "5cXaK14V6lvN"
   },
   "source": [
    "# Observations\n",
    "\n",
    "\n",
    "\n",
    "*   **outlier check for yearofregistration**\n",
    "*   **outlier check for powerps**\n",
    "*   **filter models**\n",
    "*   **filter registration month**\n",
    "*   ***review brand values***\n",
    "\n",
    "\n",
    "\n",
    "\n",
    "\n"
   ]
  },
  {
   "cell_type": "code",
   "execution_count": 29,
   "metadata": {
    "executionInfo": {
     "elapsed": 50,
     "status": "ok",
     "timestamp": 1624022845454,
     "user": {
      "displayName": "Pranav Gouthamm",
      "photoUrl": "https://lh3.googleusercontent.com/a-/AOh14GgTM9a0Bo5w3JrAUEWfKpj-dt1Bw3vI6q-17xEo=s64",
      "userId": "00245361475060007376"
     },
     "user_tz": -120
    },
    "id": "ABkQzf9AzX7U"
   },
   "outputs": [],
   "source": [
    "models = pd.DataFrame(data2['model'])"
   ]
  },
  {
   "cell_type": "code",
   "execution_count": 30,
   "metadata": {
    "colab": {
     "base_uri": "https://localhost:8080/",
     "height": 357
    },
    "executionInfo": {
     "elapsed": 50,
     "status": "ok",
     "timestamp": 1624022845456,
     "user": {
      "displayName": "Pranav Gouthamm",
      "photoUrl": "https://lh3.googleusercontent.com/a-/AOh14GgTM9a0Bo5w3JrAUEWfKpj-dt1Bw3vI6q-17xEo=s64",
      "userId": "00245361475060007376"
     },
     "user_tz": -120
    },
    "id": "z59lG4EgzdIf",
    "outputId": "7f5b54ab-526c-4fbd-b51d-039733bb5690"
   },
   "outputs": [
    {
     "data": {
      "text/html": [
       "<div>\n",
       "<style scoped>\n",
       "    .dataframe tbody tr th:only-of-type {\n",
       "        vertical-align: middle;\n",
       "    }\n",
       "\n",
       "    .dataframe tbody tr th {\n",
       "        vertical-align: top;\n",
       "    }\n",
       "\n",
       "    .dataframe thead th {\n",
       "        text-align: right;\n",
       "    }\n",
       "</style>\n",
       "<table border=\"1\" class=\"dataframe\">\n",
       "  <thead>\n",
       "    <tr style=\"text-align: right;\">\n",
       "      <th></th>\n",
       "      <th>model</th>\n",
       "    </tr>\n",
       "  </thead>\n",
       "  <tbody>\n",
       "    <tr>\n",
       "      <th>51134</th>\n",
       "      <td>polo</td>\n",
       "    </tr>\n",
       "    <tr>\n",
       "      <th>61879</th>\n",
       "      <td>corsa</td>\n",
       "    </tr>\n",
       "    <tr>\n",
       "      <th>22415</th>\n",
       "      <td>lupo</td>\n",
       "    </tr>\n",
       "    <tr>\n",
       "      <th>14594</th>\n",
       "      <td>3er</td>\n",
       "    </tr>\n",
       "    <tr>\n",
       "      <th>158459</th>\n",
       "      <td>golf</td>\n",
       "    </tr>\n",
       "    <tr>\n",
       "      <th>126659</th>\n",
       "      <td>a4</td>\n",
       "    </tr>\n",
       "    <tr>\n",
       "      <th>29175</th>\n",
       "      <td>golf</td>\n",
       "    </tr>\n",
       "    <tr>\n",
       "      <th>104327</th>\n",
       "      <td>3er</td>\n",
       "    </tr>\n",
       "    <tr>\n",
       "      <th>260348</th>\n",
       "      <td>polo</td>\n",
       "    </tr>\n",
       "    <tr>\n",
       "      <th>98713</th>\n",
       "      <td>corsa</td>\n",
       "    </tr>\n",
       "  </tbody>\n",
       "</table>\n",
       "</div>"
      ],
      "text/plain": [
       "        model\n",
       "51134    polo\n",
       "61879   corsa\n",
       "22415    lupo\n",
       "14594     3er\n",
       "158459   golf\n",
       "126659     a4\n",
       "29175    golf\n",
       "104327    3er\n",
       "260348   polo\n",
       "98713   corsa"
      ]
     },
     "execution_count": 30,
     "metadata": {},
     "output_type": "execute_result"
    }
   ],
   "source": [
    "models.sample(10)"
   ]
  },
  {
   "cell_type": "code",
   "execution_count": 31,
   "metadata": {
    "executionInfo": {
     "elapsed": 49,
     "status": "ok",
     "timestamp": 1624022845458,
     "user": {
      "displayName": "Pranav Gouthamm",
      "photoUrl": "https://lh3.googleusercontent.com/a-/AOh14GgTM9a0Bo5w3JrAUEWfKpj-dt1Bw3vI6q-17xEo=s64",
      "userId": "00245361475060007376"
     },
     "user_tz": -120
    },
    "id": "eytIZA7UzedV"
   },
   "outputs": [],
   "source": [
    "brand = pd.DataFrame(data2['brand'])"
   ]
  },
  {
   "cell_type": "code",
   "execution_count": 32,
   "metadata": {
    "colab": {
     "base_uri": "https://localhost:8080/",
     "height": 357
    },
    "executionInfo": {
     "elapsed": 50,
     "status": "ok",
     "timestamp": 1624022845460,
     "user": {
      "displayName": "Pranav Gouthamm",
      "photoUrl": "https://lh3.googleusercontent.com/a-/AOh14GgTM9a0Bo5w3JrAUEWfKpj-dt1Bw3vI6q-17xEo=s64",
      "userId": "00245361475060007376"
     },
     "user_tz": -120
    },
    "id": "9yvoMIYt1rG1",
    "outputId": "1b56af72-955d-4bca-8819-c3c9205d4259"
   },
   "outputs": [
    {
     "data": {
      "text/html": [
       "<div>\n",
       "<style scoped>\n",
       "    .dataframe tbody tr th:only-of-type {\n",
       "        vertical-align: middle;\n",
       "    }\n",
       "\n",
       "    .dataframe tbody tr th {\n",
       "        vertical-align: top;\n",
       "    }\n",
       "\n",
       "    .dataframe thead th {\n",
       "        text-align: right;\n",
       "    }\n",
       "</style>\n",
       "<table border=\"1\" class=\"dataframe\">\n",
       "  <thead>\n",
       "    <tr style=\"text-align: right;\">\n",
       "      <th></th>\n",
       "      <th>brand</th>\n",
       "    </tr>\n",
       "  </thead>\n",
       "  <tbody>\n",
       "    <tr>\n",
       "      <th>261443</th>\n",
       "      <td>renault</td>\n",
       "    </tr>\n",
       "    <tr>\n",
       "      <th>65609</th>\n",
       "      <td>ford</td>\n",
       "    </tr>\n",
       "    <tr>\n",
       "      <th>268269</th>\n",
       "      <td>opel</td>\n",
       "    </tr>\n",
       "    <tr>\n",
       "      <th>15507</th>\n",
       "      <td>citroen</td>\n",
       "    </tr>\n",
       "    <tr>\n",
       "      <th>250837</th>\n",
       "      <td>bmw</td>\n",
       "    </tr>\n",
       "    <tr>\n",
       "      <th>30845</th>\n",
       "      <td>audi</td>\n",
       "    </tr>\n",
       "    <tr>\n",
       "      <th>8548</th>\n",
       "      <td>audi</td>\n",
       "    </tr>\n",
       "    <tr>\n",
       "      <th>102886</th>\n",
       "      <td>mercedes_benz</td>\n",
       "    </tr>\n",
       "    <tr>\n",
       "      <th>284975</th>\n",
       "      <td>volkswagen</td>\n",
       "    </tr>\n",
       "    <tr>\n",
       "      <th>21376</th>\n",
       "      <td>volkswagen</td>\n",
       "    </tr>\n",
       "  </tbody>\n",
       "</table>\n",
       "</div>"
      ],
      "text/plain": [
       "                brand\n",
       "261443        renault\n",
       "65609            ford\n",
       "268269           opel\n",
       "15507         citroen\n",
       "250837            bmw\n",
       "30845            audi\n",
       "8548             audi\n",
       "102886  mercedes_benz\n",
       "284975     volkswagen\n",
       "21376      volkswagen"
      ]
     },
     "execution_count": 32,
     "metadata": {},
     "output_type": "execute_result"
    }
   ],
   "source": [
    "brand.sample(10)"
   ]
  },
  {
   "cell_type": "code",
   "execution_count": 33,
   "metadata": {
    "colab": {
     "base_uri": "https://localhost:8080/"
    },
    "executionInfo": {
     "elapsed": 586,
     "status": "ok",
     "timestamp": 1624022846000,
     "user": {
      "displayName": "Pranav Gouthamm",
      "photoUrl": "https://lh3.googleusercontent.com/a-/AOh14GgTM9a0Bo5w3JrAUEWfKpj-dt1Bw3vI6q-17xEo=s64",
      "userId": "00245361475060007376"
     },
     "user_tz": -120
    },
    "id": "jNvfLy2G1sr4",
    "outputId": "32cb430e-dadd-411e-b3c2-67d87aee5589"
   },
   "outputs": [
    {
     "name": "stdout",
     "output_type": "stream",
     "text": [
      "39\n"
     ]
    },
    {
     "data": {
      "text/plain": [
       "['jeep',\n",
       " 'volkswagen',\n",
       " 'skoda',\n",
       " 'bmw',\n",
       " 'peugeot',\n",
       " 'ford',\n",
       " 'mazda',\n",
       " 'nissan',\n",
       " 'renault',\n",
       " 'mercedes_benz',\n",
       " 'seat',\n",
       " 'honda',\n",
       " 'fiat',\n",
       " 'mini',\n",
       " 'smart',\n",
       " 'opel',\n",
       " 'audi',\n",
       " 'alfa_romeo',\n",
       " 'subaru',\n",
       " 'volvo',\n",
       " 'mitsubishi',\n",
       " 'hyundai',\n",
       " 'kia',\n",
       " 'suzuki',\n",
       " 'lancia',\n",
       " 'porsche',\n",
       " 'citroen',\n",
       " 'toyota',\n",
       " 'chevrolet',\n",
       " 'dacia',\n",
       " 'daihatsu',\n",
       " 'chrysler',\n",
       " 'jaguar',\n",
       " 'rover',\n",
       " 'saab',\n",
       " 'daewoo',\n",
       " 'land_rover',\n",
       " 'trabant',\n",
       " 'lada']"
      ]
     },
     "execution_count": 33,
     "metadata": {},
     "output_type": "execute_result"
    }
   ],
   "source": [
    "brandlist = data2.brand.unique().tolist()\n",
    "print(len(brandlist))\n",
    "brandlist"
   ]
  },
  {
   "cell_type": "code",
   "execution_count": 34,
   "metadata": {
    "colab": {
     "base_uri": "https://localhost:8080/"
    },
    "executionInfo": {
     "elapsed": 76,
     "status": "ok",
     "timestamp": 1624022846005,
     "user": {
      "displayName": "Pranav Gouthamm",
      "photoUrl": "https://lh3.googleusercontent.com/a-/AOh14GgTM9a0Bo5w3JrAUEWfKpj-dt1Bw3vI6q-17xEo=s64",
      "userId": "00245361475060007376"
     },
     "user_tz": -120
    },
    "id": "gj5zr0A55Qpu",
    "outputId": "b5407f3b-c3fb-46e6-ee03-37f5314e81d0"
   },
   "outputs": [
    {
     "name": "stdout",
     "output_type": "stream",
     "text": [
      "251\n"
     ]
    },
    {
     "data": {
      "text/plain": [
       "array(['grand', 'golf', 'fabia', '3er', '2_reihe', 'andere', 'c_max',\n",
       "       '3_reihe', 'passat', 'navara', 'twingo', 'a_klasse', 'scirocco',\n",
       "       '5er', 'arosa', 'civic', 'transporter', 'punto', 'e_klasse', 'one',\n",
       "       'fortwo', 'clio', '1er', 'b_klasse', 'astra', 'a8', 'jetta',\n",
       "       'polo', 'fiesta', 'c_klasse', 'micra', 'vito', 'sprinter', '156',\n",
       "       'escort', 'forester', 'xc_reihe', 'scenic', 'a4', 'a1', 'combo',\n",
       "       'focus', 'tt', 'a6', 'jazz', 'slk', '7er', 'corsa', '80', '147',\n",
       "       'glk', 'meriva', 'z_reihe', 'sorento', 'v40', 'ibiza', 'mustang',\n",
       "       'eos', 'touran', 'getz', 'insignia', 'ka', 'megane', 'a3', 'lupo',\n",
       "       'r19', 'mondeo', 'colt', 'vectra', 'berlingo', 'm_klasse',\n",
       "       'tiguan', 'sharan', '6_reihe', 'c4', 'panda', 'up', 'i_reihe',\n",
       "       'ceed', 'kangoo', '5_reihe', 'yeti', 'octavia', 'zafira', 'mii',\n",
       "       'rx_reihe', '6er', 'fox', 'matiz', 'beetle', 'rio', 'touareg',\n",
       "       'logan', 'caddy', 'omega', 'cuore', 's_max', 'modus', 'a2',\n",
       "       'x_reihe', 'a5', 'galaxy', 'c3', 'viano', 's_klasse', '1_reihe',\n",
       "       'avensis', 'sl', 'roomster', 'q5', 'kaefer', 'santa', 'cooper',\n",
       "       'leon', 'sportage', 'ptcruiser', 'clk', 'primera', '4_reihe',\n",
       "       'espace', 'exeo', 'transit', 'juke', 'carisma', 'accord',\n",
       "       'corolla', 'phaeton', 'boxster', 'cordoba', 'verso', 'swift',\n",
       "       'rav', 'kuga', 'qashqai', '159', 'picanto', 'stilo', 'alhambra',\n",
       "       'laguna', '911', 'm_reihe', 'roadster', 'ypsilon', 'galant',\n",
       "       'justy', 'impreza', '90', 'sirion', 'signum', 'crossfire', 'agila',\n",
       "       'duster', 'v50', 'mx_reihe', '500', 'discovery', 'c_reihe',\n",
       "       'v_klasse', 'yaris', 'c5', 'aygo', 'almera', 'seicento', 'cc',\n",
       "       'bora', 'forfour', '100', 'cl', 'tigra', '300c', 'q3', 'cr_reihe',\n",
       "       'spark', 'x_type', 'ducato', 's_type', 'x_trail', 'toledo',\n",
       "       'altea', 'voyager', 'carnival', 'v70', 'bravo', 'range_rover',\n",
       "       'antara', 'q7', 'c1', 'kadett', 'citigo', 'jimny', 'cx_reihe',\n",
       "       'cayenne', 'wrangler', 'lybra', 'range_rover_sport', 'lancer',\n",
       "       'freelander', 'captiva', 'fusion', 'range_rover_evoque', 'sandero',\n",
       "       'note', 'spider', 'defender', 'cherokee', 'clubman', 'legacy',\n",
       "       'pajero', 'c2', 'niva', 's60', '900', 'nubira', 'vivaro', 'lanos',\n",
       "       'tucson', 'g_klasse', 'auris', 'lodgy', '850', '601', 'superb',\n",
       "       'serie_2', 'calibra', 'charade', 'croma', 'outlander', 'gl',\n",
       "       'doblo', 'musa', 'amarok', 'move', '9000', 'kalos', 'v60', '200',\n",
       "       '145', 'b_max', 'delta', 'aveo', 'terios', 'rangerover', 'materia',\n",
       "       'kalina', 'samara', 'elefantino', 'i3', 'kappa', 'serie_3',\n",
       "       'serie_1', 'discovery_sport'], dtype=object)"
      ]
     },
     "execution_count": 34,
     "metadata": {},
     "output_type": "execute_result"
    }
   ],
   "source": [
    "modellist = data2.model.unique()\n",
    "print(len(modellist))\n",
    "modellist"
   ]
  },
  {
   "cell_type": "code",
   "execution_count": 35,
   "metadata": {
    "executionInfo": {
     "elapsed": 60,
     "status": "ok",
     "timestamp": 1624022846008,
     "user": {
      "displayName": "Pranav Gouthamm",
      "photoUrl": "https://lh3.googleusercontent.com/a-/AOh14GgTM9a0Bo5w3JrAUEWfKpj-dt1Bw3vI6q-17xEo=s64",
      "userId": "00245361475060007376"
     },
     "user_tz": -120
    },
    "id": "L4tfcNYZ6Axt"
   },
   "outputs": [],
   "source": [
    "bandm = data2[['brand','model']]"
   ]
  },
  {
   "cell_type": "code",
   "execution_count": 36,
   "metadata": {
    "colab": {
     "base_uri": "https://localhost:8080/"
    },
    "executionInfo": {
     "elapsed": 64,
     "status": "ok",
     "timestamp": 1624022846013,
     "user": {
      "displayName": "Pranav Gouthamm",
      "photoUrl": "https://lh3.googleusercontent.com/a-/AOh14GgTM9a0Bo5w3JrAUEWfKpj-dt1Bw3vI6q-17xEo=s64",
      "userId": "00245361475060007376"
     },
     "user_tz": -120
    },
    "id": "LHXSP-SvALzi",
    "outputId": "6c42c040-8f87-4bc3-e151-c1da93a61db0"
   },
   "outputs": [
    {
     "data": {
      "text/plain": [
       "(299827, 2)"
      ]
     },
     "execution_count": 36,
     "metadata": {},
     "output_type": "execute_result"
    }
   ],
   "source": [
    "bandm.shape"
   ]
  },
  {
   "cell_type": "code",
   "execution_count": 37,
   "metadata": {
    "executionInfo": {
     "elapsed": 51,
     "status": "ok",
     "timestamp": 1624022846015,
     "user": {
      "displayName": "Pranav Gouthamm",
      "photoUrl": "https://lh3.googleusercontent.com/a-/AOh14GgTM9a0Bo5w3JrAUEWfKpj-dt1Bw3vI6q-17xEo=s64",
      "userId": "00245361475060007376"
     },
     "user_tz": -120
    },
    "id": "M6fgzpV0H9xX"
   },
   "outputs": [],
   "source": [
    "gpdbandm = bandm.groupby(['brand','model']).count()"
   ]
  },
  {
   "cell_type": "code",
   "execution_count": 38,
   "metadata": {
    "executionInfo": {
     "elapsed": 52,
     "status": "ok",
     "timestamp": 1624022846017,
     "user": {
      "displayName": "Pranav Gouthamm",
      "photoUrl": "https://lh3.googleusercontent.com/a-/AOh14GgTM9a0Bo5w3JrAUEWfKpj-dt1Bw3vI6q-17xEo=s64",
      "userId": "00245361475060007376"
     },
     "user_tz": -120
    },
    "id": "LBXHtFGB8pFv"
   },
   "outputs": [],
   "source": [
    "gpdbandm_s = bandm.groupby(['brand','model']).size()"
   ]
  },
  {
   "cell_type": "code",
   "execution_count": 39,
   "metadata": {
    "colab": {
     "base_uri": "https://localhost:8080/",
     "height": 1000
    },
    "executionInfo": {
     "elapsed": 54,
     "status": "ok",
     "timestamp": 1624022846023,
     "user": {
      "displayName": "Pranav Gouthamm",
      "photoUrl": "https://lh3.googleusercontent.com/a-/AOh14GgTM9a0Bo5w3JrAUEWfKpj-dt1Bw3vI6q-17xEo=s64",
      "userId": "00245361475060007376"
     },
     "user_tz": -120
    },
    "id": "M6nju_zeMf6x",
    "outputId": "4a466264-b1d5-4eae-871f-4884ecf9b5c8"
   },
   "outputs": [
    {
     "data": {
      "text/html": [
       "<div>\n",
       "<style scoped>\n",
       "    .dataframe tbody tr th:only-of-type {\n",
       "        vertical-align: middle;\n",
       "    }\n",
       "\n",
       "    .dataframe tbody tr th {\n",
       "        vertical-align: top;\n",
       "    }\n",
       "\n",
       "    .dataframe thead th {\n",
       "        text-align: right;\n",
       "    }\n",
       "</style>\n",
       "<table border=\"1\" class=\"dataframe\">\n",
       "  <thead>\n",
       "    <tr style=\"text-align: right;\">\n",
       "      <th></th>\n",
       "      <th></th>\n",
       "    </tr>\n",
       "    <tr>\n",
       "      <th>brand</th>\n",
       "      <th>model</th>\n",
       "    </tr>\n",
       "  </thead>\n",
       "  <tbody>\n",
       "    <tr>\n",
       "      <th rowspan=\"6\" valign=\"top\">alfa_romeo</th>\n",
       "      <th>145</th>\n",
       "    </tr>\n",
       "    <tr>\n",
       "      <th>147</th>\n",
       "    </tr>\n",
       "    <tr>\n",
       "      <th>156</th>\n",
       "    </tr>\n",
       "    <tr>\n",
       "      <th>159</th>\n",
       "    </tr>\n",
       "    <tr>\n",
       "      <th>andere</th>\n",
       "    </tr>\n",
       "    <tr>\n",
       "      <th>spider</th>\n",
       "    </tr>\n",
       "    <tr>\n",
       "      <th rowspan=\"16\" valign=\"top\">audi</th>\n",
       "      <th>100</th>\n",
       "    </tr>\n",
       "    <tr>\n",
       "      <th>200</th>\n",
       "    </tr>\n",
       "    <tr>\n",
       "      <th>80</th>\n",
       "    </tr>\n",
       "    <tr>\n",
       "      <th>90</th>\n",
       "    </tr>\n",
       "    <tr>\n",
       "      <th>a1</th>\n",
       "    </tr>\n",
       "    <tr>\n",
       "      <th>a2</th>\n",
       "    </tr>\n",
       "    <tr>\n",
       "      <th>a3</th>\n",
       "    </tr>\n",
       "    <tr>\n",
       "      <th>a4</th>\n",
       "    </tr>\n",
       "    <tr>\n",
       "      <th>a5</th>\n",
       "    </tr>\n",
       "    <tr>\n",
       "      <th>a6</th>\n",
       "    </tr>\n",
       "    <tr>\n",
       "      <th>a8</th>\n",
       "    </tr>\n",
       "    <tr>\n",
       "      <th>andere</th>\n",
       "    </tr>\n",
       "    <tr>\n",
       "      <th>q3</th>\n",
       "    </tr>\n",
       "    <tr>\n",
       "      <th>q5</th>\n",
       "    </tr>\n",
       "    <tr>\n",
       "      <th>q7</th>\n",
       "    </tr>\n",
       "    <tr>\n",
       "      <th>tt</th>\n",
       "    </tr>\n",
       "    <tr>\n",
       "      <th rowspan=\"10\" valign=\"top\">bmw</th>\n",
       "      <th>1er</th>\n",
       "    </tr>\n",
       "    <tr>\n",
       "      <th>3er</th>\n",
       "    </tr>\n",
       "    <tr>\n",
       "      <th>5er</th>\n",
       "    </tr>\n",
       "    <tr>\n",
       "      <th>6er</th>\n",
       "    </tr>\n",
       "    <tr>\n",
       "      <th>7er</th>\n",
       "    </tr>\n",
       "    <tr>\n",
       "      <th>andere</th>\n",
       "    </tr>\n",
       "    <tr>\n",
       "      <th>i3</th>\n",
       "    </tr>\n",
       "    <tr>\n",
       "      <th>m_reihe</th>\n",
       "    </tr>\n",
       "    <tr>\n",
       "      <th>x_reihe</th>\n",
       "    </tr>\n",
       "    <tr>\n",
       "      <th>z_reihe</th>\n",
       "    </tr>\n",
       "    <tr>\n",
       "      <th rowspan=\"5\" valign=\"top\">chevrolet</th>\n",
       "      <th>andere</th>\n",
       "    </tr>\n",
       "    <tr>\n",
       "      <th>aveo</th>\n",
       "    </tr>\n",
       "    <tr>\n",
       "      <th>captiva</th>\n",
       "    </tr>\n",
       "    <tr>\n",
       "      <th>matiz</th>\n",
       "    </tr>\n",
       "    <tr>\n",
       "      <th>spark</th>\n",
       "    </tr>\n",
       "    <tr>\n",
       "      <th rowspan=\"6\" valign=\"top\">chrysler</th>\n",
       "      <th>300c</th>\n",
       "    </tr>\n",
       "    <tr>\n",
       "      <th>andere</th>\n",
       "    </tr>\n",
       "    <tr>\n",
       "      <th>crossfire</th>\n",
       "    </tr>\n",
       "    <tr>\n",
       "      <th>grand</th>\n",
       "    </tr>\n",
       "    <tr>\n",
       "      <th>ptcruiser</th>\n",
       "    </tr>\n",
       "    <tr>\n",
       "      <th>voyager</th>\n",
       "    </tr>\n",
       "    <tr>\n",
       "      <th rowspan=\"7\" valign=\"top\">citroen</th>\n",
       "      <th>andere</th>\n",
       "    </tr>\n",
       "    <tr>\n",
       "      <th>berlingo</th>\n",
       "    </tr>\n",
       "    <tr>\n",
       "      <th>c1</th>\n",
       "    </tr>\n",
       "    <tr>\n",
       "      <th>c2</th>\n",
       "    </tr>\n",
       "    <tr>\n",
       "      <th>c3</th>\n",
       "    </tr>\n",
       "    <tr>\n",
       "      <th>c4</th>\n",
       "    </tr>\n",
       "    <tr>\n",
       "      <th>c5</th>\n",
       "    </tr>\n",
       "  </tbody>\n",
       "</table>\n",
       "</div>"
      ],
      "text/plain": [
       "Empty DataFrame\n",
       "Columns: []\n",
       "Index: [(alfa_romeo, 145), (alfa_romeo, 147), (alfa_romeo, 156), (alfa_romeo, 159), (alfa_romeo, andere), (alfa_romeo, spider), (audi, 100), (audi, 200), (audi, 80), (audi, 90), (audi, a1), (audi, a2), (audi, a3), (audi, a4), (audi, a5), (audi, a6), (audi, a8), (audi, andere), (audi, q3), (audi, q5), (audi, q7), (audi, tt), (bmw, 1er), (bmw, 3er), (bmw, 5er), (bmw, 6er), (bmw, 7er), (bmw, andere), (bmw, i3), (bmw, m_reihe), (bmw, x_reihe), (bmw, z_reihe), (chevrolet, andere), (chevrolet, aveo), (chevrolet, captiva), (chevrolet, matiz), (chevrolet, spark), (chrysler, 300c), (chrysler, andere), (chrysler, crossfire), (chrysler, grand), (chrysler, ptcruiser), (chrysler, voyager), (citroen, andere), (citroen, berlingo), (citroen, c1), (citroen, c2), (citroen, c3), (citroen, c4), (citroen, c5)]"
      ]
     },
     "execution_count": 39,
     "metadata": {},
     "output_type": "execute_result"
    }
   ],
   "source": [
    "gpdbandm.head(50)"
   ]
  },
  {
   "cell_type": "code",
   "execution_count": 40,
   "metadata": {
    "colab": {
     "base_uri": "https://localhost:8080/"
    },
    "executionInfo": {
     "elapsed": 50,
     "status": "ok",
     "timestamp": 1624022846024,
     "user": {
      "displayName": "Pranav Gouthamm",
      "photoUrl": "https://lh3.googleusercontent.com/a-/AOh14GgTM9a0Bo5w3JrAUEWfKpj-dt1Bw3vI6q-17xEo=s64",
      "userId": "00245361475060007376"
     },
     "user_tz": -120
    },
    "id": "2vvR0SWy8tA7",
    "outputId": "cc09d5bc-9e87-49a5-d7d2-ca212fd03c5c"
   },
   "outputs": [
    {
     "data": {
      "text/plain": [
       "brand       model \n",
       "alfa_romeo  145         34\n",
       "            147        473\n",
       "            156        535\n",
       "            159        194\n",
       "            andere     489\n",
       "            spider     183\n",
       "audi        100        366\n",
       "            200         15\n",
       "            80        1298\n",
       "            90          78\n",
       "            a1         594\n",
       "            a2         329\n",
       "            a3        5486\n",
       "            a4        9125\n",
       "            a5         984\n",
       "            a6        5475\n",
       "            a8         521\n",
       "            andere    1508\n",
       "            q3         238\n",
       "            q5         444\n",
       "dtype: int64"
      ]
     },
     "execution_count": 40,
     "metadata": {},
     "output_type": "execute_result"
    }
   ],
   "source": [
    "gpdbandm_s.head(20)"
   ]
  },
  {
   "cell_type": "code",
   "execution_count": 41,
   "metadata": {
    "executionInfo": {
     "elapsed": 43,
     "status": "ok",
     "timestamp": 1624022846026,
     "user": {
      "displayName": "Pranav Gouthamm",
      "photoUrl": "https://lh3.googleusercontent.com/a-/AOh14GgTM9a0Bo5w3JrAUEWfKpj-dt1Bw3vI6q-17xEo=s64",
      "userId": "00245361475060007376"
     },
     "user_tz": -120
    },
    "id": "l6g9xogfUp5d"
   },
   "outputs": [],
   "source": [
    "gpdbandm.to_csv(r'gpdbandm.csv')"
   ]
  },
  {
   "cell_type": "code",
   "execution_count": 42,
   "metadata": {
    "executionInfo": {
     "elapsed": 525,
     "status": "ok",
     "timestamp": 1624022846509,
     "user": {
      "displayName": "Pranav Gouthamm",
      "photoUrl": "https://lh3.googleusercontent.com/a-/AOh14GgTM9a0Bo5w3JrAUEWfKpj-dt1Bw3vI6q-17xEo=s64",
      "userId": "00245361475060007376"
     },
     "user_tz": -120
    },
    "id": "KcY6CTi1VF2R"
   },
   "outputs": [],
   "source": [
    "Q1 = data2.yearofregistration.quantile(0.25)\n",
    "Q3 = data2.yearofregistration.quantile(0.75)\n",
    "IQR = Q3 - Q1"
   ]
  },
  {
   "cell_type": "code",
   "execution_count": 43,
   "metadata": {
    "colab": {
     "base_uri": "https://localhost:8080/"
    },
    "executionInfo": {
     "elapsed": 20,
     "status": "ok",
     "timestamp": 1624022846512,
     "user": {
      "displayName": "Pranav Gouthamm",
      "photoUrl": "https://lh3.googleusercontent.com/a-/AOh14GgTM9a0Bo5w3JrAUEWfKpj-dt1Bw3vI6q-17xEo=s64",
      "userId": "00245361475060007376"
     },
     "user_tz": -120
    },
    "id": "CFrb-YFII20L",
    "outputId": "c96ce1ee-ba9f-4fce-af2b-12e628f35744"
   },
   "outputs": [
    {
     "name": "stdout",
     "output_type": "stream",
     "text": [
      "1999.0 2007.0 8.0\n"
     ]
    }
   ],
   "source": [
    "print(Q1,Q3,IQR)"
   ]
  },
  {
   "cell_type": "code",
   "execution_count": 44,
   "metadata": {
    "colab": {
     "base_uri": "https://localhost:8080/",
     "height": 285
    },
    "executionInfo": {
     "elapsed": 1192,
     "status": "ok",
     "timestamp": 1624022847695,
     "user": {
      "displayName": "Pranav Gouthamm",
      "photoUrl": "https://lh3.googleusercontent.com/a-/AOh14GgTM9a0Bo5w3JrAUEWfKpj-dt1Bw3vI6q-17xEo=s64",
      "userId": "00245361475060007376"
     },
     "user_tz": -120
    },
    "id": "G8eQnC4wI-1K",
    "outputId": "7c146161-5c10-4251-e767-30a59e285496"
   },
   "outputs": [
    {
     "data": {
      "image/png": "[encoded data removed]",
      "text/plain": [
       "<Figure size 432x288 with 1 Axes>"
      ]
     },
     "metadata": {},
     "output_type": "display_data"
    }
   ],
   "source": [
    "sns.set(style=\"darkgrid\")\n",
    "sns.histplot(data=data2, x=\"yearofregistration\")\n",
    "plt.show()"
   ]
  },
  {
   "cell_type": "code",
   "execution_count": 45,
   "metadata": {
    "colab": {
     "base_uri": "https://localhost:8080/"
    },
    "executionInfo": {
     "elapsed": 85,
     "status": "ok",
     "timestamp": 1624022847696,
     "user": {
      "displayName": "Pranav Gouthamm",
      "photoUrl": "https://lh3.googleusercontent.com/a-/AOh14GgTM9a0Bo5w3JrAUEWfKpj-dt1Bw3vI6q-17xEo=s64",
      "userId": "00245361475060007376"
     },
     "user_tz": -120
    },
    "id": "MsyProMPJcF6",
    "outputId": "6aaf92c5-d832-4876-a69d-d4c764eca9c9"
   },
   "outputs": [
    {
     "name": "stdout",
     "output_type": "stream",
     "text": [
      "1910\n",
      "2018\n"
     ]
    }
   ],
   "source": [
    "print(min(data2.yearofregistration))\n",
    "print(max(data2.yearofregistration))"
   ]
  },
  {
   "cell_type": "code",
   "execution_count": 46,
   "metadata": {
    "colab": {
     "base_uri": "https://localhost:8080/"
    },
    "executionInfo": {
     "elapsed": 65,
     "status": "ok",
     "timestamp": 1624022847698,
     "user": {
      "displayName": "Pranav Gouthamm",
      "photoUrl": "https://lh3.googleusercontent.com/a-/AOh14GgTM9a0Bo5w3JrAUEWfKpj-dt1Bw3vI6q-17xEo=s64",
      "userId": "00245361475060007376"
     },
     "user_tz": -120
    },
    "id": "wNpkK_xEKvRT",
    "outputId": "6b94e387-6d14-49bf-dfe2-c0c0a521b82e"
   },
   "outputs": [
    {
     "data": {
      "text/plain": [
       "(299827, 13)"
      ]
     },
     "execution_count": 46,
     "metadata": {},
     "output_type": "execute_result"
    }
   ],
   "source": [
    "data2.shape"
   ]
  },
  {
   "cell_type": "code",
   "execution_count": 47,
   "metadata": {
    "colab": {
     "base_uri": "https://localhost:8080/"
    },
    "executionInfo": {
     "elapsed": 53,
     "status": "ok",
     "timestamp": 1624022847699,
     "user": {
      "displayName": "Pranav Gouthamm",
      "photoUrl": "https://lh3.googleusercontent.com/a-/AOh14GgTM9a0Bo5w3JrAUEWfKpj-dt1Bw3vI6q-17xEo=s64",
      "userId": "00245361475060007376"
     },
     "user_tz": -120
    },
    "id": "ZwtZZCxeKzs8",
    "outputId": "dc9432e4-4269-4f1d-fb77-c7e780663220"
   },
   "outputs": [
    {
     "data": {
      "text/plain": [
       "(297229, 13)"
      ]
     },
     "execution_count": 47,
     "metadata": {},
     "output_type": "execute_result"
    }
   ],
   "source": [
    "data2 = data2[data2['yearofregistration'] > 1980]\n",
    "data2.shape"
   ]
  },
  {
   "cell_type": "code",
   "execution_count": 48,
   "metadata": {
    "executionInfo": {
     "elapsed": 39,
     "status": "ok",
     "timestamp": 1624022847700,
     "user": {
      "displayName": "Pranav Gouthamm",
      "photoUrl": "https://lh3.googleusercontent.com/a-/AOh14GgTM9a0Bo5w3JrAUEWfKpj-dt1Bw3vI6q-17xEo=s64",
      "userId": "00245361475060007376"
     },
     "user_tz": -120
    },
    "id": "he0f2JZ6K-UX"
   },
   "outputs": [],
   "source": [
    "Q1 = data2.powerps.quantile(0.25)\n",
    "Q3 = data2.powerps.quantile(0.75)\n",
    "IQR = Q3 - Q1"
   ]
  },
  {
   "cell_type": "code",
   "execution_count": 49,
   "metadata": {
    "colab": {
     "base_uri": "https://localhost:8080/"
    },
    "executionInfo": {
     "elapsed": 39,
     "status": "ok",
     "timestamp": 1624022847701,
     "user": {
      "displayName": "Pranav Gouthamm",
      "photoUrl": "https://lh3.googleusercontent.com/a-/AOh14GgTM9a0Bo5w3JrAUEWfKpj-dt1Bw3vI6q-17xEo=s64",
      "userId": "00245361475060007376"
     },
     "user_tz": -120
    },
    "id": "zd8enV-WMOve",
    "outputId": "eb472373-03ea-4f91-878f-e7871efe654c"
   },
   "outputs": [
    {
     "name": "stdout",
     "output_type": "stream",
     "text": [
      "75.0 150.0 75.0\n"
     ]
    }
   ],
   "source": [
    "print(Q1,Q3,IQR)"
   ]
  },
  {
   "cell_type": "code",
   "execution_count": 50,
   "metadata": {
    "colab": {
     "base_uri": "https://localhost:8080/",
     "height": 286
    },
    "executionInfo": {
     "elapsed": 17331,
     "status": "ok",
     "timestamp": 1624022865005,
     "user": {
      "displayName": "Pranav Gouthamm",
      "photoUrl": "https://lh3.googleusercontent.com/a-/AOh14GgTM9a0Bo5w3JrAUEWfKpj-dt1Bw3vI6q-17xEo=s64",
      "userId": "00245361475060007376"
     },
     "user_tz": -120
    },
    "id": "wPGrXjmaMSq6",
    "outputId": "c7232f7f-404e-480c-9346-cfcc169cd97f"
   },
   "outputs": [
    {
     "data": {
      "image/png": "[encoded data removed]",
      "text/plain": [
       "<Figure size 432x288 with 1 Axes>"
      ]
     },
     "metadata": {},
     "output_type": "display_data"
    }
   ],
   "source": [
    "sns.set(style=\"darkgrid\")\n",
    "sns.histplot(data=data2, x=\"powerps\")\n",
    "plt.show()"
   ]
  },
  {
   "cell_type": "code",
   "execution_count": 51,
   "metadata": {
    "colab": {
     "base_uri": "https://localhost:8080/",
     "height": 265
    },
    "executionInfo": {
     "elapsed": 381,
     "status": "ok",
     "timestamp": 1624022865364,
     "user": {
      "displayName": "Pranav Gouthamm",
      "photoUrl": "https://lh3.googleusercontent.com/a-/AOh14GgTM9a0Bo5w3JrAUEWfKpj-dt1Bw3vI6q-17xEo=s64",
      "userId": "00245361475060007376"
     },
     "user_tz": -120
    },
    "id": "jhhfk4a7Morc",
    "outputId": "5370d351-9893-4d2b-8866-88bdcf66cbcd"
   },
   "outputs": [
    {
     "data": {
      "text/plain": [
       "<AxesSubplot:ylabel='powerps'>"
      ]
     },
     "execution_count": 51,
     "metadata": {},
     "output_type": "execute_result"
    },
    {
     "data": {
      "image/png": "[encoded data removed]",
      "text/plain": [
       "<Figure size 432x288 with 1 Axes>"
      ]
     },
     "metadata": {},
     "output_type": "display_data"
    }
   ],
   "source": [
    "sns.boxplot( y=data2[\"powerps\"] )"
   ]
  },
  {
   "cell_type": "code",
   "execution_count": 52,
   "metadata": {
    "colab": {
     "base_uri": "https://localhost:8080/"
    },
    "executionInfo": {
     "elapsed": 64,
     "status": "ok",
     "timestamp": 1624022865369,
     "user": {
      "displayName": "Pranav Gouthamm",
      "photoUrl": "https://lh3.googleusercontent.com/a-/AOh14GgTM9a0Bo5w3JrAUEWfKpj-dt1Bw3vI6q-17xEo=s64",
      "userId": "00245361475060007376"
     },
     "user_tz": -120
    },
    "id": "1QCPDjtaMGX8",
    "outputId": "5968c845-7acc-4496-c5c0-13e3ddbb2e24"
   },
   "outputs": [
    {
     "name": "stdout",
     "output_type": "stream",
     "text": [
      "0\n",
      "20000\n"
     ]
    }
   ],
   "source": [
    "print(min(data2.powerps))\n",
    "print(max(data2.powerps))"
   ]
  },
  {
   "cell_type": "code",
   "execution_count": 53,
   "metadata": {
    "colab": {
     "base_uri": "https://localhost:8080/"
    },
    "executionInfo": {
     "elapsed": 49,
     "status": "ok",
     "timestamp": 1624022865370,
     "user": {
      "displayName": "Pranav Gouthamm",
      "photoUrl": "https://lh3.googleusercontent.com/a-/AOh14GgTM9a0Bo5w3JrAUEWfKpj-dt1Bw3vI6q-17xEo=s64",
      "userId": "00245361475060007376"
     },
     "user_tz": -120
    },
    "id": "Ffm-9jOzMKWV",
    "outputId": "cd496df8-a93d-42dc-bbed-f19be1a4c327"
   },
   "outputs": [
    {
     "name": "stdout",
     "output_type": "stream",
     "text": [
      "2418\n",
      "19737\n"
     ]
    }
   ],
   "source": [
    "print(len(data2[data2['powerps'] > 350]))\n",
    "print(len(data2[data2['powerps'] < 50]))"
   ]
  },
  {
   "cell_type": "code",
   "execution_count": 54,
   "metadata": {
    "colab": {
     "base_uri": "https://localhost:8080/"
    },
    "executionInfo": {
     "elapsed": 37,
     "status": "ok",
     "timestamp": 1624022865371,
     "user": {
      "displayName": "Pranav Gouthamm",
      "photoUrl": "https://lh3.googleusercontent.com/a-/AOh14GgTM9a0Bo5w3JrAUEWfKpj-dt1Bw3vI6q-17xEo=s64",
      "userId": "00245361475060007376"
     },
     "user_tz": -120
    },
    "id": "B20dOjyVNC5y",
    "outputId": "f1ed3609-9e3a-4d91-f8c7-7ddfe912604b"
   },
   "outputs": [
    {
     "data": {
      "text/plain": [
       "(271530, 13)"
      ]
     },
     "execution_count": 54,
     "metadata": {},
     "output_type": "execute_result"
    }
   ],
   "source": [
    "data2 = data2[data2['powerps'] < 350]\n",
    "data2 = data2[data2['powerps'] > 50]\n",
    "data2.shape"
   ]
  },
  {
   "cell_type": "code",
   "execution_count": 55,
   "metadata": {
    "colab": {
     "base_uri": "https://localhost:8080/",
     "height": 285
    },
    "executionInfo": {
     "elapsed": 866,
     "status": "ok",
     "timestamp": 1624022866217,
     "user": {
      "displayName": "Pranav Gouthamm",
      "photoUrl": "https://lh3.googleusercontent.com/a-/AOh14GgTM9a0Bo5w3JrAUEWfKpj-dt1Bw3vI6q-17xEo=s64",
      "userId": "00245361475060007376"
     },
     "user_tz": -120
    },
    "id": "c9piwNN2P3IG",
    "outputId": "1c18f366-1a75-4214-c251-3ef5e9031eb2"
   },
   "outputs": [
    {
     "data": {
      "image/png": "[encoded data removed]",
      "text/plain": [
       "<Figure size 432x288 with 1 Axes>"
      ]
     },
     "metadata": {},
     "output_type": "display_data"
    }
   ],
   "source": [
    "sns.set(style=\"darkgrid\")\n",
    "sns.histplot(data=data2, x=\"powerps\")\n",
    "plt.show()"
   ]
  },
  {
   "cell_type": "code",
   "execution_count": 56,
   "metadata": {
    "colab": {
     "base_uri": "https://localhost:8080/"
    },
    "executionInfo": {
     "elapsed": 109,
     "status": "ok",
     "timestamp": 1624022866219,
     "user": {
      "displayName": "Pranav Gouthamm",
      "photoUrl": "https://lh3.googleusercontent.com/a-/AOh14GgTM9a0Bo5w3JrAUEWfKpj-dt1Bw3vI6q-17xEo=s64",
      "userId": "00245361475060007376"
     },
     "user_tz": -120
    },
    "id": "i9jja7BaP-dQ",
    "outputId": "7f1a4028-cdb1-48bd-e497-e0bda8e8c2b0"
   },
   "outputs": [
    {
     "data": {
      "text/plain": [
       "13"
      ]
     },
     "execution_count": 56,
     "metadata": {},
     "output_type": "execute_result"
    }
   ],
   "source": [
    "data2['monthofregistration' ].nunique()"
   ]
  },
  {
   "cell_type": "code",
   "execution_count": 57,
   "metadata": {
    "colab": {
     "base_uri": "https://localhost:8080/"
    },
    "executionInfo": {
     "elapsed": 105,
     "status": "ok",
     "timestamp": 1624022866225,
     "user": {
      "displayName": "Pranav Gouthamm",
      "photoUrl": "https://lh3.googleusercontent.com/a-/AOh14GgTM9a0Bo5w3JrAUEWfKpj-dt1Bw3vI6q-17xEo=s64",
      "userId": "00245361475060007376"
     },
     "user_tz": -120
    },
    "id": "TETBcVpUSMb_",
    "outputId": "a7f1b7bc-98ed-4799-ab5e-7566c4da017c"
   },
   "outputs": [
    {
     "data": {
      "text/plain": [
       "10163"
      ]
     },
     "execution_count": 57,
     "metadata": {},
     "output_type": "execute_result"
    }
   ],
   "source": [
    "len(data2[data2['monthofregistration'] == 0])"
   ]
  },
  {
   "cell_type": "code",
   "execution_count": 58,
   "metadata": {
    "colab": {
     "base_uri": "https://localhost:8080/"
    },
    "executionInfo": {
     "elapsed": 99,
     "status": "ok",
     "timestamp": 1624022866228,
     "user": {
      "displayName": "Pranav Gouthamm",
      "photoUrl": "https://lh3.googleusercontent.com/a-/AOh14GgTM9a0Bo5w3JrAUEWfKpj-dt1Bw3vI6q-17xEo=s64",
      "userId": "00245361475060007376"
     },
     "user_tz": -120
    },
    "id": "L5-CdAVoSX9Z",
    "outputId": "659cb9b6-d465-44f0-da38-144a4edb843c"
   },
   "outputs": [
    {
     "name": "stdout",
     "output_type": "stream",
     "text": [
      "(271530, 13)\n",
      "(261367, 13)\n"
     ]
    }
   ],
   "source": [
    "print(data2.shape)\n",
    "data2 = data2[data2['monthofregistration'] > 0]\n",
    "print(data2.shape)"
   ]
  },
  {
   "cell_type": "code",
   "execution_count": 59,
   "metadata": {
    "colab": {
     "base_uri": "https://localhost:8080/"
    },
    "executionInfo": {
     "elapsed": 94,
     "status": "ok",
     "timestamp": 1624022866231,
     "user": {
      "displayName": "Pranav Gouthamm",
      "photoUrl": "https://lh3.googleusercontent.com/a-/AOh14GgTM9a0Bo5w3JrAUEWfKpj-dt1Bw3vI6q-17xEo=s64",
      "userId": "00245361475060007376"
     },
     "user_tz": -120
    },
    "id": "mwJvkbaxGZ3q",
    "outputId": "c27a8643-eb0c-4cbb-97a8-ddb24ea6355f"
   },
   "outputs": [
    {
     "name": "stdout",
     "output_type": "stream",
     "text": [
      "['suv' 'kleinwagen' 'limousine' 'cabrio' 'bus' 'kombi' 'coupe' 'andere']\n"
     ]
    }
   ],
   "source": [
    "print(data2['vehicletype'].unique())"
   ]
  },
  {
   "cell_type": "code",
   "execution_count": 60,
   "metadata": {
    "executionInfo": {
     "elapsed": 81,
     "status": "ok",
     "timestamp": 1624022866233,
     "user": {
      "displayName": "Pranav Gouthamm",
      "photoUrl": "https://lh3.googleusercontent.com/a-/AOh14GgTM9a0Bo5w3JrAUEWfKpj-dt1Bw3vI6q-17xEo=s64",
      "userId": "00245361475060007376"
     },
     "user_tz": -120
    },
    "id": "WwI86Yu7TWCQ"
   },
   "outputs": [],
   "source": [
    "data2 = data2.drop('index', axis =1)"
   ]
  },
  {
   "cell_type": "code",
   "execution_count": 61,
   "metadata": {
    "executionInfo": {
     "elapsed": 82,
     "status": "ok",
     "timestamp": 1624022866235,
     "user": {
      "displayName": "Pranav Gouthamm",
      "photoUrl": "https://lh3.googleusercontent.com/a-/AOh14GgTM9a0Bo5w3JrAUEWfKpj-dt1Bw3vI6q-17xEo=s64",
      "userId": "00245361475060007376"
     },
     "user_tz": -120
    },
    "id": "8X5KrmaCwngB"
   },
   "outputs": [],
   "source": [
    "data2 = data2[data2.model != \"andere\"]"
   ]
  },
  {
   "cell_type": "code",
   "execution_count": 62,
   "metadata": {
    "colab": {
     "base_uri": "https://localhost:8080/"
    },
    "executionInfo": {
     "elapsed": 83,
     "status": "ok",
     "timestamp": 1624022866240,
     "user": {
      "displayName": "Pranav Gouthamm",
      "photoUrl": "https://lh3.googleusercontent.com/a-/AOh14GgTM9a0Bo5w3JrAUEWfKpj-dt1Bw3vI6q-17xEo=s64",
      "userId": "00245361475060007376"
     },
     "user_tz": -120
    },
    "id": "5wNTwpfcxP7N",
    "outputId": "095c2fb7-36c5-4d91-8c7d-e01661c03fee"
   },
   "outputs": [
    {
     "data": {
      "text/plain": [
       "(242901, 12)"
      ]
     },
     "execution_count": 62,
     "metadata": {},
     "output_type": "execute_result"
    }
   ],
   "source": [
    "data2.shape"
   ]
  },
  {
   "cell_type": "code",
   "execution_count": 63,
   "metadata": {
    "colab": {
     "base_uri": "https://localhost:8080/"
    },
    "executionInfo": {
     "elapsed": 98,
     "status": "ok",
     "timestamp": 1624022866268,
     "user": {
      "displayName": "Pranav Gouthamm",
      "photoUrl": "https://lh3.googleusercontent.com/a-/AOh14GgTM9a0Bo5w3JrAUEWfKpj-dt1Bw3vI6q-17xEo=s64",
      "userId": "00245361475060007376"
     },
     "user_tz": -120
    },
    "id": "BNnUU2d2Gou4",
    "outputId": "33894ced-fbe8-46d3-ba45-d8bbe6d84d55"
   },
   "outputs": [
    {
     "name": "stdout",
     "output_type": "stream",
     "text": [
      "['suv' 'kleinwagen' 'limousine' 'cabrio' 'bus' 'kombi' 'coupe' 'andere']\n"
     ]
    }
   ],
   "source": [
    "print(data2['vehicletype'].unique())"
   ]
  },
  {
   "cell_type": "code",
   "execution_count": 64,
   "metadata": {
    "colab": {
     "base_uri": "https://localhost:8080/",
     "height": 49
    },
    "executionInfo": {
     "elapsed": 91,
     "status": "ok",
     "timestamp": 1624022866272,
     "user": {
      "displayName": "Pranav Gouthamm",
      "photoUrl": "https://lh3.googleusercontent.com/a-/AOh14GgTM9a0Bo5w3JrAUEWfKpj-dt1Bw3vI6q-17xEo=s64",
      "userId": "00245361475060007376"
     },
     "user_tz": -120
    },
    "id": "yb39hg2hHCTl",
    "outputId": "1df0f9d0-c54f-4ee6-a12d-b40e6a84f89d"
   },
   "outputs": [
    {
     "data": {
      "text/html": [
       "<div>\n",
       "<style scoped>\n",
       "    .dataframe tbody tr th:only-of-type {\n",
       "        vertical-align: middle;\n",
       "    }\n",
       "\n",
       "    .dataframe tbody tr th {\n",
       "        vertical-align: top;\n",
       "    }\n",
       "\n",
       "    .dataframe thead th {\n",
       "        text-align: right;\n",
       "    }\n",
       "</style>\n",
       "<table border=\"1\" class=\"dataframe\">\n",
       "  <thead>\n",
       "    <tr style=\"text-align: right;\">\n",
       "      <th></th>\n",
       "      <th>offertype</th>\n",
       "      <th>price</th>\n",
       "      <th>vehicletype</th>\n",
       "      <th>yearofregistration</th>\n",
       "      <th>gearbox</th>\n",
       "      <th>powerps</th>\n",
       "      <th>model</th>\n",
       "      <th>kilometer</th>\n",
       "      <th>monthofregistration</th>\n",
       "      <th>fueltype</th>\n",
       "      <th>brand</th>\n",
       "      <th>notrepaireddamage</th>\n",
       "    </tr>\n",
       "  </thead>\n",
       "  <tbody>\n",
       "  </tbody>\n",
       "</table>\n",
       "</div>"
      ],
      "text/plain": [
       "Empty DataFrame\n",
       "Columns: [offertype, price, vehicletype, yearofregistration, gearbox, powerps, model, kilometer, monthofregistration, fueltype, brand, notrepaireddamage]\n",
       "Index: []"
      ]
     },
     "execution_count": 64,
     "metadata": {},
     "output_type": "execute_result"
    }
   ],
   "source": [
    "sample = data2[data2.model == \"andere\"]\n",
    "sample.head()"
   ]
  },
  {
   "cell_type": "code",
   "execution_count": 65,
   "metadata": {
    "colab": {
     "base_uri": "https://localhost:8080/"
    },
    "executionInfo": {
     "elapsed": 562,
     "status": "ok",
     "timestamp": 1624022866746,
     "user": {
      "displayName": "Pranav Gouthamm",
      "photoUrl": "https://lh3.googleusercontent.com/a-/AOh14GgTM9a0Bo5w3JrAUEWfKpj-dt1Bw3vI6q-17xEo=s64",
      "userId": "00245361475060007376"
     },
     "user_tz": -120
    },
    "id": "FnvYDNZ6Ui3X",
    "outputId": "b67955aa-bf31-4f56-dba7-5a6afb8582d1"
   },
   "outputs": [
    {
     "data": {
      "text/plain": [
       "offertype                 2\n",
       "price                  4720\n",
       "vehicletype               8\n",
       "yearofregistration       38\n",
       "gearbox                   2\n",
       "powerps                 289\n",
       "model                   247\n",
       "kilometer                13\n",
       "monthofregistration      12\n",
       "fueltype                  7\n",
       "brand                    38\n",
       "notrepaireddamage         2\n",
       "dtype: int64"
      ]
     },
     "execution_count": 65,
     "metadata": {},
     "output_type": "execute_result"
    }
   ],
   "source": [
    "data2.nunique()"
   ]
  },
  {
   "cell_type": "code",
   "execution_count": 66,
   "metadata": {
    "colab": {
     "base_uri": "https://localhost:8080/"
    },
    "executionInfo": {
     "elapsed": 91,
     "status": "ok",
     "timestamp": 1624022866751,
     "user": {
      "displayName": "Pranav Gouthamm",
      "photoUrl": "https://lh3.googleusercontent.com/a-/AOh14GgTM9a0Bo5w3JrAUEWfKpj-dt1Bw3vI6q-17xEo=s64",
      "userId": "00245361475060007376"
     },
     "user_tz": -120
    },
    "id": "z6e2-gKbWUjN",
    "outputId": "1d25120d-f850-4056-d97a-fa85f5d630e8"
   },
   "outputs": [
    {
     "data": {
      "text/plain": [
       "(242901, 1)"
      ]
     },
     "execution_count": 66,
     "metadata": {},
     "output_type": "execute_result"
    }
   ],
   "source": [
    "#Target\n",
    "Target = pd.DataFrame(data2['price'])\n",
    "Target.shape"
   ]
  },
  {
   "cell_type": "code",
   "execution_count": 67,
   "metadata": {
    "colab": {
     "base_uri": "https://localhost:8080/"
    },
    "executionInfo": {
     "elapsed": 84,
     "status": "ok",
     "timestamp": 1624022866754,
     "user": {
      "displayName": "Pranav Gouthamm",
      "photoUrl": "https://lh3.googleusercontent.com/a-/AOh14GgTM9a0Bo5w3JrAUEWfKpj-dt1Bw3vI6q-17xEo=s64",
      "userId": "00245361475060007376"
     },
     "user_tz": -120
    },
    "id": "ND453pQCWJn2",
    "outputId": "d4044eab-f9bc-4e73-a922-851685448a52"
   },
   "outputs": [
    {
     "data": {
      "text/plain": [
       "(242901, 11)"
      ]
     },
     "execution_count": 67,
     "metadata": {},
     "output_type": "execute_result"
    }
   ],
   "source": [
    "#Independent Features\n",
    "IF = data2.drop('price',axis =1)\n",
    "IF.shape"
   ]
  },
  {
   "cell_type": "code",
   "execution_count": 68,
   "metadata": {
    "executionInfo": {
     "elapsed": 80,
     "status": "ok",
     "timestamp": 1624022866762,
     "user": {
      "displayName": "Pranav Gouthamm",
      "photoUrl": "https://lh3.googleusercontent.com/a-/AOh14GgTM9a0Bo5w3JrAUEWfKpj-dt1Bw3vI6q-17xEo=s64",
      "userId": "00245361475060007376"
     },
     "user_tz": -120
    },
    "id": "C74UesPuWvnL"
   },
   "outputs": [],
   "source": [
    "IF[\"powerps_bin\"] = pd.cut(IF['powerps'], bins=[50, 100, 200, 250, 350], labels= [\"1\",\"2\",\"3\",\"4\"])"
   ]
  },
  {
   "cell_type": "code",
   "execution_count": 69,
   "metadata": {
    "executionInfo": {
     "elapsed": 83,
     "status": "ok",
     "timestamp": 1624022866768,
     "user": {
      "displayName": "Pranav Gouthamm",
      "photoUrl": "https://lh3.googleusercontent.com/a-/AOh14GgTM9a0Bo5w3JrAUEWfKpj-dt1Bw3vI6q-17xEo=s64",
      "userId": "00245361475060007376"
     },
     "user_tz": -120
    },
    "id": "CBLhj8tiYj9s"
   },
   "outputs": [],
   "source": [
    "#IF[\"brandmodel\"] = IF['brand'] + IF['model']"
   ]
  },
  {
   "cell_type": "code",
   "execution_count": 70,
   "metadata": {
    "colab": {
     "base_uri": "https://localhost:8080/",
     "height": 203
    },
    "executionInfo": {
     "elapsed": 84,
     "status": "ok",
     "timestamp": 1624022866775,
     "user": {
      "displayName": "Pranav Gouthamm",
      "photoUrl": "https://lh3.googleusercontent.com/a-/AOh14GgTM9a0Bo5w3JrAUEWfKpj-dt1Bw3vI6q-17xEo=s64",
      "userId": "00245361475060007376"
     },
     "user_tz": -120
    },
    "id": "Tr8kR6CtZ7-w",
    "outputId": "f3e97274-f476-4b68-d282-f022de1ceb82"
   },
   "outputs": [
    {
     "data": {
      "text/html": [
       "<div>\n",
       "<style scoped>\n",
       "    .dataframe tbody tr th:only-of-type {\n",
       "        vertical-align: middle;\n",
       "    }\n",
       "\n",
       "    .dataframe tbody tr th {\n",
       "        vertical-align: top;\n",
       "    }\n",
       "\n",
       "    .dataframe thead th {\n",
       "        text-align: right;\n",
       "    }\n",
       "</style>\n",
       "<table border=\"1\" class=\"dataframe\">\n",
       "  <thead>\n",
       "    <tr style=\"text-align: right;\">\n",
       "      <th></th>\n",
       "      <th>offertype</th>\n",
       "      <th>vehicletype</th>\n",
       "      <th>yearofregistration</th>\n",
       "      <th>gearbox</th>\n",
       "      <th>powerps</th>\n",
       "      <th>model</th>\n",
       "      <th>kilometer</th>\n",
       "      <th>monthofregistration</th>\n",
       "      <th>fueltype</th>\n",
       "      <th>brand</th>\n",
       "      <th>notrepaireddamage</th>\n",
       "      <th>powerps_bin</th>\n",
       "    </tr>\n",
       "  </thead>\n",
       "  <tbody>\n",
       "    <tr>\n",
       "      <th>0</th>\n",
       "      <td>Angebot</td>\n",
       "      <td>suv</td>\n",
       "      <td>2004</td>\n",
       "      <td>automatik</td>\n",
       "      <td>163</td>\n",
       "      <td>grand</td>\n",
       "      <td>125000</td>\n",
       "      <td>8</td>\n",
       "      <td>diesel</td>\n",
       "      <td>jeep</td>\n",
       "      <td>0.0</td>\n",
       "      <td>2</td>\n",
       "    </tr>\n",
       "    <tr>\n",
       "      <th>1</th>\n",
       "      <td>Angebot</td>\n",
       "      <td>kleinwagen</td>\n",
       "      <td>2001</td>\n",
       "      <td>manuell</td>\n",
       "      <td>75</td>\n",
       "      <td>golf</td>\n",
       "      <td>150000</td>\n",
       "      <td>6</td>\n",
       "      <td>benzin</td>\n",
       "      <td>volkswagen</td>\n",
       "      <td>0.0</td>\n",
       "      <td>1</td>\n",
       "    </tr>\n",
       "    <tr>\n",
       "      <th>2</th>\n",
       "      <td>Angebot</td>\n",
       "      <td>kleinwagen</td>\n",
       "      <td>2008</td>\n",
       "      <td>manuell</td>\n",
       "      <td>69</td>\n",
       "      <td>fabia</td>\n",
       "      <td>90000</td>\n",
       "      <td>7</td>\n",
       "      <td>diesel</td>\n",
       "      <td>skoda</td>\n",
       "      <td>0.0</td>\n",
       "      <td>1</td>\n",
       "    </tr>\n",
       "    <tr>\n",
       "      <th>3</th>\n",
       "      <td>Angebot</td>\n",
       "      <td>limousine</td>\n",
       "      <td>1995</td>\n",
       "      <td>manuell</td>\n",
       "      <td>102</td>\n",
       "      <td>3er</td>\n",
       "      <td>150000</td>\n",
       "      <td>10</td>\n",
       "      <td>benzin</td>\n",
       "      <td>bmw</td>\n",
       "      <td>1.0</td>\n",
       "      <td>2</td>\n",
       "    </tr>\n",
       "    <tr>\n",
       "      <th>4</th>\n",
       "      <td>Angebot</td>\n",
       "      <td>cabrio</td>\n",
       "      <td>2004</td>\n",
       "      <td>manuell</td>\n",
       "      <td>109</td>\n",
       "      <td>2_reihe</td>\n",
       "      <td>150000</td>\n",
       "      <td>8</td>\n",
       "      <td>benzin</td>\n",
       "      <td>peugeot</td>\n",
       "      <td>0.0</td>\n",
       "      <td>2</td>\n",
       "    </tr>\n",
       "  </tbody>\n",
       "</table>\n",
       "</div>"
      ],
      "text/plain": [
       "  offertype vehicletype  yearofregistration    gearbox  powerps    model  \\\n",
       "0   Angebot         suv                2004  automatik      163    grand   \n",
       "1   Angebot  kleinwagen                2001    manuell       75     golf   \n",
       "2   Angebot  kleinwagen                2008    manuell       69    fabia   \n",
       "3   Angebot   limousine                1995    manuell      102      3er   \n",
       "4   Angebot      cabrio                2004    manuell      109  2_reihe   \n",
       "\n",
       "   kilometer  monthofregistration fueltype       brand  notrepaireddamage  \\\n",
       "0     125000                    8   diesel        jeep                0.0   \n",
       "1     150000                    6   benzin  volkswagen                0.0   \n",
       "2      90000                    7   diesel       skoda                0.0   \n",
       "3     150000                   10   benzin         bmw                1.0   \n",
       "4     150000                    8   benzin     peugeot                0.0   \n",
       "\n",
       "  powerps_bin  \n",
       "0           2  \n",
       "1           1  \n",
       "2           1  \n",
       "3           2  \n",
       "4           2  "
      ]
     },
     "execution_count": 70,
     "metadata": {},
     "output_type": "execute_result"
    }
   ],
   "source": [
    "IF.head()"
   ]
  },
  {
   "cell_type": "code",
   "execution_count": 71,
   "metadata": {
    "colab": {
     "base_uri": "https://localhost:8080/",
     "height": 203
    },
    "executionInfo": {
     "elapsed": 83,
     "status": "ok",
     "timestamp": 1624022866776,
     "user": {
      "displayName": "Pranav Gouthamm",
      "photoUrl": "https://lh3.googleusercontent.com/a-/AOh14GgTM9a0Bo5w3JrAUEWfKpj-dt1Bw3vI6q-17xEo=s64",
      "userId": "00245361475060007376"
     },
     "user_tz": -120
    },
    "id": "tGxMZsPwaIOm",
    "outputId": "4e9f278f-6200-4e31-e87f-78a40d7da482"
   },
   "outputs": [
    {
     "data": {
      "text/html": [
       "<div>\n",
       "<style scoped>\n",
       "    .dataframe tbody tr th:only-of-type {\n",
       "        vertical-align: middle;\n",
       "    }\n",
       "\n",
       "    .dataframe tbody tr th {\n",
       "        vertical-align: top;\n",
       "    }\n",
       "\n",
       "    .dataframe thead th {\n",
       "        text-align: right;\n",
       "    }\n",
       "</style>\n",
       "<table border=\"1\" class=\"dataframe\">\n",
       "  <thead>\n",
       "    <tr style=\"text-align: right;\">\n",
       "      <th></th>\n",
       "      <th>offertype</th>\n",
       "      <th>vehicletype</th>\n",
       "      <th>yearofregistration</th>\n",
       "      <th>gearbox</th>\n",
       "      <th>model</th>\n",
       "      <th>kilometer</th>\n",
       "      <th>monthofregistration</th>\n",
       "      <th>fueltype</th>\n",
       "      <th>brand</th>\n",
       "      <th>notrepaireddamage</th>\n",
       "      <th>powerps_bin</th>\n",
       "    </tr>\n",
       "  </thead>\n",
       "  <tbody>\n",
       "    <tr>\n",
       "      <th>0</th>\n",
       "      <td>Angebot</td>\n",
       "      <td>suv</td>\n",
       "      <td>2004</td>\n",
       "      <td>automatik</td>\n",
       "      <td>grand</td>\n",
       "      <td>125000</td>\n",
       "      <td>8</td>\n",
       "      <td>diesel</td>\n",
       "      <td>jeep</td>\n",
       "      <td>0.0</td>\n",
       "      <td>2</td>\n",
       "    </tr>\n",
       "    <tr>\n",
       "      <th>1</th>\n",
       "      <td>Angebot</td>\n",
       "      <td>kleinwagen</td>\n",
       "      <td>2001</td>\n",
       "      <td>manuell</td>\n",
       "      <td>golf</td>\n",
       "      <td>150000</td>\n",
       "      <td>6</td>\n",
       "      <td>benzin</td>\n",
       "      <td>volkswagen</td>\n",
       "      <td>0.0</td>\n",
       "      <td>1</td>\n",
       "    </tr>\n",
       "    <tr>\n",
       "      <th>2</th>\n",
       "      <td>Angebot</td>\n",
       "      <td>kleinwagen</td>\n",
       "      <td>2008</td>\n",
       "      <td>manuell</td>\n",
       "      <td>fabia</td>\n",
       "      <td>90000</td>\n",
       "      <td>7</td>\n",
       "      <td>diesel</td>\n",
       "      <td>skoda</td>\n",
       "      <td>0.0</td>\n",
       "      <td>1</td>\n",
       "    </tr>\n",
       "    <tr>\n",
       "      <th>3</th>\n",
       "      <td>Angebot</td>\n",
       "      <td>limousine</td>\n",
       "      <td>1995</td>\n",
       "      <td>manuell</td>\n",
       "      <td>3er</td>\n",
       "      <td>150000</td>\n",
       "      <td>10</td>\n",
       "      <td>benzin</td>\n",
       "      <td>bmw</td>\n",
       "      <td>1.0</td>\n",
       "      <td>2</td>\n",
       "    </tr>\n",
       "    <tr>\n",
       "      <th>4</th>\n",
       "      <td>Angebot</td>\n",
       "      <td>cabrio</td>\n",
       "      <td>2004</td>\n",
       "      <td>manuell</td>\n",
       "      <td>2_reihe</td>\n",
       "      <td>150000</td>\n",
       "      <td>8</td>\n",
       "      <td>benzin</td>\n",
       "      <td>peugeot</td>\n",
       "      <td>0.0</td>\n",
       "      <td>2</td>\n",
       "    </tr>\n",
       "  </tbody>\n",
       "</table>\n",
       "</div>"
      ],
      "text/plain": [
       "  offertype vehicletype  yearofregistration    gearbox    model  kilometer  \\\n",
       "0   Angebot         suv                2004  automatik    grand     125000   \n",
       "1   Angebot  kleinwagen                2001    manuell     golf     150000   \n",
       "2   Angebot  kleinwagen                2008    manuell    fabia      90000   \n",
       "3   Angebot   limousine                1995    manuell      3er     150000   \n",
       "4   Angebot      cabrio                2004    manuell  2_reihe     150000   \n",
       "\n",
       "   monthofregistration fueltype       brand  notrepaireddamage powerps_bin  \n",
       "0                    8   diesel        jeep                0.0           2  \n",
       "1                    6   benzin  volkswagen                0.0           1  \n",
       "2                    7   diesel       skoda                0.0           1  \n",
       "3                   10   benzin         bmw                1.0           2  \n",
       "4                    8   benzin     peugeot                0.0           2  "
      ]
     },
     "execution_count": 71,
     "metadata": {},
     "output_type": "execute_result"
    }
   ],
   "source": [
    "IF2 = IF.drop(['powerps'], axis=1)\n",
    "IF2.head()"
   ]
  },
  {
   "cell_type": "code",
   "execution_count": 72,
   "metadata": {
    "colab": {
     "base_uri": "https://localhost:8080/"
    },
    "executionInfo": {
     "elapsed": 87,
     "status": "ok",
     "timestamp": 1624022866784,
     "user": {
      "displayName": "Pranav Gouthamm",
      "photoUrl": "https://lh3.googleusercontent.com/a-/AOh14GgTM9a0Bo5w3JrAUEWfKpj-dt1Bw3vI6q-17xEo=s64",
      "userId": "00245361475060007376"
     },
     "user_tz": -120
    },
    "id": "UYw4QpPbASnH",
    "outputId": "876e8d82-428d-4550-df2e-d6fa904c9202"
   },
   "outputs": [
    {
     "data": {
      "text/plain": [
       "(242901, 11)"
      ]
     },
     "execution_count": 72,
     "metadata": {},
     "output_type": "execute_result"
    }
   ],
   "source": [
    "IF2.shape"
   ]
  },
  {
   "cell_type": "code",
   "execution_count": 73,
   "metadata": {
    "colab": {
     "base_uri": "https://localhost:8080/",
     "height": 203
    },
    "executionInfo": {
     "elapsed": 80,
     "status": "ok",
     "timestamp": 1624022866788,
     "user": {
      "displayName": "Pranav Gouthamm",
      "photoUrl": "https://lh3.googleusercontent.com/a-/AOh14GgTM9a0Bo5w3JrAUEWfKpj-dt1Bw3vI6q-17xEo=s64",
      "userId": "00245361475060007376"
     },
     "user_tz": -120
    },
    "id": "RhHFsbOW-sJT",
    "outputId": "198f763c-c36c-432d-f192-ae70ddbaa335"
   },
   "outputs": [
    {
     "data": {
      "text/html": [
       "<div>\n",
       "<style scoped>\n",
       "    .dataframe tbody tr th:only-of-type {\n",
       "        vertical-align: middle;\n",
       "    }\n",
       "\n",
       "    .dataframe tbody tr th {\n",
       "        vertical-align: top;\n",
       "    }\n",
       "\n",
       "    .dataframe thead th {\n",
       "        text-align: right;\n",
       "    }\n",
       "</style>\n",
       "<table border=\"1\" class=\"dataframe\">\n",
       "  <thead>\n",
       "    <tr style=\"text-align: right;\">\n",
       "      <th></th>\n",
       "      <th>yearofregistration</th>\n",
       "    </tr>\n",
       "  </thead>\n",
       "  <tbody>\n",
       "    <tr>\n",
       "      <th>0</th>\n",
       "      <td>2004</td>\n",
       "    </tr>\n",
       "    <tr>\n",
       "      <th>1</th>\n",
       "      <td>2001</td>\n",
       "    </tr>\n",
       "    <tr>\n",
       "      <th>2</th>\n",
       "      <td>2008</td>\n",
       "    </tr>\n",
       "    <tr>\n",
       "      <th>3</th>\n",
       "      <td>1995</td>\n",
       "    </tr>\n",
       "    <tr>\n",
       "      <th>4</th>\n",
       "      <td>2004</td>\n",
       "    </tr>\n",
       "  </tbody>\n",
       "</table>\n",
       "</div>"
      ],
      "text/plain": [
       "   yearofregistration\n",
       "0                2004\n",
       "1                2001\n",
       "2                2008\n",
       "3                1995\n",
       "4                2004"
      ]
     },
     "execution_count": 73,
     "metadata": {},
     "output_type": "execute_result"
    }
   ],
   "source": [
    "yearofreg = pd.DataFrame(IF2['yearofregistration'])\n",
    "yearofreg.head()"
   ]
  },
  {
   "cell_type": "code",
   "execution_count": 74,
   "metadata": {
    "executionInfo": {
     "elapsed": 81,
     "status": "ok",
     "timestamp": 1624022866792,
     "user": {
      "displayName": "Pranav Gouthamm",
      "photoUrl": "https://lh3.googleusercontent.com/a-/AOh14GgTM9a0Bo5w3JrAUEWfKpj-dt1Bw3vI6q-17xEo=s64",
      "userId": "00245361475060007376"
     },
     "user_tz": -120
    },
    "id": "abEN6vKz_HDR"
   },
   "outputs": [],
   "source": [
    "# FOR LABEL ENCODING - THIS WILL BE DONE LATER ON\n",
    "\n",
    "#Train2 = Train2.drop(['yearofregistration'], axis=1)"
   ]
  },
  {
   "cell_type": "code",
   "execution_count": 75,
   "metadata": {
    "executionInfo": {
     "elapsed": 82,
     "status": "ok",
     "timestamp": 1624022866793,
     "user": {
      "displayName": "Pranav Gouthamm",
      "photoUrl": "https://lh3.googleusercontent.com/a-/AOh14GgTM9a0Bo5w3JrAUEWfKpj-dt1Bw3vI6q-17xEo=s64",
      "userId": "00245361475060007376"
     },
     "user_tz": -120
    },
    "id": "oQL1qBRsbKFQ"
   },
   "outputs": [],
   "source": [
    "#Train2 = Train2.apply(LabelEncoder().fit_transform)"
   ]
  },
  {
   "cell_type": "code",
   "execution_count": 76,
   "metadata": {
    "executionInfo": {
     "elapsed": 86,
     "status": "ok",
     "timestamp": 1624022866799,
     "user": {
      "displayName": "Pranav Gouthamm",
      "photoUrl": "https://lh3.googleusercontent.com/a-/AOh14GgTM9a0Bo5w3JrAUEWfKpj-dt1Bw3vI6q-17xEo=s64",
      "userId": "00245361475060007376"
     },
     "user_tz": -120
    },
    "id": "Z0cmYzUDgn2p"
   },
   "outputs": [],
   "source": [
    "#Train2.head()"
   ]
  },
  {
   "cell_type": "code",
   "execution_count": 77,
   "metadata": {
    "executionInfo": {
     "elapsed": 83,
     "status": "ok",
     "timestamp": 1624022867298,
     "user": {
      "displayName": "Pranav Gouthamm",
      "photoUrl": "https://lh3.googleusercontent.com/a-/AOh14GgTM9a0Bo5w3JrAUEWfKpj-dt1Bw3vI6q-17xEo=s64",
      "userId": "00245361475060007376"
     },
     "user_tz": -120
    },
    "id": "L-2g53PD_edl"
   },
   "outputs": [],
   "source": [
    "#Train2 = pd.concat([Train2,yearofreg],axis=1)"
   ]
  },
  {
   "cell_type": "code",
   "execution_count": 78,
   "metadata": {
    "colab": {
     "base_uri": "https://localhost:8080/",
     "height": 203
    },
    "executionInfo": {
     "elapsed": 82,
     "status": "ok",
     "timestamp": 1624022867300,
     "user": {
      "displayName": "Pranav Gouthamm",
      "photoUrl": "https://lh3.googleusercontent.com/a-/AOh14GgTM9a0Bo5w3JrAUEWfKpj-dt1Bw3vI6q-17xEo=s64",
      "userId": "00245361475060007376"
     },
     "user_tz": -120
    },
    "id": "EN5ElcsEANmX",
    "outputId": "6f5bf416-f39d-4a37-f051-16eaf80705d0"
   },
   "outputs": [
    {
     "data": {
      "text/html": [
       "<div>\n",
       "<style scoped>\n",
       "    .dataframe tbody tr th:only-of-type {\n",
       "        vertical-align: middle;\n",
       "    }\n",
       "\n",
       "    .dataframe tbody tr th {\n",
       "        vertical-align: top;\n",
       "    }\n",
       "\n",
       "    .dataframe thead th {\n",
       "        text-align: right;\n",
       "    }\n",
       "</style>\n",
       "<table border=\"1\" class=\"dataframe\">\n",
       "  <thead>\n",
       "    <tr style=\"text-align: right;\">\n",
       "      <th></th>\n",
       "      <th>offertype</th>\n",
       "      <th>vehicletype</th>\n",
       "      <th>yearofregistration</th>\n",
       "      <th>gearbox</th>\n",
       "      <th>model</th>\n",
       "      <th>kilometer</th>\n",
       "      <th>monthofregistration</th>\n",
       "      <th>fueltype</th>\n",
       "      <th>brand</th>\n",
       "      <th>notrepaireddamage</th>\n",
       "      <th>powerps_bin</th>\n",
       "    </tr>\n",
       "  </thead>\n",
       "  <tbody>\n",
       "    <tr>\n",
       "      <th>0</th>\n",
       "      <td>Angebot</td>\n",
       "      <td>suv</td>\n",
       "      <td>2004</td>\n",
       "      <td>automatik</td>\n",
       "      <td>grand</td>\n",
       "      <td>125000</td>\n",
       "      <td>8</td>\n",
       "      <td>diesel</td>\n",
       "      <td>jeep</td>\n",
       "      <td>0.0</td>\n",
       "      <td>2</td>\n",
       "    </tr>\n",
       "    <tr>\n",
       "      <th>1</th>\n",
       "      <td>Angebot</td>\n",
       "      <td>kleinwagen</td>\n",
       "      <td>2001</td>\n",
       "      <td>manuell</td>\n",
       "      <td>golf</td>\n",
       "      <td>150000</td>\n",
       "      <td>6</td>\n",
       "      <td>benzin</td>\n",
       "      <td>volkswagen</td>\n",
       "      <td>0.0</td>\n",
       "      <td>1</td>\n",
       "    </tr>\n",
       "    <tr>\n",
       "      <th>2</th>\n",
       "      <td>Angebot</td>\n",
       "      <td>kleinwagen</td>\n",
       "      <td>2008</td>\n",
       "      <td>manuell</td>\n",
       "      <td>fabia</td>\n",
       "      <td>90000</td>\n",
       "      <td>7</td>\n",
       "      <td>diesel</td>\n",
       "      <td>skoda</td>\n",
       "      <td>0.0</td>\n",
       "      <td>1</td>\n",
       "    </tr>\n",
       "    <tr>\n",
       "      <th>3</th>\n",
       "      <td>Angebot</td>\n",
       "      <td>limousine</td>\n",
       "      <td>1995</td>\n",
       "      <td>manuell</td>\n",
       "      <td>3er</td>\n",
       "      <td>150000</td>\n",
       "      <td>10</td>\n",
       "      <td>benzin</td>\n",
       "      <td>bmw</td>\n",
       "      <td>1.0</td>\n",
       "      <td>2</td>\n",
       "    </tr>\n",
       "    <tr>\n",
       "      <th>4</th>\n",
       "      <td>Angebot</td>\n",
       "      <td>cabrio</td>\n",
       "      <td>2004</td>\n",
       "      <td>manuell</td>\n",
       "      <td>2_reihe</td>\n",
       "      <td>150000</td>\n",
       "      <td>8</td>\n",
       "      <td>benzin</td>\n",
       "      <td>peugeot</td>\n",
       "      <td>0.0</td>\n",
       "      <td>2</td>\n",
       "    </tr>\n",
       "  </tbody>\n",
       "</table>\n",
       "</div>"
      ],
      "text/plain": [
       "  offertype vehicletype  yearofregistration    gearbox    model  kilometer  \\\n",
       "0   Angebot         suv                2004  automatik    grand     125000   \n",
       "1   Angebot  kleinwagen                2001    manuell     golf     150000   \n",
       "2   Angebot  kleinwagen                2008    manuell    fabia      90000   \n",
       "3   Angebot   limousine                1995    manuell      3er     150000   \n",
       "4   Angebot      cabrio                2004    manuell  2_reihe     150000   \n",
       "\n",
       "   monthofregistration fueltype       brand  notrepaireddamage powerps_bin  \n",
       "0                    8   diesel        jeep                0.0           2  \n",
       "1                    6   benzin  volkswagen                0.0           1  \n",
       "2                    7   diesel       skoda                0.0           1  \n",
       "3                   10   benzin         bmw                1.0           2  \n",
       "4                    8   benzin     peugeot                0.0           2  "
      ]
     },
     "execution_count": 78,
     "metadata": {},
     "output_type": "execute_result"
    }
   ],
   "source": [
    "IF2.head()"
   ]
  },
  {
   "cell_type": "code",
   "execution_count": 79,
   "metadata": {
    "colab": {
     "base_uri": "https://localhost:8080/"
    },
    "executionInfo": {
     "elapsed": 82,
     "status": "ok",
     "timestamp": 1624022867303,
     "user": {
      "displayName": "Pranav Gouthamm",
      "photoUrl": "https://lh3.googleusercontent.com/a-/AOh14GgTM9a0Bo5w3JrAUEWfKpj-dt1Bw3vI6q-17xEo=s64",
      "userId": "00245361475060007376"
     },
     "user_tz": -120
    },
    "id": "W41wlcXhAYqI",
    "outputId": "15366c44-2688-49d3-c73a-1b6a8641c2c5"
   },
   "outputs": [
    {
     "data": {
      "text/plain": [
       "(242901, 11)"
      ]
     },
     "execution_count": 79,
     "metadata": {},
     "output_type": "execute_result"
    }
   ],
   "source": [
    "IF2.shape"
   ]
  },
  {
   "cell_type": "code",
   "execution_count": 80,
   "metadata": {
    "colab": {
     "base_uri": "https://localhost:8080/"
    },
    "executionInfo": {
     "elapsed": 66,
     "status": "ok",
     "timestamp": 1624022867305,
     "user": {
      "displayName": "Pranav Gouthamm",
      "photoUrl": "https://lh3.googleusercontent.com/a-/AOh14GgTM9a0Bo5w3JrAUEWfKpj-dt1Bw3vI6q-17xEo=s64",
      "userId": "00245361475060007376"
     },
     "user_tz": -120
    },
    "id": "qfZkY7sacDAy",
    "outputId": "bad1036b-471c-4b01-9df2-695f49a39358"
   },
   "outputs": [
    {
     "data": {
      "text/plain": [
       "offertype                2\n",
       "vehicletype              8\n",
       "yearofregistration      38\n",
       "gearbox                  2\n",
       "model                  247\n",
       "kilometer               13\n",
       "monthofregistration     12\n",
       "fueltype                 7\n",
       "brand                   38\n",
       "notrepaireddamage        2\n",
       "powerps_bin              4\n",
       "dtype: int64"
      ]
     },
     "execution_count": 80,
     "metadata": {},
     "output_type": "execute_result"
    }
   ],
   "source": [
    "IF2.nunique()"
   ]
  },
  {
   "cell_type": "code",
   "execution_count": 81,
   "metadata": {
    "executionInfo": {
     "elapsed": 59,
     "status": "ok",
     "timestamp": 1624022867309,
     "user": {
      "displayName": "Pranav Gouthamm",
      "photoUrl": "https://lh3.googleusercontent.com/a-/AOh14GgTM9a0Bo5w3JrAUEWfKpj-dt1Bw3vI6q-17xEo=s64",
      "userId": "00245361475060007376"
     },
     "user_tz": -120
    },
    "id": "GqmrDEuwdcWw"
   },
   "outputs": [],
   "source": [
    "CatCol_IF2 = ['offertype', 'vehicletype','gearbox', 'kilometer','monthofregistration','fueltype','notrepaireddamage','powerps_bin']\n",
    "NumCol_IF2 = ['yearofregistration', 'brand','model']"
   ]
  },
  {
   "cell_type": "code",
   "execution_count": 82,
   "metadata": {
    "executionInfo": {
     "elapsed": 63,
     "status": "ok",
     "timestamp": 1624022867315,
     "user": {
      "displayName": "Pranav Gouthamm",
      "photoUrl": "https://lh3.googleusercontent.com/a-/AOh14GgTM9a0Bo5w3JrAUEWfKpj-dt1Bw3vI6q-17xEo=s64",
      "userId": "00245361475060007376"
     },
     "user_tz": -120
    },
    "id": "Y9T2nwWHfKel"
   },
   "outputs": [],
   "source": [
    "for col in CatCol_IF2:\n",
    "        IF2[col]= IF2[col].astype('category')"
   ]
  },
  {
   "cell_type": "code",
   "execution_count": 83,
   "metadata": {
    "executionInfo": {
     "elapsed": 68,
     "status": "ok",
     "timestamp": 1624022867321,
     "user": {
      "displayName": "Pranav Gouthamm",
      "photoUrl": "https://lh3.googleusercontent.com/a-/AOh14GgTM9a0Bo5w3JrAUEWfKpj-dt1Bw3vI6q-17xEo=s64",
      "userId": "00245361475060007376"
     },
     "user_tz": -120
    },
    "id": "-ElmzLY_gTbM"
   },
   "outputs": [],
   "source": [
    "# COMMENTED DUE TO POSTPONED LABEL ENCODING\n",
    "\n",
    "#for col in NumCol_Train2:\n",
    "#        Train2[col]= Train2[col].astype('int64')"
   ]
  },
  {
   "cell_type": "code",
   "execution_count": 84,
   "metadata": {
    "colab": {
     "base_uri": "https://localhost:8080/"
    },
    "executionInfo": {
     "elapsed": 70,
     "status": "ok",
     "timestamp": 1624022867324,
     "user": {
      "displayName": "Pranav Gouthamm",
      "photoUrl": "https://lh3.googleusercontent.com/a-/AOh14GgTM9a0Bo5w3JrAUEWfKpj-dt1Bw3vI6q-17xEo=s64",
      "userId": "00245361475060007376"
     },
     "user_tz": -120
    },
    "id": "RQAzL705fSNG",
    "outputId": "4faf5b09-1246-458f-d034-2fdcd2e7a1f0"
   },
   "outputs": [
    {
     "data": {
      "text/plain": [
       "offertype              category\n",
       "vehicletype            category\n",
       "yearofregistration        int64\n",
       "gearbox                category\n",
       "model                    object\n",
       "kilometer              category\n",
       "monthofregistration    category\n",
       "fueltype               category\n",
       "brand                    object\n",
       "notrepaireddamage      category\n",
       "powerps_bin            category\n",
       "dtype: object"
      ]
     },
     "execution_count": 84,
     "metadata": {},
     "output_type": "execute_result"
    }
   ],
   "source": [
    "IF2.dtypes"
   ]
  },
  {
   "cell_type": "code",
   "execution_count": 85,
   "metadata": {
    "colab": {
     "base_uri": "https://localhost:8080/"
    },
    "executionInfo": {
     "elapsed": 61,
     "status": "ok",
     "timestamp": 1624022867326,
     "user": {
      "displayName": "Pranav Gouthamm",
      "photoUrl": "https://lh3.googleusercontent.com/a-/AOh14GgTM9a0Bo5w3JrAUEWfKpj-dt1Bw3vI6q-17xEo=s64",
      "userId": "00245361475060007376"
     },
     "user_tz": -120
    },
    "id": "E5nfEZhRjWzZ",
    "outputId": "7b750682-92fc-486d-c8a5-63f7d38d31eb"
   },
   "outputs": [
    {
     "data": {
      "text/plain": [
       "(242901, 11)"
      ]
     },
     "execution_count": 85,
     "metadata": {},
     "output_type": "execute_result"
    }
   ],
   "source": [
    "IF2.shape"
   ]
  },
  {
   "cell_type": "code",
   "execution_count": 86,
   "metadata": {
    "colab": {
     "base_uri": "https://localhost:8080/",
     "height": 240
    },
    "executionInfo": {
     "elapsed": 756,
     "status": "ok",
     "timestamp": 1624022868028,
     "user": {
      "displayName": "Pranav Gouthamm",
      "photoUrl": "https://lh3.googleusercontent.com/a-/AOh14GgTM9a0Bo5w3JrAUEWfKpj-dt1Bw3vI6q-17xEo=s64",
      "userId": "00245361475060007376"
     },
     "user_tz": -120
    },
    "id": "4u5nEdizrpkg",
    "outputId": "5c3bda9f-f61e-48a5-b65b-7347a66df27b"
   },
   "outputs": [
    {
     "name": "stdout",
     "output_type": "stream",
     "text": [
      "(242901, 45)\n"
     ]
    },
    {
     "data": {
      "text/html": [
       "<div>\n",
       "<style scoped>\n",
       "    .dataframe tbody tr th:only-of-type {\n",
       "        vertical-align: middle;\n",
       "    }\n",
       "\n",
       "    .dataframe tbody tr th {\n",
       "        vertical-align: top;\n",
       "    }\n",
       "\n",
       "    .dataframe thead th {\n",
       "        text-align: right;\n",
       "    }\n",
       "</style>\n",
       "<table border=\"1\" class=\"dataframe\">\n",
       "  <thead>\n",
       "    <tr style=\"text-align: right;\">\n",
       "      <th></th>\n",
       "      <th>yearofregistration</th>\n",
       "      <th>model</th>\n",
       "      <th>brand</th>\n",
       "      <th>offertype_Gesuch</th>\n",
       "      <th>vehicletype_bus</th>\n",
       "      <th>vehicletype_cabrio</th>\n",
       "      <th>vehicletype_coupe</th>\n",
       "      <th>vehicletype_kleinwagen</th>\n",
       "      <th>vehicletype_kombi</th>\n",
       "      <th>vehicletype_limousine</th>\n",
       "      <th>...</th>\n",
       "      <th>fueltype_benzin</th>\n",
       "      <th>fueltype_cng</th>\n",
       "      <th>fueltype_diesel</th>\n",
       "      <th>fueltype_elektro</th>\n",
       "      <th>fueltype_hybrid</th>\n",
       "      <th>fueltype_lpg</th>\n",
       "      <th>notrepaireddamage_1.0</th>\n",
       "      <th>powerps_bin_2</th>\n",
       "      <th>powerps_bin_3</th>\n",
       "      <th>powerps_bin_4</th>\n",
       "    </tr>\n",
       "  </thead>\n",
       "  <tbody>\n",
       "    <tr>\n",
       "      <th>0</th>\n",
       "      <td>2004</td>\n",
       "      <td>grand</td>\n",
       "      <td>jeep</td>\n",
       "      <td>0</td>\n",
       "      <td>0</td>\n",
       "      <td>0</td>\n",
       "      <td>0</td>\n",
       "      <td>0</td>\n",
       "      <td>0</td>\n",
       "      <td>0</td>\n",
       "      <td>...</td>\n",
       "      <td>0</td>\n",
       "      <td>0</td>\n",
       "      <td>1</td>\n",
       "      <td>0</td>\n",
       "      <td>0</td>\n",
       "      <td>0</td>\n",
       "      <td>0</td>\n",
       "      <td>1</td>\n",
       "      <td>0</td>\n",
       "      <td>0</td>\n",
       "    </tr>\n",
       "    <tr>\n",
       "      <th>1</th>\n",
       "      <td>2001</td>\n",
       "      <td>golf</td>\n",
       "      <td>volkswagen</td>\n",
       "      <td>0</td>\n",
       "      <td>0</td>\n",
       "      <td>0</td>\n",
       "      <td>0</td>\n",
       "      <td>1</td>\n",
       "      <td>0</td>\n",
       "      <td>0</td>\n",
       "      <td>...</td>\n",
       "      <td>1</td>\n",
       "      <td>0</td>\n",
       "      <td>0</td>\n",
       "      <td>0</td>\n",
       "      <td>0</td>\n",
       "      <td>0</td>\n",
       "      <td>0</td>\n",
       "      <td>0</td>\n",
       "      <td>0</td>\n",
       "      <td>0</td>\n",
       "    </tr>\n",
       "    <tr>\n",
       "      <th>2</th>\n",
       "      <td>2008</td>\n",
       "      <td>fabia</td>\n",
       "      <td>skoda</td>\n",
       "      <td>0</td>\n",
       "      <td>0</td>\n",
       "      <td>0</td>\n",
       "      <td>0</td>\n",
       "      <td>1</td>\n",
       "      <td>0</td>\n",
       "      <td>0</td>\n",
       "      <td>...</td>\n",
       "      <td>0</td>\n",
       "      <td>0</td>\n",
       "      <td>1</td>\n",
       "      <td>0</td>\n",
       "      <td>0</td>\n",
       "      <td>0</td>\n",
       "      <td>0</td>\n",
       "      <td>0</td>\n",
       "      <td>0</td>\n",
       "      <td>0</td>\n",
       "    </tr>\n",
       "    <tr>\n",
       "      <th>3</th>\n",
       "      <td>1995</td>\n",
       "      <td>3er</td>\n",
       "      <td>bmw</td>\n",
       "      <td>0</td>\n",
       "      <td>0</td>\n",
       "      <td>0</td>\n",
       "      <td>0</td>\n",
       "      <td>0</td>\n",
       "      <td>0</td>\n",
       "      <td>1</td>\n",
       "      <td>...</td>\n",
       "      <td>1</td>\n",
       "      <td>0</td>\n",
       "      <td>0</td>\n",
       "      <td>0</td>\n",
       "      <td>0</td>\n",
       "      <td>0</td>\n",
       "      <td>1</td>\n",
       "      <td>1</td>\n",
       "      <td>0</td>\n",
       "      <td>0</td>\n",
       "    </tr>\n",
       "    <tr>\n",
       "      <th>4</th>\n",
       "      <td>2004</td>\n",
       "      <td>2_reihe</td>\n",
       "      <td>peugeot</td>\n",
       "      <td>0</td>\n",
       "      <td>0</td>\n",
       "      <td>1</td>\n",
       "      <td>0</td>\n",
       "      <td>0</td>\n",
       "      <td>0</td>\n",
       "      <td>0</td>\n",
       "      <td>...</td>\n",
       "      <td>1</td>\n",
       "      <td>0</td>\n",
       "      <td>0</td>\n",
       "      <td>0</td>\n",
       "      <td>0</td>\n",
       "      <td>0</td>\n",
       "      <td>0</td>\n",
       "      <td>1</td>\n",
       "      <td>0</td>\n",
       "      <td>0</td>\n",
       "    </tr>\n",
       "  </tbody>\n",
       "</table>\n",
       "<p>5 rows × 45 columns</p>\n",
       "</div>"
      ],
      "text/plain": [
       "   yearofregistration    model       brand  offertype_Gesuch  vehicletype_bus  \\\n",
       "0                2004    grand        jeep                 0                0   \n",
       "1                2001     golf  volkswagen                 0                0   \n",
       "2                2008    fabia       skoda                 0                0   \n",
       "3                1995      3er         bmw                 0                0   \n",
       "4                2004  2_reihe     peugeot                 0                0   \n",
       "\n",
       "   vehicletype_cabrio  vehicletype_coupe  vehicletype_kleinwagen  \\\n",
       "0                   0                  0                       0   \n",
       "1                   0                  0                       1   \n",
       "2                   0                  0                       1   \n",
       "3                   0                  0                       0   \n",
       "4                   1                  0                       0   \n",
       "\n",
       "   vehicletype_kombi  vehicletype_limousine  ...  fueltype_benzin  \\\n",
       "0                  0                      0  ...                0   \n",
       "1                  0                      0  ...                1   \n",
       "2                  0                      0  ...                0   \n",
       "3                  0                      1  ...                1   \n",
       "4                  0                      0  ...                1   \n",
       "\n",
       "   fueltype_cng  fueltype_diesel  fueltype_elektro  fueltype_hybrid  \\\n",
       "0             0                1                 0                0   \n",
       "1             0                0                 0                0   \n",
       "2             0                1                 0                0   \n",
       "3             0                0                 0                0   \n",
       "4             0                0                 0                0   \n",
       "\n",
       "   fueltype_lpg  notrepaireddamage_1.0  powerps_bin_2  powerps_bin_3  \\\n",
       "0             0                      0              1              0   \n",
       "1             0                      0              0              0   \n",
       "2             0                      0              0              0   \n",
       "3             0                      1              1              0   \n",
       "4             0                      0              1              0   \n",
       "\n",
       "   powerps_bin_4  \n",
       "0              0  \n",
       "1              0  \n",
       "2              0  \n",
       "3              0  \n",
       "4              0  \n",
       "\n",
       "[5 rows x 45 columns]"
      ]
     },
     "execution_count": 86,
     "metadata": {},
     "output_type": "execute_result"
    }
   ],
   "source": [
    "IF3 = pd.get_dummies(IF2, columns=['offertype', 'vehicletype','gearbox', 'kilometer','monthofregistration','fueltype','notrepaireddamage','powerps_bin'], drop_first= True, dtype= 'int')\n",
    "print(IF3.shape)\n",
    "IF3.head()"
   ]
  },
  {
   "cell_type": "code",
   "execution_count": 87,
   "metadata": {
    "executionInfo": {
     "elapsed": 730,
     "status": "ok",
     "timestamp": 1624022868748,
     "user": {
      "displayName": "Pranav Gouthamm",
      "photoUrl": "https://lh3.googleusercontent.com/a-/AOh14GgTM9a0Bo5w3JrAUEWfKpj-dt1Bw3vI6q-17xEo=s64",
      "userId": "00245361475060007376"
     },
     "user_tz": -120
    },
    "id": "zQ5pBP9jh5d2"
   },
   "outputs": [],
   "source": [
    "TypeCov = IF3.drop(['yearofregistration','brand','model'], axis=1)\n",
    "\n",
    "for col in TypeCov:\n",
    "        IF3[col]= IF3[col].astype('category')"
   ]
  },
  {
   "cell_type": "code",
   "execution_count": 88,
   "metadata": {
    "colab": {
     "base_uri": "https://localhost:8080/"
    },
    "executionInfo": {
     "elapsed": 147,
     "status": "ok",
     "timestamp": 1624022868767,
     "user": {
      "displayName": "Pranav Gouthamm",
      "photoUrl": "https://lh3.googleusercontent.com/a-/AOh14GgTM9a0Bo5w3JrAUEWfKpj-dt1Bw3vI6q-17xEo=s64",
      "userId": "00245361475060007376"
     },
     "user_tz": -120
    },
    "id": "IJ_akgIH3chz",
    "outputId": "b491a352-6129-4060-a2bc-c0aaeed3bcad"
   },
   "outputs": [
    {
     "data": {
      "text/plain": [
       "yearofregistration           int64\n",
       "model                       object\n",
       "brand                       object\n",
       "offertype_Gesuch          category\n",
       "vehicletype_bus           category\n",
       "vehicletype_cabrio        category\n",
       "vehicletype_coupe         category\n",
       "vehicletype_kleinwagen    category\n",
       "vehicletype_kombi         category\n",
       "vehicletype_limousine     category\n",
       "vehicletype_suv           category\n",
       "gearbox_manuell           category\n",
       "kilometer_10000           category\n",
       "kilometer_20000           category\n",
       "kilometer_30000           category\n",
       "kilometer_40000           category\n",
       "kilometer_50000           category\n",
       "kilometer_60000           category\n",
       "kilometer_70000           category\n",
       "kilometer_80000           category\n",
       "kilometer_90000           category\n",
       "kilometer_100000          category\n",
       "kilometer_125000          category\n",
       "kilometer_150000          category\n",
       "monthofregistration_2     category\n",
       "monthofregistration_3     category\n",
       "monthofregistration_4     category\n",
       "monthofregistration_5     category\n",
       "monthofregistration_6     category\n",
       "monthofregistration_7     category\n",
       "monthofregistration_8     category\n",
       "monthofregistration_9     category\n",
       "monthofregistration_10    category\n",
       "monthofregistration_11    category\n",
       "monthofregistration_12    category\n",
       "fueltype_benzin           category\n",
       "fueltype_cng              category\n",
       "fueltype_diesel           category\n",
       "fueltype_elektro          category\n",
       "fueltype_hybrid           category\n",
       "fueltype_lpg              category\n",
       "notrepaireddamage_1.0     category\n",
       "powerps_bin_2             category\n",
       "powerps_bin_3             category\n",
       "powerps_bin_4             category\n",
       "dtype: object"
      ]
     },
     "execution_count": 88,
     "metadata": {},
     "output_type": "execute_result"
    }
   ],
   "source": [
    "IF3.dtypes"
   ]
  },
  {
   "cell_type": "code",
   "execution_count": 89,
   "metadata": {
    "colab": {
     "base_uri": "https://localhost:8080/",
     "height": 223
    },
    "executionInfo": {
     "elapsed": 140,
     "status": "ok",
     "timestamp": 1624022868773,
     "user": {
      "displayName": "Pranav Gouthamm",
      "photoUrl": "https://lh3.googleusercontent.com/a-/AOh14GgTM9a0Bo5w3JrAUEWfKpj-dt1Bw3vI6q-17xEo=s64",
      "userId": "00245361475060007376"
     },
     "user_tz": -120
    },
    "id": "Q8oohxPDpLZQ",
    "outputId": "6c2176bd-431b-436d-a3f6-3d7503093cdc"
   },
   "outputs": [
    {
     "data": {
      "text/html": [
       "<div>\n",
       "<style scoped>\n",
       "    .dataframe tbody tr th:only-of-type {\n",
       "        vertical-align: middle;\n",
       "    }\n",
       "\n",
       "    .dataframe tbody tr th {\n",
       "        vertical-align: top;\n",
       "    }\n",
       "\n",
       "    .dataframe thead th {\n",
       "        text-align: right;\n",
       "    }\n",
       "</style>\n",
       "<table border=\"1\" class=\"dataframe\">\n",
       "  <thead>\n",
       "    <tr style=\"text-align: right;\">\n",
       "      <th></th>\n",
       "      <th>yearofregistration</th>\n",
       "      <th>model</th>\n",
       "      <th>brand</th>\n",
       "      <th>offertype_Gesuch</th>\n",
       "      <th>vehicletype_bus</th>\n",
       "      <th>vehicletype_cabrio</th>\n",
       "      <th>vehicletype_coupe</th>\n",
       "      <th>vehicletype_kleinwagen</th>\n",
       "      <th>vehicletype_kombi</th>\n",
       "      <th>vehicletype_limousine</th>\n",
       "      <th>...</th>\n",
       "      <th>fueltype_benzin</th>\n",
       "      <th>fueltype_cng</th>\n",
       "      <th>fueltype_diesel</th>\n",
       "      <th>fueltype_elektro</th>\n",
       "      <th>fueltype_hybrid</th>\n",
       "      <th>fueltype_lpg</th>\n",
       "      <th>notrepaireddamage_1.0</th>\n",
       "      <th>powerps_bin_2</th>\n",
       "      <th>powerps_bin_3</th>\n",
       "      <th>powerps_bin_4</th>\n",
       "    </tr>\n",
       "  </thead>\n",
       "  <tbody>\n",
       "    <tr>\n",
       "      <th>0</th>\n",
       "      <td>2004</td>\n",
       "      <td>grand</td>\n",
       "      <td>jeep</td>\n",
       "      <td>0</td>\n",
       "      <td>0</td>\n",
       "      <td>0</td>\n",
       "      <td>0</td>\n",
       "      <td>0</td>\n",
       "      <td>0</td>\n",
       "      <td>0</td>\n",
       "      <td>...</td>\n",
       "      <td>0</td>\n",
       "      <td>0</td>\n",
       "      <td>1</td>\n",
       "      <td>0</td>\n",
       "      <td>0</td>\n",
       "      <td>0</td>\n",
       "      <td>0</td>\n",
       "      <td>1</td>\n",
       "      <td>0</td>\n",
       "      <td>0</td>\n",
       "    </tr>\n",
       "    <tr>\n",
       "      <th>1</th>\n",
       "      <td>2001</td>\n",
       "      <td>golf</td>\n",
       "      <td>volkswagen</td>\n",
       "      <td>0</td>\n",
       "      <td>0</td>\n",
       "      <td>0</td>\n",
       "      <td>0</td>\n",
       "      <td>1</td>\n",
       "      <td>0</td>\n",
       "      <td>0</td>\n",
       "      <td>...</td>\n",
       "      <td>1</td>\n",
       "      <td>0</td>\n",
       "      <td>0</td>\n",
       "      <td>0</td>\n",
       "      <td>0</td>\n",
       "      <td>0</td>\n",
       "      <td>0</td>\n",
       "      <td>0</td>\n",
       "      <td>0</td>\n",
       "      <td>0</td>\n",
       "    </tr>\n",
       "    <tr>\n",
       "      <th>2</th>\n",
       "      <td>2008</td>\n",
       "      <td>fabia</td>\n",
       "      <td>skoda</td>\n",
       "      <td>0</td>\n",
       "      <td>0</td>\n",
       "      <td>0</td>\n",
       "      <td>0</td>\n",
       "      <td>1</td>\n",
       "      <td>0</td>\n",
       "      <td>0</td>\n",
       "      <td>...</td>\n",
       "      <td>0</td>\n",
       "      <td>0</td>\n",
       "      <td>1</td>\n",
       "      <td>0</td>\n",
       "      <td>0</td>\n",
       "      <td>0</td>\n",
       "      <td>0</td>\n",
       "      <td>0</td>\n",
       "      <td>0</td>\n",
       "      <td>0</td>\n",
       "    </tr>\n",
       "    <tr>\n",
       "      <th>3</th>\n",
       "      <td>1995</td>\n",
       "      <td>3er</td>\n",
       "      <td>bmw</td>\n",
       "      <td>0</td>\n",
       "      <td>0</td>\n",
       "      <td>0</td>\n",
       "      <td>0</td>\n",
       "      <td>0</td>\n",
       "      <td>0</td>\n",
       "      <td>1</td>\n",
       "      <td>...</td>\n",
       "      <td>1</td>\n",
       "      <td>0</td>\n",
       "      <td>0</td>\n",
       "      <td>0</td>\n",
       "      <td>0</td>\n",
       "      <td>0</td>\n",
       "      <td>1</td>\n",
       "      <td>1</td>\n",
       "      <td>0</td>\n",
       "      <td>0</td>\n",
       "    </tr>\n",
       "    <tr>\n",
       "      <th>4</th>\n",
       "      <td>2004</td>\n",
       "      <td>2_reihe</td>\n",
       "      <td>peugeot</td>\n",
       "      <td>0</td>\n",
       "      <td>0</td>\n",
       "      <td>1</td>\n",
       "      <td>0</td>\n",
       "      <td>0</td>\n",
       "      <td>0</td>\n",
       "      <td>0</td>\n",
       "      <td>...</td>\n",
       "      <td>1</td>\n",
       "      <td>0</td>\n",
       "      <td>0</td>\n",
       "      <td>0</td>\n",
       "      <td>0</td>\n",
       "      <td>0</td>\n",
       "      <td>0</td>\n",
       "      <td>1</td>\n",
       "      <td>0</td>\n",
       "      <td>0</td>\n",
       "    </tr>\n",
       "  </tbody>\n",
       "</table>\n",
       "<p>5 rows × 45 columns</p>\n",
       "</div>"
      ],
      "text/plain": [
       "   yearofregistration    model       brand offertype_Gesuch vehicletype_bus  \\\n",
       "0                2004    grand        jeep                0               0   \n",
       "1                2001     golf  volkswagen                0               0   \n",
       "2                2008    fabia       skoda                0               0   \n",
       "3                1995      3er         bmw                0               0   \n",
       "4                2004  2_reihe     peugeot                0               0   \n",
       "\n",
       "  vehicletype_cabrio vehicletype_coupe vehicletype_kleinwagen  \\\n",
       "0                  0                 0                      0   \n",
       "1                  0                 0                      1   \n",
       "2                  0                 0                      1   \n",
       "3                  0                 0                      0   \n",
       "4                  1                 0                      0   \n",
       "\n",
       "  vehicletype_kombi vehicletype_limousine  ... fueltype_benzin fueltype_cng  \\\n",
       "0                 0                     0  ...               0            0   \n",
       "1                 0                     0  ...               1            0   \n",
       "2                 0                     0  ...               0            0   \n",
       "3                 0                     1  ...               1            0   \n",
       "4                 0                     0  ...               1            0   \n",
       "\n",
       "  fueltype_diesel fueltype_elektro fueltype_hybrid fueltype_lpg  \\\n",
       "0               1                0               0            0   \n",
       "1               0                0               0            0   \n",
       "2               1                0               0            0   \n",
       "3               0                0               0            0   \n",
       "4               0                0               0            0   \n",
       "\n",
       "  notrepaireddamage_1.0 powerps_bin_2 powerps_bin_3 powerps_bin_4  \n",
       "0                     0             1             0             0  \n",
       "1                     0             0             0             0  \n",
       "2                     0             0             0             0  \n",
       "3                     1             1             0             0  \n",
       "4                     0             1             0             0  \n",
       "\n",
       "[5 rows x 45 columns]"
      ]
     },
     "execution_count": 89,
     "metadata": {},
     "output_type": "execute_result"
    }
   ],
   "source": [
    "IF3.head()"
   ]
  },
  {
   "cell_type": "code",
   "execution_count": 90,
   "metadata": {
    "colab": {
     "base_uri": "https://localhost:8080/"
    },
    "executionInfo": {
     "elapsed": 143,
     "status": "ok",
     "timestamp": 1624022868779,
     "user": {
      "displayName": "Pranav Gouthamm",
      "photoUrl": "https://lh3.googleusercontent.com/a-/AOh14GgTM9a0Bo5w3JrAUEWfKpj-dt1Bw3vI6q-17xEo=s64",
      "userId": "00245361475060007376"
     },
     "user_tz": -120
    },
    "id": "qgvHsvMTA2lU",
    "outputId": "b23ef813-5542-481f-854a-982af0c7fb34"
   },
   "outputs": [
    {
     "data": {
      "text/plain": [
       "(242901, 45)"
      ]
     },
     "execution_count": 90,
     "metadata": {},
     "output_type": "execute_result"
    }
   ],
   "source": [
    "IF3.shape"
   ]
  },
  {
   "cell_type": "code",
   "execution_count": 91,
   "metadata": {
    "executionInfo": {
     "elapsed": 130,
     "status": "ok",
     "timestamp": 1624022868782,
     "user": {
      "displayName": "Pranav Gouthamm",
      "photoUrl": "https://lh3.googleusercontent.com/a-/AOh14GgTM9a0Bo5w3JrAUEWfKpj-dt1Bw3vI6q-17xEo=s64",
      "userId": "00245361475060007376"
     },
     "user_tz": -120
    },
    "id": "C8PUqMn-34Cq"
   },
   "outputs": [],
   "source": [
    "IF4 = IF3[['brand', 'model']]"
   ]
  },
  {
   "cell_type": "code",
   "execution_count": 92,
   "metadata": {
    "executionInfo": {
     "elapsed": 143,
     "status": "ok",
     "timestamp": 1624022868796,
     "user": {
      "displayName": "Pranav Gouthamm",
      "photoUrl": "https://lh3.googleusercontent.com/a-/AOh14GgTM9a0Bo5w3JrAUEWfKpj-dt1Bw3vI6q-17xEo=s64",
      "userId": "00245361475060007376"
     },
     "user_tz": -120
    },
    "id": "X-0sEsui4_gC"
   },
   "outputs": [],
   "source": [
    "IF3 = IF3.drop(['brand', 'model'], axis=1)"
   ]
  },
  {
   "cell_type": "code",
   "execution_count": 93,
   "metadata": {
    "colab": {
     "base_uri": "https://localhost:8080/",
     "height": 223
    },
    "executionInfo": {
     "elapsed": 144,
     "status": "ok",
     "timestamp": 1624022868798,
     "user": {
      "displayName": "Pranav Gouthamm",
      "photoUrl": "https://lh3.googleusercontent.com/a-/AOh14GgTM9a0Bo5w3JrAUEWfKpj-dt1Bw3vI6q-17xEo=s64",
      "userId": "00245361475060007376"
     },
     "user_tz": -120
    },
    "id": "QaB-gRLN5X8L",
    "outputId": "8e705ab0-c4d1-42cd-b3b5-d6d4446bb646"
   },
   "outputs": [
    {
     "data": {
      "text/html": [
       "<div>\n",
       "<style scoped>\n",
       "    .dataframe tbody tr th:only-of-type {\n",
       "        vertical-align: middle;\n",
       "    }\n",
       "\n",
       "    .dataframe tbody tr th {\n",
       "        vertical-align: top;\n",
       "    }\n",
       "\n",
       "    .dataframe thead th {\n",
       "        text-align: right;\n",
       "    }\n",
       "</style>\n",
       "<table border=\"1\" class=\"dataframe\">\n",
       "  <thead>\n",
       "    <tr style=\"text-align: right;\">\n",
       "      <th></th>\n",
       "      <th>yearofregistration</th>\n",
       "      <th>offertype_Gesuch</th>\n",
       "      <th>vehicletype_bus</th>\n",
       "      <th>vehicletype_cabrio</th>\n",
       "      <th>vehicletype_coupe</th>\n",
       "      <th>vehicletype_kleinwagen</th>\n",
       "      <th>vehicletype_kombi</th>\n",
       "      <th>vehicletype_limousine</th>\n",
       "      <th>vehicletype_suv</th>\n",
       "      <th>gearbox_manuell</th>\n",
       "      <th>...</th>\n",
       "      <th>fueltype_benzin</th>\n",
       "      <th>fueltype_cng</th>\n",
       "      <th>fueltype_diesel</th>\n",
       "      <th>fueltype_elektro</th>\n",
       "      <th>fueltype_hybrid</th>\n",
       "      <th>fueltype_lpg</th>\n",
       "      <th>notrepaireddamage_1.0</th>\n",
       "      <th>powerps_bin_2</th>\n",
       "      <th>powerps_bin_3</th>\n",
       "      <th>powerps_bin_4</th>\n",
       "    </tr>\n",
       "  </thead>\n",
       "  <tbody>\n",
       "    <tr>\n",
       "      <th>0</th>\n",
       "      <td>2004</td>\n",
       "      <td>0</td>\n",
       "      <td>0</td>\n",
       "      <td>0</td>\n",
       "      <td>0</td>\n",
       "      <td>0</td>\n",
       "      <td>0</td>\n",
       "      <td>0</td>\n",
       "      <td>1</td>\n",
       "      <td>0</td>\n",
       "      <td>...</td>\n",
       "      <td>0</td>\n",
       "      <td>0</td>\n",
       "      <td>1</td>\n",
       "      <td>0</td>\n",
       "      <td>0</td>\n",
       "      <td>0</td>\n",
       "      <td>0</td>\n",
       "      <td>1</td>\n",
       "      <td>0</td>\n",
       "      <td>0</td>\n",
       "    </tr>\n",
       "    <tr>\n",
       "      <th>1</th>\n",
       "      <td>2001</td>\n",
       "      <td>0</td>\n",
       "      <td>0</td>\n",
       "      <td>0</td>\n",
       "      <td>0</td>\n",
       "      <td>1</td>\n",
       "      <td>0</td>\n",
       "      <td>0</td>\n",
       "      <td>0</td>\n",
       "      <td>1</td>\n",
       "      <td>...</td>\n",
       "      <td>1</td>\n",
       "      <td>0</td>\n",
       "      <td>0</td>\n",
       "      <td>0</td>\n",
       "      <td>0</td>\n",
       "      <td>0</td>\n",
       "      <td>0</td>\n",
       "      <td>0</td>\n",
       "      <td>0</td>\n",
       "      <td>0</td>\n",
       "    </tr>\n",
       "    <tr>\n",
       "      <th>2</th>\n",
       "      <td>2008</td>\n",
       "      <td>0</td>\n",
       "      <td>0</td>\n",
       "      <td>0</td>\n",
       "      <td>0</td>\n",
       "      <td>1</td>\n",
       "      <td>0</td>\n",
       "      <td>0</td>\n",
       "      <td>0</td>\n",
       "      <td>1</td>\n",
       "      <td>...</td>\n",
       "      <td>0</td>\n",
       "      <td>0</td>\n",
       "      <td>1</td>\n",
       "      <td>0</td>\n",
       "      <td>0</td>\n",
       "      <td>0</td>\n",
       "      <td>0</td>\n",
       "      <td>0</td>\n",
       "      <td>0</td>\n",
       "      <td>0</td>\n",
       "    </tr>\n",
       "    <tr>\n",
       "      <th>3</th>\n",
       "      <td>1995</td>\n",
       "      <td>0</td>\n",
       "      <td>0</td>\n",
       "      <td>0</td>\n",
       "      <td>0</td>\n",
       "      <td>0</td>\n",
       "      <td>0</td>\n",
       "      <td>1</td>\n",
       "      <td>0</td>\n",
       "      <td>1</td>\n",
       "      <td>...</td>\n",
       "      <td>1</td>\n",
       "      <td>0</td>\n",
       "      <td>0</td>\n",
       "      <td>0</td>\n",
       "      <td>0</td>\n",
       "      <td>0</td>\n",
       "      <td>1</td>\n",
       "      <td>1</td>\n",
       "      <td>0</td>\n",
       "      <td>0</td>\n",
       "    </tr>\n",
       "    <tr>\n",
       "      <th>4</th>\n",
       "      <td>2004</td>\n",
       "      <td>0</td>\n",
       "      <td>0</td>\n",
       "      <td>1</td>\n",
       "      <td>0</td>\n",
       "      <td>0</td>\n",
       "      <td>0</td>\n",
       "      <td>0</td>\n",
       "      <td>0</td>\n",
       "      <td>1</td>\n",
       "      <td>...</td>\n",
       "      <td>1</td>\n",
       "      <td>0</td>\n",
       "      <td>0</td>\n",
       "      <td>0</td>\n",
       "      <td>0</td>\n",
       "      <td>0</td>\n",
       "      <td>0</td>\n",
       "      <td>1</td>\n",
       "      <td>0</td>\n",
       "      <td>0</td>\n",
       "    </tr>\n",
       "  </tbody>\n",
       "</table>\n",
       "<p>5 rows × 43 columns</p>\n",
       "</div>"
      ],
      "text/plain": [
       "   yearofregistration offertype_Gesuch vehicletype_bus vehicletype_cabrio  \\\n",
       "0                2004                0               0                  0   \n",
       "1                2001                0               0                  0   \n",
       "2                2008                0               0                  0   \n",
       "3                1995                0               0                  0   \n",
       "4                2004                0               0                  1   \n",
       "\n",
       "  vehicletype_coupe vehicletype_kleinwagen vehicletype_kombi  \\\n",
       "0                 0                      0                 0   \n",
       "1                 0                      1                 0   \n",
       "2                 0                      1                 0   \n",
       "3                 0                      0                 0   \n",
       "4                 0                      0                 0   \n",
       "\n",
       "  vehicletype_limousine vehicletype_suv gearbox_manuell  ... fueltype_benzin  \\\n",
       "0                     0               1               0  ...               0   \n",
       "1                     0               0               1  ...               1   \n",
       "2                     0               0               1  ...               0   \n",
       "3                     1               0               1  ...               1   \n",
       "4                     0               0               1  ...               1   \n",
       "\n",
       "  fueltype_cng fueltype_diesel fueltype_elektro fueltype_hybrid fueltype_lpg  \\\n",
       "0            0               1                0               0            0   \n",
       "1            0               0                0               0            0   \n",
       "2            0               1                0               0            0   \n",
       "3            0               0                0               0            0   \n",
       "4            0               0                0               0            0   \n",
       "\n",
       "  notrepaireddamage_1.0 powerps_bin_2 powerps_bin_3 powerps_bin_4  \n",
       "0                     0             1             0             0  \n",
       "1                     0             0             0             0  \n",
       "2                     0             0             0             0  \n",
       "3                     1             1             0             0  \n",
       "4                     0             1             0             0  \n",
       "\n",
       "[5 rows x 43 columns]"
      ]
     },
     "execution_count": 93,
     "metadata": {},
     "output_type": "execute_result"
    }
   ],
   "source": [
    "IF3.head()"
   ]
  },
  {
   "cell_type": "code",
   "execution_count": 94,
   "metadata": {
    "colab": {
     "base_uri": "https://localhost:8080/",
     "height": 203
    },
    "executionInfo": {
     "elapsed": 143,
     "status": "ok",
     "timestamp": 1624022868801,
     "user": {
      "displayName": "Pranav Gouthamm",
      "photoUrl": "https://lh3.googleusercontent.com/a-/AOh14GgTM9a0Bo5w3JrAUEWfKpj-dt1Bw3vI6q-17xEo=s64",
      "userId": "00245361475060007376"
     },
     "user_tz": -120
    },
    "id": "3xknLGB04JMl",
    "outputId": "3191c987-a6b3-47cd-e324-33c174591358"
   },
   "outputs": [
    {
     "data": {
      "text/html": [
       "<div>\n",
       "<style scoped>\n",
       "    .dataframe tbody tr th:only-of-type {\n",
       "        vertical-align: middle;\n",
       "    }\n",
       "\n",
       "    .dataframe tbody tr th {\n",
       "        vertical-align: top;\n",
       "    }\n",
       "\n",
       "    .dataframe thead th {\n",
       "        text-align: right;\n",
       "    }\n",
       "</style>\n",
       "<table border=\"1\" class=\"dataframe\">\n",
       "  <thead>\n",
       "    <tr style=\"text-align: right;\">\n",
       "      <th></th>\n",
       "      <th>brand</th>\n",
       "      <th>model</th>\n",
       "    </tr>\n",
       "  </thead>\n",
       "  <tbody>\n",
       "    <tr>\n",
       "      <th>0</th>\n",
       "      <td>jeep</td>\n",
       "      <td>grand</td>\n",
       "    </tr>\n",
       "    <tr>\n",
       "      <th>1</th>\n",
       "      <td>volkswagen</td>\n",
       "      <td>golf</td>\n",
       "    </tr>\n",
       "    <tr>\n",
       "      <th>2</th>\n",
       "      <td>skoda</td>\n",
       "      <td>fabia</td>\n",
       "    </tr>\n",
       "    <tr>\n",
       "      <th>3</th>\n",
       "      <td>bmw</td>\n",
       "      <td>3er</td>\n",
       "    </tr>\n",
       "    <tr>\n",
       "      <th>4</th>\n",
       "      <td>peugeot</td>\n",
       "      <td>2_reihe</td>\n",
       "    </tr>\n",
       "  </tbody>\n",
       "</table>\n",
       "</div>"
      ],
      "text/plain": [
       "        brand    model\n",
       "0        jeep    grand\n",
       "1  volkswagen     golf\n",
       "2       skoda    fabia\n",
       "3         bmw      3er\n",
       "4     peugeot  2_reihe"
      ]
     },
     "execution_count": 94,
     "metadata": {},
     "output_type": "execute_result"
    }
   ],
   "source": [
    "IF4.head()"
   ]
  },
  {
   "cell_type": "code",
   "execution_count": 95,
   "metadata": {
    "executionInfo": {
     "elapsed": 137,
     "status": "ok",
     "timestamp": 1624022868805,
     "user": {
      "displayName": "Pranav Gouthamm",
      "photoUrl": "https://lh3.googleusercontent.com/a-/AOh14GgTM9a0Bo5w3JrAUEWfKpj-dt1Bw3vI6q-17xEo=s64",
      "userId": "00245361475060007376"
     },
     "user_tz": -120
    },
    "id": "yQa_8AH6DjjG"
   },
   "outputs": [],
   "source": [
    "brandvalue_o = pd.DataFrame(IF4['brand'].unique())\n",
    "brandvalue_o = brandvalue_o.sort_values(by=0)\n",
    "brandvalue_o = brandvalue_o.rename(columns={0: 'brand'})"
   ]
  },
  {
   "cell_type": "code",
   "execution_count": 96,
   "metadata": {
    "executionInfo": {
     "elapsed": 137,
     "status": "ok",
     "timestamp": 1624022868806,
     "user": {
      "displayName": "Pranav Gouthamm",
      "photoUrl": "https://lh3.googleusercontent.com/a-/AOh14GgTM9a0Bo5w3JrAUEWfKpj-dt1Bw3vI6q-17xEo=s64",
      "userId": "00245361475060007376"
     },
     "user_tz": -120
    },
    "id": "FH2Fc_lSHR3O"
   },
   "outputs": [],
   "source": [
    "brandvalue_LE = brandvalue_o.apply(LabelEncoder().fit_transform)\n",
    "brandvalue_LE = brandvalue_LE.rename(columns={'brand':'brand_value'})"
   ]
  },
  {
   "cell_type": "code",
   "execution_count": 97,
   "metadata": {
    "executionInfo": {
     "elapsed": 138,
     "status": "ok",
     "timestamp": 1624022868808,
     "user": {
      "displayName": "Pranav Gouthamm",
      "photoUrl": "https://lh3.googleusercontent.com/a-/AOh14GgTM9a0Bo5w3JrAUEWfKpj-dt1Bw3vI6q-17xEo=s64",
      "userId": "00245361475060007376"
     },
     "user_tz": -120
    },
    "id": "txZaXtZYV3w_"
   },
   "outputs": [],
   "source": [
    "brand_df= pd.concat([brandvalue_LE,brandvalue_o],axis=1)"
   ]
  },
  {
   "cell_type": "code",
   "execution_count": 98,
   "metadata": {
    "colab": {
     "base_uri": "https://localhost:8080/",
     "height": 203
    },
    "executionInfo": {
     "elapsed": 140,
     "status": "ok",
     "timestamp": 1624022868811,
     "user": {
      "displayName": "Pranav Gouthamm",
      "photoUrl": "https://lh3.googleusercontent.com/a-/AOh14GgTM9a0Bo5w3JrAUEWfKpj-dt1Bw3vI6q-17xEo=s64",
      "userId": "00245361475060007376"
     },
     "user_tz": -120
    },
    "id": "tNjGnTocnpCB",
    "outputId": "d790902f-b33c-4391-85f7-01b3a0abcad9"
   },
   "outputs": [
    {
     "data": {
      "text/html": [
       "<div>\n",
       "<style scoped>\n",
       "    .dataframe tbody tr th:only-of-type {\n",
       "        vertical-align: middle;\n",
       "    }\n",
       "\n",
       "    .dataframe tbody tr th {\n",
       "        vertical-align: top;\n",
       "    }\n",
       "\n",
       "    .dataframe thead th {\n",
       "        text-align: right;\n",
       "    }\n",
       "</style>\n",
       "<table border=\"1\" class=\"dataframe\">\n",
       "  <thead>\n",
       "    <tr style=\"text-align: right;\">\n",
       "      <th></th>\n",
       "      <th>brand_value</th>\n",
       "      <th>brand</th>\n",
       "    </tr>\n",
       "  </thead>\n",
       "  <tbody>\n",
       "    <tr>\n",
       "      <th>18</th>\n",
       "      <td>0</td>\n",
       "      <td>alfa_romeo</td>\n",
       "    </tr>\n",
       "    <tr>\n",
       "      <th>14</th>\n",
       "      <td>1</td>\n",
       "      <td>audi</td>\n",
       "    </tr>\n",
       "    <tr>\n",
       "      <th>3</th>\n",
       "      <td>2</td>\n",
       "      <td>bmw</td>\n",
       "    </tr>\n",
       "    <tr>\n",
       "      <th>24</th>\n",
       "      <td>3</td>\n",
       "      <td>chevrolet</td>\n",
       "    </tr>\n",
       "    <tr>\n",
       "      <th>28</th>\n",
       "      <td>4</td>\n",
       "      <td>chrysler</td>\n",
       "    </tr>\n",
       "  </tbody>\n",
       "</table>\n",
       "</div>"
      ],
      "text/plain": [
       "    brand_value       brand\n",
       "18            0  alfa_romeo\n",
       "14            1        audi\n",
       "3             2         bmw\n",
       "24            3   chevrolet\n",
       "28            4    chrysler"
      ]
     },
     "execution_count": 98,
     "metadata": {},
     "output_type": "execute_result"
    }
   ],
   "source": [
    "brand_df.head()"
   ]
  },
  {
   "cell_type": "code",
   "execution_count": 99,
   "metadata": {
    "colab": {
     "base_uri": "https://localhost:8080/",
     "height": 417
    },
    "executionInfo": {
     "elapsed": 582,
     "status": "ok",
     "timestamp": 1624022869255,
     "user": {
      "displayName": "Pranav Gouthamm",
      "photoUrl": "https://lh3.googleusercontent.com/a-/AOh14GgTM9a0Bo5w3JrAUEWfKpj-dt1Bw3vI6q-17xEo=s64",
      "userId": "00245361475060007376"
     },
     "user_tz": -120
    },
    "id": "96VIyRdFE9wE",
    "outputId": "1211d5ab-5a51-47b6-86bc-fb43e6e3d879"
   },
   "outputs": [
    {
     "data": {
      "text/html": [
       "<div>\n",
       "<style scoped>\n",
       "    .dataframe tbody tr th:only-of-type {\n",
       "        vertical-align: middle;\n",
       "    }\n",
       "\n",
       "    .dataframe tbody tr th {\n",
       "        vertical-align: top;\n",
       "    }\n",
       "\n",
       "    .dataframe thead th {\n",
       "        text-align: right;\n",
       "    }\n",
       "</style>\n",
       "<table border=\"1\" class=\"dataframe\">\n",
       "  <thead>\n",
       "    <tr style=\"text-align: right;\">\n",
       "      <th></th>\n",
       "      <th>model</th>\n",
       "    </tr>\n",
       "  </thead>\n",
       "  <tbody>\n",
       "    <tr>\n",
       "      <th>164</th>\n",
       "      <td>100</td>\n",
       "    </tr>\n",
       "    <tr>\n",
       "      <th>233</th>\n",
       "      <td>145</td>\n",
       "    </tr>\n",
       "    <tr>\n",
       "      <th>45</th>\n",
       "      <td>147</td>\n",
       "    </tr>\n",
       "    <tr>\n",
       "      <th>161</th>\n",
       "      <td>156</td>\n",
       "    </tr>\n",
       "    <tr>\n",
       "      <th>129</th>\n",
       "      <td>159</td>\n",
       "    </tr>\n",
       "    <tr>\n",
       "      <th>...</th>\n",
       "      <td>...</td>\n",
       "    </tr>\n",
       "    <tr>\n",
       "      <th>151</th>\n",
       "      <td>yaris</td>\n",
       "    </tr>\n",
       "    <tr>\n",
       "      <th>76</th>\n",
       "      <td>yeti</td>\n",
       "    </tr>\n",
       "    <tr>\n",
       "      <th>136</th>\n",
       "      <td>ypsilon</td>\n",
       "    </tr>\n",
       "    <tr>\n",
       "      <th>48</th>\n",
       "      <td>z_reihe</td>\n",
       "    </tr>\n",
       "    <tr>\n",
       "      <th>78</th>\n",
       "      <td>zafira</td>\n",
       "    </tr>\n",
       "  </tbody>\n",
       "</table>\n",
       "<p>247 rows × 1 columns</p>\n",
       "</div>"
      ],
      "text/plain": [
       "       model\n",
       "164      100\n",
       "233      145\n",
       "45       147\n",
       "161      156\n",
       "129      159\n",
       "..       ...\n",
       "151    yaris\n",
       "76      yeti\n",
       "136  ypsilon\n",
       "48   z_reihe\n",
       "78    zafira\n",
       "\n",
       "[247 rows x 1 columns]"
      ]
     },
     "execution_count": 99,
     "metadata": {},
     "output_type": "execute_result"
    }
   ],
   "source": [
    "modelvalue_o = pd.DataFrame(IF4['model'].unique())\n",
    "modelvalue_o = modelvalue_o.sort_values(by=0)\n",
    "modelvalue_o = modelvalue_o.rename(columns={0: 'model'})\n",
    "modelvalue_o"
   ]
  },
  {
   "cell_type": "code",
   "execution_count": 100,
   "metadata": {
    "executionInfo": {
     "elapsed": 77,
     "status": "ok",
     "timestamp": 1624022869283,
     "user": {
      "displayName": "Pranav Gouthamm",
      "photoUrl": "https://lh3.googleusercontent.com/a-/AOh14GgTM9a0Bo5w3JrAUEWfKpj-dt1Bw3vI6q-17xEo=s64",
      "userId": "00245361475060007376"
     },
     "user_tz": -120
    },
    "id": "HAQGCURmS0lN"
   },
   "outputs": [],
   "source": [
    "m_le = modelvalue_o.apply(LabelEncoder().fit_transform)\n",
    "m_le = m_le.rename(columns={'model':'model_value'})"
   ]
  },
  {
   "cell_type": "code",
   "execution_count": 101,
   "metadata": {
    "executionInfo": {
     "elapsed": 77,
     "status": "ok",
     "timestamp": 1624022869285,
     "user": {
      "displayName": "Pranav Gouthamm",
      "photoUrl": "https://lh3.googleusercontent.com/a-/AOh14GgTM9a0Bo5w3JrAUEWfKpj-dt1Bw3vI6q-17xEo=s64",
      "userId": "00245361475060007376"
     },
     "user_tz": -120
    },
    "id": "oOKifmEwe_QH"
   },
   "outputs": [],
   "source": [
    "model_df= pd.concat([m_le,modelvalue_o],axis=1)"
   ]
  },
  {
   "cell_type": "code",
   "execution_count": 102,
   "metadata": {
    "colab": {
     "base_uri": "https://localhost:8080/",
     "height": 203
    },
    "executionInfo": {
     "elapsed": 77,
     "status": "ok",
     "timestamp": 1624022869287,
     "user": {
      "displayName": "Pranav Gouthamm",
      "photoUrl": "https://lh3.googleusercontent.com/a-/AOh14GgTM9a0Bo5w3JrAUEWfKpj-dt1Bw3vI6q-17xEo=s64",
      "userId": "00245361475060007376"
     },
     "user_tz": -120
    },
    "id": "j2feekyUnz7B",
    "outputId": "ce256b0f-b7ae-4f8e-9ed4-c23d4e904c89"
   },
   "outputs": [
    {
     "data": {
      "text/html": [
       "<div>\n",
       "<style scoped>\n",
       "    .dataframe tbody tr th:only-of-type {\n",
       "        vertical-align: middle;\n",
       "    }\n",
       "\n",
       "    .dataframe tbody tr th {\n",
       "        vertical-align: top;\n",
       "    }\n",
       "\n",
       "    .dataframe thead th {\n",
       "        text-align: right;\n",
       "    }\n",
       "</style>\n",
       "<table border=\"1\" class=\"dataframe\">\n",
       "  <thead>\n",
       "    <tr style=\"text-align: right;\">\n",
       "      <th></th>\n",
       "      <th>model_value</th>\n",
       "      <th>model</th>\n",
       "    </tr>\n",
       "  </thead>\n",
       "  <tbody>\n",
       "    <tr>\n",
       "      <th>164</th>\n",
       "      <td>0</td>\n",
       "      <td>100</td>\n",
       "    </tr>\n",
       "    <tr>\n",
       "      <th>233</th>\n",
       "      <td>1</td>\n",
       "      <td>145</td>\n",
       "    </tr>\n",
       "    <tr>\n",
       "      <th>45</th>\n",
       "      <td>2</td>\n",
       "      <td>147</td>\n",
       "    </tr>\n",
       "    <tr>\n",
       "      <th>161</th>\n",
       "      <td>3</td>\n",
       "      <td>156</td>\n",
       "    </tr>\n",
       "    <tr>\n",
       "      <th>129</th>\n",
       "      <td>4</td>\n",
       "      <td>159</td>\n",
       "    </tr>\n",
       "  </tbody>\n",
       "</table>\n",
       "</div>"
      ],
      "text/plain": [
       "     model_value model\n",
       "164            0   100\n",
       "233            1   145\n",
       "45             2   147\n",
       "161            3   156\n",
       "129            4   159"
      ]
     },
     "execution_count": 102,
     "metadata": {},
     "output_type": "execute_result"
    }
   ],
   "source": [
    "model_df.head()"
   ]
  },
  {
   "cell_type": "code",
   "execution_count": 103,
   "metadata": {
    "executionInfo": {
     "elapsed": 74,
     "status": "ok",
     "timestamp": 1624022869289,
     "user": {
      "displayName": "Pranav Gouthamm",
      "photoUrl": "https://lh3.googleusercontent.com/a-/AOh14GgTM9a0Bo5w3JrAUEWfKpj-dt1Bw3vI6q-17xEo=s64",
      "userId": "00245361475060007376"
     },
     "user_tz": -120
    },
    "id": "BgwA4gtv4JZK"
   },
   "outputs": [],
   "source": [
    "IF4 = IF4.apply(LabelEncoder().fit_transform)"
   ]
  },
  {
   "cell_type": "code",
   "execution_count": 104,
   "metadata": {
    "colab": {
     "base_uri": "https://localhost:8080/",
     "height": 203
    },
    "executionInfo": {
     "elapsed": 76,
     "status": "ok",
     "timestamp": 1624022869292,
     "user": {
      "displayName": "Pranav Gouthamm",
      "photoUrl": "https://lh3.googleusercontent.com/a-/AOh14GgTM9a0Bo5w3JrAUEWfKpj-dt1Bw3vI6q-17xEo=s64",
      "userId": "00245361475060007376"
     },
     "user_tz": -120
    },
    "id": "BahIeB9v4ncP",
    "outputId": "98f89eb4-a29a-4b63-ea78-e7bf6875d533"
   },
   "outputs": [
    {
     "data": {
      "text/html": [
       "<div>\n",
       "<style scoped>\n",
       "    .dataframe tbody tr th:only-of-type {\n",
       "        vertical-align: middle;\n",
       "    }\n",
       "\n",
       "    .dataframe tbody tr th {\n",
       "        vertical-align: top;\n",
       "    }\n",
       "\n",
       "    .dataframe thead th {\n",
       "        text-align: right;\n",
       "    }\n",
       "</style>\n",
       "<table border=\"1\" class=\"dataframe\">\n",
       "  <thead>\n",
       "    <tr style=\"text-align: right;\">\n",
       "      <th></th>\n",
       "      <th>brand</th>\n",
       "      <th>model</th>\n",
       "    </tr>\n",
       "  </thead>\n",
       "  <tbody>\n",
       "    <tr>\n",
       "      <th>0</th>\n",
       "      <td>14</td>\n",
       "      <td>117</td>\n",
       "    </tr>\n",
       "    <tr>\n",
       "      <th>1</th>\n",
       "      <td>36</td>\n",
       "      <td>116</td>\n",
       "    </tr>\n",
       "    <tr>\n",
       "      <th>2</th>\n",
       "      <td>31</td>\n",
       "      <td>101</td>\n",
       "    </tr>\n",
       "    <tr>\n",
       "      <th>3</th>\n",
       "      <td>2</td>\n",
       "      <td>11</td>\n",
       "    </tr>\n",
       "    <tr>\n",
       "      <th>4</th>\n",
       "      <td>25</td>\n",
       "      <td>8</td>\n",
       "    </tr>\n",
       "  </tbody>\n",
       "</table>\n",
       "</div>"
      ],
      "text/plain": [
       "   brand  model\n",
       "0     14    117\n",
       "1     36    116\n",
       "2     31    101\n",
       "3      2     11\n",
       "4     25      8"
      ]
     },
     "execution_count": 104,
     "metadata": {},
     "output_type": "execute_result"
    }
   ],
   "source": [
    "IF4.head()"
   ]
  },
  {
   "cell_type": "code",
   "execution_count": 105,
   "metadata": {
    "executionInfo": {
     "elapsed": 78,
     "status": "ok",
     "timestamp": 1624022869298,
     "user": {
      "displayName": "Pranav Gouthamm",
      "photoUrl": "https://lh3.googleusercontent.com/a-/AOh14GgTM9a0Bo5w3JrAUEWfKpj-dt1Bw3vI6q-17xEo=s64",
      "userId": "00245361475060007376"
     },
     "user_tz": -120
    },
    "id": "gWdv6Gzb43Qz"
   },
   "outputs": [],
   "source": [
    "Penult_0 = pd.concat([IF4, IF3], axis=1,join='inner')"
   ]
  },
  {
   "cell_type": "code",
   "execution_count": 106,
   "metadata": {
    "executionInfo": {
     "elapsed": 77,
     "status": "ok",
     "timestamp": 1624022869299,
     "user": {
      "displayName": "Pranav Gouthamm",
      "photoUrl": "https://lh3.googleusercontent.com/a-/AOh14GgTM9a0Bo5w3JrAUEWfKpj-dt1Bw3vI6q-17xEo=s64",
      "userId": "00245361475060007376"
     },
     "user_tz": -120
    },
    "id": "iD8DVtaeqyl1"
   },
   "outputs": [],
   "source": [
    "Penult = pd.concat([Penult_0, Target], axis=1,join='inner')"
   ]
  },
  {
   "cell_type": "code",
   "execution_count": 107,
   "metadata": {
    "colab": {
     "base_uri": "https://localhost:8080/"
    },
    "executionInfo": {
     "elapsed": 78,
     "status": "ok",
     "timestamp": 1624022869301,
     "user": {
      "displayName": "Pranav Gouthamm",
      "photoUrl": "https://lh3.googleusercontent.com/a-/AOh14GgTM9a0Bo5w3JrAUEWfKpj-dt1Bw3vI6q-17xEo=s64",
      "userId": "00245361475060007376"
     },
     "user_tz": -120
    },
    "id": "lLfcB_w3rWpV",
    "outputId": "e306e6b3-6b5f-4d02-e1f2-bdb6b4da863b"
   },
   "outputs": [
    {
     "data": {
      "text/plain": [
       "(242901, 46)"
      ]
     },
     "execution_count": 107,
     "metadata": {},
     "output_type": "execute_result"
    }
   ],
   "source": [
    "Penult.shape"
   ]
  },
  {
   "cell_type": "code",
   "execution_count": 108,
   "metadata": {
    "colab": {
     "base_uri": "https://localhost:8080/",
     "height": 223
    },
    "executionInfo": {
     "elapsed": 67,
     "status": "ok",
     "timestamp": 1624022869303,
     "user": {
      "displayName": "Pranav Gouthamm",
      "photoUrl": "https://lh3.googleusercontent.com/a-/AOh14GgTM9a0Bo5w3JrAUEWfKpj-dt1Bw3vI6q-17xEo=s64",
      "userId": "00245361475060007376"
     },
     "user_tz": -120
    },
    "id": "k1Nh08alff77",
    "outputId": "b158f433-0a4f-4f55-9087-9cf0d51155b8"
   },
   "outputs": [
    {
     "data": {
      "text/html": [
       "<div>\n",
       "<style scoped>\n",
       "    .dataframe tbody tr th:only-of-type {\n",
       "        vertical-align: middle;\n",
       "    }\n",
       "\n",
       "    .dataframe tbody tr th {\n",
       "        vertical-align: top;\n",
       "    }\n",
       "\n",
       "    .dataframe thead th {\n",
       "        text-align: right;\n",
       "    }\n",
       "</style>\n",
       "<table border=\"1\" class=\"dataframe\">\n",
       "  <thead>\n",
       "    <tr style=\"text-align: right;\">\n",
       "      <th></th>\n",
       "      <th>brand</th>\n",
       "      <th>model</th>\n",
       "      <th>yearofregistration</th>\n",
       "      <th>offertype_Gesuch</th>\n",
       "      <th>vehicletype_bus</th>\n",
       "      <th>vehicletype_cabrio</th>\n",
       "      <th>vehicletype_coupe</th>\n",
       "      <th>vehicletype_kleinwagen</th>\n",
       "      <th>vehicletype_kombi</th>\n",
       "      <th>vehicletype_limousine</th>\n",
       "      <th>...</th>\n",
       "      <th>fueltype_cng</th>\n",
       "      <th>fueltype_diesel</th>\n",
       "      <th>fueltype_elektro</th>\n",
       "      <th>fueltype_hybrid</th>\n",
       "      <th>fueltype_lpg</th>\n",
       "      <th>notrepaireddamage_1.0</th>\n",
       "      <th>powerps_bin_2</th>\n",
       "      <th>powerps_bin_3</th>\n",
       "      <th>powerps_bin_4</th>\n",
       "      <th>price</th>\n",
       "    </tr>\n",
       "  </thead>\n",
       "  <tbody>\n",
       "    <tr>\n",
       "      <th>0</th>\n",
       "      <td>14</td>\n",
       "      <td>117</td>\n",
       "      <td>2004</td>\n",
       "      <td>0</td>\n",
       "      <td>0</td>\n",
       "      <td>0</td>\n",
       "      <td>0</td>\n",
       "      <td>0</td>\n",
       "      <td>0</td>\n",
       "      <td>0</td>\n",
       "      <td>...</td>\n",
       "      <td>0</td>\n",
       "      <td>1</td>\n",
       "      <td>0</td>\n",
       "      <td>0</td>\n",
       "      <td>0</td>\n",
       "      <td>0</td>\n",
       "      <td>1</td>\n",
       "      <td>0</td>\n",
       "      <td>0</td>\n",
       "      <td>9800</td>\n",
       "    </tr>\n",
       "    <tr>\n",
       "      <th>1</th>\n",
       "      <td>36</td>\n",
       "      <td>116</td>\n",
       "      <td>2001</td>\n",
       "      <td>0</td>\n",
       "      <td>0</td>\n",
       "      <td>0</td>\n",
       "      <td>0</td>\n",
       "      <td>1</td>\n",
       "      <td>0</td>\n",
       "      <td>0</td>\n",
       "      <td>...</td>\n",
       "      <td>0</td>\n",
       "      <td>0</td>\n",
       "      <td>0</td>\n",
       "      <td>0</td>\n",
       "      <td>0</td>\n",
       "      <td>0</td>\n",
       "      <td>0</td>\n",
       "      <td>0</td>\n",
       "      <td>0</td>\n",
       "      <td>1500</td>\n",
       "    </tr>\n",
       "    <tr>\n",
       "      <th>2</th>\n",
       "      <td>31</td>\n",
       "      <td>101</td>\n",
       "      <td>2008</td>\n",
       "      <td>0</td>\n",
       "      <td>0</td>\n",
       "      <td>0</td>\n",
       "      <td>0</td>\n",
       "      <td>1</td>\n",
       "      <td>0</td>\n",
       "      <td>0</td>\n",
       "      <td>...</td>\n",
       "      <td>0</td>\n",
       "      <td>1</td>\n",
       "      <td>0</td>\n",
       "      <td>0</td>\n",
       "      <td>0</td>\n",
       "      <td>0</td>\n",
       "      <td>0</td>\n",
       "      <td>0</td>\n",
       "      <td>0</td>\n",
       "      <td>3600</td>\n",
       "    </tr>\n",
       "    <tr>\n",
       "      <th>3</th>\n",
       "      <td>2</td>\n",
       "      <td>11</td>\n",
       "      <td>1995</td>\n",
       "      <td>0</td>\n",
       "      <td>0</td>\n",
       "      <td>0</td>\n",
       "      <td>0</td>\n",
       "      <td>0</td>\n",
       "      <td>0</td>\n",
       "      <td>1</td>\n",
       "      <td>...</td>\n",
       "      <td>0</td>\n",
       "      <td>0</td>\n",
       "      <td>0</td>\n",
       "      <td>0</td>\n",
       "      <td>0</td>\n",
       "      <td>1</td>\n",
       "      <td>1</td>\n",
       "      <td>0</td>\n",
       "      <td>0</td>\n",
       "      <td>650</td>\n",
       "    </tr>\n",
       "    <tr>\n",
       "      <th>4</th>\n",
       "      <td>25</td>\n",
       "      <td>8</td>\n",
       "      <td>2004</td>\n",
       "      <td>0</td>\n",
       "      <td>0</td>\n",
       "      <td>1</td>\n",
       "      <td>0</td>\n",
       "      <td>0</td>\n",
       "      <td>0</td>\n",
       "      <td>0</td>\n",
       "      <td>...</td>\n",
       "      <td>0</td>\n",
       "      <td>0</td>\n",
       "      <td>0</td>\n",
       "      <td>0</td>\n",
       "      <td>0</td>\n",
       "      <td>0</td>\n",
       "      <td>1</td>\n",
       "      <td>0</td>\n",
       "      <td>0</td>\n",
       "      <td>2200</td>\n",
       "    </tr>\n",
       "  </tbody>\n",
       "</table>\n",
       "<p>5 rows × 46 columns</p>\n",
       "</div>"
      ],
      "text/plain": [
       "   brand  model  yearofregistration offertype_Gesuch vehicletype_bus  \\\n",
       "0     14    117                2004                0               0   \n",
       "1     36    116                2001                0               0   \n",
       "2     31    101                2008                0               0   \n",
       "3      2     11                1995                0               0   \n",
       "4     25      8                2004                0               0   \n",
       "\n",
       "  vehicletype_cabrio vehicletype_coupe vehicletype_kleinwagen  \\\n",
       "0                  0                 0                      0   \n",
       "1                  0                 0                      1   \n",
       "2                  0                 0                      1   \n",
       "3                  0                 0                      0   \n",
       "4                  1                 0                      0   \n",
       "\n",
       "  vehicletype_kombi vehicletype_limousine  ... fueltype_cng fueltype_diesel  \\\n",
       "0                 0                     0  ...            0               1   \n",
       "1                 0                     0  ...            0               0   \n",
       "2                 0                     0  ...            0               1   \n",
       "3                 0                     1  ...            0               0   \n",
       "4                 0                     0  ...            0               0   \n",
       "\n",
       "  fueltype_elektro fueltype_hybrid fueltype_lpg notrepaireddamage_1.0  \\\n",
       "0                0               0            0                     0   \n",
       "1                0               0            0                     0   \n",
       "2                0               0            0                     0   \n",
       "3                0               0            0                     1   \n",
       "4                0               0            0                     0   \n",
       "\n",
       "  powerps_bin_2 powerps_bin_3 powerps_bin_4 price  \n",
       "0             1             0             0  9800  \n",
       "1             0             0             0  1500  \n",
       "2             0             0             0  3600  \n",
       "3             1             0             0   650  \n",
       "4             1             0             0  2200  \n",
       "\n",
       "[5 rows x 46 columns]"
      ]
     },
     "execution_count": 108,
     "metadata": {},
     "output_type": "execute_result"
    }
   ],
   "source": [
    "Penult.head()"
   ]
  },
  {
   "cell_type": "code",
   "execution_count": 109,
   "metadata": {
    "colab": {
     "base_uri": "https://localhost:8080/"
    },
    "executionInfo": {
     "elapsed": 66,
     "status": "ok",
     "timestamp": 1624022869305,
     "user": {
      "displayName": "Pranav Gouthamm",
      "photoUrl": "https://lh3.googleusercontent.com/a-/AOh14GgTM9a0Bo5w3JrAUEWfKpj-dt1Bw3vI6q-17xEo=s64",
      "userId": "00245361475060007376"
     },
     "user_tz": -120
    },
    "id": "sslxec6K_F-B",
    "outputId": "4c57d463-ea45-4015-bbcc-a3b4170e3997"
   },
   "outputs": [
    {
     "name": "stdout",
     "output_type": "stream",
     "text": [
      "['Angebot' 'Gesuch']\n",
      "['suv' 'kleinwagen' 'limousine' 'cabrio' 'bus' 'kombi' 'coupe' 'andere']\n",
      "['automatik' 'manuell']\n",
      "[125000 150000  90000  30000  70000 100000  60000  20000  80000  50000\n",
      "  40000   5000  10000]\n",
      "[ 8  6  7 10 12 11  3  2  1  4  9  5]\n",
      "['diesel' 'benzin' 'lpg' 'andere' 'cng' 'elektro' 'hybrid']\n",
      "[0. 1.]\n"
     ]
    }
   ],
   "source": [
    "print(data2['offertype'].unique())\n",
    "print(data2['vehicletype'].unique())\n",
    "print(data2['gearbox'].unique())\n",
    "print(data2['kilometer'].unique())\n",
    "print(data2['monthofregistration'].unique())\n",
    "print(data2['fueltype'].unique())\n",
    "print(data2['notrepaireddamage'].unique())"
   ]
  },
  {
   "cell_type": "code",
   "execution_count": 110,
   "metadata": {
    "executionInfo": {
     "elapsed": 56,
     "status": "ok",
     "timestamp": 1624022869307,
     "user": {
      "displayName": "Pranav Gouthamm",
      "photoUrl": "https://lh3.googleusercontent.com/a-/AOh14GgTM9a0Bo5w3JrAUEWfKpj-dt1Bw3vI6q-17xEo=s64",
      "userId": "00245361475060007376"
     },
     "user_tz": -120
    },
    "id": "RpXgexVIOxID"
   },
   "outputs": [],
   "source": [
    "Penult = Penult.rename(columns={'notrepaireddamage_1.0': 'notrepaireddamage_1'})"
   ]
  },
  {
   "cell_type": "code",
   "execution_count": 111,
   "metadata": {
    "colab": {
     "base_uri": "https://localhost:8080/",
     "height": 223
    },
    "executionInfo": {
     "elapsed": 105,
     "status": "ok",
     "timestamp": 1624022869976,
     "user": {
      "displayName": "Pranav Gouthamm",
      "photoUrl": "https://lh3.googleusercontent.com/a-/AOh14GgTM9a0Bo5w3JrAUEWfKpj-dt1Bw3vI6q-17xEo=s64",
      "userId": "00245361475060007376"
     },
     "user_tz": -120
    },
    "id": "P-fZCxtQ5i29",
    "outputId": "2b7fb4af-fe13-4040-9ac7-3a562f4aef99"
   },
   "outputs": [
    {
     "data": {
      "text/html": [
       "<div>\n",
       "<style scoped>\n",
       "    .dataframe tbody tr th:only-of-type {\n",
       "        vertical-align: middle;\n",
       "    }\n",
       "\n",
       "    .dataframe tbody tr th {\n",
       "        vertical-align: top;\n",
       "    }\n",
       "\n",
       "    .dataframe thead th {\n",
       "        text-align: right;\n",
       "    }\n",
       "</style>\n",
       "<table border=\"1\" class=\"dataframe\">\n",
       "  <thead>\n",
       "    <tr style=\"text-align: right;\">\n",
       "      <th></th>\n",
       "      <th>brand</th>\n",
       "      <th>model</th>\n",
       "      <th>yearofregistration</th>\n",
       "      <th>offertype_Gesuch</th>\n",
       "      <th>vehicletype_bus</th>\n",
       "      <th>vehicletype_cabrio</th>\n",
       "      <th>vehicletype_coupe</th>\n",
       "      <th>vehicletype_kleinwagen</th>\n",
       "      <th>vehicletype_kombi</th>\n",
       "      <th>vehicletype_limousine</th>\n",
       "      <th>...</th>\n",
       "      <th>fueltype_cng</th>\n",
       "      <th>fueltype_diesel</th>\n",
       "      <th>fueltype_elektro</th>\n",
       "      <th>fueltype_hybrid</th>\n",
       "      <th>fueltype_lpg</th>\n",
       "      <th>notrepaireddamage_1</th>\n",
       "      <th>powerps_bin_2</th>\n",
       "      <th>powerps_bin_3</th>\n",
       "      <th>powerps_bin_4</th>\n",
       "      <th>price</th>\n",
       "    </tr>\n",
       "  </thead>\n",
       "  <tbody>\n",
       "    <tr>\n",
       "      <th>0</th>\n",
       "      <td>14</td>\n",
       "      <td>117</td>\n",
       "      <td>2004</td>\n",
       "      <td>0</td>\n",
       "      <td>0</td>\n",
       "      <td>0</td>\n",
       "      <td>0</td>\n",
       "      <td>0</td>\n",
       "      <td>0</td>\n",
       "      <td>0</td>\n",
       "      <td>...</td>\n",
       "      <td>0</td>\n",
       "      <td>1</td>\n",
       "      <td>0</td>\n",
       "      <td>0</td>\n",
       "      <td>0</td>\n",
       "      <td>0</td>\n",
       "      <td>1</td>\n",
       "      <td>0</td>\n",
       "      <td>0</td>\n",
       "      <td>9800</td>\n",
       "    </tr>\n",
       "    <tr>\n",
       "      <th>1</th>\n",
       "      <td>36</td>\n",
       "      <td>116</td>\n",
       "      <td>2001</td>\n",
       "      <td>0</td>\n",
       "      <td>0</td>\n",
       "      <td>0</td>\n",
       "      <td>0</td>\n",
       "      <td>1</td>\n",
       "      <td>0</td>\n",
       "      <td>0</td>\n",
       "      <td>...</td>\n",
       "      <td>0</td>\n",
       "      <td>0</td>\n",
       "      <td>0</td>\n",
       "      <td>0</td>\n",
       "      <td>0</td>\n",
       "      <td>0</td>\n",
       "      <td>0</td>\n",
       "      <td>0</td>\n",
       "      <td>0</td>\n",
       "      <td>1500</td>\n",
       "    </tr>\n",
       "    <tr>\n",
       "      <th>2</th>\n",
       "      <td>31</td>\n",
       "      <td>101</td>\n",
       "      <td>2008</td>\n",
       "      <td>0</td>\n",
       "      <td>0</td>\n",
       "      <td>0</td>\n",
       "      <td>0</td>\n",
       "      <td>1</td>\n",
       "      <td>0</td>\n",
       "      <td>0</td>\n",
       "      <td>...</td>\n",
       "      <td>0</td>\n",
       "      <td>1</td>\n",
       "      <td>0</td>\n",
       "      <td>0</td>\n",
       "      <td>0</td>\n",
       "      <td>0</td>\n",
       "      <td>0</td>\n",
       "      <td>0</td>\n",
       "      <td>0</td>\n",
       "      <td>3600</td>\n",
       "    </tr>\n",
       "    <tr>\n",
       "      <th>3</th>\n",
       "      <td>2</td>\n",
       "      <td>11</td>\n",
       "      <td>1995</td>\n",
       "      <td>0</td>\n",
       "      <td>0</td>\n",
       "      <td>0</td>\n",
       "      <td>0</td>\n",
       "      <td>0</td>\n",
       "      <td>0</td>\n",
       "      <td>1</td>\n",
       "      <td>...</td>\n",
       "      <td>0</td>\n",
       "      <td>0</td>\n",
       "      <td>0</td>\n",
       "      <td>0</td>\n",
       "      <td>0</td>\n",
       "      <td>1</td>\n",
       "      <td>1</td>\n",
       "      <td>0</td>\n",
       "      <td>0</td>\n",
       "      <td>650</td>\n",
       "    </tr>\n",
       "    <tr>\n",
       "      <th>4</th>\n",
       "      <td>25</td>\n",
       "      <td>8</td>\n",
       "      <td>2004</td>\n",
       "      <td>0</td>\n",
       "      <td>0</td>\n",
       "      <td>1</td>\n",
       "      <td>0</td>\n",
       "      <td>0</td>\n",
       "      <td>0</td>\n",
       "      <td>0</td>\n",
       "      <td>...</td>\n",
       "      <td>0</td>\n",
       "      <td>0</td>\n",
       "      <td>0</td>\n",
       "      <td>0</td>\n",
       "      <td>0</td>\n",
       "      <td>0</td>\n",
       "      <td>1</td>\n",
       "      <td>0</td>\n",
       "      <td>0</td>\n",
       "      <td>2200</td>\n",
       "    </tr>\n",
       "  </tbody>\n",
       "</table>\n",
       "<p>5 rows × 46 columns</p>\n",
       "</div>"
      ],
      "text/plain": [
       "   brand  model  yearofregistration offertype_Gesuch vehicletype_bus  \\\n",
       "0     14    117                2004                0               0   \n",
       "1     36    116                2001                0               0   \n",
       "2     31    101                2008                0               0   \n",
       "3      2     11                1995                0               0   \n",
       "4     25      8                2004                0               0   \n",
       "\n",
       "  vehicletype_cabrio vehicletype_coupe vehicletype_kleinwagen  \\\n",
       "0                  0                 0                      0   \n",
       "1                  0                 0                      1   \n",
       "2                  0                 0                      1   \n",
       "3                  0                 0                      0   \n",
       "4                  1                 0                      0   \n",
       "\n",
       "  vehicletype_kombi vehicletype_limousine  ... fueltype_cng fueltype_diesel  \\\n",
       "0                 0                     0  ...            0               1   \n",
       "1                 0                     0  ...            0               0   \n",
       "2                 0                     0  ...            0               1   \n",
       "3                 0                     1  ...            0               0   \n",
       "4                 0                     0  ...            0               0   \n",
       "\n",
       "  fueltype_elektro fueltype_hybrid fueltype_lpg notrepaireddamage_1  \\\n",
       "0                0               0            0                   0   \n",
       "1                0               0            0                   0   \n",
       "2                0               0            0                   0   \n",
       "3                0               0            0                   1   \n",
       "4                0               0            0                   0   \n",
       "\n",
       "  powerps_bin_2 powerps_bin_3 powerps_bin_4 price  \n",
       "0             1             0             0  9800  \n",
       "1             0             0             0  1500  \n",
       "2             0             0             0  3600  \n",
       "3             1             0             0   650  \n",
       "4             1             0             0  2200  \n",
       "\n",
       "[5 rows x 46 columns]"
      ]
     },
     "execution_count": 111,
     "metadata": {},
     "output_type": "execute_result"
    }
   ],
   "source": [
    "Penult.head()"
   ]
  },
  {
   "cell_type": "code",
   "execution_count": 112,
   "metadata": {
    "colab": {
     "base_uri": "https://localhost:8080/"
    },
    "executionInfo": {
     "elapsed": 107,
     "status": "ok",
     "timestamp": 1624022869981,
     "user": {
      "displayName": "Pranav Gouthamm",
      "photoUrl": "https://lh3.googleusercontent.com/a-/AOh14GgTM9a0Bo5w3JrAUEWfKpj-dt1Bw3vI6q-17xEo=s64",
      "userId": "00245361475060007376"
     },
     "user_tz": -120
    },
    "id": "TDhjwwb4rDXR",
    "outputId": "7a9f6bdd-b522-4335-d11a-624c448f6d42"
   },
   "outputs": [
    {
     "name": "stdout",
     "output_type": "stream",
     "text": [
      "X TRAIN DATA SHAPE IS :  (206465, 45)\n",
      "X TEST DATA SHAPE IS : (36436, 45)\n",
      "y TRAIN DATA SHAPE IS :  (206465,)\n",
      "y TEST DATA SHAPE IS : (36436,)\n"
     ]
    }
   ],
   "source": [
    "#Train Test Split\n",
    "X_train,X_test,y_train,y_test = train_test_split(Penult.drop(['price'],axis=1), Penult['price'],test_size = 0.15,random_state=1)\n",
    "\n",
    "print(\"X TRAIN DATA SHAPE IS : \", X_train.shape)\n",
    "print(\"X TEST DATA SHAPE IS :\",X_test.shape)\n",
    "print(\"y TRAIN DATA SHAPE IS : \", y_train.shape)\n",
    "print(\"y TEST DATA SHAPE IS :\",y_test.shape)"
   ]
  },
  {
   "cell_type": "markdown",
   "metadata": {
    "id": "un--WgfeBqnF"
   },
   "source": [
    "---\n",
    "Steps in Standardization : SKIPPED\n",
    "---"
   ]
  },
  {
   "cell_type": "code",
   "execution_count": 113,
   "metadata": {
    "executionInfo": {
     "elapsed": 99,
     "status": "ok",
     "timestamp": 1624022869983,
     "user": {
      "displayName": "Pranav Gouthamm",
      "photoUrl": "https://lh3.googleusercontent.com/a-/AOh14GgTM9a0Bo5w3JrAUEWfKpj-dt1Bw3vI6q-17xEo=s64",
      "userId": "00245361475060007376"
     },
     "user_tz": -120
    },
    "id": "Zx6wEFNltfVL"
   },
   "outputs": [],
   "source": [
    "#Numcol_Train3 = X_train[['yearofregistration','brand','brandmodel']]\n",
    "#Numcol_Test3 = X_test[['yearofregistration','brand','brandmodel']]"
   ]
  },
  {
   "cell_type": "code",
   "execution_count": 114,
   "metadata": {
    "executionInfo": {
     "elapsed": 98,
     "status": "ok",
     "timestamp": 1624022869984,
     "user": {
      "displayName": "Pranav Gouthamm",
      "photoUrl": "https://lh3.googleusercontent.com/a-/AOh14GgTM9a0Bo5w3JrAUEWfKpj-dt1Bw3vI6q-17xEo=s64",
      "userId": "00245361475060007376"
     },
     "user_tz": -120
    },
    "id": "AXoWp34Qit75"
   },
   "outputs": [],
   "source": [
    "#Standardizing Numerical Columns\n",
    "#scaler = MinMaxScaler()\n",
    "#scaled = scaler.fit_transform(Numcol_Train3)\n",
    "#scaled2 = scaler.fit_transform(Numcol_Test3)"
   ]
  },
  {
   "cell_type": "code",
   "execution_count": 115,
   "metadata": {
    "executionInfo": {
     "elapsed": 98,
     "status": "ok",
     "timestamp": 1624022869986,
     "user": {
      "displayName": "Pranav Gouthamm",
      "photoUrl": "https://lh3.googleusercontent.com/a-/AOh14GgTM9a0Bo5w3JrAUEWfKpj-dt1Bw3vI6q-17xEo=s64",
      "userId": "00245361475060007376"
     },
     "user_tz": -120
    },
    "id": "GtNN3nZaoBCP"
   },
   "outputs": [],
   "source": [
    "#Train3_scaled_cols = pd.DataFrame(scaled, columns = ('yearofregistration','brand','brandmodel'))\n",
    "#Test3_scaled_cols = pd.DataFrame(scaled2, columns = ('yearofregistration','brand','brandmodel'))"
   ]
  },
  {
   "cell_type": "code",
   "execution_count": 116,
   "metadata": {
    "executionInfo": {
     "elapsed": 96,
     "status": "ok",
     "timestamp": 1624022869987,
     "user": {
      "displayName": "Pranav Gouthamm",
      "photoUrl": "https://lh3.googleusercontent.com/a-/AOh14GgTM9a0Bo5w3JrAUEWfKpj-dt1Bw3vI6q-17xEo=s64",
      "userId": "00245361475060007376"
     },
     "user_tz": -120
    },
    "id": "i0HXZVn9jgrk"
   },
   "outputs": [],
   "source": [
    "#Train3_scaled_cols"
   ]
  },
  {
   "cell_type": "code",
   "execution_count": 117,
   "metadata": {
    "executionInfo": {
     "elapsed": 91,
     "status": "ok",
     "timestamp": 1624022869988,
     "user": {
      "displayName": "Pranav Gouthamm",
      "photoUrl": "https://lh3.googleusercontent.com/a-/AOh14GgTM9a0Bo5w3JrAUEWfKpj-dt1Bw3vI6q-17xEo=s64",
      "userId": "00245361475060007376"
     },
     "user_tz": -120
    },
    "id": "WbgOZfdPszsE"
   },
   "outputs": [],
   "source": [
    "#Test3_scaled_cols"
   ]
  },
  {
   "cell_type": "code",
   "execution_count": 118,
   "metadata": {
    "executionInfo": {
     "elapsed": 90,
     "status": "ok",
     "timestamp": 1624022869990,
     "user": {
      "displayName": "Pranav Gouthamm",
      "photoUrl": "https://lh3.googleusercontent.com/a-/AOh14GgTM9a0Bo5w3JrAUEWfKpj-dt1Bw3vI6q-17xEo=s64",
      "userId": "00245361475060007376"
     },
     "user_tz": -120
    },
    "id": "g8DgS8RKpIbi"
   },
   "outputs": [],
   "source": [
    "#X_train = X_train.drop(['yearofregistration','brand','brandmodel'], axis=1)"
   ]
  },
  {
   "cell_type": "code",
   "execution_count": 119,
   "metadata": {
    "executionInfo": {
     "elapsed": 89,
     "status": "ok",
     "timestamp": 1624022869991,
     "user": {
      "displayName": "Pranav Gouthamm",
      "photoUrl": "https://lh3.googleusercontent.com/a-/AOh14GgTM9a0Bo5w3JrAUEWfKpj-dt1Bw3vI6q-17xEo=s64",
      "userId": "00245361475060007376"
     },
     "user_tz": -120
    },
    "id": "1JSWtKaZ0Zj9"
   },
   "outputs": [],
   "source": [
    "#X_train = X_train.reset_index(drop=True)"
   ]
  },
  {
   "cell_type": "code",
   "execution_count": 120,
   "metadata": {
    "executionInfo": {
     "elapsed": 88,
     "status": "ok",
     "timestamp": 1624022869992,
     "user": {
      "displayName": "Pranav Gouthamm",
      "photoUrl": "https://lh3.googleusercontent.com/a-/AOh14GgTM9a0Bo5w3JrAUEWfKpj-dt1Bw3vI6q-17xEo=s64",
      "userId": "00245361475060007376"
     },
     "user_tz": -120
    },
    "id": "91yirb8Wx41K"
   },
   "outputs": [],
   "source": [
    "#X_train.head()"
   ]
  },
  {
   "cell_type": "code",
   "execution_count": 121,
   "metadata": {
    "executionInfo": {
     "elapsed": 90,
     "status": "ok",
     "timestamp": 1624022869995,
     "user": {
      "displayName": "Pranav Gouthamm",
      "photoUrl": "https://lh3.googleusercontent.com/a-/AOh14GgTM9a0Bo5w3JrAUEWfKpj-dt1Bw3vI6q-17xEo=s64",
      "userId": "00245361475060007376"
     },
     "user_tz": -120
    },
    "id": "aj4PbgllyAzI"
   },
   "outputs": [],
   "source": [
    "#X_train.shape"
   ]
  },
  {
   "cell_type": "code",
   "execution_count": 122,
   "metadata": {
    "executionInfo": {
     "elapsed": 89,
     "status": "ok",
     "timestamp": 1624022869996,
     "user": {
      "displayName": "Pranav Gouthamm",
      "photoUrl": "https://lh3.googleusercontent.com/a-/AOh14GgTM9a0Bo5w3JrAUEWfKpj-dt1Bw3vI6q-17xEo=s64",
      "userId": "00245361475060007376"
     },
     "user_tz": -120
    },
    "id": "FragZefut--v"
   },
   "outputs": [],
   "source": [
    "#X_test = X_test.drop(['yearofregistration','brand','brandmodel'], axis=1)"
   ]
  },
  {
   "cell_type": "code",
   "execution_count": 123,
   "metadata": {
    "executionInfo": {
     "elapsed": 89,
     "status": "ok",
     "timestamp": 1624022869999,
     "user": {
      "displayName": "Pranav Gouthamm",
      "photoUrl": "https://lh3.googleusercontent.com/a-/AOh14GgTM9a0Bo5w3JrAUEWfKpj-dt1Bw3vI6q-17xEo=s64",
      "userId": "00245361475060007376"
     },
     "user_tz": -120
    },
    "id": "ONLFI0oP1DCS"
   },
   "outputs": [],
   "source": [
    "#X_test = X_test.reset_index(drop=True)"
   ]
  },
  {
   "cell_type": "code",
   "execution_count": 124,
   "metadata": {
    "executionInfo": {
     "elapsed": 89,
     "status": "ok",
     "timestamp": 1624022870000,
     "user": {
      "displayName": "Pranav Gouthamm",
      "photoUrl": "https://lh3.googleusercontent.com/a-/AOh14GgTM9a0Bo5w3JrAUEWfKpj-dt1Bw3vI6q-17xEo=s64",
      "userId": "00245361475060007376"
     },
     "user_tz": -120
    },
    "id": "yY9tU6WHyN_e"
   },
   "outputs": [],
   "source": [
    "#X_test.head()"
   ]
  },
  {
   "cell_type": "code",
   "execution_count": 125,
   "metadata": {
    "executionInfo": {
     "elapsed": 88,
     "status": "ok",
     "timestamp": 1624022870003,
     "user": {
      "displayName": "Pranav Gouthamm",
      "photoUrl": "https://lh3.googleusercontent.com/a-/AOh14GgTM9a0Bo5w3JrAUEWfKpj-dt1Bw3vI6q-17xEo=s64",
      "userId": "00245361475060007376"
     },
     "user_tz": -120
    },
    "id": "awkUkUm8yOMs"
   },
   "outputs": [],
   "source": [
    "#X_test.shape"
   ]
  },
  {
   "cell_type": "code",
   "execution_count": 126,
   "metadata": {
    "executionInfo": {
     "elapsed": 88,
     "status": "ok",
     "timestamp": 1624022870004,
     "user": {
      "displayName": "Pranav Gouthamm",
      "photoUrl": "https://lh3.googleusercontent.com/a-/AOh14GgTM9a0Bo5w3JrAUEWfKpj-dt1Bw3vI6q-17xEo=s64",
      "userId": "00245361475060007376"
     },
     "user_tz": -120
    },
    "id": "SubwJ1CFpwcN"
   },
   "outputs": [],
   "source": [
    "#X_train = pd.concat([Train3_scaled_cols, X_train], axis=1,join='inner')\n",
    "#X_train.shape"
   ]
  },
  {
   "cell_type": "code",
   "execution_count": 127,
   "metadata": {
    "executionInfo": {
     "elapsed": 84,
     "status": "ok",
     "timestamp": 1624022870007,
     "user": {
      "displayName": "Pranav Gouthamm",
      "photoUrl": "https://lh3.googleusercontent.com/a-/AOh14GgTM9a0Bo5w3JrAUEWfKpj-dt1Bw3vI6q-17xEo=s64",
      "userId": "00245361475060007376"
     },
     "user_tz": -120
    },
    "id": "Q1znEYHtnr75"
   },
   "outputs": [],
   "source": [
    "#X_train.head()"
   ]
  },
  {
   "cell_type": "code",
   "execution_count": 128,
   "metadata": {
    "executionInfo": {
     "elapsed": 81,
     "status": "ok",
     "timestamp": 1624022870008,
     "user": {
      "displayName": "Pranav Gouthamm",
      "photoUrl": "https://lh3.googleusercontent.com/a-/AOh14GgTM9a0Bo5w3JrAUEWfKpj-dt1Bw3vI6q-17xEo=s64",
      "userId": "00245361475060007376"
     },
     "user_tz": -120
    },
    "id": "aiE5es7QnUnq"
   },
   "outputs": [],
   "source": [
    "#X_test = pd.concat([Test3_scaled_cols, X_test], axis=1,join='inner')\n",
    "#X_test.shape"
   ]
  },
  {
   "cell_type": "code",
   "execution_count": 129,
   "metadata": {
    "executionInfo": {
     "elapsed": 80,
     "status": "ok",
     "timestamp": 1624022870011,
     "user": {
      "displayName": "Pranav Gouthamm",
      "photoUrl": "https://lh3.googleusercontent.com/a-/AOh14GgTM9a0Bo5w3JrAUEWfKpj-dt1Bw3vI6q-17xEo=s64",
      "userId": "00245361475060007376"
     },
     "user_tz": -120
    },
    "id": "Lj6wWeqWnoaL"
   },
   "outputs": [],
   "source": [
    "#X_test.head()"
   ]
  },
  {
   "cell_type": "markdown",
   "metadata": {
    "id": "f6EkQjdwB7-_"
   },
   "source": [
    "##Models Skipped"
   ]
  },
  {
   "cell_type": "code",
   "execution_count": 130,
   "metadata": {
    "executionInfo": {
     "elapsed": 80,
     "status": "ok",
     "timestamp": 1624022870013,
     "user": {
      "displayName": "Pranav Gouthamm",
      "photoUrl": "https://lh3.googleusercontent.com/a-/AOh14GgTM9a0Bo5w3JrAUEWfKpj-dt1Bw3vI6q-17xEo=s64",
      "userId": "00245361475060007376"
     },
     "user_tz": -120
    },
    "id": "C5bAHVDlumyG"
   },
   "outputs": [],
   "source": [
    "##Training with Random Forest\n",
    "#RF = RandomForestRegressor(n_estimators=100)\n",
    "\n",
    "##fit the model\n",
    "#RF.fit(X_train, y_train)"
   ]
  },
  {
   "cell_type": "code",
   "execution_count": 131,
   "metadata": {
    "executionInfo": {
     "elapsed": 80,
     "status": "ok",
     "timestamp": 1624022870014,
     "user": {
      "displayName": "Pranav Gouthamm",
      "photoUrl": "https://lh3.googleusercontent.com/a-/AOh14GgTM9a0Bo5w3JrAUEWfKpj-dt1Bw3vI6q-17xEo=s64",
      "userId": "00245361475060007376"
     },
     "user_tz": -120
    },
    "id": "O0yCqZR3ypyc"
   },
   "outputs": [],
   "source": [
    "#pred_RF1 = RF.predict(X_test)"
   ]
  },
  {
   "cell_type": "code",
   "execution_count": 132,
   "metadata": {
    "executionInfo": {
     "elapsed": 79,
     "status": "ok",
     "timestamp": 1624022870015,
     "user": {
      "displayName": "Pranav Gouthamm",
      "photoUrl": "https://lh3.googleusercontent.com/a-/AOh14GgTM9a0Bo5w3JrAUEWfKpj-dt1Bw3vI6q-17xEo=s64",
      "userId": "00245361475060007376"
     },
     "user_tz": -120
    },
    "id": "Ny310roA1bnQ"
   },
   "outputs": [],
   "source": [
    "#print('RMSE:', np.sqrt(metrics.mean_squared_error(y_test, pred_RF1)))"
   ]
  },
  {
   "cell_type": "code",
   "execution_count": 133,
   "metadata": {
    "executionInfo": {
     "elapsed": 77,
     "status": "ok",
     "timestamp": 1624022870016,
     "user": {
      "displayName": "Pranav Gouthamm",
      "photoUrl": "https://lh3.googleusercontent.com/a-/AOh14GgTM9a0Bo5w3JrAUEWfKpj-dt1Bw3vI6q-17xEo=s64",
      "userId": "00245361475060007376"
     },
     "user_tz": -120
    },
    "id": "VcNuV7X22fYD"
   },
   "outputs": [],
   "source": [
    "#Training with KNN\n",
    "#knn_9 = neighbors.KNeighborsRegressor(n_neighbors = 9)"
   ]
  },
  {
   "cell_type": "code",
   "execution_count": 134,
   "metadata": {
    "executionInfo": {
     "elapsed": 76,
     "status": "ok",
     "timestamp": 1624022870017,
     "user": {
      "displayName": "Pranav Gouthamm",
      "photoUrl": "https://lh3.googleusercontent.com/a-/AOh14GgTM9a0Bo5w3JrAUEWfKpj-dt1Bw3vI6q-17xEo=s64",
      "userId": "00245361475060007376"
     },
     "user_tz": -120
    },
    "id": "oHJDDjt84Opk"
   },
   "outputs": [],
   "source": [
    "#knn_9.fit(X_train, y_train)"
   ]
  },
  {
   "cell_type": "code",
   "execution_count": 135,
   "metadata": {
    "executionInfo": {
     "elapsed": 75,
     "status": "ok",
     "timestamp": 1624022870018,
     "user": {
      "displayName": "Pranav Gouthamm",
      "photoUrl": "https://lh3.googleusercontent.com/a-/AOh14GgTM9a0Bo5w3JrAUEWfKpj-dt1Bw3vI6q-17xEo=s64",
      "userId": "00245361475060007376"
     },
     "user_tz": -120
    },
    "id": "pZTV0Iek4c4f"
   },
   "outputs": [],
   "source": [
    "#pred_knn_9 = knn_9.predict(X_test)"
   ]
  },
  {
   "cell_type": "code",
   "execution_count": 136,
   "metadata": {
    "executionInfo": {
     "elapsed": 73,
     "status": "ok",
     "timestamp": 1624022870019,
     "user": {
      "displayName": "Pranav Gouthamm",
      "photoUrl": "https://lh3.googleusercontent.com/a-/AOh14GgTM9a0Bo5w3JrAUEWfKpj-dt1Bw3vI6q-17xEo=s64",
      "userId": "00245361475060007376"
     },
     "user_tz": -120
    },
    "id": "-1K_bG1X4qqG"
   },
   "outputs": [],
   "source": [
    "#print('RMSE:', np.sqrt(metrics.mean_squared_error(y_test, pred_knn_9)))"
   ]
  },
  {
   "cell_type": "code",
   "execution_count": 137,
   "metadata": {
    "executionInfo": {
     "elapsed": 50,
     "status": "ok",
     "timestamp": 1624022870422,
     "user": {
      "displayName": "Pranav Gouthamm",
      "photoUrl": "https://lh3.googleusercontent.com/a-/AOh14GgTM9a0Bo5w3JrAUEWfKpj-dt1Bw3vI6q-17xEo=s64",
      "userId": "00245361475060007376"
     },
     "user_tz": -120
    },
    "id": "l1PPnC6U6tDB"
   },
   "outputs": [],
   "source": [
    "#zxgb = xgboost.XGBRegressor(n_estimators=100, learning_rate=0.08, gamma=0, subsample=0.75, colsample_bytree=1, max_depth=7)"
   ]
  },
  {
   "cell_type": "code",
   "execution_count": 138,
   "metadata": {
    "executionInfo": {
     "elapsed": 48,
     "status": "ok",
     "timestamp": 1624022870425,
     "user": {
      "displayName": "Pranav Gouthamm",
      "photoUrl": "https://lh3.googleusercontent.com/a-/AOh14GgTM9a0Bo5w3JrAUEWfKpj-dt1Bw3vI6q-17xEo=s64",
      "userId": "00245361475060007376"
     },
     "user_tz": -120
    },
    "id": "Z-jLoBwi8J-g"
   },
   "outputs": [],
   "source": [
    "#X_train_2 = X_train.astype('float64')"
   ]
  },
  {
   "cell_type": "code",
   "execution_count": 139,
   "metadata": {
    "executionInfo": {
     "elapsed": 48,
     "status": "ok",
     "timestamp": 1624022870427,
     "user": {
      "displayName": "Pranav Gouthamm",
      "photoUrl": "https://lh3.googleusercontent.com/a-/AOh14GgTM9a0Bo5w3JrAUEWfKpj-dt1Bw3vI6q-17xEo=s64",
      "userId": "00245361475060007376"
     },
     "user_tz": -120
    },
    "id": "ehV2awoF7I5_"
   },
   "outputs": [],
   "source": [
    "#xgb.fit(X_train_2,y_train)"
   ]
  },
  {
   "cell_type": "code",
   "execution_count": 140,
   "metadata": {
    "executionInfo": {
     "elapsed": 47,
     "status": "ok",
     "timestamp": 1624022870428,
     "user": {
      "displayName": "Pranav Gouthamm",
      "photoUrl": "https://lh3.googleusercontent.com/a-/AOh14GgTM9a0Bo5w3JrAUEWfKpj-dt1Bw3vI6q-17xEo=s64",
      "userId": "00245361475060007376"
     },
     "user_tz": -120
    },
    "id": "gMTc6AX474pW"
   },
   "outputs": [],
   "source": [
    "#WX_test_2 = X_test.astype('float64')"
   ]
  },
  {
   "cell_type": "code",
   "execution_count": 141,
   "metadata": {
    "executionInfo": {
     "elapsed": 48,
     "status": "ok",
     "timestamp": 1624022870430,
     "user": {
      "displayName": "Pranav Gouthamm",
      "photoUrl": "https://lh3.googleusercontent.com/a-/AOh14GgTM9a0Bo5w3JrAUEWfKpj-dt1Bw3vI6q-17xEo=s64",
      "userId": "00245361475060007376"
     },
     "user_tz": -120
    },
    "id": "_x2Y1YRS9Tqf"
   },
   "outputs": [],
   "source": [
    "#pred_xgb = xgb.predict(X_test_2)"
   ]
  },
  {
   "cell_type": "code",
   "execution_count": 142,
   "metadata": {
    "executionInfo": {
     "elapsed": 47,
     "status": "ok",
     "timestamp": 1624022870431,
     "user": {
      "displayName": "Pranav Gouthamm",
      "photoUrl": "https://lh3.googleusercontent.com/a-/AOh14GgTM9a0Bo5w3JrAUEWfKpj-dt1Bw3vI6q-17xEo=s64",
      "userId": "00245361475060007376"
     },
     "user_tz": -120
    },
    "id": "p_yxOxDe9cDM"
   },
   "outputs": [],
   "source": [
    "#print('RMSE:', np.sqrt(metrics.mean_squared_error(y_test, pred_xgb)))"
   ]
  },
  {
   "cell_type": "code",
   "execution_count": 143,
   "metadata": {
    "executionInfo": {
     "elapsed": 47,
     "status": "ok",
     "timestamp": 1624022870432,
     "user": {
      "displayName": "Pranav Gouthamm",
      "photoUrl": "https://lh3.googleusercontent.com/a-/AOh14GgTM9a0Bo5w3JrAUEWfKpj-dt1Bw3vI6q-17xEo=s64",
      "userId": "00245361475060007376"
     },
     "user_tz": -120
    },
    "id": "Ex_K0cIk9kR4"
   },
   "outputs": [],
   "source": [
    "#Training with KNN\n",
    "#knn_25 = neighbors.KNeighborsRegressor(n_neighbors = 25)"
   ]
  },
  {
   "cell_type": "code",
   "execution_count": 144,
   "metadata": {
    "executionInfo": {
     "elapsed": 47,
     "status": "ok",
     "timestamp": 1624022870433,
     "user": {
      "displayName": "Pranav Gouthamm",
      "photoUrl": "https://lh3.googleusercontent.com/a-/AOh14GgTM9a0Bo5w3JrAUEWfKpj-dt1Bw3vI6q-17xEo=s64",
      "userId": "00245361475060007376"
     },
     "user_tz": -120
    },
    "id": "m4ZhpHln-Dct"
   },
   "outputs": [],
   "source": [
    "#knn_25.fit(X_train, y_train)"
   ]
  },
  {
   "cell_type": "code",
   "execution_count": 145,
   "metadata": {
    "executionInfo": {
     "elapsed": 47,
     "status": "ok",
     "timestamp": 1624022870435,
     "user": {
      "displayName": "Pranav Gouthamm",
      "photoUrl": "https://lh3.googleusercontent.com/a-/AOh14GgTM9a0Bo5w3JrAUEWfKpj-dt1Bw3vI6q-17xEo=s64",
      "userId": "00245361475060007376"
     },
     "user_tz": -120
    },
    "id": "UtCdrTuD-JBl"
   },
   "outputs": [],
   "source": [
    "#pred_knn_25 = knn_25.predict(X_test)"
   ]
  },
  {
   "cell_type": "code",
   "execution_count": 146,
   "metadata": {
    "executionInfo": {
     "elapsed": 47,
     "status": "ok",
     "timestamp": 1624022870436,
     "user": {
      "displayName": "Pranav Gouthamm",
      "photoUrl": "https://lh3.googleusercontent.com/a-/AOh14GgTM9a0Bo5w3JrAUEWfKpj-dt1Bw3vI6q-17xEo=s64",
      "userId": "00245361475060007376"
     },
     "user_tz": -120
    },
    "id": "P-SM7MdS-Tkx"
   },
   "outputs": [],
   "source": [
    "#print('RMSE:', np.sqrt(metrics.mean_squared_error(y_test, pred_knn_25)))"
   ]
  },
  {
   "cell_type": "code",
   "execution_count": 147,
   "metadata": {
    "executionInfo": {
     "elapsed": 45,
     "status": "ok",
     "timestamp": 1624022870437,
     "user": {
      "displayName": "Pranav Gouthamm",
      "photoUrl": "https://lh3.googleusercontent.com/a-/AOh14GgTM9a0Bo5w3JrAUEWfKpj-dt1Bw3vI6q-17xEo=s64",
      "userId": "00245361475060007376"
     },
     "user_tz": -120
    },
    "id": "xUjbbMwx-2At"
   },
   "outputs": [],
   "source": [
    "#Training with KNN\n",
    "#knn_50 = neighbors.KNeighborsRegressor(n_neighbors = 50)"
   ]
  },
  {
   "cell_type": "code",
   "execution_count": 148,
   "metadata": {
    "executionInfo": {
     "elapsed": 46,
     "status": "ok",
     "timestamp": 1624022870439,
     "user": {
      "displayName": "Pranav Gouthamm",
      "photoUrl": "https://lh3.googleusercontent.com/a-/AOh14GgTM9a0Bo5w3JrAUEWfKpj-dt1Bw3vI6q-17xEo=s64",
      "userId": "00245361475060007376"
     },
     "user_tz": -120
    },
    "id": "862tSWpg5Nto"
   },
   "outputs": [],
   "source": [
    "#knn_50.fit(X_train, y_train)"
   ]
  },
  {
   "cell_type": "code",
   "execution_count": 149,
   "metadata": {
    "executionInfo": {
     "elapsed": 45,
     "status": "ok",
     "timestamp": 1624022870440,
     "user": {
      "displayName": "Pranav Gouthamm",
      "photoUrl": "https://lh3.googleusercontent.com/a-/AOh14GgTM9a0Bo5w3JrAUEWfKpj-dt1Bw3vI6q-17xEo=s64",
      "userId": "00245361475060007376"
     },
     "user_tz": -120
    },
    "id": "8Ngd1vI15VJG"
   },
   "outputs": [],
   "source": [
    "#pred_knn_50 = knn_50.predict(X_test)"
   ]
  },
  {
   "cell_type": "code",
   "execution_count": 150,
   "metadata": {
    "executionInfo": {
     "elapsed": 45,
     "status": "ok",
     "timestamp": 1624022870442,
     "user": {
      "displayName": "Pranav Gouthamm",
      "photoUrl": "https://lh3.googleusercontent.com/a-/AOh14GgTM9a0Bo5w3JrAUEWfKpj-dt1Bw3vI6q-17xEo=s64",
      "userId": "00245361475060007376"
     },
     "user_tz": -120
    },
    "id": "NZO6Pwq35ZT5"
   },
   "outputs": [],
   "source": [
    "#print('RMSE:', np.sqrt(metrics.mean_squared_error(y_test, pred_knn_50)))"
   ]
  },
  {
   "cell_type": "code",
   "execution_count": 151,
   "metadata": {
    "executionInfo": {
     "elapsed": 45,
     "status": "ok",
     "timestamp": 1624022870443,
     "user": {
      "displayName": "Pranav Gouthamm",
      "photoUrl": "https://lh3.googleusercontent.com/a-/AOh14GgTM9a0Bo5w3JrAUEWfKpj-dt1Bw3vI6q-17xEo=s64",
      "userId": "00245361475060007376"
     },
     "user_tz": -120
    },
    "id": "aGBD5rp189xZ"
   },
   "outputs": [],
   "source": [
    "#Training with KNN\n",
    "#knn_100 = neighbors.KNeighborsRegressor(n_neighbors = 100)"
   ]
  },
  {
   "cell_type": "code",
   "execution_count": 152,
   "metadata": {
    "executionInfo": {
     "elapsed": 45,
     "status": "ok",
     "timestamp": 1624022870444,
     "user": {
      "displayName": "Pranav Gouthamm",
      "photoUrl": "https://lh3.googleusercontent.com/a-/AOh14GgTM9a0Bo5w3JrAUEWfKpj-dt1Bw3vI6q-17xEo=s64",
      "userId": "00245361475060007376"
     },
     "user_tz": -120
    },
    "id": "bcc2_yYl9CnJ"
   },
   "outputs": [],
   "source": [
    "#knn_100.fit(X_train, y_train)"
   ]
  },
  {
   "cell_type": "code",
   "execution_count": 153,
   "metadata": {
    "executionInfo": {
     "elapsed": 46,
     "status": "ok",
     "timestamp": 1624022870446,
     "user": {
      "displayName": "Pranav Gouthamm",
      "photoUrl": "https://lh3.googleusercontent.com/a-/AOh14GgTM9a0Bo5w3JrAUEWfKpj-dt1Bw3vI6q-17xEo=s64",
      "userId": "00245361475060007376"
     },
     "user_tz": -120
    },
    "id": "KMX9Sz999Iw2"
   },
   "outputs": [],
   "source": [
    "#pred_knn_100 = knn_100.predict(X_test)"
   ]
  },
  {
   "cell_type": "code",
   "execution_count": 154,
   "metadata": {
    "executionInfo": {
     "elapsed": 46,
     "status": "ok",
     "timestamp": 1624022870447,
     "user": {
      "displayName": "Pranav Gouthamm",
      "photoUrl": "https://lh3.googleusercontent.com/a-/AOh14GgTM9a0Bo5w3JrAUEWfKpj-dt1Bw3vI6q-17xEo=s64",
      "userId": "00245361475060007376"
     },
     "user_tz": -120
    },
    "id": "6miq7NOZ9P1V"
   },
   "outputs": [],
   "source": [
    "#print('RMSE:', np.sqrt(metrics.mean_squared_error(y_test, pred_knn_100)))"
   ]
  },
  {
   "cell_type": "markdown",
   "metadata": {
    "id": "CAbjonBK0_36"
   },
   "source": [
    "#KNN Model"
   ]
  },
  {
   "cell_type": "code",
   "execution_count": 155,
   "metadata": {
    "colab": {
     "base_uri": "https://localhost:8080/"
    },
    "executionInfo": {
     "elapsed": 3513,
     "status": "ok",
     "timestamp": 1624022873916,
     "user": {
      "displayName": "Pranav Gouthamm",
      "photoUrl": "https://lh3.googleusercontent.com/a-/AOh14GgTM9a0Bo5w3JrAUEWfKpj-dt1Bw3vI6q-17xEo=s64",
      "userId": "00245361475060007376"
     },
     "user_tz": -120
    },
    "id": "Q5Es403NBXj5",
    "outputId": "649e9196-b6cd-41a2-a75d-9e10578f335b"
   },
   "outputs": [
    {
     "data": {
      "text/plain": [
       "KNeighborsRegressor(n_neighbors=100)"
      ]
     },
     "execution_count": 155,
     "metadata": {},
     "output_type": "execute_result"
    }
   ],
   "source": [
    "#Training with KNN\n",
    "knn= neighbors.KNeighborsRegressor(n_neighbors = 100)\n",
    "knn.fit(X_train, y_train)"
   ]
  },
  {
   "cell_type": "code",
   "execution_count": 156,
   "metadata": {
    "executionInfo": {
     "elapsed": 17399,
     "status": "ok",
     "timestamp": 1624022891294,
     "user": {
      "displayName": "Pranav Gouthamm",
      "photoUrl": "https://lh3.googleusercontent.com/a-/AOh14GgTM9a0Bo5w3JrAUEWfKpj-dt1Bw3vI6q-17xEo=s64",
      "userId": "00245361475060007376"
     },
     "user_tz": -120
    },
    "id": "NONXVzlgXQQG"
   },
   "outputs": [],
   "source": [
    "pred_knn = knn.predict(X_test)"
   ]
  },
  {
   "cell_type": "code",
   "execution_count": 157,
   "metadata": {
    "colab": {
     "base_uri": "https://localhost:8080/"
    },
    "executionInfo": {
     "elapsed": 51,
     "status": "ok",
     "timestamp": 1624022891296,
     "user": {
      "displayName": "Pranav Gouthamm",
      "photoUrl": "https://lh3.googleusercontent.com/a-/AOh14GgTM9a0Bo5w3JrAUEWfKpj-dt1Bw3vI6q-17xEo=s64",
      "userId": "00245361475060007376"
     },
     "user_tz": -120
    },
    "id": "WRKfo5k1XQuk",
    "outputId": "6d3df725-9e41-4486-f0a2-c5dc5d47a867"
   },
   "outputs": [
    {
     "name": "stdout",
     "output_type": "stream",
     "text": [
      "RMSE: 3001.3311125339214\n"
     ]
    }
   ],
   "source": [
    "print('RMSE:', np.sqrt(metrics.mean_squared_error(y_test, pred_knn)))"
   ]
  },
  {
   "cell_type": "code",
   "execution_count": 158,
   "metadata": {
    "executionInfo": {
     "elapsed": 1480,
     "status": "ok",
     "timestamp": 1624022892731,
     "user": {
      "displayName": "Pranav Gouthamm",
      "photoUrl": "https://lh3.googleusercontent.com/a-/AOh14GgTM9a0Bo5w3JrAUEWfKpj-dt1Bw3vI6q-17xEo=s64",
      "userId": "00245361475060007376"
     },
     "user_tz": -120
    },
    "id": "OeO0YeU5XTup"
   },
   "outputs": [],
   "source": [
    "pickle_out = open(\"classifier.pkl\",\"wb\")\n",
    "pickle.dump(knn, pickle_out)\n",
    "pickle_out.close()"
   ]
  },
  {
   "cell_type": "code",
   "execution_count": 159,
   "metadata": {
    "executionInfo": {
     "elapsed": 35,
     "status": "ok",
     "timestamp": 1624022892743,
     "user": {
      "displayName": "Pranav Gouthamm",
      "photoUrl": "https://lh3.googleusercontent.com/a-/AOh14GgTM9a0Bo5w3JrAUEWfKpj-dt1Bw3vI6q-17xEo=s64",
      "userId": "00245361475060007376"
     },
     "user_tz": -120
    },
    "id": "n-pL7aFSCNlq"
   },
   "outputs": [],
   "source": [
    "columns = {\n",
    "    'data_columns': [col.lower() for col in X_train.columns]\n",
    "}\n",
    "with open(\"columns.json\",\"w\") as f:\n",
    "    f.write(json.dumps(columns))"
   ]
  },
  {
   "cell_type": "code",
   "execution_count": 160,
   "metadata": {
    "colab": {
     "base_uri": "https://localhost:8080/"
    },
    "executionInfo": {
     "elapsed": 46,
     "status": "ok",
     "timestamp": 1624022892757,
     "user": {
      "displayName": "Pranav Gouthamm",
      "photoUrl": "https://lh3.googleusercontent.com/a-/AOh14GgTM9a0Bo5w3JrAUEWfKpj-dt1Bw3vI6q-17xEo=s64",
      "userId": "00245361475060007376"
     },
     "user_tz": -120
    },
    "id": "PFJHsgUqqEMz",
    "outputId": "a1d52682-ffbe-4080-950a-b50bdf27714f"
   },
   "outputs": [
    {
     "name": "stdout",
     "output_type": "stream",
     "text": [
      "Index(['brand_value', 'brand'], dtype='object')\n",
      "Index(['model_value', 'model'], dtype='object')\n"
     ]
    }
   ],
   "source": [
    "print(brand_df.columns)\n",
    "print(model_df.columns)"
   ]
  },
  {
   "cell_type": "code",
   "execution_count": 161,
   "metadata": {
    "executionInfo": {
     "elapsed": 51,
     "status": "ok",
     "timestamp": 1624022892767,
     "user": {
      "displayName": "Pranav Gouthamm",
      "photoUrl": "https://lh3.googleusercontent.com/a-/AOh14GgTM9a0Bo5w3JrAUEWfKpj-dt1Bw3vI6q-17xEo=s64",
      "userId": "00245361475060007376"
     },
     "user_tz": -120
    },
    "id": "lYYwJsze1T0E"
   },
   "outputs": [],
   "source": [
    "brandindex_list = {\n",
    "    'brand': [col for col in brand_df.brand],\n",
    "    'brand_value': [col for col in brand_df.brand_value]\n",
    "}"
   ]
  },
  {
   "cell_type": "code",
   "execution_count": 162,
   "metadata": {
    "colab": {
     "base_uri": "https://localhost:8080/",
     "height": 203
    },
    "executionInfo": {
     "elapsed": 53,
     "status": "ok",
     "timestamp": 1624022892772,
     "user": {
      "displayName": "Pranav Gouthamm",
      "photoUrl": "https://lh3.googleusercontent.com/a-/AOh14GgTM9a0Bo5w3JrAUEWfKpj-dt1Bw3vI6q-17xEo=s64",
      "userId": "00245361475060007376"
     },
     "user_tz": -120
    },
    "id": "yG_me587S9pU",
    "outputId": "89aedeb8-decb-4de2-8345-84824821ebbb"
   },
   "outputs": [
    {
     "data": {
      "text/html": [
       "<div>\n",
       "<style scoped>\n",
       "    .dataframe tbody tr th:only-of-type {\n",
       "        vertical-align: middle;\n",
       "    }\n",
       "\n",
       "    .dataframe tbody tr th {\n",
       "        vertical-align: top;\n",
       "    }\n",
       "\n",
       "    .dataframe thead th {\n",
       "        text-align: right;\n",
       "    }\n",
       "</style>\n",
       "<table border=\"1\" class=\"dataframe\">\n",
       "  <thead>\n",
       "    <tr style=\"text-align: right;\">\n",
       "      <th></th>\n",
       "      <th>model_value</th>\n",
       "      <th>model</th>\n",
       "    </tr>\n",
       "  </thead>\n",
       "  <tbody>\n",
       "    <tr>\n",
       "      <th>164</th>\n",
       "      <td>0</td>\n",
       "      <td>100</td>\n",
       "    </tr>\n",
       "    <tr>\n",
       "      <th>233</th>\n",
       "      <td>1</td>\n",
       "      <td>145</td>\n",
       "    </tr>\n",
       "    <tr>\n",
       "      <th>45</th>\n",
       "      <td>2</td>\n",
       "      <td>147</td>\n",
       "    </tr>\n",
       "    <tr>\n",
       "      <th>161</th>\n",
       "      <td>3</td>\n",
       "      <td>156</td>\n",
       "    </tr>\n",
       "    <tr>\n",
       "      <th>129</th>\n",
       "      <td>4</td>\n",
       "      <td>159</td>\n",
       "    </tr>\n",
       "  </tbody>\n",
       "</table>\n",
       "</div>"
      ],
      "text/plain": [
       "     model_value model\n",
       "164            0   100\n",
       "233            1   145\n",
       "45             2   147\n",
       "161            3   156\n",
       "129            4   159"
      ]
     },
     "execution_count": 162,
     "metadata": {},
     "output_type": "execute_result"
    }
   ],
   "source": [
    "model_df.head()"
   ]
  },
  {
   "cell_type": "code",
   "execution_count": 163,
   "metadata": {
    "executionInfo": {
     "elapsed": 52,
     "status": "ok",
     "timestamp": 1624022892774,
     "user": {
      "displayName": "Pranav Gouthamm",
      "photoUrl": "https://lh3.googleusercontent.com/a-/AOh14GgTM9a0Bo5w3JrAUEWfKpj-dt1Bw3vI6q-17xEo=s64",
      "userId": "00245361475060007376"
     },
     "user_tz": -120
    },
    "id": "taI59p0ISa5C"
   },
   "outputs": [],
   "source": [
    "modelindex_list = {\n",
    "    'model': [col for col in model_df.model],\n",
    "    'model_value': [col for col in model_df.model_value]\n",
    "}"
   ]
  },
  {
   "cell_type": "code",
   "execution_count": 164,
   "metadata": {
    "executionInfo": {
     "elapsed": 59,
     "status": "ok",
     "timestamp": 1624022892783,
     "user": {
      "displayName": "Pranav Gouthamm",
      "photoUrl": "https://lh3.googleusercontent.com/a-/AOh14GgTM9a0Bo5w3JrAUEWfKpj-dt1Bw3vI6q-17xEo=s64",
      "userId": "00245361475060007376"
     },
     "user_tz": -120
    },
    "id": "bdI7iVQ3poQc"
   },
   "outputs": [],
   "source": [
    "with open(\"brand.json\",\"w\") as f:\n",
    "    f.write(json.dumps(brandindex_list))"
   ]
  },
  {
   "cell_type": "code",
   "execution_count": 165,
   "metadata": {
    "executionInfo": {
     "elapsed": 493,
     "status": "ok",
     "timestamp": 1624022893218,
     "user": {
      "displayName": "Pranav Gouthamm",
      "photoUrl": "https://lh3.googleusercontent.com/a-/AOh14GgTM9a0Bo5w3JrAUEWfKpj-dt1Bw3vI6q-17xEo=s64",
      "userId": "00245361475060007376"
     },
     "user_tz": -120
    },
    "id": "3xRVdbssSqn2"
   },
   "outputs": [],
   "source": [
    "with open(\"model.json\",\"w\") as f:\n",
    "    f.write(json.dumps(modelindex_list))"
   ]
  },
  {
   "cell_type": "code",
   "execution_count": 166,
   "metadata": {
    "executionInfo": {
     "elapsed": 75,
     "status": "ok",
     "timestamp": 1624022893222,
     "user": {
      "displayName": "Pranav Gouthamm",
      "photoUrl": "https://lh3.googleusercontent.com/a-/AOh14GgTM9a0Bo5w3JrAUEWfKpj-dt1Bw3vI6q-17xEo=s64",
      "userId": "00245361475060007376"
     },
     "user_tz": -120
    },
    "id": "ASlFfuiwWz9X"
   },
   "outputs": [],
   "source": [
    "brand_names = brandindex_list.get('brand')"
   ]
  },
  {
   "cell_type": "code",
   "execution_count": 167,
   "metadata": {
    "executionInfo": {
     "elapsed": 76,
     "status": "ok",
     "timestamp": 1624022893225,
     "user": {
      "displayName": "Pranav Gouthamm",
      "photoUrl": "https://lh3.googleusercontent.com/a-/AOh14GgTM9a0Bo5w3JrAUEWfKpj-dt1Bw3vI6q-17xEo=s64",
      "userId": "00245361475060007376"
     },
     "user_tz": -120
    },
    "id": "7JP7jpRPmgQe"
   },
   "outputs": [],
   "source": [
    "brand_index = brandindex_list.get('brand_value')"
   ]
  },
  {
   "cell_type": "code",
   "execution_count": 168,
   "metadata": {
    "executionInfo": {
     "elapsed": 201,
     "status": "ok",
     "timestamp": 1624023436952,
     "user": {
      "displayName": "Pranav Gouthamm",
      "photoUrl": "https://lh3.googleusercontent.com/a-/AOh14GgTM9a0Bo5w3JrAUEWfKpj-dt1Bw3vI6q-17xEo=s64",
      "userId": "00245361475060007376"
     },
     "user_tz": -120
    },
    "id": "ea7ClzDRVgUH"
   },
   "outputs": [],
   "source": [
    "model_names = modelindex_list.get('model')"
   ]
  },
  {
   "cell_type": "code",
   "execution_count": 169,
   "metadata": {
    "executionInfo": {
     "elapsed": 274,
     "status": "ok",
     "timestamp": 1624023438751,
     "user": {
      "displayName": "Pranav Gouthamm",
      "photoUrl": "https://lh3.googleusercontent.com/a-/AOh14GgTM9a0Bo5w3JrAUEWfKpj-dt1Bw3vI6q-17xEo=s64",
      "userId": "00245361475060007376"
     },
     "user_tz": -120
    },
    "id": "w1tmcCMPVguU"
   },
   "outputs": [],
   "source": [
    "model_index = modelindex_list.get('model_value')"
   ]
  },
  {
   "cell_type": "code",
   "execution_count": 170,
   "metadata": {
    "colab": {
     "base_uri": "https://localhost:8080/",
     "height": 35
    },
    "executionInfo": {
     "elapsed": 81,
     "status": "ok",
     "timestamp": 1624022893231,
     "user": {
      "displayName": "Pranav Gouthamm",
      "photoUrl": "https://lh3.googleusercontent.com/a-/AOh14GgTM9a0Bo5w3JrAUEWfKpj-dt1Bw3vI6q-17xEo=s64",
      "userId": "00245361475060007376"
     },
     "user_tz": -120
    },
    "id": "NVbkwbbuniHB",
    "outputId": "a5631f1b-7c2f-407e-f462-3f6dd3960deb"
   },
   "outputs": [
    {
     "data": {
      "text/plain": [
       "'alfa_romeo'"
      ]
     },
     "execution_count": 170,
     "metadata": {},
     "output_type": "execute_result"
    }
   ],
   "source": [
    "brand_names[0]"
   ]
  },
  {
   "cell_type": "code",
   "execution_count": 171,
   "metadata": {
    "colab": {
     "base_uri": "https://localhost:8080/"
    },
    "executionInfo": {
     "elapsed": 76,
     "status": "ok",
     "timestamp": 1624022893233,
     "user": {
      "displayName": "Pranav Gouthamm",
      "photoUrl": "https://lh3.googleusercontent.com/a-/AOh14GgTM9a0Bo5w3JrAUEWfKpj-dt1Bw3vI6q-17xEo=s64",
      "userId": "00245361475060007376"
     },
     "user_tz": -120
    },
    "id": "5W8yP3DeoftN",
    "outputId": "4e397444-885d-4887-94da-6f7ef30d7fe5"
   },
   "outputs": [
    {
     "data": {
      "text/plain": [
       "0"
      ]
     },
     "execution_count": 171,
     "metadata": {},
     "output_type": "execute_result"
    }
   ],
   "source": [
    "brand_index[0]"
   ]
  },
  {
   "cell_type": "code",
   "execution_count": 172,
   "metadata": {
    "colab": {
     "base_uri": "https://localhost:8080/",
     "height": 35
    },
    "executionInfo": {
     "elapsed": 215,
     "status": "ok",
     "timestamp": 1624023449022,
     "user": {
      "displayName": "Pranav Gouthamm",
      "photoUrl": "https://lh3.googleusercontent.com/a-/AOh14GgTM9a0Bo5w3JrAUEWfKpj-dt1Bw3vI6q-17xEo=s64",
      "userId": "00245361475060007376"
     },
     "user_tz": -120
    },
    "id": "V5Ga1c33VyPW",
    "outputId": "f7b25be9-9f79-439e-a06c-b05b267d2b71"
   },
   "outputs": [
    {
     "data": {
      "text/plain": [
       "'100'"
      ]
     },
     "execution_count": 172,
     "metadata": {},
     "output_type": "execute_result"
    }
   ],
   "source": [
    "model_names[0]"
   ]
  },
  {
   "cell_type": "code",
   "execution_count": 173,
   "metadata": {
    "colab": {
     "base_uri": "https://localhost:8080/"
    },
    "executionInfo": {
     "elapsed": 214,
     "status": "ok",
     "timestamp": 1624023461402,
     "user": {
      "displayName": "Pranav Gouthamm",
      "photoUrl": "https://lh3.googleusercontent.com/a-/AOh14GgTM9a0Bo5w3JrAUEWfKpj-dt1Bw3vI6q-17xEo=s64",
      "userId": "00245361475060007376"
     },
     "user_tz": -120
    },
    "id": "vhGPd5roV0nr",
    "outputId": "06ec1670-5695-43b9-f2eb-3d89404430e8"
   },
   "outputs": [
    {
     "data": {
      "text/plain": [
       "0"
      ]
     },
     "execution_count": 173,
     "metadata": {},
     "output_type": "execute_result"
    }
   ],
   "source": [
    "model_index[0]"
   ]
  },
  {
   "cell_type": "code",
   "execution_count": 174,
   "metadata": {
    "colab": {
     "base_uri": "https://localhost:8080/"
    },
    "executionInfo": {
     "elapsed": 77,
     "status": "ok",
     "timestamp": 1624022893250,
     "user": {
      "displayName": "Pranav Gouthamm",
      "photoUrl": "https://lh3.googleusercontent.com/a-/AOh14GgTM9a0Bo5w3JrAUEWfKpj-dt1Bw3vI6q-17xEo=s64",
      "userId": "00245361475060007376"
     },
     "user_tz": -120
    },
    "id": "GZVkaBaHr2DQ",
    "outputId": "91a029f8-1508-44b0-db11-c7069365dc56"
   },
   "outputs": [
    {
     "name": "stdout",
     "output_type": "stream",
     "text": [
      "0 : \"alfa_romeo\",\n",
      "1 : \"audi\",\n",
      "2 : \"bmw\",\n",
      "3 : \"chevrolet\",\n",
      "4 : \"chrysler\",\n",
      "5 : \"citroen\",\n",
      "6 : \"dacia\",\n",
      "7 : \"daewoo\",\n",
      "8 : \"daihatsu\",\n",
      "9 : \"fiat\",\n",
      "10 : \"ford\",\n",
      "11 : \"honda\",\n",
      "12 : \"hyundai\",\n",
      "13 : \"jaguar\",\n",
      "14 : \"jeep\",\n",
      "15 : \"kia\",\n",
      "16 : \"lada\",\n",
      "17 : \"lancia\",\n",
      "18 : \"land_rover\",\n",
      "19 : \"mazda\",\n",
      "20 : \"mercedes_benz\",\n",
      "21 : \"mini\",\n",
      "22 : \"mitsubishi\",\n",
      "23 : \"nissan\",\n",
      "24 : \"opel\",\n",
      "25 : \"peugeot\",\n",
      "26 : \"porsche\",\n",
      "27 : \"renault\",\n",
      "28 : \"rover\",\n",
      "29 : \"saab\",\n",
      "30 : \"seat\",\n",
      "31 : \"skoda\",\n",
      "32 : \"smart\",\n",
      "33 : \"subaru\",\n",
      "34 : \"suzuki\",\n",
      "35 : \"toyota\",\n",
      "36 : \"volkswagen\",\n",
      "37 : \"volvo\",\n"
     ]
    }
   ],
   "source": [
    "for i in range(len(brand_index)):\n",
    "  print(f\"{brand_index[i]} : \\\"{brand_names[i]}\\\",\")"
   ]
  },
  {
   "cell_type": "code",
   "execution_count": 175,
   "metadata": {
    "colab": {
     "base_uri": "https://localhost:8080/"
    },
    "executionInfo": {
     "elapsed": 303,
     "status": "ok",
     "timestamp": 1624023492526,
     "user": {
      "displayName": "Pranav Gouthamm",
      "photoUrl": "https://lh3.googleusercontent.com/a-/AOh14GgTM9a0Bo5w3JrAUEWfKpj-dt1Bw3vI6q-17xEo=s64",
      "userId": "00245361475060007376"
     },
     "user_tz": -120
    },
    "id": "wdgkL7a4uL5M",
    "outputId": "e654fb3f-533c-4d56-b6f5-9ffdd9c1ea6b"
   },
   "outputs": [
    {
     "name": "stdout",
     "output_type": "stream",
     "text": [
      "0 : \"100\",\n",
      "1 : \"145\",\n",
      "2 : \"147\",\n",
      "3 : \"156\",\n",
      "4 : \"159\",\n",
      "5 : \"1_reihe\",\n",
      "6 : \"1er\",\n",
      "7 : \"200\",\n",
      "8 : \"2_reihe\",\n",
      "9 : \"300c\",\n",
      "10 : \"3_reihe\",\n",
      "11 : \"3er\",\n",
      "12 : \"4_reihe\",\n",
      "13 : \"500\",\n",
      "14 : \"5_reihe\",\n",
      "15 : \"5er\",\n",
      "16 : \"6_reihe\",\n",
      "17 : \"6er\",\n",
      "18 : \"7er\",\n",
      "19 : \"80\",\n",
      "20 : \"850\",\n",
      "21 : \"90\",\n",
      "22 : \"900\",\n",
      "23 : \"9000\",\n",
      "24 : \"911\",\n",
      "25 : \"a1\",\n",
      "26 : \"a2\",\n",
      "27 : \"a3\",\n",
      "28 : \"a4\",\n",
      "29 : \"a5\",\n",
      "30 : \"a6\",\n",
      "31 : \"a8\",\n",
      "32 : \"a_klasse\",\n",
      "33 : \"accord\",\n",
      "34 : \"agila\",\n",
      "35 : \"alhambra\",\n",
      "36 : \"almera\",\n",
      "37 : \"altea\",\n",
      "38 : \"amarok\",\n",
      "39 : \"antara\",\n",
      "40 : \"arosa\",\n",
      "41 : \"astra\",\n",
      "42 : \"auris\",\n",
      "43 : \"avensis\",\n",
      "44 : \"aveo\",\n",
      "45 : \"aygo\",\n",
      "46 : \"b_klasse\",\n",
      "47 : \"b_max\",\n",
      "48 : \"beetle\",\n",
      "49 : \"berlingo\",\n",
      "50 : \"bora\",\n",
      "51 : \"boxster\",\n",
      "52 : \"bravo\",\n",
      "53 : \"c1\",\n",
      "54 : \"c2\",\n",
      "55 : \"c3\",\n",
      "56 : \"c4\",\n",
      "57 : \"c5\",\n",
      "58 : \"c_klasse\",\n",
      "59 : \"c_max\",\n",
      "60 : \"c_reihe\",\n",
      "61 : \"caddy\",\n",
      "62 : \"calibra\",\n",
      "63 : \"captiva\",\n",
      "64 : \"carisma\",\n",
      "65 : \"carnival\",\n",
      "66 : \"cayenne\",\n",
      "67 : \"cc\",\n",
      "68 : \"ceed\",\n",
      "69 : \"charade\",\n",
      "70 : \"cherokee\",\n",
      "71 : \"citigo\",\n",
      "72 : \"civic\",\n",
      "73 : \"cl\",\n",
      "74 : \"clio\",\n",
      "75 : \"clk\",\n",
      "76 : \"clubman\",\n",
      "77 : \"colt\",\n",
      "78 : \"combo\",\n",
      "79 : \"cooper\",\n",
      "80 : \"cordoba\",\n",
      "81 : \"corolla\",\n",
      "82 : \"corsa\",\n",
      "83 : \"cr_reihe\",\n",
      "84 : \"croma\",\n",
      "85 : \"crossfire\",\n",
      "86 : \"cuore\",\n",
      "87 : \"cx_reihe\",\n",
      "88 : \"defender\",\n",
      "89 : \"delta\",\n",
      "90 : \"discovery\",\n",
      "91 : \"discovery_sport\",\n",
      "92 : \"doblo\",\n",
      "93 : \"ducato\",\n",
      "94 : \"duster\",\n",
      "95 : \"e_klasse\",\n",
      "96 : \"elefantino\",\n",
      "97 : \"eos\",\n",
      "98 : \"escort\",\n",
      "99 : \"espace\",\n",
      "100 : \"exeo\",\n",
      "101 : \"fabia\",\n",
      "102 : \"fiesta\",\n",
      "103 : \"focus\",\n",
      "104 : \"forester\",\n",
      "105 : \"forfour\",\n",
      "106 : \"fortwo\",\n",
      "107 : \"fox\",\n",
      "108 : \"freelander\",\n",
      "109 : \"fusion\",\n",
      "110 : \"g_klasse\",\n",
      "111 : \"galant\",\n",
      "112 : \"galaxy\",\n",
      "113 : \"getz\",\n",
      "114 : \"gl\",\n",
      "115 : \"glk\",\n",
      "116 : \"golf\",\n",
      "117 : \"grand\",\n",
      "118 : \"i3\",\n",
      "119 : \"i_reihe\",\n",
      "120 : \"ibiza\",\n",
      "121 : \"impreza\",\n",
      "122 : \"insignia\",\n",
      "123 : \"jazz\",\n",
      "124 : \"jetta\",\n",
      "125 : \"jimny\",\n",
      "126 : \"juke\",\n",
      "127 : \"justy\",\n",
      "128 : \"ka\",\n",
      "129 : \"kadett\",\n",
      "130 : \"kaefer\",\n",
      "131 : \"kalina\",\n",
      "132 : \"kalos\",\n",
      "133 : \"kangoo\",\n",
      "134 : \"kappa\",\n",
      "135 : \"kuga\",\n",
      "136 : \"laguna\",\n",
      "137 : \"lancer\",\n",
      "138 : \"lanos\",\n",
      "139 : \"legacy\",\n",
      "140 : \"leon\",\n",
      "141 : \"lodgy\",\n",
      "142 : \"logan\",\n",
      "143 : \"lupo\",\n",
      "144 : \"lybra\",\n",
      "145 : \"m_klasse\",\n",
      "146 : \"m_reihe\",\n",
      "147 : \"materia\",\n",
      "148 : \"matiz\",\n",
      "149 : \"megane\",\n",
      "150 : \"meriva\",\n",
      "151 : \"micra\",\n",
      "152 : \"mii\",\n",
      "153 : \"modus\",\n",
      "154 : \"mondeo\",\n",
      "155 : \"move\",\n",
      "156 : \"musa\",\n",
      "157 : \"mustang\",\n",
      "158 : \"mx_reihe\",\n",
      "159 : \"navara\",\n",
      "160 : \"niva\",\n",
      "161 : \"note\",\n",
      "162 : \"nubira\",\n",
      "163 : \"octavia\",\n",
      "164 : \"omega\",\n",
      "165 : \"one\",\n",
      "166 : \"outlander\",\n",
      "167 : \"pajero\",\n",
      "168 : \"panda\",\n",
      "169 : \"passat\",\n",
      "170 : \"phaeton\",\n",
      "171 : \"picanto\",\n",
      "172 : \"polo\",\n",
      "173 : \"primera\",\n",
      "174 : \"ptcruiser\",\n",
      "175 : \"punto\",\n",
      "176 : \"q3\",\n",
      "177 : \"q5\",\n",
      "178 : \"q7\",\n",
      "179 : \"qashqai\",\n",
      "180 : \"r19\",\n",
      "181 : \"range_rover\",\n",
      "182 : \"range_rover_evoque\",\n",
      "183 : \"range_rover_sport\",\n",
      "184 : \"rangerover\",\n",
      "185 : \"rav\",\n",
      "186 : \"rio\",\n",
      "187 : \"roadster\",\n",
      "188 : \"roomster\",\n",
      "189 : \"rx_reihe\",\n",
      "190 : \"s60\",\n",
      "191 : \"s_klasse\",\n",
      "192 : \"s_max\",\n",
      "193 : \"s_type\",\n",
      "194 : \"samara\",\n",
      "195 : \"sandero\",\n",
      "196 : \"santa\",\n",
      "197 : \"scenic\",\n",
      "198 : \"scirocco\",\n",
      "199 : \"seicento\",\n",
      "200 : \"serie_2\",\n",
      "201 : \"sharan\",\n",
      "202 : \"signum\",\n",
      "203 : \"sirion\",\n",
      "204 : \"sl\",\n",
      "205 : \"slk\",\n",
      "206 : \"sorento\",\n",
      "207 : \"spark\",\n",
      "208 : \"spider\",\n",
      "209 : \"sportage\",\n",
      "210 : \"sprinter\",\n",
      "211 : \"stilo\",\n",
      "212 : \"superb\",\n",
      "213 : \"swift\",\n",
      "214 : \"terios\",\n",
      "215 : \"tigra\",\n",
      "216 : \"tiguan\",\n",
      "217 : \"toledo\",\n",
      "218 : \"touareg\",\n",
      "219 : \"touran\",\n",
      "220 : \"transit\",\n",
      "221 : \"transporter\",\n",
      "222 : \"tt\",\n",
      "223 : \"tucson\",\n",
      "224 : \"twingo\",\n",
      "225 : \"up\",\n",
      "226 : \"v40\",\n",
      "227 : \"v50\",\n",
      "228 : \"v60\",\n",
      "229 : \"v70\",\n",
      "230 : \"v_klasse\",\n",
      "231 : \"vectra\",\n",
      "232 : \"verso\",\n",
      "233 : \"viano\",\n",
      "234 : \"vito\",\n",
      "235 : \"vivaro\",\n",
      "236 : \"voyager\",\n",
      "237 : \"wrangler\",\n",
      "238 : \"x_reihe\",\n",
      "239 : \"x_trail\",\n",
      "240 : \"x_type\",\n",
      "241 : \"xc_reihe\",\n",
      "242 : \"yaris\",\n",
      "243 : \"yeti\",\n",
      "244 : \"ypsilon\",\n",
      "245 : \"z_reihe\",\n",
      "246 : \"zafira\",\n"
     ]
    }
   ],
   "source": [
    "for i in range(len(model_index)):\n",
    "  print(f\"{model_index[i]} : \\\"{model_names[i]}\\\",\")"
   ]
  },
  {
   "cell_type": "code",
   "execution_count": 176,
   "metadata": {
    "executionInfo": {
     "elapsed": 395,
     "status": "ok",
     "timestamp": 1624027836580,
     "user": {
      "displayName": "Pranav Gouthamm",
      "photoUrl": "https://lh3.googleusercontent.com/a-/AOh14GgTM9a0Bo5w3JrAUEWfKpj-dt1Bw3vI6q-17xEo=s64",
      "userId": "00245361475060007376"
     },
     "user_tz": -120
    },
    "id": "97LGSGp-V-S2"
   },
   "outputs": [],
   "source": [
    "YoR_1 = X_train.yearofregistration.sort_values()"
   ]
  },
  {
   "cell_type": "code",
   "execution_count": 177,
   "metadata": {
    "colab": {
     "base_uri": "https://localhost:8080/"
    },
    "executionInfo": {
     "elapsed": 243,
     "status": "ok",
     "timestamp": 1624027869941,
     "user": {
      "displayName": "Pranav Gouthamm",
      "photoUrl": "https://lh3.googleusercontent.com/a-/AOh14GgTM9a0Bo5w3JrAUEWfKpj-dt1Bw3vI6q-17xEo=s64",
      "userId": "00245361475060007376"
     },
     "user_tz": -120
    },
    "id": "b6pt6HAoaqye",
    "outputId": "4aae6ead-1d1c-4fef-c0de-eb28f11c92c6"
   },
   "outputs": [
    {
     "data": {
      "text/plain": [
       "array([1981, 1982, 1983, 1984, 1985, 1986, 1987, 1988, 1989, 1990, 1991,\n",
       "       1992, 1993, 1994, 1995, 1996, 1997, 1998, 1999, 2000, 2001, 2002,\n",
       "       2003, 2004, 2005, 2006, 2007, 2008, 2009, 2010, 2011, 2012, 2013,\n",
       "       2014, 2015, 2016, 2017, 2018], dtype=int64)"
      ]
     },
     "execution_count": 177,
     "metadata": {},
     "output_type": "execute_result"
    }
   ],
   "source": [
    "YoR_1.unique()"
   ]
  }
 ],
 "metadata": {
  "accelerator": "TPU",
  "colab": {
   "authorship_tag": "ABX9TyM+elLpBm13BuRhUXRwnkjT",
   "collapsed_sections": [
    "un--WgfeBqnF",
    "f6EkQjdwB7-_"
   ],
   "mount_file_id": "1HKABDSWwS9vrzK9_cUiTEIx_KrH5MYyD",
   "name": "GUCPP.ipynb",
   "provenance": [
    {
     "file_id": "1VyPXElvQ-XKEkYNwssWhT-LC6OVY0W4W",
     "timestamp": 1623756138427
    }
   ]
  },
  "kernelspec": {
   "display_name": "Python 3",
   "language": "python",
   "name": "python3"
  },
  "language_info": {
   "codemirror_mode": {
    "name": "ipython",
    "version": 3
   },
   "file_extension": ".py",
   "mimetype": "text/x-python",
   "name": "python",
   "nbconvert_exporter": "python",
   "pygments_lexer": "ipython3",
   "version": "3.8.8"
  }
 },
 "nbformat": 4,
 "nbformat_minor": 1
}
