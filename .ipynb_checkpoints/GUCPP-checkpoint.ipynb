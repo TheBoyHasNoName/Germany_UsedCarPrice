{
 "cells": [
  {
   "cell_type": "code",
   "execution_count": 1,
   "metadata": {
    "executionInfo": {
     "elapsed": 895,
     "status": "ok",
     "timestamp": 1624022834608,
     "user": {
      "displayName": "Pranav Gouthamm",
      "photoUrl": "https://lh3.googleusercontent.com/a-/AOh14GgTM9a0Bo5w3JrAUEWfKpj-dt1Bw3vI6q-17xEo=s64",
      "userId": "00245361475060007376"
     },
     "user_tz": -120
    },
    "id": "nLnKKgXgKnbk"
   },
   "outputs": [
    {
     "ename": "ModuleNotFoundError",
     "evalue": "No module named 'xgboost'",
     "output_type": "error",
     "traceback": [
      "\u001b[1;31m---------------------------------------------------------------------------\u001b[0m",
      "\u001b[1;31mModuleNotFoundError\u001b[0m                       Traceback (most recent call last)",
      "\u001b[1;32m<ipython-input-1-9991e6de4036>\u001b[0m in \u001b[0;36m<module>\u001b[1;34m\u001b[0m\n\u001b[0;32m     11\u001b[0m \u001b[1;32mfrom\u001b[0m \u001b[0msklearn\u001b[0m \u001b[1;32mimport\u001b[0m \u001b[0mmetrics\u001b[0m\u001b[1;33m\u001b[0m\u001b[1;33m\u001b[0m\u001b[0m\n\u001b[0;32m     12\u001b[0m \u001b[1;32mfrom\u001b[0m \u001b[0msklearn\u001b[0m\u001b[1;33m.\u001b[0m\u001b[0mmetrics\u001b[0m \u001b[1;32mimport\u001b[0m \u001b[0mmean_squared_error\u001b[0m\u001b[1;33m,\u001b[0m \u001b[0mr2_score\u001b[0m\u001b[1;33m\u001b[0m\u001b[1;33m\u001b[0m\u001b[0m\n\u001b[1;32m---> 13\u001b[1;33m \u001b[1;32mimport\u001b[0m \u001b[0mxgboost\u001b[0m\u001b[1;33m\u001b[0m\u001b[1;33m\u001b[0m\u001b[0m\n\u001b[0m\u001b[0;32m     14\u001b[0m \u001b[1;32mfrom\u001b[0m \u001b[0msklearn\u001b[0m \u001b[1;32mimport\u001b[0m \u001b[0mneighbors\u001b[0m\u001b[1;33m\u001b[0m\u001b[1;33m\u001b[0m\u001b[0m\n\u001b[0;32m     15\u001b[0m \u001b[1;32mimport\u001b[0m \u001b[0mpickle\u001b[0m\u001b[1;33m\u001b[0m\u001b[1;33m\u001b[0m\u001b[0m\n",
      "\u001b[1;31mModuleNotFoundError\u001b[0m: No module named 'xgboost'"
     ]
    }
   ],
   "source": [
    "import os\n",
    "import numpy as np\n",
    "import pandas as pd\n",
    "import seaborn as sns\n",
    "import matplotlib.pyplot as plt\n",
    "from sklearn.preprocessing import MinMaxScaler\n",
    "from sklearn.preprocessing import LabelEncoder\n",
    "from sklearn import preprocessing \n",
    "from sklearn.model_selection import train_test_split\n",
    "from sklearn.ensemble import RandomForestRegressor\n",
    "from sklearn import metrics\n",
    "from sklearn.metrics import mean_squared_error, r2_score\n",
    "import xgboost\n",
    "from sklearn import neighbors\n",
    "import pickle\n",
    "import json"
   ]
  },
  {
   "cell_type": "code",
   "execution_count": null,
   "metadata": {
    "executionInfo": {
     "elapsed": 419,
     "status": "ok",
     "timestamp": 1624022835643,
     "user": {
      "displayName": "Pranav Gouthamm",
      "photoUrl": "https://lh3.googleusercontent.com/a-/AOh14GgTM9a0Bo5w3JrAUEWfKpj-dt1Bw3vI6q-17xEo=s64",
      "userId": "00245361475060007376"
     },
     "user_tz": -120
    },
    "id": "AwMyv0_eTmFl"
   },
   "outputs": [],
   "source": [
    "os.chdir(\"/content/drive/MyDrive/GUCPP\")"
   ]
  },
  {
   "cell_type": "code",
   "execution_count": null,
   "metadata": {
    "colab": {
     "base_uri": "https://localhost:8080/",
     "height": 35
    },
    "executionInfo": {
     "elapsed": 64,
     "status": "ok",
     "timestamp": 1624022835675,
     "user": {
      "displayName": "Pranav Gouthamm",
      "photoUrl": "https://lh3.googleusercontent.com/a-/AOh14GgTM9a0Bo5w3JrAUEWfKpj-dt1Bw3vI6q-17xEo=s64",
      "userId": "00245361475060007376"
     },
     "user_tz": -120
    },
    "id": "jsld9TVsTyTP",
    "outputId": "553dbc7f-4179-445d-d676-628bcf1bf907"
   },
   "outputs": [],
   "source": [
    "os.getcwd()"
   ]
  },
  {
   "cell_type": "code",
   "execution_count": null,
   "metadata": {
    "executionInfo": {
     "elapsed": 2754,
     "status": "ok",
     "timestamp": 1624022838369,
     "user": {
      "displayName": "Pranav Gouthamm",
      "photoUrl": "https://lh3.googleusercontent.com/a-/AOh14GgTM9a0Bo5w3JrAUEWfKpj-dt1Bw3vI6q-17xEo=s64",
      "userId": "00245361475060007376"
     },
     "user_tz": -120
    },
    "id": "hpouZ2AwQvvR"
   },
   "outputs": [],
   "source": [
    "data1 = pd.read_csv('autos 2.csv', header=0, date_parser=True)"
   ]
  },
  {
   "cell_type": "code",
   "execution_count": null,
   "metadata": {
    "colab": {
     "base_uri": "https://localhost:8080/",
     "height": 307
    },
    "executionInfo": {
     "elapsed": 38,
     "status": "ok",
     "timestamp": 1624022838373,
     "user": {
      "displayName": "Pranav Gouthamm",
      "photoUrl": "https://lh3.googleusercontent.com/a-/AOh14GgTM9a0Bo5w3JrAUEWfKpj-dt1Bw3vI6q-17xEo=s64",
      "userId": "00245361475060007376"
     },
     "user_tz": -120
    },
    "id": "6T6HoKvYRJb8",
    "outputId": "53c6cb34-4916-47cf-f4ad-f242af31549e"
   },
   "outputs": [],
   "source": [
    "data1.head()"
   ]
  },
  {
   "cell_type": "code",
   "execution_count": null,
   "metadata": {
    "colab": {
     "base_uri": "https://localhost:8080/"
    },
    "executionInfo": {
     "elapsed": 442,
     "status": "ok",
     "timestamp": 1624022838784,
     "user": {
      "displayName": "Pranav Gouthamm",
      "photoUrl": "https://lh3.googleusercontent.com/a-/AOh14GgTM9a0Bo5w3JrAUEWfKpj-dt1Bw3vI6q-17xEo=s64",
      "userId": "00245361475060007376"
     },
     "user_tz": -120
    },
    "id": "r6AajKNvT6bh",
    "outputId": "b4042bcf-b701-4d3d-c190-5e4d152327da"
   },
   "outputs": [],
   "source": [
    "data1.shape"
   ]
  },
  {
   "cell_type": "code",
   "execution_count": null,
   "metadata": {
    "colab": {
     "base_uri": "https://localhost:8080/",
     "height": 425
    },
    "executionInfo": {
     "elapsed": 1461,
     "status": "ok",
     "timestamp": 1624022840240,
     "user": {
      "displayName": "Pranav Gouthamm",
      "photoUrl": "https://lh3.googleusercontent.com/a-/AOh14GgTM9a0Bo5w3JrAUEWfKpj-dt1Bw3vI6q-17xEo=s64",
      "userId": "00245361475060007376"
     },
     "user_tz": -120
    },
    "id": "BWX7OUEbFyya",
    "outputId": "a00b73e5-557c-4216-a7bd-34b2a8a3d348"
   },
   "outputs": [],
   "source": [
    "data1.describe(include='all')"
   ]
  },
  {
   "cell_type": "code",
   "execution_count": null,
   "metadata": {
    "colab": {
     "base_uri": "https://localhost:8080/"
    },
    "executionInfo": {
     "elapsed": 17,
     "status": "ok",
     "timestamp": 1624022840242,
     "user": {
      "displayName": "Pranav Gouthamm",
      "photoUrl": "https://lh3.googleusercontent.com/a-/AOh14GgTM9a0Bo5w3JrAUEWfKpj-dt1Bw3vI6q-17xEo=s64",
      "userId": "00245361475060007376"
     },
     "user_tz": -120
    },
    "id": "Da7eodquUEJp",
    "outputId": "c83db0f9-6cf9-4c06-e05d-02e7410c3835"
   },
   "outputs": [],
   "source": [
    "data1.dtypes"
   ]
  },
  {
   "cell_type": "code",
   "execution_count": null,
   "metadata": {
    "colab": {
     "base_uri": "https://localhost:8080/"
    },
    "executionInfo": {
     "elapsed": 443,
     "status": "ok",
     "timestamp": 1624022840676,
     "user": {
      "displayName": "Pranav Gouthamm",
      "photoUrl": "https://lh3.googleusercontent.com/a-/AOh14GgTM9a0Bo5w3JrAUEWfKpj-dt1Bw3vI6q-17xEo=s64",
      "userId": "00245361475060007376"
     },
     "user_tz": -120
    },
    "id": "BB3ekyfjUTvl",
    "outputId": "8d91525a-11ea-4e10-d12b-132e36347aea"
   },
   "outputs": [],
   "source": [
    "data1.isnull().sum()"
   ]
  },
  {
   "cell_type": "code",
   "execution_count": null,
   "metadata": {
    "colab": {
     "base_uri": "https://localhost:8080/"
    },
    "executionInfo": {
     "elapsed": 20,
     "status": "ok",
     "timestamp": 1624022840678,
     "user": {
      "displayName": "Pranav Gouthamm",
      "photoUrl": "https://lh3.googleusercontent.com/a-/AOh14GgTM9a0Bo5w3JrAUEWfKpj-dt1Bw3vI6q-17xEo=s64",
      "userId": "00245361475060007376"
     },
     "user_tz": -120
    },
    "id": "xJejPnX84AYV",
    "outputId": "48b3945c-f842-4a43-ebf8-e6cd8f42374f"
   },
   "outputs": [],
   "source": [
    "Q1 = data1.price.quantile(0.25)\n",
    "Q3 = data1.price.quantile(0.75)\n",
    "IQR = Q3 - Q1\n",
    "print(Q1,IQR,Q3)"
   ]
  },
  {
   "cell_type": "code",
   "execution_count": null,
   "metadata": {
    "colab": {
     "base_uri": "https://localhost:8080/",
     "height": 324
    },
    "executionInfo": {
     "elapsed": 228,
     "status": "ok",
     "timestamp": 1624022840896,
     "user": {
      "displayName": "Pranav Gouthamm",
      "photoUrl": "https://lh3.googleusercontent.com/a-/AOh14GgTM9a0Bo5w3JrAUEWfKpj-dt1Bw3vI6q-17xEo=s64",
      "userId": "00245361475060007376"
     },
     "user_tz": -120
    },
    "id": "kbhlUDsF7LBk",
    "outputId": "46da154d-a407-465d-e8c4-6abe1e0d7884"
   },
   "outputs": [],
   "source": [
    "data_1 = data1[data1['price']<500000]\n",
    "print(data_1.shape)\n",
    "data_1.sample(5)"
   ]
  },
  {
   "cell_type": "code",
   "execution_count": null,
   "metadata": {
    "executionInfo": {
     "elapsed": 23,
     "status": "ok",
     "timestamp": 1624022840903,
     "user": {
      "displayName": "Pranav Gouthamm",
      "photoUrl": "https://lh3.googleusercontent.com/a-/AOh14GgTM9a0Bo5w3JrAUEWfKpj-dt1Bw3vI6q-17xEo=s64",
      "userId": "00245361475060007376"
     },
     "user_tz": -120
    },
    "id": "KM7v4LXfazmk"
   },
   "outputs": [],
   "source": [
    "data2 = data_1.copy()"
   ]
  },
  {
   "cell_type": "code",
   "execution_count": null,
   "metadata": {
    "executionInfo": {
     "elapsed": 1877,
     "status": "ok",
     "timestamp": 1624022842759,
     "user": {
      "displayName": "Pranav Gouthamm",
      "photoUrl": "https://lh3.googleusercontent.com/a-/AOh14GgTM9a0Bo5w3JrAUEWfKpj-dt1Bw3vI6q-17xEo=s64",
      "userId": "00245361475060007376"
     },
     "user_tz": -120
    },
    "id": "mgATq69KbDti"
   },
   "outputs": [],
   "source": [
    "data2 = data2.replace({'ja':1,'nein':0})"
   ]
  },
  {
   "cell_type": "code",
   "execution_count": null,
   "metadata": {
    "colab": {
     "base_uri": "https://localhost:8080/"
    },
    "executionInfo": {
     "elapsed": 23,
     "status": "ok",
     "timestamp": 1624022842767,
     "user": {
      "displayName": "Pranav Gouthamm",
      "photoUrl": "https://lh3.googleusercontent.com/a-/AOh14GgTM9a0Bo5w3JrAUEWfKpj-dt1Bw3vI6q-17xEo=s64",
      "userId": "00245361475060007376"
     },
     "user_tz": -120
    },
    "id": "KLphEJ3LbUyq",
    "outputId": "f43acdc3-2fc2-4831-8da4-a7a309c3e084"
   },
   "outputs": [],
   "source": [
    "data2['notrepaireddamage']"
   ]
  },
  {
   "cell_type": "code",
   "execution_count": null,
   "metadata": {
    "executionInfo": {
     "elapsed": 14,
     "status": "ok",
     "timestamp": 1624022842768,
     "user": {
      "displayName": "Pranav Gouthamm",
      "photoUrl": "https://lh3.googleusercontent.com/a-/AOh14GgTM9a0Bo5w3JrAUEWfKpj-dt1Bw3vI6q-17xEo=s64",
      "userId": "00245361475060007376"
     },
     "user_tz": -120
    },
    "id": "faPZYvucnDZW"
   },
   "outputs": [],
   "source": [
    "data2['notrepaireddamage'] = data2['notrepaireddamage'].fillna(data2['notrepaireddamage'].mode()[0])"
   ]
  },
  {
   "cell_type": "code",
   "execution_count": null,
   "metadata": {
    "colab": {
     "base_uri": "https://localhost:8080/"
    },
    "executionInfo": {
     "elapsed": 811,
     "status": "ok",
     "timestamp": 1624022843567,
     "user": {
      "displayName": "Pranav Gouthamm",
      "photoUrl": "https://lh3.googleusercontent.com/a-/AOh14GgTM9a0Bo5w3JrAUEWfKpj-dt1Bw3vI6q-17xEo=s64",
      "userId": "00245361475060007376"
     },
     "user_tz": -120
    },
    "id": "sANDls2CUvLs",
    "outputId": "f9b54974-4fa3-4157-9b8e-7567fc06fdd1"
   },
   "outputs": [],
   "source": [
    "data1.nunique()"
   ]
  },
  {
   "cell_type": "code",
   "execution_count": null,
   "metadata": {
    "colab": {
     "base_uri": "https://localhost:8080/"
    },
    "executionInfo": {
     "elapsed": 458,
     "status": "ok",
     "timestamp": 1624022844017,
     "user": {
      "displayName": "Pranav Gouthamm",
      "photoUrl": "https://lh3.googleusercontent.com/a-/AOh14GgTM9a0Bo5w3JrAUEWfKpj-dt1Bw3vI6q-17xEo=s64",
      "userId": "00245361475060007376"
     },
     "user_tz": -120
    },
    "id": "Nmmp0FJ-sv4r",
    "outputId": "84a0709d-4d5d-4950-c5fa-32304efab267"
   },
   "outputs": [],
   "source": [
    "for col in data2.columns:\n",
    "    print(\"No of Unique levels in\",col,\":\",((len(data2[col].unique())/len(data2[col]))*100))"
   ]
  },
  {
   "cell_type": "code",
   "execution_count": null,
   "metadata": {
    "colab": {
     "base_uri": "https://localhost:8080/"
    },
    "executionInfo": {
     "elapsed": 17,
     "status": "ok",
     "timestamp": 1624022844018,
     "user": {
      "displayName": "Pranav Gouthamm",
      "photoUrl": "https://lh3.googleusercontent.com/a-/AOh14GgTM9a0Bo5w3JrAUEWfKpj-dt1Bw3vI6q-17xEo=s64",
      "userId": "00245361475060007376"
     },
     "user_tz": -120
    },
    "id": "qHLKN_OX2VkR",
    "outputId": "074db2a4-502a-4758-aab1-1a6c50763c83"
   },
   "outputs": [],
   "source": [
    "data2.columns"
   ]
  },
  {
   "cell_type": "code",
   "execution_count": null,
   "metadata": {
    "colab": {
     "base_uri": "https://localhost:8080/"
    },
    "executionInfo": {
     "elapsed": 197,
     "status": "ok",
     "timestamp": 1624022844208,
     "user": {
      "displayName": "Pranav Gouthamm",
      "photoUrl": "https://lh3.googleusercontent.com/a-/AOh14GgTM9a0Bo5w3JrAUEWfKpj-dt1Bw3vI6q-17xEo=s64",
      "userId": "00245361475060007376"
     },
     "user_tz": -120
    },
    "id": "hZfx2WPorR7z",
    "outputId": "5a9be7d9-1211-46b9-b9e9-5fe4f8bb4daf"
   },
   "outputs": [],
   "source": [
    "print(\"----For seller----\")\n",
    "print(data2.seller.value_counts(normalize=True))\n",
    "print(\"----For vehicletype----\")\n",
    "print(data2.vehicletype.value_counts(normalize=True))\n",
    "print(\"----For yearofregistration----\")\n",
    "print(data2.yearofregistration.value_counts(normalize=True))\n",
    "print(\"----For powerps----\")\n",
    "print(data2.powerps.value_counts(normalize=True))\n",
    "print(\"----For model----\")\n",
    "print(data2.model.value_counts(normalize=True))\n",
    "print(\"----For kilometer----\")\n",
    "print(data2.kilometer.value_counts(normalize=True))\n",
    "print(\"----For nrofpictures----\")\n",
    "print(data2.nrofpictures.value_counts(normalize=True))\n",
    "print(\"----For notrepaireddamage----\")\n",
    "print(data2.notrepaireddamage.value_counts(normalize=True))"
   ]
  },
  {
   "cell_type": "code",
   "execution_count": null,
   "metadata": {
    "colab": {
     "base_uri": "https://localhost:8080/"
    },
    "executionInfo": {
     "elapsed": 305,
     "status": "ok",
     "timestamp": 1624022844495,
     "user": {
      "displayName": "Pranav Gouthamm",
      "photoUrl": "https://lh3.googleusercontent.com/a-/AOh14GgTM9a0Bo5w3JrAUEWfKpj-dt1Bw3vI6q-17xEo=s64",
      "userId": "00245361475060007376"
     },
     "user_tz": -120
    },
    "id": "saPYjvnJ3do3",
    "outputId": "ee8cad7e-ce76-4004-a95a-959d9b9f0987"
   },
   "outputs": [],
   "source": [
    "print(\"----For yearofregistration----\")\n",
    "print(min(data2.yearofregistration))\n",
    "print(max(data2.yearofregistration))\n",
    "print(\"----For powerps----\")\n",
    "print(min(data2.powerps))\n",
    "print(max(data2.powerps))\n",
    "print(\"----For kilometer----\")\n",
    "print(min(data2.kilometer))\n",
    "print(max(data2.kilometer))"
   ]
  },
  {
   "cell_type": "code",
   "execution_count": null,
   "metadata": {
    "executionInfo": {
     "elapsed": 19,
     "status": "ok",
     "timestamp": 1624022844503,
     "user": {
      "displayName": "Pranav Gouthamm",
      "photoUrl": "https://lh3.googleusercontent.com/a-/AOh14GgTM9a0Bo5w3JrAUEWfKpj-dt1Bw3vI6q-17xEo=s64",
      "userId": "00245361475060007376"
     },
     "user_tz": -120
    },
    "id": "cewuGUretRB3"
   },
   "outputs": [],
   "source": [
    "data2 = data2.drop(['seller','datecrawled','name','postalcode','abtest','lastseen','datecreated', 'nrofpictures'], axis=1)"
   ]
  },
  {
   "cell_type": "code",
   "execution_count": null,
   "metadata": {
    "colab": {
     "base_uri": "https://localhost:8080/",
     "height": 203
    },
    "executionInfo": {
     "elapsed": 22,
     "status": "ok",
     "timestamp": 1624022844507,
     "user": {
      "displayName": "Pranav Gouthamm",
      "photoUrl": "https://lh3.googleusercontent.com/a-/AOh14GgTM9a0Bo5w3JrAUEWfKpj-dt1Bw3vI6q-17xEo=s64",
      "userId": "00245361475060007376"
     },
     "user_tz": -120
    },
    "id": "8jbqCvKguTVK",
    "outputId": "aa18a38c-7c13-41eb-8b60-29a251b8baee"
   },
   "outputs": [],
   "source": [
    "data2.head()"
   ]
  },
  {
   "cell_type": "code",
   "execution_count": null,
   "metadata": {
    "executionInfo": {
     "elapsed": 580,
     "status": "ok",
     "timestamp": 1624022845067,
     "user": {
      "displayName": "Pranav Gouthamm",
      "photoUrl": "https://lh3.googleusercontent.com/a-/AOh14GgTM9a0Bo5w3JrAUEWfKpj-dt1Bw3vI6q-17xEo=s64",
      "userId": "00245361475060007376"
     },
     "user_tz": -120
    },
    "id": "L_hM480pumLK"
   },
   "outputs": [],
   "source": [
    "data2 = data2.dropna().reset_index()"
   ]
  },
  {
   "cell_type": "code",
   "execution_count": null,
   "metadata": {
    "colab": {
     "base_uri": "https://localhost:8080/"
    },
    "executionInfo": {
     "elapsed": 50,
     "status": "ok",
     "timestamp": 1624022845068,
     "user": {
      "displayName": "Pranav Gouthamm",
      "photoUrl": "https://lh3.googleusercontent.com/a-/AOh14GgTM9a0Bo5w3JrAUEWfKpj-dt1Bw3vI6q-17xEo=s64",
      "userId": "00245361475060007376"
     },
     "user_tz": -120
    },
    "id": "CpwjXDJ5u8Ym",
    "outputId": "f9b74421-1de3-400b-e5a3-6a86d9ae6bd6"
   },
   "outputs": [],
   "source": [
    "data2.shape"
   ]
  },
  {
   "cell_type": "code",
   "execution_count": null,
   "metadata": {
    "colab": {
     "base_uri": "https://localhost:8080/",
     "height": 417
    },
    "executionInfo": {
     "elapsed": 39,
     "status": "ok",
     "timestamp": 1624022845071,
     "user": {
      "displayName": "Pranav Gouthamm",
      "photoUrl": "https://lh3.googleusercontent.com/a-/AOh14GgTM9a0Bo5w3JrAUEWfKpj-dt1Bw3vI6q-17xEo=s64",
      "userId": "00245361475060007376"
     },
     "user_tz": -120
    },
    "id": "ye6II1H2UU8Z",
    "outputId": "e240d929-e76a-48e4-8fd8-5a23d198925e"
   },
   "outputs": [],
   "source": [
    "data2"
   ]
  },
  {
   "cell_type": "code",
   "execution_count": null,
   "metadata": {
    "colab": {
     "base_uri": "https://localhost:8080/"
    },
    "executionInfo": {
     "elapsed": 35,
     "status": "ok",
     "timestamp": 1624022845072,
     "user": {
      "displayName": "Pranav Gouthamm",
      "photoUrl": "https://lh3.googleusercontent.com/a-/AOh14GgTM9a0Bo5w3JrAUEWfKpj-dt1Bw3vI6q-17xEo=s64",
      "userId": "00245361475060007376"
     },
     "user_tz": -120
    },
    "id": "Y2zUZvH_vCRo",
    "outputId": "a608868e-ddb8-4e55-9671-fa172f10ed6e"
   },
   "outputs": [],
   "source": [
    "data1.shape[0]-data2.shape[0]"
   ]
  },
  {
   "cell_type": "code",
   "execution_count": null,
   "metadata": {
    "colab": {
     "base_uri": "https://localhost:8080/"
    },
    "executionInfo": {
     "elapsed": 28,
     "status": "ok",
     "timestamp": 1624022845075,
     "user": {
      "displayName": "Pranav Gouthamm",
      "photoUrl": "https://lh3.googleusercontent.com/a-/AOh14GgTM9a0Bo5w3JrAUEWfKpj-dt1Bw3vI6q-17xEo=s64",
      "userId": "00245361475060007376"
     },
     "user_tz": -120
    },
    "id": "dhfXMWZF6e5-",
    "outputId": "17f66baa-3620-4edd-f646-5303f6443807"
   },
   "outputs": [],
   "source": [
    "data1.shape[1]-data2.shape[1]"
   ]
  },
  {
   "cell_type": "code",
   "execution_count": null,
   "metadata": {
    "colab": {
     "base_uri": "https://localhost:8080/",
     "height": 408
    },
    "executionInfo": {
     "elapsed": 394,
     "status": "ok",
     "timestamp": 1624022845450,
     "user": {
      "displayName": "Pranav Gouthamm",
      "photoUrl": "https://lh3.googleusercontent.com/a-/AOh14GgTM9a0Bo5w3JrAUEWfKpj-dt1Bw3vI6q-17xEo=s64",
      "userId": "00245361475060007376"
     },
     "user_tz": -120
    },
    "id": "ypunnOKgGHLq",
    "outputId": "7b5f062b-3984-4893-d2a8-69ad4a5e9893"
   },
   "outputs": [],
   "source": [
    "data2.describe(include='all')"
   ]
  },
  {
   "cell_type": "markdown",
   "metadata": {
    "id": "5cXaK14V6lvN"
   },
   "source": [
    "# Observations\n",
    "\n",
    "\n",
    "\n",
    "*   **outlier check for yearofregistration**\n",
    "*   **outlier check for powerps**\n",
    "*   **filter models**\n",
    "*   **filter registration month**\n",
    "*   ***review brand values***\n",
    "\n",
    "\n",
    "\n",
    "\n",
    "\n"
   ]
  },
  {
   "cell_type": "code",
   "execution_count": null,
   "metadata": {
    "executionInfo": {
     "elapsed": 50,
     "status": "ok",
     "timestamp": 1624022845454,
     "user": {
      "displayName": "Pranav Gouthamm",
      "photoUrl": "https://lh3.googleusercontent.com/a-/AOh14GgTM9a0Bo5w3JrAUEWfKpj-dt1Bw3vI6q-17xEo=s64",
      "userId": "00245361475060007376"
     },
     "user_tz": -120
    },
    "id": "ABkQzf9AzX7U"
   },
   "outputs": [],
   "source": [
    "models = pd.DataFrame(data2['model'])"
   ]
  },
  {
   "cell_type": "code",
   "execution_count": null,
   "metadata": {
    "colab": {
     "base_uri": "https://localhost:8080/",
     "height": 357
    },
    "executionInfo": {
     "elapsed": 50,
     "status": "ok",
     "timestamp": 1624022845456,
     "user": {
      "displayName": "Pranav Gouthamm",
      "photoUrl": "https://lh3.googleusercontent.com/a-/AOh14GgTM9a0Bo5w3JrAUEWfKpj-dt1Bw3vI6q-17xEo=s64",
      "userId": "00245361475060007376"
     },
     "user_tz": -120
    },
    "id": "z59lG4EgzdIf",
    "outputId": "7f5b54ab-526c-4fbd-b51d-039733bb5690"
   },
   "outputs": [],
   "source": [
    "models.sample(10)"
   ]
  },
  {
   "cell_type": "code",
   "execution_count": null,
   "metadata": {
    "executionInfo": {
     "elapsed": 49,
     "status": "ok",
     "timestamp": 1624022845458,
     "user": {
      "displayName": "Pranav Gouthamm",
      "photoUrl": "https://lh3.googleusercontent.com/a-/AOh14GgTM9a0Bo5w3JrAUEWfKpj-dt1Bw3vI6q-17xEo=s64",
      "userId": "00245361475060007376"
     },
     "user_tz": -120
    },
    "id": "eytIZA7UzedV"
   },
   "outputs": [],
   "source": [
    "brand = pd.DataFrame(data2['brand'])"
   ]
  },
  {
   "cell_type": "code",
   "execution_count": null,
   "metadata": {
    "colab": {
     "base_uri": "https://localhost:8080/",
     "height": 357
    },
    "executionInfo": {
     "elapsed": 50,
     "status": "ok",
     "timestamp": 1624022845460,
     "user": {
      "displayName": "Pranav Gouthamm",
      "photoUrl": "https://lh3.googleusercontent.com/a-/AOh14GgTM9a0Bo5w3JrAUEWfKpj-dt1Bw3vI6q-17xEo=s64",
      "userId": "00245361475060007376"
     },
     "user_tz": -120
    },
    "id": "9yvoMIYt1rG1",
    "outputId": "1b56af72-955d-4bca-8819-c3c9205d4259"
   },
   "outputs": [],
   "source": [
    "brand.sample(10)"
   ]
  },
  {
   "cell_type": "code",
   "execution_count": null,
   "metadata": {
    "colab": {
     "base_uri": "https://localhost:8080/"
    },
    "executionInfo": {
     "elapsed": 586,
     "status": "ok",
     "timestamp": 1624022846000,
     "user": {
      "displayName": "Pranav Gouthamm",
      "photoUrl": "https://lh3.googleusercontent.com/a-/AOh14GgTM9a0Bo5w3JrAUEWfKpj-dt1Bw3vI6q-17xEo=s64",
      "userId": "00245361475060007376"
     },
     "user_tz": -120
    },
    "id": "jNvfLy2G1sr4",
    "outputId": "32cb430e-dadd-411e-b3c2-67d87aee5589"
   },
   "outputs": [],
   "source": [
    "brandlist = data2.brand.unique().tolist()\n",
    "print(len(brandlist))\n",
    "brandlist"
   ]
  },
  {
   "cell_type": "code",
   "execution_count": null,
   "metadata": {
    "colab": {
     "base_uri": "https://localhost:8080/"
    },
    "executionInfo": {
     "elapsed": 76,
     "status": "ok",
     "timestamp": 1624022846005,
     "user": {
      "displayName": "Pranav Gouthamm",
      "photoUrl": "https://lh3.googleusercontent.com/a-/AOh14GgTM9a0Bo5w3JrAUEWfKpj-dt1Bw3vI6q-17xEo=s64",
      "userId": "00245361475060007376"
     },
     "user_tz": -120
    },
    "id": "gj5zr0A55Qpu",
    "outputId": "b5407f3b-c3fb-46e6-ee03-37f5314e81d0"
   },
   "outputs": [],
   "source": [
    "modellist = data2.model.unique()\n",
    "print(len(modellist))\n",
    "modellist"
   ]
  },
  {
   "cell_type": "code",
   "execution_count": null,
   "metadata": {
    "executionInfo": {
     "elapsed": 60,
     "status": "ok",
     "timestamp": 1624022846008,
     "user": {
      "displayName": "Pranav Gouthamm",
      "photoUrl": "https://lh3.googleusercontent.com/a-/AOh14GgTM9a0Bo5w3JrAUEWfKpj-dt1Bw3vI6q-17xEo=s64",
      "userId": "00245361475060007376"
     },
     "user_tz": -120
    },
    "id": "L4tfcNYZ6Axt"
   },
   "outputs": [],
   "source": [
    "bandm = data2[['brand','model']]"
   ]
  },
  {
   "cell_type": "code",
   "execution_count": null,
   "metadata": {
    "colab": {
     "base_uri": "https://localhost:8080/"
    },
    "executionInfo": {
     "elapsed": 64,
     "status": "ok",
     "timestamp": 1624022846013,
     "user": {
      "displayName": "Pranav Gouthamm",
      "photoUrl": "https://lh3.googleusercontent.com/a-/AOh14GgTM9a0Bo5w3JrAUEWfKpj-dt1Bw3vI6q-17xEo=s64",
      "userId": "00245361475060007376"
     },
     "user_tz": -120
    },
    "id": "LHXSP-SvALzi",
    "outputId": "6c42c040-8f87-4bc3-e151-c1da93a61db0"
   },
   "outputs": [],
   "source": [
    "bandm.shape"
   ]
  },
  {
   "cell_type": "code",
   "execution_count": null,
   "metadata": {
    "executionInfo": {
     "elapsed": 51,
     "status": "ok",
     "timestamp": 1624022846015,
     "user": {
      "displayName": "Pranav Gouthamm",
      "photoUrl": "https://lh3.googleusercontent.com/a-/AOh14GgTM9a0Bo5w3JrAUEWfKpj-dt1Bw3vI6q-17xEo=s64",
      "userId": "00245361475060007376"
     },
     "user_tz": -120
    },
    "id": "M6fgzpV0H9xX"
   },
   "outputs": [],
   "source": [
    "gpdbandm = bandm.groupby(['brand','model']).count()"
   ]
  },
  {
   "cell_type": "code",
   "execution_count": null,
   "metadata": {
    "executionInfo": {
     "elapsed": 52,
     "status": "ok",
     "timestamp": 1624022846017,
     "user": {
      "displayName": "Pranav Gouthamm",
      "photoUrl": "https://lh3.googleusercontent.com/a-/AOh14GgTM9a0Bo5w3JrAUEWfKpj-dt1Bw3vI6q-17xEo=s64",
      "userId": "00245361475060007376"
     },
     "user_tz": -120
    },
    "id": "LBXHtFGB8pFv"
   },
   "outputs": [],
   "source": [
    "gpdbandm_s = bandm.groupby(['brand','model']).size()"
   ]
  },
  {
   "cell_type": "code",
   "execution_count": null,
   "metadata": {
    "colab": {
     "base_uri": "https://localhost:8080/",
     "height": 1000
    },
    "executionInfo": {
     "elapsed": 54,
     "status": "ok",
     "timestamp": 1624022846023,
     "user": {
      "displayName": "Pranav Gouthamm",
      "photoUrl": "https://lh3.googleusercontent.com/a-/AOh14GgTM9a0Bo5w3JrAUEWfKpj-dt1Bw3vI6q-17xEo=s64",
      "userId": "00245361475060007376"
     },
     "user_tz": -120
    },
    "id": "M6nju_zeMf6x",
    "outputId": "4a466264-b1d5-4eae-871f-4884ecf9b5c8"
   },
   "outputs": [],
   "source": [
    "gpdbandm.head(50)"
   ]
  },
  {
   "cell_type": "code",
   "execution_count": null,
   "metadata": {
    "colab": {
     "base_uri": "https://localhost:8080/"
    },
    "executionInfo": {
     "elapsed": 50,
     "status": "ok",
     "timestamp": 1624022846024,
     "user": {
      "displayName": "Pranav Gouthamm",
      "photoUrl": "https://lh3.googleusercontent.com/a-/AOh14GgTM9a0Bo5w3JrAUEWfKpj-dt1Bw3vI6q-17xEo=s64",
      "userId": "00245361475060007376"
     },
     "user_tz": -120
    },
    "id": "2vvR0SWy8tA7",
    "outputId": "cc09d5bc-9e87-49a5-d7d2-ca212fd03c5c"
   },
   "outputs": [],
   "source": [
    "gpdbandm_s.head(20)"
   ]
  },
  {
   "cell_type": "code",
   "execution_count": null,
   "metadata": {
    "executionInfo": {
     "elapsed": 43,
     "status": "ok",
     "timestamp": 1624022846026,
     "user": {
      "displayName": "Pranav Gouthamm",
      "photoUrl": "https://lh3.googleusercontent.com/a-/AOh14GgTM9a0Bo5w3JrAUEWfKpj-dt1Bw3vI6q-17xEo=s64",
      "userId": "00245361475060007376"
     },
     "user_tz": -120
    },
    "id": "l6g9xogfUp5d"
   },
   "outputs": [],
   "source": [
    "gpdbandm.to_csv(r'/content/drive/MyDrive/GUCPP/gpdbandm.csv')"
   ]
  },
  {
   "cell_type": "code",
   "execution_count": null,
   "metadata": {
    "executionInfo": {
     "elapsed": 525,
     "status": "ok",
     "timestamp": 1624022846509,
     "user": {
      "displayName": "Pranav Gouthamm",
      "photoUrl": "https://lh3.googleusercontent.com/a-/AOh14GgTM9a0Bo5w3JrAUEWfKpj-dt1Bw3vI6q-17xEo=s64",
      "userId": "00245361475060007376"
     },
     "user_tz": -120
    },
    "id": "KcY6CTi1VF2R"
   },
   "outputs": [],
   "source": [
    "Q1 = data2.yearofregistration.quantile(0.25)\n",
    "Q3 = data2.yearofregistration.quantile(0.75)\n",
    "IQR = Q3 - Q1"
   ]
  },
  {
   "cell_type": "code",
   "execution_count": null,
   "metadata": {
    "colab": {
     "base_uri": "https://localhost:8080/"
    },
    "executionInfo": {
     "elapsed": 20,
     "status": "ok",
     "timestamp": 1624022846512,
     "user": {
      "displayName": "Pranav Gouthamm",
      "photoUrl": "https://lh3.googleusercontent.com/a-/AOh14GgTM9a0Bo5w3JrAUEWfKpj-dt1Bw3vI6q-17xEo=s64",
      "userId": "00245361475060007376"
     },
     "user_tz": -120
    },
    "id": "CFrb-YFII20L",
    "outputId": "c96ce1ee-ba9f-4fce-af2b-12e628f35744"
   },
   "outputs": [],
   "source": [
    "print(Q1,Q3,IQR)"
   ]
  },
  {
   "cell_type": "code",
   "execution_count": null,
   "metadata": {
    "colab": {
     "base_uri": "https://localhost:8080/",
     "height": 285
    },
    "executionInfo": {
     "elapsed": 1192,
     "status": "ok",
     "timestamp": 1624022847695,
     "user": {
      "displayName": "Pranav Gouthamm",
      "photoUrl": "https://lh3.googleusercontent.com/a-/AOh14GgTM9a0Bo5w3JrAUEWfKpj-dt1Bw3vI6q-17xEo=s64",
      "userId": "00245361475060007376"
     },
     "user_tz": -120
    },
    "id": "G8eQnC4wI-1K",
    "outputId": "7c146161-5c10-4251-e767-30a59e285496"
   },
   "outputs": [],
   "source": [
    "sns.set(style=\"darkgrid\")\n",
    "sns.histplot(data=data2, x=\"yearofregistration\")\n",
    "plt.show()"
   ]
  },
  {
   "cell_type": "code",
   "execution_count": null,
   "metadata": {
    "colab": {
     "base_uri": "https://localhost:8080/"
    },
    "executionInfo": {
     "elapsed": 85,
     "status": "ok",
     "timestamp": 1624022847696,
     "user": {
      "displayName": "Pranav Gouthamm",
      "photoUrl": "https://lh3.googleusercontent.com/a-/AOh14GgTM9a0Bo5w3JrAUEWfKpj-dt1Bw3vI6q-17xEo=s64",
      "userId": "00245361475060007376"
     },
     "user_tz": -120
    },
    "id": "MsyProMPJcF6",
    "outputId": "6aaf92c5-d832-4876-a69d-d4c764eca9c9"
   },
   "outputs": [],
   "source": [
    "print(min(data2.yearofregistration))\n",
    "print(max(data2.yearofregistration))"
   ]
  },
  {
   "cell_type": "code",
   "execution_count": null,
   "metadata": {
    "colab": {
     "base_uri": "https://localhost:8080/"
    },
    "executionInfo": {
     "elapsed": 65,
     "status": "ok",
     "timestamp": 1624022847698,
     "user": {
      "displayName": "Pranav Gouthamm",
      "photoUrl": "https://lh3.googleusercontent.com/a-/AOh14GgTM9a0Bo5w3JrAUEWfKpj-dt1Bw3vI6q-17xEo=s64",
      "userId": "00245361475060007376"
     },
     "user_tz": -120
    },
    "id": "wNpkK_xEKvRT",
    "outputId": "6b94e387-6d14-49bf-dfe2-c0c0a521b82e"
   },
   "outputs": [],
   "source": [
    "data2.shape"
   ]
  },
  {
   "cell_type": "code",
   "execution_count": null,
   "metadata": {
    "colab": {
     "base_uri": "https://localhost:8080/"
    },
    "executionInfo": {
     "elapsed": 53,
     "status": "ok",
     "timestamp": 1624022847699,
     "user": {
      "displayName": "Pranav Gouthamm",
      "photoUrl": "https://lh3.googleusercontent.com/a-/AOh14GgTM9a0Bo5w3JrAUEWfKpj-dt1Bw3vI6q-17xEo=s64",
      "userId": "00245361475060007376"
     },
     "user_tz": -120
    },
    "id": "ZwtZZCxeKzs8",
    "outputId": "dc9432e4-4269-4f1d-fb77-c7e780663220"
   },
   "outputs": [],
   "source": [
    "data2 = data2[data2['yearofregistration'] > 1980]\n",
    "data2.shape"
   ]
  },
  {
   "cell_type": "code",
   "execution_count": null,
   "metadata": {
    "executionInfo": {
     "elapsed": 39,
     "status": "ok",
     "timestamp": 1624022847700,
     "user": {
      "displayName": "Pranav Gouthamm",
      "photoUrl": "https://lh3.googleusercontent.com/a-/AOh14GgTM9a0Bo5w3JrAUEWfKpj-dt1Bw3vI6q-17xEo=s64",
      "userId": "00245361475060007376"
     },
     "user_tz": -120
    },
    "id": "he0f2JZ6K-UX"
   },
   "outputs": [],
   "source": [
    "Q1 = data2.powerps.quantile(0.25)\n",
    "Q3 = data2.powerps.quantile(0.75)\n",
    "IQR = Q3 - Q1"
   ]
  },
  {
   "cell_type": "code",
   "execution_count": null,
   "metadata": {
    "colab": {
     "base_uri": "https://localhost:8080/"
    },
    "executionInfo": {
     "elapsed": 39,
     "status": "ok",
     "timestamp": 1624022847701,
     "user": {
      "displayName": "Pranav Gouthamm",
      "photoUrl": "https://lh3.googleusercontent.com/a-/AOh14GgTM9a0Bo5w3JrAUEWfKpj-dt1Bw3vI6q-17xEo=s64",
      "userId": "00245361475060007376"
     },
     "user_tz": -120
    },
    "id": "zd8enV-WMOve",
    "outputId": "eb472373-03ea-4f91-878f-e7871efe654c"
   },
   "outputs": [],
   "source": [
    "print(Q1,Q3,IQR)"
   ]
  },
  {
   "cell_type": "code",
   "execution_count": null,
   "metadata": {
    "colab": {
     "base_uri": "https://localhost:8080/",
     "height": 286
    },
    "executionInfo": {
     "elapsed": 17331,
     "status": "ok",
     "timestamp": 1624022865005,
     "user": {
      "displayName": "Pranav Gouthamm",
      "photoUrl": "https://lh3.googleusercontent.com/a-/AOh14GgTM9a0Bo5w3JrAUEWfKpj-dt1Bw3vI6q-17xEo=s64",
      "userId": "00245361475060007376"
     },
     "user_tz": -120
    },
    "id": "wPGrXjmaMSq6",
    "outputId": "c7232f7f-404e-480c-9346-cfcc169cd97f"
   },
   "outputs": [],
   "source": [
    "sns.set(style=\"darkgrid\")\n",
    "sns.histplot(data=data2, x=\"powerps\")\n",
    "plt.show()"
   ]
  },
  {
   "cell_type": "code",
   "execution_count": null,
   "metadata": {
    "colab": {
     "base_uri": "https://localhost:8080/",
     "height": 265
    },
    "executionInfo": {
     "elapsed": 381,
     "status": "ok",
     "timestamp": 1624022865364,
     "user": {
      "displayName": "Pranav Gouthamm",
      "photoUrl": "https://lh3.googleusercontent.com/a-/AOh14GgTM9a0Bo5w3JrAUEWfKpj-dt1Bw3vI6q-17xEo=s64",
      "userId": "00245361475060007376"
     },
     "user_tz": -120
    },
    "id": "jhhfk4a7Morc",
    "outputId": "5370d351-9893-4d2b-8866-88bdcf66cbcd"
   },
   "outputs": [],
   "source": [
    "sns.boxplot( y=data2[\"powerps\"] )"
   ]
  },
  {
   "cell_type": "code",
   "execution_count": null,
   "metadata": {
    "colab": {
     "base_uri": "https://localhost:8080/"
    },
    "executionInfo": {
     "elapsed": 64,
     "status": "ok",
     "timestamp": 1624022865369,
     "user": {
      "displayName": "Pranav Gouthamm",
      "photoUrl": "https://lh3.googleusercontent.com/a-/AOh14GgTM9a0Bo5w3JrAUEWfKpj-dt1Bw3vI6q-17xEo=s64",
      "userId": "00245361475060007376"
     },
     "user_tz": -120
    },
    "id": "1QCPDjtaMGX8",
    "outputId": "5968c845-7acc-4496-c5c0-13e3ddbb2e24"
   },
   "outputs": [],
   "source": [
    "print(min(data2.powerps))\n",
    "print(max(data2.powerps))"
   ]
  },
  {
   "cell_type": "code",
   "execution_count": null,
   "metadata": {
    "colab": {
     "base_uri": "https://localhost:8080/"
    },
    "executionInfo": {
     "elapsed": 49,
     "status": "ok",
     "timestamp": 1624022865370,
     "user": {
      "displayName": "Pranav Gouthamm",
      "photoUrl": "https://lh3.googleusercontent.com/a-/AOh14GgTM9a0Bo5w3JrAUEWfKpj-dt1Bw3vI6q-17xEo=s64",
      "userId": "00245361475060007376"
     },
     "user_tz": -120
    },
    "id": "Ffm-9jOzMKWV",
    "outputId": "cd496df8-a93d-42dc-bbed-f19be1a4c327"
   },
   "outputs": [],
   "source": [
    "print(len(data2[data2['powerps'] > 350]))\n",
    "print(len(data2[data2['powerps'] < 50]))"
   ]
  },
  {
   "cell_type": "code",
   "execution_count": null,
   "metadata": {
    "colab": {
     "base_uri": "https://localhost:8080/"
    },
    "executionInfo": {
     "elapsed": 37,
     "status": "ok",
     "timestamp": 1624022865371,
     "user": {
      "displayName": "Pranav Gouthamm",
      "photoUrl": "https://lh3.googleusercontent.com/a-/AOh14GgTM9a0Bo5w3JrAUEWfKpj-dt1Bw3vI6q-17xEo=s64",
      "userId": "00245361475060007376"
     },
     "user_tz": -120
    },
    "id": "B20dOjyVNC5y",
    "outputId": "f1ed3609-9e3a-4d91-f8c7-7ddfe912604b"
   },
   "outputs": [],
   "source": [
    "data2 = data2[data2['powerps'] < 350]\n",
    "data2 = data2[data2['powerps'] > 50]\n",
    "data2.shape"
   ]
  },
  {
   "cell_type": "code",
   "execution_count": null,
   "metadata": {
    "colab": {
     "base_uri": "https://localhost:8080/",
     "height": 285
    },
    "executionInfo": {
     "elapsed": 866,
     "status": "ok",
     "timestamp": 1624022866217,
     "user": {
      "displayName": "Pranav Gouthamm",
      "photoUrl": "https://lh3.googleusercontent.com/a-/AOh14GgTM9a0Bo5w3JrAUEWfKpj-dt1Bw3vI6q-17xEo=s64",
      "userId": "00245361475060007376"
     },
     "user_tz": -120
    },
    "id": "c9piwNN2P3IG",
    "outputId": "1c18f366-1a75-4214-c251-3ef5e9031eb2"
   },
   "outputs": [],
   "source": [
    "sns.set(style=\"darkgrid\")\n",
    "sns.histplot(data=data2, x=\"powerps\")\n",
    "plt.show()"
   ]
  },
  {
   "cell_type": "code",
   "execution_count": null,
   "metadata": {
    "colab": {
     "base_uri": "https://localhost:8080/"
    },
    "executionInfo": {
     "elapsed": 109,
     "status": "ok",
     "timestamp": 1624022866219,
     "user": {
      "displayName": "Pranav Gouthamm",
      "photoUrl": "https://lh3.googleusercontent.com/a-/AOh14GgTM9a0Bo5w3JrAUEWfKpj-dt1Bw3vI6q-17xEo=s64",
      "userId": "00245361475060007376"
     },
     "user_tz": -120
    },
    "id": "i9jja7BaP-dQ",
    "outputId": "7f1a4028-cdb1-48bd-e497-e0bda8e8c2b0"
   },
   "outputs": [],
   "source": [
    "data2['monthofregistration' ].nunique()"
   ]
  },
  {
   "cell_type": "code",
   "execution_count": null,
   "metadata": {
    "colab": {
     "base_uri": "https://localhost:8080/"
    },
    "executionInfo": {
     "elapsed": 105,
     "status": "ok",
     "timestamp": 1624022866225,
     "user": {
      "displayName": "Pranav Gouthamm",
      "photoUrl": "https://lh3.googleusercontent.com/a-/AOh14GgTM9a0Bo5w3JrAUEWfKpj-dt1Bw3vI6q-17xEo=s64",
      "userId": "00245361475060007376"
     },
     "user_tz": -120
    },
    "id": "TETBcVpUSMb_",
    "outputId": "a7f1b7bc-98ed-4799-ab5e-7566c4da017c"
   },
   "outputs": [],
   "source": [
    "len(data2[data2['monthofregistration'] == 0])"
   ]
  },
  {
   "cell_type": "code",
   "execution_count": null,
   "metadata": {
    "colab": {
     "base_uri": "https://localhost:8080/"
    },
    "executionInfo": {
     "elapsed": 99,
     "status": "ok",
     "timestamp": 1624022866228,
     "user": {
      "displayName": "Pranav Gouthamm",
      "photoUrl": "https://lh3.googleusercontent.com/a-/AOh14GgTM9a0Bo5w3JrAUEWfKpj-dt1Bw3vI6q-17xEo=s64",
      "userId": "00245361475060007376"
     },
     "user_tz": -120
    },
    "id": "L5-CdAVoSX9Z",
    "outputId": "659cb9b6-d465-44f0-da38-144a4edb843c"
   },
   "outputs": [],
   "source": [
    "print(data2.shape)\n",
    "data2 = data2[data2['monthofregistration'] > 0]\n",
    "print(data2.shape)"
   ]
  },
  {
   "cell_type": "code",
   "execution_count": null,
   "metadata": {
    "colab": {
     "base_uri": "https://localhost:8080/"
    },
    "executionInfo": {
     "elapsed": 94,
     "status": "ok",
     "timestamp": 1624022866231,
     "user": {
      "displayName": "Pranav Gouthamm",
      "photoUrl": "https://lh3.googleusercontent.com/a-/AOh14GgTM9a0Bo5w3JrAUEWfKpj-dt1Bw3vI6q-17xEo=s64",
      "userId": "00245361475060007376"
     },
     "user_tz": -120
    },
    "id": "mwJvkbaxGZ3q",
    "outputId": "c27a8643-eb0c-4cbb-97a8-ddb24ea6355f"
   },
   "outputs": [],
   "source": [
    "print(data2['vehicletype'].unique())"
   ]
  },
  {
   "cell_type": "code",
   "execution_count": null,
   "metadata": {
    "executionInfo": {
     "elapsed": 81,
     "status": "ok",
     "timestamp": 1624022866233,
     "user": {
      "displayName": "Pranav Gouthamm",
      "photoUrl": "https://lh3.googleusercontent.com/a-/AOh14GgTM9a0Bo5w3JrAUEWfKpj-dt1Bw3vI6q-17xEo=s64",
      "userId": "00245361475060007376"
     },
     "user_tz": -120
    },
    "id": "WwI86Yu7TWCQ"
   },
   "outputs": [],
   "source": [
    "data2 = data2.drop('index', axis =1)"
   ]
  },
  {
   "cell_type": "code",
   "execution_count": null,
   "metadata": {
    "executionInfo": {
     "elapsed": 82,
     "status": "ok",
     "timestamp": 1624022866235,
     "user": {
      "displayName": "Pranav Gouthamm",
      "photoUrl": "https://lh3.googleusercontent.com/a-/AOh14GgTM9a0Bo5w3JrAUEWfKpj-dt1Bw3vI6q-17xEo=s64",
      "userId": "00245361475060007376"
     },
     "user_tz": -120
    },
    "id": "8X5KrmaCwngB"
   },
   "outputs": [],
   "source": [
    "data2 = data2[data2.model != \"andere\"]"
   ]
  },
  {
   "cell_type": "code",
   "execution_count": null,
   "metadata": {
    "colab": {
     "base_uri": "https://localhost:8080/"
    },
    "executionInfo": {
     "elapsed": 83,
     "status": "ok",
     "timestamp": 1624022866240,
     "user": {
      "displayName": "Pranav Gouthamm",
      "photoUrl": "https://lh3.googleusercontent.com/a-/AOh14GgTM9a0Bo5w3JrAUEWfKpj-dt1Bw3vI6q-17xEo=s64",
      "userId": "00245361475060007376"
     },
     "user_tz": -120
    },
    "id": "5wNTwpfcxP7N",
    "outputId": "095c2fb7-36c5-4d91-8c7d-e01661c03fee"
   },
   "outputs": [],
   "source": [
    "data2.shape"
   ]
  },
  {
   "cell_type": "code",
   "execution_count": null,
   "metadata": {
    "colab": {
     "base_uri": "https://localhost:8080/"
    },
    "executionInfo": {
     "elapsed": 98,
     "status": "ok",
     "timestamp": 1624022866268,
     "user": {
      "displayName": "Pranav Gouthamm",
      "photoUrl": "https://lh3.googleusercontent.com/a-/AOh14GgTM9a0Bo5w3JrAUEWfKpj-dt1Bw3vI6q-17xEo=s64",
      "userId": "00245361475060007376"
     },
     "user_tz": -120
    },
    "id": "BNnUU2d2Gou4",
    "outputId": "33894ced-fbe8-46d3-ba45-d8bbe6d84d55"
   },
   "outputs": [],
   "source": [
    "print(data2['vehicletype'].unique())"
   ]
  },
  {
   "cell_type": "code",
   "execution_count": null,
   "metadata": {
    "colab": {
     "base_uri": "https://localhost:8080/",
     "height": 49
    },
    "executionInfo": {
     "elapsed": 91,
     "status": "ok",
     "timestamp": 1624022866272,
     "user": {
      "displayName": "Pranav Gouthamm",
      "photoUrl": "https://lh3.googleusercontent.com/a-/AOh14GgTM9a0Bo5w3JrAUEWfKpj-dt1Bw3vI6q-17xEo=s64",
      "userId": "00245361475060007376"
     },
     "user_tz": -120
    },
    "id": "yb39hg2hHCTl",
    "outputId": "1df0f9d0-c54f-4ee6-a12d-b40e6a84f89d"
   },
   "outputs": [],
   "source": [
    "sample = data2[data2.model == \"andere\"]\n",
    "sample.head()"
   ]
  },
  {
   "cell_type": "code",
   "execution_count": null,
   "metadata": {
    "colab": {
     "base_uri": "https://localhost:8080/"
    },
    "executionInfo": {
     "elapsed": 562,
     "status": "ok",
     "timestamp": 1624022866746,
     "user": {
      "displayName": "Pranav Gouthamm",
      "photoUrl": "https://lh3.googleusercontent.com/a-/AOh14GgTM9a0Bo5w3JrAUEWfKpj-dt1Bw3vI6q-17xEo=s64",
      "userId": "00245361475060007376"
     },
     "user_tz": -120
    },
    "id": "FnvYDNZ6Ui3X",
    "outputId": "b67955aa-bf31-4f56-dba7-5a6afb8582d1"
   },
   "outputs": [],
   "source": [
    "data2.nunique()"
   ]
  },
  {
   "cell_type": "code",
   "execution_count": null,
   "metadata": {
    "colab": {
     "base_uri": "https://localhost:8080/"
    },
    "executionInfo": {
     "elapsed": 91,
     "status": "ok",
     "timestamp": 1624022866751,
     "user": {
      "displayName": "Pranav Gouthamm",
      "photoUrl": "https://lh3.googleusercontent.com/a-/AOh14GgTM9a0Bo5w3JrAUEWfKpj-dt1Bw3vI6q-17xEo=s64",
      "userId": "00245361475060007376"
     },
     "user_tz": -120
    },
    "id": "z6e2-gKbWUjN",
    "outputId": "1d25120d-f850-4056-d97a-fa85f5d630e8"
   },
   "outputs": [],
   "source": [
    "#Target\n",
    "Target = pd.DataFrame(data2['price'])\n",
    "Target.shape"
   ]
  },
  {
   "cell_type": "code",
   "execution_count": null,
   "metadata": {
    "colab": {
     "base_uri": "https://localhost:8080/"
    },
    "executionInfo": {
     "elapsed": 84,
     "status": "ok",
     "timestamp": 1624022866754,
     "user": {
      "displayName": "Pranav Gouthamm",
      "photoUrl": "https://lh3.googleusercontent.com/a-/AOh14GgTM9a0Bo5w3JrAUEWfKpj-dt1Bw3vI6q-17xEo=s64",
      "userId": "00245361475060007376"
     },
     "user_tz": -120
    },
    "id": "ND453pQCWJn2",
    "outputId": "d4044eab-f9bc-4e73-a922-851685448a52"
   },
   "outputs": [],
   "source": [
    "#Independent Features\n",
    "IF = data2.drop('price',axis =1)\n",
    "IF.shape"
   ]
  },
  {
   "cell_type": "code",
   "execution_count": null,
   "metadata": {
    "executionInfo": {
     "elapsed": 80,
     "status": "ok",
     "timestamp": 1624022866762,
     "user": {
      "displayName": "Pranav Gouthamm",
      "photoUrl": "https://lh3.googleusercontent.com/a-/AOh14GgTM9a0Bo5w3JrAUEWfKpj-dt1Bw3vI6q-17xEo=s64",
      "userId": "00245361475060007376"
     },
     "user_tz": -120
    },
    "id": "C74UesPuWvnL"
   },
   "outputs": [],
   "source": [
    "IF[\"powerps_bin\"] = pd.cut(IF['powerps'], bins=[50, 100, 200, 250, 350], labels= [\"1\",\"2\",\"3\",\"4\"])"
   ]
  },
  {
   "cell_type": "code",
   "execution_count": null,
   "metadata": {
    "executionInfo": {
     "elapsed": 83,
     "status": "ok",
     "timestamp": 1624022866768,
     "user": {
      "displayName": "Pranav Gouthamm",
      "photoUrl": "https://lh3.googleusercontent.com/a-/AOh14GgTM9a0Bo5w3JrAUEWfKpj-dt1Bw3vI6q-17xEo=s64",
      "userId": "00245361475060007376"
     },
     "user_tz": -120
    },
    "id": "CBLhj8tiYj9s"
   },
   "outputs": [],
   "source": [
    "#IF[\"brandmodel\"] = IF['brand'] + IF['model']"
   ]
  },
  {
   "cell_type": "code",
   "execution_count": null,
   "metadata": {
    "colab": {
     "base_uri": "https://localhost:8080/",
     "height": 203
    },
    "executionInfo": {
     "elapsed": 84,
     "status": "ok",
     "timestamp": 1624022866775,
     "user": {
      "displayName": "Pranav Gouthamm",
      "photoUrl": "https://lh3.googleusercontent.com/a-/AOh14GgTM9a0Bo5w3JrAUEWfKpj-dt1Bw3vI6q-17xEo=s64",
      "userId": "00245361475060007376"
     },
     "user_tz": -120
    },
    "id": "Tr8kR6CtZ7-w",
    "outputId": "f3e97274-f476-4b68-d282-f022de1ceb82"
   },
   "outputs": [],
   "source": [
    "IF.head()"
   ]
  },
  {
   "cell_type": "code",
   "execution_count": null,
   "metadata": {
    "colab": {
     "base_uri": "https://localhost:8080/",
     "height": 203
    },
    "executionInfo": {
     "elapsed": 83,
     "status": "ok",
     "timestamp": 1624022866776,
     "user": {
      "displayName": "Pranav Gouthamm",
      "photoUrl": "https://lh3.googleusercontent.com/a-/AOh14GgTM9a0Bo5w3JrAUEWfKpj-dt1Bw3vI6q-17xEo=s64",
      "userId": "00245361475060007376"
     },
     "user_tz": -120
    },
    "id": "tGxMZsPwaIOm",
    "outputId": "4e9f278f-6200-4e31-e87f-78a40d7da482"
   },
   "outputs": [],
   "source": [
    "IF2 = IF.drop(['powerps'], axis=1)\n",
    "IF2.head()"
   ]
  },
  {
   "cell_type": "code",
   "execution_count": null,
   "metadata": {
    "colab": {
     "base_uri": "https://localhost:8080/"
    },
    "executionInfo": {
     "elapsed": 87,
     "status": "ok",
     "timestamp": 1624022866784,
     "user": {
      "displayName": "Pranav Gouthamm",
      "photoUrl": "https://lh3.googleusercontent.com/a-/AOh14GgTM9a0Bo5w3JrAUEWfKpj-dt1Bw3vI6q-17xEo=s64",
      "userId": "00245361475060007376"
     },
     "user_tz": -120
    },
    "id": "UYw4QpPbASnH",
    "outputId": "876e8d82-428d-4550-df2e-d6fa904c9202"
   },
   "outputs": [],
   "source": [
    "IF2.shape"
   ]
  },
  {
   "cell_type": "code",
   "execution_count": null,
   "metadata": {
    "colab": {
     "base_uri": "https://localhost:8080/",
     "height": 203
    },
    "executionInfo": {
     "elapsed": 80,
     "status": "ok",
     "timestamp": 1624022866788,
     "user": {
      "displayName": "Pranav Gouthamm",
      "photoUrl": "https://lh3.googleusercontent.com/a-/AOh14GgTM9a0Bo5w3JrAUEWfKpj-dt1Bw3vI6q-17xEo=s64",
      "userId": "00245361475060007376"
     },
     "user_tz": -120
    },
    "id": "RhHFsbOW-sJT",
    "outputId": "198f763c-c36c-432d-f192-ae70ddbaa335"
   },
   "outputs": [],
   "source": [
    "yearofreg = pd.DataFrame(IF2['yearofregistration'])\n",
    "yearofreg.head()"
   ]
  },
  {
   "cell_type": "code",
   "execution_count": null,
   "metadata": {
    "executionInfo": {
     "elapsed": 81,
     "status": "ok",
     "timestamp": 1624022866792,
     "user": {
      "displayName": "Pranav Gouthamm",
      "photoUrl": "https://lh3.googleusercontent.com/a-/AOh14GgTM9a0Bo5w3JrAUEWfKpj-dt1Bw3vI6q-17xEo=s64",
      "userId": "00245361475060007376"
     },
     "user_tz": -120
    },
    "id": "abEN6vKz_HDR"
   },
   "outputs": [],
   "source": [
    "# FOR LABEL ENCODING - THIS WILL BE DONE LATER ON\n",
    "\n",
    "#Train2 = Train2.drop(['yearofregistration'], axis=1)"
   ]
  },
  {
   "cell_type": "code",
   "execution_count": null,
   "metadata": {
    "executionInfo": {
     "elapsed": 82,
     "status": "ok",
     "timestamp": 1624022866793,
     "user": {
      "displayName": "Pranav Gouthamm",
      "photoUrl": "https://lh3.googleusercontent.com/a-/AOh14GgTM9a0Bo5w3JrAUEWfKpj-dt1Bw3vI6q-17xEo=s64",
      "userId": "00245361475060007376"
     },
     "user_tz": -120
    },
    "id": "oQL1qBRsbKFQ"
   },
   "outputs": [],
   "source": [
    "#Train2 = Train2.apply(LabelEncoder().fit_transform)"
   ]
  },
  {
   "cell_type": "code",
   "execution_count": null,
   "metadata": {
    "executionInfo": {
     "elapsed": 86,
     "status": "ok",
     "timestamp": 1624022866799,
     "user": {
      "displayName": "Pranav Gouthamm",
      "photoUrl": "https://lh3.googleusercontent.com/a-/AOh14GgTM9a0Bo5w3JrAUEWfKpj-dt1Bw3vI6q-17xEo=s64",
      "userId": "00245361475060007376"
     },
     "user_tz": -120
    },
    "id": "Z0cmYzUDgn2p"
   },
   "outputs": [],
   "source": [
    "#Train2.head()"
   ]
  },
  {
   "cell_type": "code",
   "execution_count": null,
   "metadata": {
    "executionInfo": {
     "elapsed": 83,
     "status": "ok",
     "timestamp": 1624022867298,
     "user": {
      "displayName": "Pranav Gouthamm",
      "photoUrl": "https://lh3.googleusercontent.com/a-/AOh14GgTM9a0Bo5w3JrAUEWfKpj-dt1Bw3vI6q-17xEo=s64",
      "userId": "00245361475060007376"
     },
     "user_tz": -120
    },
    "id": "L-2g53PD_edl"
   },
   "outputs": [],
   "source": [
    "#Train2 = pd.concat([Train2,yearofreg],axis=1)"
   ]
  },
  {
   "cell_type": "code",
   "execution_count": null,
   "metadata": {
    "colab": {
     "base_uri": "https://localhost:8080/",
     "height": 203
    },
    "executionInfo": {
     "elapsed": 82,
     "status": "ok",
     "timestamp": 1624022867300,
     "user": {
      "displayName": "Pranav Gouthamm",
      "photoUrl": "https://lh3.googleusercontent.com/a-/AOh14GgTM9a0Bo5w3JrAUEWfKpj-dt1Bw3vI6q-17xEo=s64",
      "userId": "00245361475060007376"
     },
     "user_tz": -120
    },
    "id": "EN5ElcsEANmX",
    "outputId": "6f5bf416-f39d-4a37-f051-16eaf80705d0"
   },
   "outputs": [],
   "source": [
    "IF2.head()"
   ]
  },
  {
   "cell_type": "code",
   "execution_count": null,
   "metadata": {
    "colab": {
     "base_uri": "https://localhost:8080/"
    },
    "executionInfo": {
     "elapsed": 82,
     "status": "ok",
     "timestamp": 1624022867303,
     "user": {
      "displayName": "Pranav Gouthamm",
      "photoUrl": "https://lh3.googleusercontent.com/a-/AOh14GgTM9a0Bo5w3JrAUEWfKpj-dt1Bw3vI6q-17xEo=s64",
      "userId": "00245361475060007376"
     },
     "user_tz": -120
    },
    "id": "W41wlcXhAYqI",
    "outputId": "15366c44-2688-49d3-c73a-1b6a8641c2c5"
   },
   "outputs": [],
   "source": [
    "IF2.shape"
   ]
  },
  {
   "cell_type": "code",
   "execution_count": null,
   "metadata": {
    "colab": {
     "base_uri": "https://localhost:8080/"
    },
    "executionInfo": {
     "elapsed": 66,
     "status": "ok",
     "timestamp": 1624022867305,
     "user": {
      "displayName": "Pranav Gouthamm",
      "photoUrl": "https://lh3.googleusercontent.com/a-/AOh14GgTM9a0Bo5w3JrAUEWfKpj-dt1Bw3vI6q-17xEo=s64",
      "userId": "00245361475060007376"
     },
     "user_tz": -120
    },
    "id": "qfZkY7sacDAy",
    "outputId": "bad1036b-471c-4b01-9df2-695f49a39358"
   },
   "outputs": [],
   "source": [
    "IF2.nunique()"
   ]
  },
  {
   "cell_type": "code",
   "execution_count": null,
   "metadata": {
    "executionInfo": {
     "elapsed": 59,
     "status": "ok",
     "timestamp": 1624022867309,
     "user": {
      "displayName": "Pranav Gouthamm",
      "photoUrl": "https://lh3.googleusercontent.com/a-/AOh14GgTM9a0Bo5w3JrAUEWfKpj-dt1Bw3vI6q-17xEo=s64",
      "userId": "00245361475060007376"
     },
     "user_tz": -120
    },
    "id": "GqmrDEuwdcWw"
   },
   "outputs": [],
   "source": [
    "CatCol_IF2 = ['offertype', 'vehicletype','gearbox', 'kilometer','monthofregistration','fueltype','notrepaireddamage','powerps_bin']\n",
    "NumCol_IF2 = ['yearofregistration', 'brand','model']"
   ]
  },
  {
   "cell_type": "code",
   "execution_count": null,
   "metadata": {
    "executionInfo": {
     "elapsed": 63,
     "status": "ok",
     "timestamp": 1624022867315,
     "user": {
      "displayName": "Pranav Gouthamm",
      "photoUrl": "https://lh3.googleusercontent.com/a-/AOh14GgTM9a0Bo5w3JrAUEWfKpj-dt1Bw3vI6q-17xEo=s64",
      "userId": "00245361475060007376"
     },
     "user_tz": -120
    },
    "id": "Y9T2nwWHfKel"
   },
   "outputs": [],
   "source": [
    "for col in CatCol_IF2:\n",
    "        IF2[col]= IF2[col].astype('category')"
   ]
  },
  {
   "cell_type": "code",
   "execution_count": null,
   "metadata": {
    "executionInfo": {
     "elapsed": 68,
     "status": "ok",
     "timestamp": 1624022867321,
     "user": {
      "displayName": "Pranav Gouthamm",
      "photoUrl": "https://lh3.googleusercontent.com/a-/AOh14GgTM9a0Bo5w3JrAUEWfKpj-dt1Bw3vI6q-17xEo=s64",
      "userId": "00245361475060007376"
     },
     "user_tz": -120
    },
    "id": "-ElmzLY_gTbM"
   },
   "outputs": [],
   "source": [
    "# COMMENTED DUE TO POSTPONED LABEL ENCODING\n",
    "\n",
    "#for col in NumCol_Train2:\n",
    "#        Train2[col]= Train2[col].astype('int64')"
   ]
  },
  {
   "cell_type": "code",
   "execution_count": null,
   "metadata": {
    "colab": {
     "base_uri": "https://localhost:8080/"
    },
    "executionInfo": {
     "elapsed": 70,
     "status": "ok",
     "timestamp": 1624022867324,
     "user": {
      "displayName": "Pranav Gouthamm",
      "photoUrl": "https://lh3.googleusercontent.com/a-/AOh14GgTM9a0Bo5w3JrAUEWfKpj-dt1Bw3vI6q-17xEo=s64",
      "userId": "00245361475060007376"
     },
     "user_tz": -120
    },
    "id": "RQAzL705fSNG",
    "outputId": "4faf5b09-1246-458f-d034-2fdcd2e7a1f0"
   },
   "outputs": [],
   "source": [
    "IF2.dtypes"
   ]
  },
  {
   "cell_type": "code",
   "execution_count": null,
   "metadata": {
    "colab": {
     "base_uri": "https://localhost:8080/"
    },
    "executionInfo": {
     "elapsed": 61,
     "status": "ok",
     "timestamp": 1624022867326,
     "user": {
      "displayName": "Pranav Gouthamm",
      "photoUrl": "https://lh3.googleusercontent.com/a-/AOh14GgTM9a0Bo5w3JrAUEWfKpj-dt1Bw3vI6q-17xEo=s64",
      "userId": "00245361475060007376"
     },
     "user_tz": -120
    },
    "id": "E5nfEZhRjWzZ",
    "outputId": "7b750682-92fc-486d-c8a5-63f7d38d31eb"
   },
   "outputs": [],
   "source": [
    "IF2.shape"
   ]
  },
  {
   "cell_type": "code",
   "execution_count": null,
   "metadata": {
    "colab": {
     "base_uri": "https://localhost:8080/",
     "height": 240
    },
    "executionInfo": {
     "elapsed": 756,
     "status": "ok",
     "timestamp": 1624022868028,
     "user": {
      "displayName": "Pranav Gouthamm",
      "photoUrl": "https://lh3.googleusercontent.com/a-/AOh14GgTM9a0Bo5w3JrAUEWfKpj-dt1Bw3vI6q-17xEo=s64",
      "userId": "00245361475060007376"
     },
     "user_tz": -120
    },
    "id": "4u5nEdizrpkg",
    "outputId": "5c3bda9f-f61e-48a5-b65b-7347a66df27b"
   },
   "outputs": [],
   "source": [
    "IF3 = pd.get_dummies(IF2, columns=['offertype', 'vehicletype','gearbox', 'kilometer','monthofregistration','fueltype','notrepaireddamage','powerps_bin'], drop_first= True, dtype= 'int')\n",
    "print(IF3.shape)\n",
    "IF3.head()"
   ]
  },
  {
   "cell_type": "code",
   "execution_count": null,
   "metadata": {
    "executionInfo": {
     "elapsed": 730,
     "status": "ok",
     "timestamp": 1624022868748,
     "user": {
      "displayName": "Pranav Gouthamm",
      "photoUrl": "https://lh3.googleusercontent.com/a-/AOh14GgTM9a0Bo5w3JrAUEWfKpj-dt1Bw3vI6q-17xEo=s64",
      "userId": "00245361475060007376"
     },
     "user_tz": -120
    },
    "id": "zQ5pBP9jh5d2"
   },
   "outputs": [],
   "source": [
    "TypeCov = IF3.drop(['yearofregistration','brand','model'], axis=1)\n",
    "\n",
    "for col in TypeCov:\n",
    "        IF3[col]= IF3[col].astype('category')"
   ]
  },
  {
   "cell_type": "code",
   "execution_count": null,
   "metadata": {
    "colab": {
     "base_uri": "https://localhost:8080/"
    },
    "executionInfo": {
     "elapsed": 147,
     "status": "ok",
     "timestamp": 1624022868767,
     "user": {
      "displayName": "Pranav Gouthamm",
      "photoUrl": "https://lh3.googleusercontent.com/a-/AOh14GgTM9a0Bo5w3JrAUEWfKpj-dt1Bw3vI6q-17xEo=s64",
      "userId": "00245361475060007376"
     },
     "user_tz": -120
    },
    "id": "IJ_akgIH3chz",
    "outputId": "b491a352-6129-4060-a2bc-c0aaeed3bcad"
   },
   "outputs": [],
   "source": [
    "IF3.dtypes"
   ]
  },
  {
   "cell_type": "code",
   "execution_count": null,
   "metadata": {
    "colab": {
     "base_uri": "https://localhost:8080/",
     "height": 223
    },
    "executionInfo": {
     "elapsed": 140,
     "status": "ok",
     "timestamp": 1624022868773,
     "user": {
      "displayName": "Pranav Gouthamm",
      "photoUrl": "https://lh3.googleusercontent.com/a-/AOh14GgTM9a0Bo5w3JrAUEWfKpj-dt1Bw3vI6q-17xEo=s64",
      "userId": "00245361475060007376"
     },
     "user_tz": -120
    },
    "id": "Q8oohxPDpLZQ",
    "outputId": "6c2176bd-431b-436d-a3f6-3d7503093cdc"
   },
   "outputs": [],
   "source": [
    "IF3.head()"
   ]
  },
  {
   "cell_type": "code",
   "execution_count": null,
   "metadata": {
    "colab": {
     "base_uri": "https://localhost:8080/"
    },
    "executionInfo": {
     "elapsed": 143,
     "status": "ok",
     "timestamp": 1624022868779,
     "user": {
      "displayName": "Pranav Gouthamm",
      "photoUrl": "https://lh3.googleusercontent.com/a-/AOh14GgTM9a0Bo5w3JrAUEWfKpj-dt1Bw3vI6q-17xEo=s64",
      "userId": "00245361475060007376"
     },
     "user_tz": -120
    },
    "id": "qgvHsvMTA2lU",
    "outputId": "b23ef813-5542-481f-854a-982af0c7fb34"
   },
   "outputs": [],
   "source": [
    "IF3.shape"
   ]
  },
  {
   "cell_type": "code",
   "execution_count": null,
   "metadata": {
    "executionInfo": {
     "elapsed": 130,
     "status": "ok",
     "timestamp": 1624022868782,
     "user": {
      "displayName": "Pranav Gouthamm",
      "photoUrl": "https://lh3.googleusercontent.com/a-/AOh14GgTM9a0Bo5w3JrAUEWfKpj-dt1Bw3vI6q-17xEo=s64",
      "userId": "00245361475060007376"
     },
     "user_tz": -120
    },
    "id": "C8PUqMn-34Cq"
   },
   "outputs": [],
   "source": [
    "IF4 = IF3[['brand', 'model']]"
   ]
  },
  {
   "cell_type": "code",
   "execution_count": null,
   "metadata": {
    "executionInfo": {
     "elapsed": 143,
     "status": "ok",
     "timestamp": 1624022868796,
     "user": {
      "displayName": "Pranav Gouthamm",
      "photoUrl": "https://lh3.googleusercontent.com/a-/AOh14GgTM9a0Bo5w3JrAUEWfKpj-dt1Bw3vI6q-17xEo=s64",
      "userId": "00245361475060007376"
     },
     "user_tz": -120
    },
    "id": "X-0sEsui4_gC"
   },
   "outputs": [],
   "source": [
    "IF3 = IF3.drop(['brand', 'model'], axis=1)"
   ]
  },
  {
   "cell_type": "code",
   "execution_count": null,
   "metadata": {
    "colab": {
     "base_uri": "https://localhost:8080/",
     "height": 223
    },
    "executionInfo": {
     "elapsed": 144,
     "status": "ok",
     "timestamp": 1624022868798,
     "user": {
      "displayName": "Pranav Gouthamm",
      "photoUrl": "https://lh3.googleusercontent.com/a-/AOh14GgTM9a0Bo5w3JrAUEWfKpj-dt1Bw3vI6q-17xEo=s64",
      "userId": "00245361475060007376"
     },
     "user_tz": -120
    },
    "id": "QaB-gRLN5X8L",
    "outputId": "8e705ab0-c4d1-42cd-b3b5-d6d4446bb646"
   },
   "outputs": [],
   "source": [
    "IF3.head()"
   ]
  },
  {
   "cell_type": "code",
   "execution_count": null,
   "metadata": {
    "colab": {
     "base_uri": "https://localhost:8080/",
     "height": 203
    },
    "executionInfo": {
     "elapsed": 143,
     "status": "ok",
     "timestamp": 1624022868801,
     "user": {
      "displayName": "Pranav Gouthamm",
      "photoUrl": "https://lh3.googleusercontent.com/a-/AOh14GgTM9a0Bo5w3JrAUEWfKpj-dt1Bw3vI6q-17xEo=s64",
      "userId": "00245361475060007376"
     },
     "user_tz": -120
    },
    "id": "3xknLGB04JMl",
    "outputId": "3191c987-a6b3-47cd-e324-33c174591358"
   },
   "outputs": [],
   "source": [
    "IF4.head()"
   ]
  },
  {
   "cell_type": "code",
   "execution_count": null,
   "metadata": {
    "executionInfo": {
     "elapsed": 137,
     "status": "ok",
     "timestamp": 1624022868805,
     "user": {
      "displayName": "Pranav Gouthamm",
      "photoUrl": "https://lh3.googleusercontent.com/a-/AOh14GgTM9a0Bo5w3JrAUEWfKpj-dt1Bw3vI6q-17xEo=s64",
      "userId": "00245361475060007376"
     },
     "user_tz": -120
    },
    "id": "yQa_8AH6DjjG"
   },
   "outputs": [],
   "source": [
    "brandvalue_o = pd.DataFrame(IF4['brand'].unique())\n",
    "brandvalue_o = brandvalue_o.sort_values(by=0)\n",
    "brandvalue_o = brandvalue_o.rename(columns={0: 'brand'})"
   ]
  },
  {
   "cell_type": "code",
   "execution_count": null,
   "metadata": {
    "executionInfo": {
     "elapsed": 137,
     "status": "ok",
     "timestamp": 1624022868806,
     "user": {
      "displayName": "Pranav Gouthamm",
      "photoUrl": "https://lh3.googleusercontent.com/a-/AOh14GgTM9a0Bo5w3JrAUEWfKpj-dt1Bw3vI6q-17xEo=s64",
      "userId": "00245361475060007376"
     },
     "user_tz": -120
    },
    "id": "FH2Fc_lSHR3O"
   },
   "outputs": [],
   "source": [
    "brandvalue_LE = brandvalue_o.apply(LabelEncoder().fit_transform)\n",
    "brandvalue_LE = brandvalue_LE.rename(columns={'brand':'brand_value'})"
   ]
  },
  {
   "cell_type": "code",
   "execution_count": null,
   "metadata": {
    "executionInfo": {
     "elapsed": 138,
     "status": "ok",
     "timestamp": 1624022868808,
     "user": {
      "displayName": "Pranav Gouthamm",
      "photoUrl": "https://lh3.googleusercontent.com/a-/AOh14GgTM9a0Bo5w3JrAUEWfKpj-dt1Bw3vI6q-17xEo=s64",
      "userId": "00245361475060007376"
     },
     "user_tz": -120
    },
    "id": "txZaXtZYV3w_"
   },
   "outputs": [],
   "source": [
    "brand_df= pd.concat([brandvalue_LE,brandvalue_o],axis=1)"
   ]
  },
  {
   "cell_type": "code",
   "execution_count": null,
   "metadata": {
    "colab": {
     "base_uri": "https://localhost:8080/",
     "height": 203
    },
    "executionInfo": {
     "elapsed": 140,
     "status": "ok",
     "timestamp": 1624022868811,
     "user": {
      "displayName": "Pranav Gouthamm",
      "photoUrl": "https://lh3.googleusercontent.com/a-/AOh14GgTM9a0Bo5w3JrAUEWfKpj-dt1Bw3vI6q-17xEo=s64",
      "userId": "00245361475060007376"
     },
     "user_tz": -120
    },
    "id": "tNjGnTocnpCB",
    "outputId": "d790902f-b33c-4391-85f7-01b3a0abcad9"
   },
   "outputs": [],
   "source": [
    "brand_df.head()"
   ]
  },
  {
   "cell_type": "code",
   "execution_count": null,
   "metadata": {
    "colab": {
     "base_uri": "https://localhost:8080/",
     "height": 417
    },
    "executionInfo": {
     "elapsed": 582,
     "status": "ok",
     "timestamp": 1624022869255,
     "user": {
      "displayName": "Pranav Gouthamm",
      "photoUrl": "https://lh3.googleusercontent.com/a-/AOh14GgTM9a0Bo5w3JrAUEWfKpj-dt1Bw3vI6q-17xEo=s64",
      "userId": "00245361475060007376"
     },
     "user_tz": -120
    },
    "id": "96VIyRdFE9wE",
    "outputId": "1211d5ab-5a51-47b6-86bc-fb43e6e3d879"
   },
   "outputs": [],
   "source": [
    "modelvalue_o = pd.DataFrame(IF4['model'].unique())\n",
    "modelvalue_o = modelvalue_o.sort_values(by=0)\n",
    "modelvalue_o = modelvalue_o.rename(columns={0: 'model'})\n",
    "modelvalue_o"
   ]
  },
  {
   "cell_type": "code",
   "execution_count": null,
   "metadata": {
    "executionInfo": {
     "elapsed": 77,
     "status": "ok",
     "timestamp": 1624022869283,
     "user": {
      "displayName": "Pranav Gouthamm",
      "photoUrl": "https://lh3.googleusercontent.com/a-/AOh14GgTM9a0Bo5w3JrAUEWfKpj-dt1Bw3vI6q-17xEo=s64",
      "userId": "00245361475060007376"
     },
     "user_tz": -120
    },
    "id": "HAQGCURmS0lN"
   },
   "outputs": [],
   "source": [
    "m_le = modelvalue_o.apply(LabelEncoder().fit_transform)\n",
    "m_le = m_le.rename(columns={'model':'model_value'})"
   ]
  },
  {
   "cell_type": "code",
   "execution_count": null,
   "metadata": {
    "executionInfo": {
     "elapsed": 77,
     "status": "ok",
     "timestamp": 1624022869285,
     "user": {
      "displayName": "Pranav Gouthamm",
      "photoUrl": "https://lh3.googleusercontent.com/a-/AOh14GgTM9a0Bo5w3JrAUEWfKpj-dt1Bw3vI6q-17xEo=s64",
      "userId": "00245361475060007376"
     },
     "user_tz": -120
    },
    "id": "oOKifmEwe_QH"
   },
   "outputs": [],
   "source": [
    "model_df= pd.concat([m_le,modelvalue_o],axis=1)"
   ]
  },
  {
   "cell_type": "code",
   "execution_count": null,
   "metadata": {
    "colab": {
     "base_uri": "https://localhost:8080/",
     "height": 203
    },
    "executionInfo": {
     "elapsed": 77,
     "status": "ok",
     "timestamp": 1624022869287,
     "user": {
      "displayName": "Pranav Gouthamm",
      "photoUrl": "https://lh3.googleusercontent.com/a-/AOh14GgTM9a0Bo5w3JrAUEWfKpj-dt1Bw3vI6q-17xEo=s64",
      "userId": "00245361475060007376"
     },
     "user_tz": -120
    },
    "id": "j2feekyUnz7B",
    "outputId": "ce256b0f-b7ae-4f8e-9ed4-c23d4e904c89"
   },
   "outputs": [],
   "source": [
    "model_df.head()"
   ]
  },
  {
   "cell_type": "code",
   "execution_count": null,
   "metadata": {
    "executionInfo": {
     "elapsed": 74,
     "status": "ok",
     "timestamp": 1624022869289,
     "user": {
      "displayName": "Pranav Gouthamm",
      "photoUrl": "https://lh3.googleusercontent.com/a-/AOh14GgTM9a0Bo5w3JrAUEWfKpj-dt1Bw3vI6q-17xEo=s64",
      "userId": "00245361475060007376"
     },
     "user_tz": -120
    },
    "id": "BgwA4gtv4JZK"
   },
   "outputs": [],
   "source": [
    "IF4 = IF4.apply(LabelEncoder().fit_transform)"
   ]
  },
  {
   "cell_type": "code",
   "execution_count": null,
   "metadata": {
    "colab": {
     "base_uri": "https://localhost:8080/",
     "height": 203
    },
    "executionInfo": {
     "elapsed": 76,
     "status": "ok",
     "timestamp": 1624022869292,
     "user": {
      "displayName": "Pranav Gouthamm",
      "photoUrl": "https://lh3.googleusercontent.com/a-/AOh14GgTM9a0Bo5w3JrAUEWfKpj-dt1Bw3vI6q-17xEo=s64",
      "userId": "00245361475060007376"
     },
     "user_tz": -120
    },
    "id": "BahIeB9v4ncP",
    "outputId": "98f89eb4-a29a-4b63-ea78-e7bf6875d533"
   },
   "outputs": [],
   "source": [
    "IF4.head()"
   ]
  },
  {
   "cell_type": "code",
   "execution_count": null,
   "metadata": {
    "executionInfo": {
     "elapsed": 78,
     "status": "ok",
     "timestamp": 1624022869298,
     "user": {
      "displayName": "Pranav Gouthamm",
      "photoUrl": "https://lh3.googleusercontent.com/a-/AOh14GgTM9a0Bo5w3JrAUEWfKpj-dt1Bw3vI6q-17xEo=s64",
      "userId": "00245361475060007376"
     },
     "user_tz": -120
    },
    "id": "gWdv6Gzb43Qz"
   },
   "outputs": [],
   "source": [
    "Penult_0 = pd.concat([IF4, IF3], axis=1,join='inner')"
   ]
  },
  {
   "cell_type": "code",
   "execution_count": null,
   "metadata": {
    "executionInfo": {
     "elapsed": 77,
     "status": "ok",
     "timestamp": 1624022869299,
     "user": {
      "displayName": "Pranav Gouthamm",
      "photoUrl": "https://lh3.googleusercontent.com/a-/AOh14GgTM9a0Bo5w3JrAUEWfKpj-dt1Bw3vI6q-17xEo=s64",
      "userId": "00245361475060007376"
     },
     "user_tz": -120
    },
    "id": "iD8DVtaeqyl1"
   },
   "outputs": [],
   "source": [
    "Penult = pd.concat([Penult_0, Target], axis=1,join='inner')"
   ]
  },
  {
   "cell_type": "code",
   "execution_count": null,
   "metadata": {
    "colab": {
     "base_uri": "https://localhost:8080/"
    },
    "executionInfo": {
     "elapsed": 78,
     "status": "ok",
     "timestamp": 1624022869301,
     "user": {
      "displayName": "Pranav Gouthamm",
      "photoUrl": "https://lh3.googleusercontent.com/a-/AOh14GgTM9a0Bo5w3JrAUEWfKpj-dt1Bw3vI6q-17xEo=s64",
      "userId": "00245361475060007376"
     },
     "user_tz": -120
    },
    "id": "lLfcB_w3rWpV",
    "outputId": "e306e6b3-6b5f-4d02-e1f2-bdb6b4da863b"
   },
   "outputs": [],
   "source": [
    "Penult.shape"
   ]
  },
  {
   "cell_type": "code",
   "execution_count": null,
   "metadata": {
    "colab": {
     "base_uri": "https://localhost:8080/",
     "height": 223
    },
    "executionInfo": {
     "elapsed": 67,
     "status": "ok",
     "timestamp": 1624022869303,
     "user": {
      "displayName": "Pranav Gouthamm",
      "photoUrl": "https://lh3.googleusercontent.com/a-/AOh14GgTM9a0Bo5w3JrAUEWfKpj-dt1Bw3vI6q-17xEo=s64",
      "userId": "00245361475060007376"
     },
     "user_tz": -120
    },
    "id": "k1Nh08alff77",
    "outputId": "b158f433-0a4f-4f55-9087-9cf0d51155b8"
   },
   "outputs": [],
   "source": [
    "Penult.head()"
   ]
  },
  {
   "cell_type": "code",
   "execution_count": null,
   "metadata": {
    "colab": {
     "base_uri": "https://localhost:8080/"
    },
    "executionInfo": {
     "elapsed": 66,
     "status": "ok",
     "timestamp": 1624022869305,
     "user": {
      "displayName": "Pranav Gouthamm",
      "photoUrl": "https://lh3.googleusercontent.com/a-/AOh14GgTM9a0Bo5w3JrAUEWfKpj-dt1Bw3vI6q-17xEo=s64",
      "userId": "00245361475060007376"
     },
     "user_tz": -120
    },
    "id": "sslxec6K_F-B",
    "outputId": "4c57d463-ea45-4015-bbcc-a3b4170e3997"
   },
   "outputs": [],
   "source": [
    "print(data2['offertype'].unique())\n",
    "print(data2['vehicletype'].unique())\n",
    "print(data2['gearbox'].unique())\n",
    "print(data2['kilometer'].unique())\n",
    "print(data2['monthofregistration'].unique())\n",
    "print(data2['fueltype'].unique())\n",
    "print(data2['notrepaireddamage'].unique())"
   ]
  },
  {
   "cell_type": "code",
   "execution_count": null,
   "metadata": {
    "executionInfo": {
     "elapsed": 56,
     "status": "ok",
     "timestamp": 1624022869307,
     "user": {
      "displayName": "Pranav Gouthamm",
      "photoUrl": "https://lh3.googleusercontent.com/a-/AOh14GgTM9a0Bo5w3JrAUEWfKpj-dt1Bw3vI6q-17xEo=s64",
      "userId": "00245361475060007376"
     },
     "user_tz": -120
    },
    "id": "RpXgexVIOxID"
   },
   "outputs": [],
   "source": [
    "Penult = Penult.rename(columns={'notrepaireddamage_1.0': 'notrepaireddamage_1'})"
   ]
  },
  {
   "cell_type": "code",
   "execution_count": null,
   "metadata": {
    "colab": {
     "base_uri": "https://localhost:8080/",
     "height": 223
    },
    "executionInfo": {
     "elapsed": 105,
     "status": "ok",
     "timestamp": 1624022869976,
     "user": {
      "displayName": "Pranav Gouthamm",
      "photoUrl": "https://lh3.googleusercontent.com/a-/AOh14GgTM9a0Bo5w3JrAUEWfKpj-dt1Bw3vI6q-17xEo=s64",
      "userId": "00245361475060007376"
     },
     "user_tz": -120
    },
    "id": "P-fZCxtQ5i29",
    "outputId": "2b7fb4af-fe13-4040-9ac7-3a562f4aef99"
   },
   "outputs": [],
   "source": [
    "Penult.head()"
   ]
  },
  {
   "cell_type": "code",
   "execution_count": null,
   "metadata": {
    "colab": {
     "base_uri": "https://localhost:8080/"
    },
    "executionInfo": {
     "elapsed": 107,
     "status": "ok",
     "timestamp": 1624022869981,
     "user": {
      "displayName": "Pranav Gouthamm",
      "photoUrl": "https://lh3.googleusercontent.com/a-/AOh14GgTM9a0Bo5w3JrAUEWfKpj-dt1Bw3vI6q-17xEo=s64",
      "userId": "00245361475060007376"
     },
     "user_tz": -120
    },
    "id": "TDhjwwb4rDXR",
    "outputId": "7a9f6bdd-b522-4335-d11a-624c448f6d42"
   },
   "outputs": [],
   "source": [
    "#Train Test Split\n",
    "X_train,X_test,y_train,y_test = train_test_split(Penult.drop(['price'],axis=1), Penult['price'],test_size = 0.15,random_state=1)\n",
    "\n",
    "print(\"X TRAIN DATA SHAPE IS : \", X_train.shape)\n",
    "print(\"X TEST DATA SHAPE IS :\",X_test.shape)\n",
    "print(\"y TRAIN DATA SHAPE IS : \", y_train.shape)\n",
    "print(\"y TEST DATA SHAPE IS :\",y_test.shape)"
   ]
  },
  {
   "cell_type": "markdown",
   "metadata": {
    "id": "un--WgfeBqnF"
   },
   "source": [
    "---\n",
    "Steps in Standardization : SKIPPED\n",
    "---"
   ]
  },
  {
   "cell_type": "code",
   "execution_count": null,
   "metadata": {
    "executionInfo": {
     "elapsed": 99,
     "status": "ok",
     "timestamp": 1624022869983,
     "user": {
      "displayName": "Pranav Gouthamm",
      "photoUrl": "https://lh3.googleusercontent.com/a-/AOh14GgTM9a0Bo5w3JrAUEWfKpj-dt1Bw3vI6q-17xEo=s64",
      "userId": "00245361475060007376"
     },
     "user_tz": -120
    },
    "id": "Zx6wEFNltfVL"
   },
   "outputs": [],
   "source": [
    "#Numcol_Train3 = X_train[['yearofregistration','brand','brandmodel']]\n",
    "#Numcol_Test3 = X_test[['yearofregistration','brand','brandmodel']]"
   ]
  },
  {
   "cell_type": "code",
   "execution_count": null,
   "metadata": {
    "executionInfo": {
     "elapsed": 98,
     "status": "ok",
     "timestamp": 1624022869984,
     "user": {
      "displayName": "Pranav Gouthamm",
      "photoUrl": "https://lh3.googleusercontent.com/a-/AOh14GgTM9a0Bo5w3JrAUEWfKpj-dt1Bw3vI6q-17xEo=s64",
      "userId": "00245361475060007376"
     },
     "user_tz": -120
    },
    "id": "AXoWp34Qit75"
   },
   "outputs": [],
   "source": [
    "#Standardizing Numerical Columns\n",
    "#scaler = MinMaxScaler()\n",
    "#scaled = scaler.fit_transform(Numcol_Train3)\n",
    "#scaled2 = scaler.fit_transform(Numcol_Test3)"
   ]
  },
  {
   "cell_type": "code",
   "execution_count": null,
   "metadata": {
    "executionInfo": {
     "elapsed": 98,
     "status": "ok",
     "timestamp": 1624022869986,
     "user": {
      "displayName": "Pranav Gouthamm",
      "photoUrl": "https://lh3.googleusercontent.com/a-/AOh14GgTM9a0Bo5w3JrAUEWfKpj-dt1Bw3vI6q-17xEo=s64",
      "userId": "00245361475060007376"
     },
     "user_tz": -120
    },
    "id": "GtNN3nZaoBCP"
   },
   "outputs": [],
   "source": [
    "#Train3_scaled_cols = pd.DataFrame(scaled, columns = ('yearofregistration','brand','brandmodel'))\n",
    "#Test3_scaled_cols = pd.DataFrame(scaled2, columns = ('yearofregistration','brand','brandmodel'))"
   ]
  },
  {
   "cell_type": "code",
   "execution_count": null,
   "metadata": {
    "executionInfo": {
     "elapsed": 96,
     "status": "ok",
     "timestamp": 1624022869987,
     "user": {
      "displayName": "Pranav Gouthamm",
      "photoUrl": "https://lh3.googleusercontent.com/a-/AOh14GgTM9a0Bo5w3JrAUEWfKpj-dt1Bw3vI6q-17xEo=s64",
      "userId": "00245361475060007376"
     },
     "user_tz": -120
    },
    "id": "i0HXZVn9jgrk"
   },
   "outputs": [],
   "source": [
    "#Train3_scaled_cols"
   ]
  },
  {
   "cell_type": "code",
   "execution_count": null,
   "metadata": {
    "executionInfo": {
     "elapsed": 91,
     "status": "ok",
     "timestamp": 1624022869988,
     "user": {
      "displayName": "Pranav Gouthamm",
      "photoUrl": "https://lh3.googleusercontent.com/a-/AOh14GgTM9a0Bo5w3JrAUEWfKpj-dt1Bw3vI6q-17xEo=s64",
      "userId": "00245361475060007376"
     },
     "user_tz": -120
    },
    "id": "WbgOZfdPszsE"
   },
   "outputs": [],
   "source": [
    "#Test3_scaled_cols"
   ]
  },
  {
   "cell_type": "code",
   "execution_count": null,
   "metadata": {
    "executionInfo": {
     "elapsed": 90,
     "status": "ok",
     "timestamp": 1624022869990,
     "user": {
      "displayName": "Pranav Gouthamm",
      "photoUrl": "https://lh3.googleusercontent.com/a-/AOh14GgTM9a0Bo5w3JrAUEWfKpj-dt1Bw3vI6q-17xEo=s64",
      "userId": "00245361475060007376"
     },
     "user_tz": -120
    },
    "id": "g8DgS8RKpIbi"
   },
   "outputs": [],
   "source": [
    "#X_train = X_train.drop(['yearofregistration','brand','brandmodel'], axis=1)"
   ]
  },
  {
   "cell_type": "code",
   "execution_count": null,
   "metadata": {
    "executionInfo": {
     "elapsed": 89,
     "status": "ok",
     "timestamp": 1624022869991,
     "user": {
      "displayName": "Pranav Gouthamm",
      "photoUrl": "https://lh3.googleusercontent.com/a-/AOh14GgTM9a0Bo5w3JrAUEWfKpj-dt1Bw3vI6q-17xEo=s64",
      "userId": "00245361475060007376"
     },
     "user_tz": -120
    },
    "id": "1JSWtKaZ0Zj9"
   },
   "outputs": [],
   "source": [
    "#X_train = X_train.reset_index(drop=True)"
   ]
  },
  {
   "cell_type": "code",
   "execution_count": null,
   "metadata": {
    "executionInfo": {
     "elapsed": 88,
     "status": "ok",
     "timestamp": 1624022869992,
     "user": {
      "displayName": "Pranav Gouthamm",
      "photoUrl": "https://lh3.googleusercontent.com/a-/AOh14GgTM9a0Bo5w3JrAUEWfKpj-dt1Bw3vI6q-17xEo=s64",
      "userId": "00245361475060007376"
     },
     "user_tz": -120
    },
    "id": "91yirb8Wx41K"
   },
   "outputs": [],
   "source": [
    "#X_train.head()"
   ]
  },
  {
   "cell_type": "code",
   "execution_count": null,
   "metadata": {
    "executionInfo": {
     "elapsed": 90,
     "status": "ok",
     "timestamp": 1624022869995,
     "user": {
      "displayName": "Pranav Gouthamm",
      "photoUrl": "https://lh3.googleusercontent.com/a-/AOh14GgTM9a0Bo5w3JrAUEWfKpj-dt1Bw3vI6q-17xEo=s64",
      "userId": "00245361475060007376"
     },
     "user_tz": -120
    },
    "id": "aj4PbgllyAzI"
   },
   "outputs": [],
   "source": [
    "#X_train.shape"
   ]
  },
  {
   "cell_type": "code",
   "execution_count": null,
   "metadata": {
    "executionInfo": {
     "elapsed": 89,
     "status": "ok",
     "timestamp": 1624022869996,
     "user": {
      "displayName": "Pranav Gouthamm",
      "photoUrl": "https://lh3.googleusercontent.com/a-/AOh14GgTM9a0Bo5w3JrAUEWfKpj-dt1Bw3vI6q-17xEo=s64",
      "userId": "00245361475060007376"
     },
     "user_tz": -120
    },
    "id": "FragZefut--v"
   },
   "outputs": [],
   "source": [
    "#X_test = X_test.drop(['yearofregistration','brand','brandmodel'], axis=1)"
   ]
  },
  {
   "cell_type": "code",
   "execution_count": null,
   "metadata": {
    "executionInfo": {
     "elapsed": 89,
     "status": "ok",
     "timestamp": 1624022869999,
     "user": {
      "displayName": "Pranav Gouthamm",
      "photoUrl": "https://lh3.googleusercontent.com/a-/AOh14GgTM9a0Bo5w3JrAUEWfKpj-dt1Bw3vI6q-17xEo=s64",
      "userId": "00245361475060007376"
     },
     "user_tz": -120
    },
    "id": "ONLFI0oP1DCS"
   },
   "outputs": [],
   "source": [
    "#X_test = X_test.reset_index(drop=True)"
   ]
  },
  {
   "cell_type": "code",
   "execution_count": null,
   "metadata": {
    "executionInfo": {
     "elapsed": 89,
     "status": "ok",
     "timestamp": 1624022870000,
     "user": {
      "displayName": "Pranav Gouthamm",
      "photoUrl": "https://lh3.googleusercontent.com/a-/AOh14GgTM9a0Bo5w3JrAUEWfKpj-dt1Bw3vI6q-17xEo=s64",
      "userId": "00245361475060007376"
     },
     "user_tz": -120
    },
    "id": "yY9tU6WHyN_e"
   },
   "outputs": [],
   "source": [
    "#X_test.head()"
   ]
  },
  {
   "cell_type": "code",
   "execution_count": null,
   "metadata": {
    "executionInfo": {
     "elapsed": 88,
     "status": "ok",
     "timestamp": 1624022870003,
     "user": {
      "displayName": "Pranav Gouthamm",
      "photoUrl": "https://lh3.googleusercontent.com/a-/AOh14GgTM9a0Bo5w3JrAUEWfKpj-dt1Bw3vI6q-17xEo=s64",
      "userId": "00245361475060007376"
     },
     "user_tz": -120
    },
    "id": "awkUkUm8yOMs"
   },
   "outputs": [],
   "source": [
    "#X_test.shape"
   ]
  },
  {
   "cell_type": "code",
   "execution_count": null,
   "metadata": {
    "executionInfo": {
     "elapsed": 88,
     "status": "ok",
     "timestamp": 1624022870004,
     "user": {
      "displayName": "Pranav Gouthamm",
      "photoUrl": "https://lh3.googleusercontent.com/a-/AOh14GgTM9a0Bo5w3JrAUEWfKpj-dt1Bw3vI6q-17xEo=s64",
      "userId": "00245361475060007376"
     },
     "user_tz": -120
    },
    "id": "SubwJ1CFpwcN"
   },
   "outputs": [],
   "source": [
    "#X_train = pd.concat([Train3_scaled_cols, X_train], axis=1,join='inner')\n",
    "#X_train.shape"
   ]
  },
  {
   "cell_type": "code",
   "execution_count": null,
   "metadata": {
    "executionInfo": {
     "elapsed": 84,
     "status": "ok",
     "timestamp": 1624022870007,
     "user": {
      "displayName": "Pranav Gouthamm",
      "photoUrl": "https://lh3.googleusercontent.com/a-/AOh14GgTM9a0Bo5w3JrAUEWfKpj-dt1Bw3vI6q-17xEo=s64",
      "userId": "00245361475060007376"
     },
     "user_tz": -120
    },
    "id": "Q1znEYHtnr75"
   },
   "outputs": [],
   "source": [
    "#X_train.head()"
   ]
  },
  {
   "cell_type": "code",
   "execution_count": null,
   "metadata": {
    "executionInfo": {
     "elapsed": 81,
     "status": "ok",
     "timestamp": 1624022870008,
     "user": {
      "displayName": "Pranav Gouthamm",
      "photoUrl": "https://lh3.googleusercontent.com/a-/AOh14GgTM9a0Bo5w3JrAUEWfKpj-dt1Bw3vI6q-17xEo=s64",
      "userId": "00245361475060007376"
     },
     "user_tz": -120
    },
    "id": "aiE5es7QnUnq"
   },
   "outputs": [],
   "source": [
    "#X_test = pd.concat([Test3_scaled_cols, X_test], axis=1,join='inner')\n",
    "#X_test.shape"
   ]
  },
  {
   "cell_type": "code",
   "execution_count": null,
   "metadata": {
    "executionInfo": {
     "elapsed": 80,
     "status": "ok",
     "timestamp": 1624022870011,
     "user": {
      "displayName": "Pranav Gouthamm",
      "photoUrl": "https://lh3.googleusercontent.com/a-/AOh14GgTM9a0Bo5w3JrAUEWfKpj-dt1Bw3vI6q-17xEo=s64",
      "userId": "00245361475060007376"
     },
     "user_tz": -120
    },
    "id": "Lj6wWeqWnoaL"
   },
   "outputs": [],
   "source": [
    "#X_test.head()"
   ]
  },
  {
   "cell_type": "markdown",
   "metadata": {
    "id": "f6EkQjdwB7-_"
   },
   "source": [
    "##Models Skipped"
   ]
  },
  {
   "cell_type": "code",
   "execution_count": null,
   "metadata": {
    "executionInfo": {
     "elapsed": 80,
     "status": "ok",
     "timestamp": 1624022870013,
     "user": {
      "displayName": "Pranav Gouthamm",
      "photoUrl": "https://lh3.googleusercontent.com/a-/AOh14GgTM9a0Bo5w3JrAUEWfKpj-dt1Bw3vI6q-17xEo=s64",
      "userId": "00245361475060007376"
     },
     "user_tz": -120
    },
    "id": "C5bAHVDlumyG"
   },
   "outputs": [],
   "source": [
    "##Training with Random Forest\n",
    "#RF = RandomForestRegressor(n_estimators=100)\n",
    "\n",
    "##fit the model\n",
    "#RF.fit(X_train, y_train)"
   ]
  },
  {
   "cell_type": "code",
   "execution_count": null,
   "metadata": {
    "executionInfo": {
     "elapsed": 80,
     "status": "ok",
     "timestamp": 1624022870014,
     "user": {
      "displayName": "Pranav Gouthamm",
      "photoUrl": "https://lh3.googleusercontent.com/a-/AOh14GgTM9a0Bo5w3JrAUEWfKpj-dt1Bw3vI6q-17xEo=s64",
      "userId": "00245361475060007376"
     },
     "user_tz": -120
    },
    "id": "O0yCqZR3ypyc"
   },
   "outputs": [],
   "source": [
    "#pred_RF1 = RF.predict(X_test)"
   ]
  },
  {
   "cell_type": "code",
   "execution_count": null,
   "metadata": {
    "executionInfo": {
     "elapsed": 79,
     "status": "ok",
     "timestamp": 1624022870015,
     "user": {
      "displayName": "Pranav Gouthamm",
      "photoUrl": "https://lh3.googleusercontent.com/a-/AOh14GgTM9a0Bo5w3JrAUEWfKpj-dt1Bw3vI6q-17xEo=s64",
      "userId": "00245361475060007376"
     },
     "user_tz": -120
    },
    "id": "Ny310roA1bnQ"
   },
   "outputs": [],
   "source": [
    "#print('RMSE:', np.sqrt(metrics.mean_squared_error(y_test, pred_RF1)))"
   ]
  },
  {
   "cell_type": "code",
   "execution_count": null,
   "metadata": {
    "executionInfo": {
     "elapsed": 77,
     "status": "ok",
     "timestamp": 1624022870016,
     "user": {
      "displayName": "Pranav Gouthamm",
      "photoUrl": "https://lh3.googleusercontent.com/a-/AOh14GgTM9a0Bo5w3JrAUEWfKpj-dt1Bw3vI6q-17xEo=s64",
      "userId": "00245361475060007376"
     },
     "user_tz": -120
    },
    "id": "VcNuV7X22fYD"
   },
   "outputs": [],
   "source": [
    "#Training with KNN\n",
    "#knn_9 = neighbors.KNeighborsRegressor(n_neighbors = 9)"
   ]
  },
  {
   "cell_type": "code",
   "execution_count": null,
   "metadata": {
    "executionInfo": {
     "elapsed": 76,
     "status": "ok",
     "timestamp": 1624022870017,
     "user": {
      "displayName": "Pranav Gouthamm",
      "photoUrl": "https://lh3.googleusercontent.com/a-/AOh14GgTM9a0Bo5w3JrAUEWfKpj-dt1Bw3vI6q-17xEo=s64",
      "userId": "00245361475060007376"
     },
     "user_tz": -120
    },
    "id": "oHJDDjt84Opk"
   },
   "outputs": [],
   "source": [
    "#knn_9.fit(X_train, y_train)"
   ]
  },
  {
   "cell_type": "code",
   "execution_count": null,
   "metadata": {
    "executionInfo": {
     "elapsed": 75,
     "status": "ok",
     "timestamp": 1624022870018,
     "user": {
      "displayName": "Pranav Gouthamm",
      "photoUrl": "https://lh3.googleusercontent.com/a-/AOh14GgTM9a0Bo5w3JrAUEWfKpj-dt1Bw3vI6q-17xEo=s64",
      "userId": "00245361475060007376"
     },
     "user_tz": -120
    },
    "id": "pZTV0Iek4c4f"
   },
   "outputs": [],
   "source": [
    "#pred_knn_9 = knn_9.predict(X_test)"
   ]
  },
  {
   "cell_type": "code",
   "execution_count": null,
   "metadata": {
    "executionInfo": {
     "elapsed": 73,
     "status": "ok",
     "timestamp": 1624022870019,
     "user": {
      "displayName": "Pranav Gouthamm",
      "photoUrl": "https://lh3.googleusercontent.com/a-/AOh14GgTM9a0Bo5w3JrAUEWfKpj-dt1Bw3vI6q-17xEo=s64",
      "userId": "00245361475060007376"
     },
     "user_tz": -120
    },
    "id": "-1K_bG1X4qqG"
   },
   "outputs": [],
   "source": [
    "#print('RMSE:', np.sqrt(metrics.mean_squared_error(y_test, pred_knn_9)))"
   ]
  },
  {
   "cell_type": "code",
   "execution_count": null,
   "metadata": {
    "executionInfo": {
     "elapsed": 50,
     "status": "ok",
     "timestamp": 1624022870422,
     "user": {
      "displayName": "Pranav Gouthamm",
      "photoUrl": "https://lh3.googleusercontent.com/a-/AOh14GgTM9a0Bo5w3JrAUEWfKpj-dt1Bw3vI6q-17xEo=s64",
      "userId": "00245361475060007376"
     },
     "user_tz": -120
    },
    "id": "l1PPnC6U6tDB"
   },
   "outputs": [],
   "source": [
    "#zxgb = xgboost.XGBRegressor(n_estimators=100, learning_rate=0.08, gamma=0, subsample=0.75, colsample_bytree=1, max_depth=7)"
   ]
  },
  {
   "cell_type": "code",
   "execution_count": null,
   "metadata": {
    "executionInfo": {
     "elapsed": 48,
     "status": "ok",
     "timestamp": 1624022870425,
     "user": {
      "displayName": "Pranav Gouthamm",
      "photoUrl": "https://lh3.googleusercontent.com/a-/AOh14GgTM9a0Bo5w3JrAUEWfKpj-dt1Bw3vI6q-17xEo=s64",
      "userId": "00245361475060007376"
     },
     "user_tz": -120
    },
    "id": "Z-jLoBwi8J-g"
   },
   "outputs": [],
   "source": [
    "#X_train_2 = X_train.astype('float64')"
   ]
  },
  {
   "cell_type": "code",
   "execution_count": null,
   "metadata": {
    "executionInfo": {
     "elapsed": 48,
     "status": "ok",
     "timestamp": 1624022870427,
     "user": {
      "displayName": "Pranav Gouthamm",
      "photoUrl": "https://lh3.googleusercontent.com/a-/AOh14GgTM9a0Bo5w3JrAUEWfKpj-dt1Bw3vI6q-17xEo=s64",
      "userId": "00245361475060007376"
     },
     "user_tz": -120
    },
    "id": "ehV2awoF7I5_"
   },
   "outputs": [],
   "source": [
    "#xgb.fit(X_train_2,y_train)"
   ]
  },
  {
   "cell_type": "code",
   "execution_count": null,
   "metadata": {
    "executionInfo": {
     "elapsed": 47,
     "status": "ok",
     "timestamp": 1624022870428,
     "user": {
      "displayName": "Pranav Gouthamm",
      "photoUrl": "https://lh3.googleusercontent.com/a-/AOh14GgTM9a0Bo5w3JrAUEWfKpj-dt1Bw3vI6q-17xEo=s64",
      "userId": "00245361475060007376"
     },
     "user_tz": -120
    },
    "id": "gMTc6AX474pW"
   },
   "outputs": [],
   "source": [
    "#WX_test_2 = X_test.astype('float64')"
   ]
  },
  {
   "cell_type": "code",
   "execution_count": null,
   "metadata": {
    "executionInfo": {
     "elapsed": 48,
     "status": "ok",
     "timestamp": 1624022870430,
     "user": {
      "displayName": "Pranav Gouthamm",
      "photoUrl": "https://lh3.googleusercontent.com/a-/AOh14GgTM9a0Bo5w3JrAUEWfKpj-dt1Bw3vI6q-17xEo=s64",
      "userId": "00245361475060007376"
     },
     "user_tz": -120
    },
    "id": "_x2Y1YRS9Tqf"
   },
   "outputs": [],
   "source": [
    "#pred_xgb = xgb.predict(X_test_2)"
   ]
  },
  {
   "cell_type": "code",
   "execution_count": null,
   "metadata": {
    "executionInfo": {
     "elapsed": 47,
     "status": "ok",
     "timestamp": 1624022870431,
     "user": {
      "displayName": "Pranav Gouthamm",
      "photoUrl": "https://lh3.googleusercontent.com/a-/AOh14GgTM9a0Bo5w3JrAUEWfKpj-dt1Bw3vI6q-17xEo=s64",
      "userId": "00245361475060007376"
     },
     "user_tz": -120
    },
    "id": "p_yxOxDe9cDM"
   },
   "outputs": [],
   "source": [
    "#print('RMSE:', np.sqrt(metrics.mean_squared_error(y_test, pred_xgb)))"
   ]
  },
  {
   "cell_type": "code",
   "execution_count": null,
   "metadata": {
    "executionInfo": {
     "elapsed": 47,
     "status": "ok",
     "timestamp": 1624022870432,
     "user": {
      "displayName": "Pranav Gouthamm",
      "photoUrl": "https://lh3.googleusercontent.com/a-/AOh14GgTM9a0Bo5w3JrAUEWfKpj-dt1Bw3vI6q-17xEo=s64",
      "userId": "00245361475060007376"
     },
     "user_tz": -120
    },
    "id": "Ex_K0cIk9kR4"
   },
   "outputs": [],
   "source": [
    "#Training with KNN\n",
    "#knn_25 = neighbors.KNeighborsRegressor(n_neighbors = 25)"
   ]
  },
  {
   "cell_type": "code",
   "execution_count": null,
   "metadata": {
    "executionInfo": {
     "elapsed": 47,
     "status": "ok",
     "timestamp": 1624022870433,
     "user": {
      "displayName": "Pranav Gouthamm",
      "photoUrl": "https://lh3.googleusercontent.com/a-/AOh14GgTM9a0Bo5w3JrAUEWfKpj-dt1Bw3vI6q-17xEo=s64",
      "userId": "00245361475060007376"
     },
     "user_tz": -120
    },
    "id": "m4ZhpHln-Dct"
   },
   "outputs": [],
   "source": [
    "#knn_25.fit(X_train, y_train)"
   ]
  },
  {
   "cell_type": "code",
   "execution_count": null,
   "metadata": {
    "executionInfo": {
     "elapsed": 47,
     "status": "ok",
     "timestamp": 1624022870435,
     "user": {
      "displayName": "Pranav Gouthamm",
      "photoUrl": "https://lh3.googleusercontent.com/a-/AOh14GgTM9a0Bo5w3JrAUEWfKpj-dt1Bw3vI6q-17xEo=s64",
      "userId": "00245361475060007376"
     },
     "user_tz": -120
    },
    "id": "UtCdrTuD-JBl"
   },
   "outputs": [],
   "source": [
    "#pred_knn_25 = knn_25.predict(X_test)"
   ]
  },
  {
   "cell_type": "code",
   "execution_count": null,
   "metadata": {
    "executionInfo": {
     "elapsed": 47,
     "status": "ok",
     "timestamp": 1624022870436,
     "user": {
      "displayName": "Pranav Gouthamm",
      "photoUrl": "https://lh3.googleusercontent.com/a-/AOh14GgTM9a0Bo5w3JrAUEWfKpj-dt1Bw3vI6q-17xEo=s64",
      "userId": "00245361475060007376"
     },
     "user_tz": -120
    },
    "id": "P-SM7MdS-Tkx"
   },
   "outputs": [],
   "source": [
    "#print('RMSE:', np.sqrt(metrics.mean_squared_error(y_test, pred_knn_25)))"
   ]
  },
  {
   "cell_type": "code",
   "execution_count": null,
   "metadata": {
    "executionInfo": {
     "elapsed": 45,
     "status": "ok",
     "timestamp": 1624022870437,
     "user": {
      "displayName": "Pranav Gouthamm",
      "photoUrl": "https://lh3.googleusercontent.com/a-/AOh14GgTM9a0Bo5w3JrAUEWfKpj-dt1Bw3vI6q-17xEo=s64",
      "userId": "00245361475060007376"
     },
     "user_tz": -120
    },
    "id": "xUjbbMwx-2At"
   },
   "outputs": [],
   "source": [
    "#Training with KNN\n",
    "#knn_50 = neighbors.KNeighborsRegressor(n_neighbors = 50)"
   ]
  },
  {
   "cell_type": "code",
   "execution_count": null,
   "metadata": {
    "executionInfo": {
     "elapsed": 46,
     "status": "ok",
     "timestamp": 1624022870439,
     "user": {
      "displayName": "Pranav Gouthamm",
      "photoUrl": "https://lh3.googleusercontent.com/a-/AOh14GgTM9a0Bo5w3JrAUEWfKpj-dt1Bw3vI6q-17xEo=s64",
      "userId": "00245361475060007376"
     },
     "user_tz": -120
    },
    "id": "862tSWpg5Nto"
   },
   "outputs": [],
   "source": [
    "#knn_50.fit(X_train, y_train)"
   ]
  },
  {
   "cell_type": "code",
   "execution_count": null,
   "metadata": {
    "executionInfo": {
     "elapsed": 45,
     "status": "ok",
     "timestamp": 1624022870440,
     "user": {
      "displayName": "Pranav Gouthamm",
      "photoUrl": "https://lh3.googleusercontent.com/a-/AOh14GgTM9a0Bo5w3JrAUEWfKpj-dt1Bw3vI6q-17xEo=s64",
      "userId": "00245361475060007376"
     },
     "user_tz": -120
    },
    "id": "8Ngd1vI15VJG"
   },
   "outputs": [],
   "source": [
    "#pred_knn_50 = knn_50.predict(X_test)"
   ]
  },
  {
   "cell_type": "code",
   "execution_count": null,
   "metadata": {
    "executionInfo": {
     "elapsed": 45,
     "status": "ok",
     "timestamp": 1624022870442,
     "user": {
      "displayName": "Pranav Gouthamm",
      "photoUrl": "https://lh3.googleusercontent.com/a-/AOh14GgTM9a0Bo5w3JrAUEWfKpj-dt1Bw3vI6q-17xEo=s64",
      "userId": "00245361475060007376"
     },
     "user_tz": -120
    },
    "id": "NZO6Pwq35ZT5"
   },
   "outputs": [],
   "source": [
    "#print('RMSE:', np.sqrt(metrics.mean_squared_error(y_test, pred_knn_50)))"
   ]
  },
  {
   "cell_type": "code",
   "execution_count": null,
   "metadata": {
    "executionInfo": {
     "elapsed": 45,
     "status": "ok",
     "timestamp": 1624022870443,
     "user": {
      "displayName": "Pranav Gouthamm",
      "photoUrl": "https://lh3.googleusercontent.com/a-/AOh14GgTM9a0Bo5w3JrAUEWfKpj-dt1Bw3vI6q-17xEo=s64",
      "userId": "00245361475060007376"
     },
     "user_tz": -120
    },
    "id": "aGBD5rp189xZ"
   },
   "outputs": [],
   "source": [
    "#Training with KNN\n",
    "#knn_100 = neighbors.KNeighborsRegressor(n_neighbors = 100)"
   ]
  },
  {
   "cell_type": "code",
   "execution_count": null,
   "metadata": {
    "executionInfo": {
     "elapsed": 45,
     "status": "ok",
     "timestamp": 1624022870444,
     "user": {
      "displayName": "Pranav Gouthamm",
      "photoUrl": "https://lh3.googleusercontent.com/a-/AOh14GgTM9a0Bo5w3JrAUEWfKpj-dt1Bw3vI6q-17xEo=s64",
      "userId": "00245361475060007376"
     },
     "user_tz": -120
    },
    "id": "bcc2_yYl9CnJ"
   },
   "outputs": [],
   "source": [
    "#knn_100.fit(X_train, y_train)"
   ]
  },
  {
   "cell_type": "code",
   "execution_count": null,
   "metadata": {
    "executionInfo": {
     "elapsed": 46,
     "status": "ok",
     "timestamp": 1624022870446,
     "user": {
      "displayName": "Pranav Gouthamm",
      "photoUrl": "https://lh3.googleusercontent.com/a-/AOh14GgTM9a0Bo5w3JrAUEWfKpj-dt1Bw3vI6q-17xEo=s64",
      "userId": "00245361475060007376"
     },
     "user_tz": -120
    },
    "id": "KMX9Sz999Iw2"
   },
   "outputs": [],
   "source": [
    "#pred_knn_100 = knn_100.predict(X_test)"
   ]
  },
  {
   "cell_type": "code",
   "execution_count": null,
   "metadata": {
    "executionInfo": {
     "elapsed": 46,
     "status": "ok",
     "timestamp": 1624022870447,
     "user": {
      "displayName": "Pranav Gouthamm",
      "photoUrl": "https://lh3.googleusercontent.com/a-/AOh14GgTM9a0Bo5w3JrAUEWfKpj-dt1Bw3vI6q-17xEo=s64",
      "userId": "00245361475060007376"
     },
     "user_tz": -120
    },
    "id": "6miq7NOZ9P1V"
   },
   "outputs": [],
   "source": [
    "#print('RMSE:', np.sqrt(metrics.mean_squared_error(y_test, pred_knn_100)))"
   ]
  },
  {
   "cell_type": "markdown",
   "metadata": {
    "id": "CAbjonBK0_36"
   },
   "source": [
    "#KNN Model"
   ]
  },
  {
   "cell_type": "code",
   "execution_count": null,
   "metadata": {
    "colab": {
     "base_uri": "https://localhost:8080/"
    },
    "executionInfo": {
     "elapsed": 3513,
     "status": "ok",
     "timestamp": 1624022873916,
     "user": {
      "displayName": "Pranav Gouthamm",
      "photoUrl": "https://lh3.googleusercontent.com/a-/AOh14GgTM9a0Bo5w3JrAUEWfKpj-dt1Bw3vI6q-17xEo=s64",
      "userId": "00245361475060007376"
     },
     "user_tz": -120
    },
    "id": "Q5Es403NBXj5",
    "outputId": "649e9196-b6cd-41a2-a75d-9e10578f335b"
   },
   "outputs": [],
   "source": [
    "#Training with KNN\n",
    "knn= neighbors.KNeighborsRegressor(n_neighbors = 100)\n",
    "knn.fit(X_train, y_train)"
   ]
  },
  {
   "cell_type": "code",
   "execution_count": null,
   "metadata": {
    "executionInfo": {
     "elapsed": 17399,
     "status": "ok",
     "timestamp": 1624022891294,
     "user": {
      "displayName": "Pranav Gouthamm",
      "photoUrl": "https://lh3.googleusercontent.com/a-/AOh14GgTM9a0Bo5w3JrAUEWfKpj-dt1Bw3vI6q-17xEo=s64",
      "userId": "00245361475060007376"
     },
     "user_tz": -120
    },
    "id": "NONXVzlgXQQG"
   },
   "outputs": [],
   "source": [
    "pred_knn = knn.predict(X_test)"
   ]
  },
  {
   "cell_type": "code",
   "execution_count": null,
   "metadata": {
    "colab": {
     "base_uri": "https://localhost:8080/"
    },
    "executionInfo": {
     "elapsed": 51,
     "status": "ok",
     "timestamp": 1624022891296,
     "user": {
      "displayName": "Pranav Gouthamm",
      "photoUrl": "https://lh3.googleusercontent.com/a-/AOh14GgTM9a0Bo5w3JrAUEWfKpj-dt1Bw3vI6q-17xEo=s64",
      "userId": "00245361475060007376"
     },
     "user_tz": -120
    },
    "id": "WRKfo5k1XQuk",
    "outputId": "6d3df725-9e41-4486-f0a2-c5dc5d47a867"
   },
   "outputs": [],
   "source": [
    "print('RMSE:', np.sqrt(metrics.mean_squared_error(y_test, pred_knn)))"
   ]
  },
  {
   "cell_type": "code",
   "execution_count": null,
   "metadata": {
    "executionInfo": {
     "elapsed": 1480,
     "status": "ok",
     "timestamp": 1624022892731,
     "user": {
      "displayName": "Pranav Gouthamm",
      "photoUrl": "https://lh3.googleusercontent.com/a-/AOh14GgTM9a0Bo5w3JrAUEWfKpj-dt1Bw3vI6q-17xEo=s64",
      "userId": "00245361475060007376"
     },
     "user_tz": -120
    },
    "id": "OeO0YeU5XTup"
   },
   "outputs": [],
   "source": [
    "pickle_out = open(\"classifier.pkl\",\"wb\")\n",
    "pickle.dump(knn, pickle_out)\n",
    "pickle_out.close()"
   ]
  },
  {
   "cell_type": "code",
   "execution_count": null,
   "metadata": {
    "executionInfo": {
     "elapsed": 35,
     "status": "ok",
     "timestamp": 1624022892743,
     "user": {
      "displayName": "Pranav Gouthamm",
      "photoUrl": "https://lh3.googleusercontent.com/a-/AOh14GgTM9a0Bo5w3JrAUEWfKpj-dt1Bw3vI6q-17xEo=s64",
      "userId": "00245361475060007376"
     },
     "user_tz": -120
    },
    "id": "n-pL7aFSCNlq"
   },
   "outputs": [],
   "source": [
    "columns = {\n",
    "    'data_columns': [col.lower() for col in X_train.columns]\n",
    "}\n",
    "with open(\"columns.json\",\"w\") as f:\n",
    "    f.write(json.dumps(columns))"
   ]
  },
  {
   "cell_type": "code",
   "execution_count": null,
   "metadata": {
    "colab": {
     "base_uri": "https://localhost:8080/"
    },
    "executionInfo": {
     "elapsed": 46,
     "status": "ok",
     "timestamp": 1624022892757,
     "user": {
      "displayName": "Pranav Gouthamm",
      "photoUrl": "https://lh3.googleusercontent.com/a-/AOh14GgTM9a0Bo5w3JrAUEWfKpj-dt1Bw3vI6q-17xEo=s64",
      "userId": "00245361475060007376"
     },
     "user_tz": -120
    },
    "id": "PFJHsgUqqEMz",
    "outputId": "a1d52682-ffbe-4080-950a-b50bdf27714f"
   },
   "outputs": [],
   "source": [
    "print(brand_df.columns)\n",
    "print(model_df.columns)"
   ]
  },
  {
   "cell_type": "code",
   "execution_count": null,
   "metadata": {
    "executionInfo": {
     "elapsed": 51,
     "status": "ok",
     "timestamp": 1624022892767,
     "user": {
      "displayName": "Pranav Gouthamm",
      "photoUrl": "https://lh3.googleusercontent.com/a-/AOh14GgTM9a0Bo5w3JrAUEWfKpj-dt1Bw3vI6q-17xEo=s64",
      "userId": "00245361475060007376"
     },
     "user_tz": -120
    },
    "id": "lYYwJsze1T0E"
   },
   "outputs": [],
   "source": [
    "brandindex_list = {\n",
    "    'brand': [col for col in brand_df.brand],\n",
    "    'brand_value': [col for col in brand_df.brand_value]\n",
    "}"
   ]
  },
  {
   "cell_type": "code",
   "execution_count": null,
   "metadata": {
    "colab": {
     "base_uri": "https://localhost:8080/",
     "height": 203
    },
    "executionInfo": {
     "elapsed": 53,
     "status": "ok",
     "timestamp": 1624022892772,
     "user": {
      "displayName": "Pranav Gouthamm",
      "photoUrl": "https://lh3.googleusercontent.com/a-/AOh14GgTM9a0Bo5w3JrAUEWfKpj-dt1Bw3vI6q-17xEo=s64",
      "userId": "00245361475060007376"
     },
     "user_tz": -120
    },
    "id": "yG_me587S9pU",
    "outputId": "89aedeb8-decb-4de2-8345-84824821ebbb"
   },
   "outputs": [],
   "source": [
    "model_df.head()"
   ]
  },
  {
   "cell_type": "code",
   "execution_count": null,
   "metadata": {
    "executionInfo": {
     "elapsed": 52,
     "status": "ok",
     "timestamp": 1624022892774,
     "user": {
      "displayName": "Pranav Gouthamm",
      "photoUrl": "https://lh3.googleusercontent.com/a-/AOh14GgTM9a0Bo5w3JrAUEWfKpj-dt1Bw3vI6q-17xEo=s64",
      "userId": "00245361475060007376"
     },
     "user_tz": -120
    },
    "id": "taI59p0ISa5C"
   },
   "outputs": [],
   "source": [
    "modelindex_list = {\n",
    "    'model': [col for col in model_df.model],\n",
    "    'model_value': [col for col in model_df.model_value]\n",
    "}"
   ]
  },
  {
   "cell_type": "code",
   "execution_count": null,
   "metadata": {
    "executionInfo": {
     "elapsed": 59,
     "status": "ok",
     "timestamp": 1624022892783,
     "user": {
      "displayName": "Pranav Gouthamm",
      "photoUrl": "https://lh3.googleusercontent.com/a-/AOh14GgTM9a0Bo5w3JrAUEWfKpj-dt1Bw3vI6q-17xEo=s64",
      "userId": "00245361475060007376"
     },
     "user_tz": -120
    },
    "id": "bdI7iVQ3poQc"
   },
   "outputs": [],
   "source": [
    "with open(\"brand.json\",\"w\") as f:\n",
    "    f.write(json.dumps(brandindex_list))"
   ]
  },
  {
   "cell_type": "code",
   "execution_count": null,
   "metadata": {
    "executionInfo": {
     "elapsed": 493,
     "status": "ok",
     "timestamp": 1624022893218,
     "user": {
      "displayName": "Pranav Gouthamm",
      "photoUrl": "https://lh3.googleusercontent.com/a-/AOh14GgTM9a0Bo5w3JrAUEWfKpj-dt1Bw3vI6q-17xEo=s64",
      "userId": "00245361475060007376"
     },
     "user_tz": -120
    },
    "id": "3xRVdbssSqn2"
   },
   "outputs": [],
   "source": [
    "with open(\"model.json\",\"w\") as f:\n",
    "    f.write(json.dumps(modelindex_list))"
   ]
  },
  {
   "cell_type": "code",
   "execution_count": null,
   "metadata": {
    "executionInfo": {
     "elapsed": 75,
     "status": "ok",
     "timestamp": 1624022893222,
     "user": {
      "displayName": "Pranav Gouthamm",
      "photoUrl": "https://lh3.googleusercontent.com/a-/AOh14GgTM9a0Bo5w3JrAUEWfKpj-dt1Bw3vI6q-17xEo=s64",
      "userId": "00245361475060007376"
     },
     "user_tz": -120
    },
    "id": "ASlFfuiwWz9X"
   },
   "outputs": [],
   "source": [
    "brand_names = brandindex_list.get('brand')"
   ]
  },
  {
   "cell_type": "code",
   "execution_count": null,
   "metadata": {
    "executionInfo": {
     "elapsed": 76,
     "status": "ok",
     "timestamp": 1624022893225,
     "user": {
      "displayName": "Pranav Gouthamm",
      "photoUrl": "https://lh3.googleusercontent.com/a-/AOh14GgTM9a0Bo5w3JrAUEWfKpj-dt1Bw3vI6q-17xEo=s64",
      "userId": "00245361475060007376"
     },
     "user_tz": -120
    },
    "id": "7JP7jpRPmgQe"
   },
   "outputs": [],
   "source": [
    "brand_index = brandindex_list.get('brand_value')"
   ]
  },
  {
   "cell_type": "code",
   "execution_count": null,
   "metadata": {
    "executionInfo": {
     "elapsed": 201,
     "status": "ok",
     "timestamp": 1624023436952,
     "user": {
      "displayName": "Pranav Gouthamm",
      "photoUrl": "https://lh3.googleusercontent.com/a-/AOh14GgTM9a0Bo5w3JrAUEWfKpj-dt1Bw3vI6q-17xEo=s64",
      "userId": "00245361475060007376"
     },
     "user_tz": -120
    },
    "id": "ea7ClzDRVgUH"
   },
   "outputs": [],
   "source": [
    "model_names = modelindex_list.get('model')"
   ]
  },
  {
   "cell_type": "code",
   "execution_count": null,
   "metadata": {
    "executionInfo": {
     "elapsed": 274,
     "status": "ok",
     "timestamp": 1624023438751,
     "user": {
      "displayName": "Pranav Gouthamm",
      "photoUrl": "https://lh3.googleusercontent.com/a-/AOh14GgTM9a0Bo5w3JrAUEWfKpj-dt1Bw3vI6q-17xEo=s64",
      "userId": "00245361475060007376"
     },
     "user_tz": -120
    },
    "id": "w1tmcCMPVguU"
   },
   "outputs": [],
   "source": [
    "model_index = modelindex_list.get('model_value')"
   ]
  },
  {
   "cell_type": "code",
   "execution_count": null,
   "metadata": {
    "colab": {
     "base_uri": "https://localhost:8080/",
     "height": 35
    },
    "executionInfo": {
     "elapsed": 81,
     "status": "ok",
     "timestamp": 1624022893231,
     "user": {
      "displayName": "Pranav Gouthamm",
      "photoUrl": "https://lh3.googleusercontent.com/a-/AOh14GgTM9a0Bo5w3JrAUEWfKpj-dt1Bw3vI6q-17xEo=s64",
      "userId": "00245361475060007376"
     },
     "user_tz": -120
    },
    "id": "NVbkwbbuniHB",
    "outputId": "a5631f1b-7c2f-407e-f462-3f6dd3960deb"
   },
   "outputs": [],
   "source": [
    "brand_names[0]"
   ]
  },
  {
   "cell_type": "code",
   "execution_count": null,
   "metadata": {
    "colab": {
     "base_uri": "https://localhost:8080/"
    },
    "executionInfo": {
     "elapsed": 76,
     "status": "ok",
     "timestamp": 1624022893233,
     "user": {
      "displayName": "Pranav Gouthamm",
      "photoUrl": "https://lh3.googleusercontent.com/a-/AOh14GgTM9a0Bo5w3JrAUEWfKpj-dt1Bw3vI6q-17xEo=s64",
      "userId": "00245361475060007376"
     },
     "user_tz": -120
    },
    "id": "5W8yP3DeoftN",
    "outputId": "4e397444-885d-4887-94da-6f7ef30d7fe5"
   },
   "outputs": [],
   "source": [
    "brand_index[0]"
   ]
  },
  {
   "cell_type": "code",
   "execution_count": null,
   "metadata": {
    "colab": {
     "base_uri": "https://localhost:8080/",
     "height": 35
    },
    "executionInfo": {
     "elapsed": 215,
     "status": "ok",
     "timestamp": 1624023449022,
     "user": {
      "displayName": "Pranav Gouthamm",
      "photoUrl": "https://lh3.googleusercontent.com/a-/AOh14GgTM9a0Bo5w3JrAUEWfKpj-dt1Bw3vI6q-17xEo=s64",
      "userId": "00245361475060007376"
     },
     "user_tz": -120
    },
    "id": "V5Ga1c33VyPW",
    "outputId": "f7b25be9-9f79-439e-a06c-b05b267d2b71"
   },
   "outputs": [],
   "source": [
    "model_names[0]"
   ]
  },
  {
   "cell_type": "code",
   "execution_count": null,
   "metadata": {
    "colab": {
     "base_uri": "https://localhost:8080/"
    },
    "executionInfo": {
     "elapsed": 214,
     "status": "ok",
     "timestamp": 1624023461402,
     "user": {
      "displayName": "Pranav Gouthamm",
      "photoUrl": "https://lh3.googleusercontent.com/a-/AOh14GgTM9a0Bo5w3JrAUEWfKpj-dt1Bw3vI6q-17xEo=s64",
      "userId": "00245361475060007376"
     },
     "user_tz": -120
    },
    "id": "vhGPd5roV0nr",
    "outputId": "06ec1670-5695-43b9-f2eb-3d89404430e8"
   },
   "outputs": [],
   "source": [
    "model_index[0]"
   ]
  },
  {
   "cell_type": "code",
   "execution_count": null,
   "metadata": {
    "colab": {
     "base_uri": "https://localhost:8080/"
    },
    "executionInfo": {
     "elapsed": 77,
     "status": "ok",
     "timestamp": 1624022893250,
     "user": {
      "displayName": "Pranav Gouthamm",
      "photoUrl": "https://lh3.googleusercontent.com/a-/AOh14GgTM9a0Bo5w3JrAUEWfKpj-dt1Bw3vI6q-17xEo=s64",
      "userId": "00245361475060007376"
     },
     "user_tz": -120
    },
    "id": "GZVkaBaHr2DQ",
    "outputId": "91a029f8-1508-44b0-db11-c7069365dc56"
   },
   "outputs": [],
   "source": [
    "for i in range(len(brand_index)):\n",
    "  print(f\"{brand_index[i]} : \\\"{brand_names[i]}\\\",\")"
   ]
  },
  {
   "cell_type": "code",
   "execution_count": null,
   "metadata": {
    "colab": {
     "base_uri": "https://localhost:8080/"
    },
    "executionInfo": {
     "elapsed": 303,
     "status": "ok",
     "timestamp": 1624023492526,
     "user": {
      "displayName": "Pranav Gouthamm",
      "photoUrl": "https://lh3.googleusercontent.com/a-/AOh14GgTM9a0Bo5w3JrAUEWfKpj-dt1Bw3vI6q-17xEo=s64",
      "userId": "00245361475060007376"
     },
     "user_tz": -120
    },
    "id": "wdgkL7a4uL5M",
    "outputId": "e654fb3f-533c-4d56-b6f5-9ffdd9c1ea6b"
   },
   "outputs": [],
   "source": [
    "for i in range(len(model_index)):\n",
    "  print(f\"{model_index[i]} : \\\"{model_names[i]}\\\",\")"
   ]
  },
  {
   "cell_type": "code",
   "execution_count": null,
   "metadata": {
    "executionInfo": {
     "elapsed": 395,
     "status": "ok",
     "timestamp": 1624027836580,
     "user": {
      "displayName": "Pranav Gouthamm",
      "photoUrl": "https://lh3.googleusercontent.com/a-/AOh14GgTM9a0Bo5w3JrAUEWfKpj-dt1Bw3vI6q-17xEo=s64",
      "userId": "00245361475060007376"
     },
     "user_tz": -120
    },
    "id": "97LGSGp-V-S2"
   },
   "outputs": [],
   "source": [
    "YoR_1 = X_train.yearofregistration.sort_values()"
   ]
  },
  {
   "cell_type": "code",
   "execution_count": null,
   "metadata": {
    "colab": {
     "base_uri": "https://localhost:8080/"
    },
    "executionInfo": {
     "elapsed": 243,
     "status": "ok",
     "timestamp": 1624027869941,
     "user": {
      "displayName": "Pranav Gouthamm",
      "photoUrl": "https://lh3.googleusercontent.com/a-/AOh14GgTM9a0Bo5w3JrAUEWfKpj-dt1Bw3vI6q-17xEo=s64",
      "userId": "00245361475060007376"
     },
     "user_tz": -120
    },
    "id": "b6pt6HAoaqye",
    "outputId": "4aae6ead-1d1c-4fef-c0de-eb28f11c92c6"
   },
   "outputs": [],
   "source": [
    "YoR_1.unique()"
   ]
  },
  {
   "cell_type": "code",
   "execution_count": null,
   "metadata": {
    "id": "LTH2-T_AmrAz"
   },
   "outputs": [],
   "source": []
  }
 ],
 "metadata": {
  "accelerator": "TPU",
  "colab": {
   "authorship_tag": "ABX9TyM+elLpBm13BuRhUXRwnkjT",
   "collapsed_sections": [
    "un--WgfeBqnF",
    "f6EkQjdwB7-_"
   ],
   "mount_file_id": "1HKABDSWwS9vrzK9_cUiTEIx_KrH5MYyD",
   "name": "GUCPP.ipynb",
   "provenance": [
    {
     "file_id": "1VyPXElvQ-XKEkYNwssWhT-LC6OVY0W4W",
     "timestamp": 1623756138427
    }
   ]
  },
  "kernelspec": {
   "display_name": "Python 3",
   "language": "python",
   "name": "python3"
  },
  "language_info": {
   "codemirror_mode": {
    "name": "ipython",
    "version": 3
   },
   "file_extension": ".py",
   "mimetype": "text/x-python",
   "name": "python",
   "nbconvert_exporter": "python",
   "pygments_lexer": "ipython3",
   "version": "3.8.8"
  }
 },
 "nbformat": 4,
 "nbformat_minor": 1
}
